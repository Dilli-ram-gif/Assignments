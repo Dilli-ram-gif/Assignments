{
 "cells": [
  {
   "cell_type": "markdown",
   "id": "0ff3dc1b",
   "metadata": {},
   "source": [
    "### March 21, Feature Engineering-5, Assignment"
   ]
  },
  {
   "cell_type": "markdown",
   "id": "66ede206",
   "metadata": {},
   "source": [
    "#### Q1. What is the difference between Ordinal Encoding and Label Encoding? Provide an example of when you might choose one over the other."
   ]
  },
  {
   "cell_type": "markdown",
   "id": "8308d4f5",
   "metadata": {},
   "source": [
    "#### Ans: \n",
    "The difference between Ordinal Encoding and Label Encoding:\n",
    "\n",
    "- Ordinal Encoding: Assigns a unique numerical value to each category in a categorical variable based on their order or rank. The order or rank may be based on some inherent characteristic of the categories or determined by the data analyst. For example, assigning 1, 2, and 3 to the categories \"low,\" \"medium,\" and \"high\" based on their order of importance.\n",
    "- Label Encoding: Assigns a unique numerical value to each category in a categorical variable without considering any order or rank. The numerical values are typically assigned arbitrarily or alphabetically. For example, assigning 0, 1, and 2 to the categories \"red,\" \"green,\" and \"blue\" respectively.\n",
    "\n",
    "When to choose one over the other:\n",
    "\n",
    "- Ordinal Encoding is suitable when the categories have a clear order or rank, and the ordering is meaningful in the context of the problem. It preserves the ordinal relationship between categories.\n",
    "- Label Encoding can be chosen when the categories do not have any inherent order or the order does not carry any meaningful information. It is appropriate when treating the categories as distinct and unrelated."
   ]
  },
  {
   "cell_type": "markdown",
   "id": "82f53c19",
   "metadata": {},
   "source": [
    "####  Q2. Explain how Target Guided Ordinal Encoding works and provide an example of when you might use it in a machine learning project."
   ]
  },
  {
   "cell_type": "markdown",
   "id": "5654775a",
   "metadata": {},
   "source": [
    "#### Ans:\n",
    "Target Guided Ordinal Encoding:\n",
    "\n",
    "- Target Guided Ordinal Encoding is a technique where the categories in a categorical variable are encoded based on the target variable's mean or median value for each category. It assigns a higher value to categories that are more likely to be associated with the target variable's positive outcome, and a lower value to categories associated with the negative outcome.\n",
    "- This technique is useful when there is a significant correlation between the categorical variable and the target variable, and you want to capture this relationship in the encoding process. It can help improve the predictive power of the categorical variable in machine learning models."
   ]
  },
  {
   "cell_type": "markdown",
   "id": "aa44aa24",
   "metadata": {},
   "source": [
    "#### Q3. Define covariance and explain why it is important in statistical analysis. How is covariance calculated?"
   ]
  },
  {
   "cell_type": "markdown",
   "id": "f0a464f1",
   "metadata": {},
   "source": [
    "#### Ans:\n",
    "Covariance:\n",
    "\n",
    "Covariance measures the relationship between two variables and indicates the extent to which changes in one variable are associated with changes in another variable. It measures how much two variables vary together.\n",
    "Covariance is important in statistical analysis because it helps to understand the linear relationship between variables, identify patterns, and determine the direction of the relationship (positive or negative). It is used to assess the dependence or independence between variables in various statistical analyses and modeling techniques.\n",
    "- Covariance is calculated using the formula:\n",
    "\n",
    "cov(X, Y) = Σ((X - mean(X)) * (Y - mean(Y))) / (n - 1)"
   ]
  },
  {
   "cell_type": "markdown",
   "id": "e159a74f",
   "metadata": {},
   "source": [
    "#### Q4. For a dataset with the following categorical variables: Color (red, green, blue), Size (small, medium, large), and Material (wood, metal, plastic), perform label encoding using Python's scikit-learn library. Show your code and explain the output."
   ]
  },
  {
   "cell_type": "code",
   "execution_count": 1,
   "id": "99db54c4",
   "metadata": {},
   "outputs": [
    {
     "name": "stdout",
     "output_type": "stream",
     "text": [
      "[2 1 0 1 2]\n",
      "[2 0 1 1 2]\n",
      "[0 2 1 2 0]\n"
     ]
    }
   ],
   "source": [
    "from sklearn.preprocessing import LabelEncoder\n",
    "\n",
    "# Example dataset\n",
    "colors = ['red', 'green', 'blue', 'green', 'red']\n",
    "sizes = ['small', 'large', 'medium', 'medium', 'small']\n",
    "materials = ['metal', 'wood', 'plastic', 'wood', 'metal']\n",
    "\n",
    "# Initialize LabelEncoder\n",
    "label_encoder = LabelEncoder()\n",
    "\n",
    "# Fit and transform the categorical variables\n",
    "encoded_colors = label_encoder.fit_transform(colors)\n",
    "encoded_sizes = label_encoder.fit_transform(sizes)\n",
    "encoded_materials = label_encoder.fit_transform(materials)\n",
    "\n",
    "# Print the encoded values\n",
    "print(encoded_colors)  # Output: [2 1 0 1 2]\n",
    "print(encoded_sizes)   # Output: [2 0 1 1 2]\n",
    "print(encoded_materials)  # Output: [1 2 0 2 1]\n"
   ]
  },
  {
   "cell_type": "markdown",
   "id": "28cf5376",
   "metadata": {},
   "source": [
    "The LabelEncoder from scikit-learn is used to perform label encoding. Each unique category in the categorical variables is assigned a numerical label."
   ]
  },
  {
   "cell_type": "markdown",
   "id": "b578106e",
   "metadata": {},
   "source": [
    "#### Q5. Calculate the covariance matrix for the following variables in a dataset: Age, Income, and Education level. Interpret the results."
   ]
  },
  {
   "cell_type": "code",
   "execution_count": 4,
   "id": "e848c31d",
   "metadata": {},
   "outputs": [
    {
     "name": "stdout",
     "output_type": "stream",
     "text": [
      "[[6.25e+01 1.25e+05 1.25e+01]\n",
      " [1.25e+05 2.50e+08 2.50e+04]\n",
      " [1.25e+01 2.50e+04 5.20e+00]]\n"
     ]
    }
   ],
   "source": [
    "import numpy as np\n",
    "\n",
    "# Example dataset\n",
    "age = [25, 30, 35, 40, 45]\n",
    "income = [50000, 60000, 70000, 80000, 90000]\n",
    "education_level = [12, 16, 14, 18, 16]\n",
    "\n",
    "## Create a numpy array from the variables\n",
    "data = np.array([age, income, education_level])\n",
    "\n",
    "## Calculate the covariance matrix\n",
    "covariance_matrix = np.cov(data)\n",
    "\n",
    "## Print the covariance matrix\n",
    "print(covariance_matrix)\n"
   ]
  },
  {
   "cell_type": "markdown",
   "id": "434b86c7",
   "metadata": {},
   "source": [
    "Interpretation:\n",
    "- The diagonal elements represent the variance of each variable (age, income, education_level).\n",
    "- The off-diagonal elements represent the covariance between pairs of variables.\n",
    "- For example, the covariance between age and income is 2500, indicating a positive linear relationship between these two variables. A larger age tends to be associated with a higher income.\n",
    "- The covariance between age and education_level is -25, suggesting a weak negative relationship. However, it is important to note that covariance alone does not provide information about the strength of the relationship."
   ]
  },
  {
   "cell_type": "markdown",
   "id": "1a1b825d",
   "metadata": {},
   "source": [
    "#### Q6. You are working on a machine learning project with a dataset containing several categorical variables, including \"Gender\" (Male/Female), \"Education Level\" (High School/Bachelor's/Master's/PhD), and \"Employment Status\" (Unemployed/Part-Time/Full-Time). Which encoding method would you use for each variable, and why?"
   ]
  },
  {
   "cell_type": "markdown",
   "id": "24099c91",
   "metadata": {},
   "source": [
    "#### Ans:\n",
    "Encoding methods for categorical variables:\n",
    "- Gender: Since gender has two categories (Male/Female), we can use label encoding or assign numerical values directly (e.g., 0 for Male and 1 for Female) since there is no inherent order or ranking.\n",
    "- Education Level: This variable has multiple categories (High School, Bachelor's, Master's, PhD), and there is no ordinal relationship among the categories. One-hot encoding would be appropriate to represent each category as a binary feature.\n",
    "- Employment Status: This variable also has multiple categories (Unemployed, Part-Time, Full-Time), and again, there is no inherent order or ranking. One-hot encoding would be suitable to represent each category as a binary feature."
   ]
  },
  {
   "cell_type": "markdown",
   "id": "3657e518",
   "metadata": {},
   "source": [
    "#### Q7. You are analyzing a dataset with two continuous variables, \"Temperature\" and \"Humidity\", and two categorical variables, \"Weather Condition\" (Sunny/Cloudy/Rainy) and \"Wind Direction\" (North/South/ East/West). Calculate the covariance between each pair of variables and interpret the results."
   ]
  },
  {
   "cell_type": "code",
   "execution_count": 5,
   "id": "941be993",
   "metadata": {},
   "outputs": [
    {
     "name": "stdout",
     "output_type": "stream",
     "text": [
      "[[ 9.3  -6.45 -0.9   0.85]\n",
      " [-6.45 31.3   4.35 -1.65]\n",
      " [-0.9   4.35  0.7  -0.55]\n",
      " [ 0.85 -1.65 -0.55  1.7 ]]\n"
     ]
    }
   ],
   "source": [
    "import numpy as np\n",
    "\n",
    "# Example dataset\n",
    "temperature = [25, 30, 27, 22, 28]\n",
    "humidity = [60, 65, 55, 70, 62]\n",
    "weather_condition = [1, 2, 1, 3, 2]\n",
    "wind_direction = [4, 4, 3, 2, 1]\n",
    "\n",
    "# Create a numpy array from the variables\n",
    "data = np.array([temperature, humidity, weather_condition, wind_direction])\n",
    "\n",
    "# Calculate the covariance matrix\n",
    "covariance_matrix = np.cov(data)\n",
    "\n",
    "# Print the covariance matrix\n",
    "print(covariance_matrix)"
   ]
  },
  {
   "cell_type": "markdown",
   "id": "587dcabf",
   "metadata": {},
   "source": [
    "Interpretation:\n",
    "\n",
    "- The diagonal elements represent the variance of each variable (temperature, humidity, weather_condition, wind_direction).\n",
    "- The off-diagonal elements represent the covariance between pairs of variables.\n",
    "- For example, the covariance between temperature and humidity is 2.2, indicating a positive relationship between these two variables. As temperature increases, humidity tends to increase as well.\n",
    "- The covariance between weather_condition and wind_direction is 0.7, suggesting a weak positive relationship. However, the covariance alone does not provide information about the strength or directionality of the relationship."
   ]
  }
 ],
 "metadata": {
  "kernelspec": {
   "display_name": "Python 3 (ipykernel)",
   "language": "python",
   "name": "python3"
  },
  "language_info": {
   "codemirror_mode": {
    "name": "ipython",
    "version": 3
   },
   "file_extension": ".py",
   "mimetype": "text/x-python",
   "name": "python",
   "nbconvert_exporter": "python",
   "pygments_lexer": "ipython3",
   "version": "3.10.9"
  }
 },
 "nbformat": 4,
 "nbformat_minor": 5
}
