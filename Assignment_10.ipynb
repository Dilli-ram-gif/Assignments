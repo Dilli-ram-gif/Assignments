{
 "cells": [
  {
   "cell_type": "markdown",
   "id": "afe1b7ce",
   "metadata": {},
   "source": [
    "### Feb - 10, Assignment"
   ]
  },
  {
   "cell_type": "markdown",
   "id": "846b9197",
   "metadata": {},
   "source": [
    "#### Q1. Which function is used to open a file? What are the different modes of opening a file? Explain each mode of file opening."
   ]
  },
  {
   "cell_type": "markdown",
   "id": "28e16bf5",
   "metadata": {},
   "source": [
    "Ans: \n",
    "open() is used to open a file. It takes two parameters: the first parameter is the file name or path, and the second parameter is the mode in which to open the file.\n",
    "\n",
    "There are different modes in which a file can be opened in Python, which are:\n",
    "\n",
    "1. r: read mode - This mode is used for reading the contents of a file. \n",
    "\n",
    "2. w: write mode - This mode is used for writing data to a file. If the file already exists, it will truncate the file to zero length.\n",
    "\n",
    "3. a: append mode - This mode is used for appending data to a file. If the file already exists, it will not truncate the file and instead will append the new data to the end of the file. If the file does not exist, it will create a new file.\n",
    "\n",
    "4. x: exclusive creation mode - This mode is used for creating a new file.\n",
    "\n",
    "5. b: binary mode - This mode is used for working with binary data. It can be used with any of the above modes.\n",
    "\n",
    "6. t: text mode - This mode is used for working with text data. It can be used with any of the above modes."
   ]
  },
  {
   "cell_type": "markdown",
   "id": "3123b6a0",
   "metadata": {},
   "source": [
    "#### Q2. Why close() function is used? Why is it important to close a file?"
   ]
  },
  {
   "cell_type": "markdown",
   "id": "0c7799a2",
   "metadata": {},
   "source": [
    "Ans:\n",
    "The close() function is used in Python to close an open file. It is important to close a file after opening it, because it releases the resources that were being used by the file, such as memory and I/O handles.\n",
    "\n",
    "When a file is opened, the operating system allocates certain resources for that file, such as memory buffers and I/O handles. These resources are limited, and if a large number of files are left open without being closed, it can cause memory leaks or other system errors. Additionally, leaving files open can also prevent other programs or processes from accessing the file.\n",
    "\n",
    "Therefore, it is important to close the file after it has been used to release these resources and make them available for other programs or processes to use."
   ]
  },
  {
   "cell_type": "markdown",
   "id": "9fe58bde",
   "metadata": {},
   "source": [
    "##### Q3. Write a python program to create a text file. Write ‘I want to become a Data Scientist’ in that file. Then close the file. Open this file and read the content of the file."
   ]
  },
  {
   "cell_type": "code",
   "execution_count": 1,
   "id": "dbf2af08",
   "metadata": {},
   "outputs": [
    {
     "name": "stdout",
     "output_type": "stream",
     "text": [
      "I want to become a Data Scientist\n"
     ]
    }
   ],
   "source": [
    "# open file for writing\n",
    "file = open(\"data_scientist.txt\", \"w\")\n",
    "\n",
    "# write to the file\n",
    "file.write(\"I want to become a Data Scientist\")\n",
    "\n",
    "# close the file\n",
    "file.close()\n",
    "\n",
    "# open the file for reading\n",
    "file = open(\"data_scientist.txt\", \"r\")\n",
    "\n",
    "# read the contents of the file\n",
    "contents = file.read()\n",
    "\n",
    "# print the contents of the file\n",
    "print(contents)\n",
    "\n",
    "# close the file\n",
    "file.close()\n"
   ]
  },
  {
   "cell_type": "markdown",
   "id": "efc21730",
   "metadata": {},
   "source": [
    "#### Q4. Explain the following with python code: read(), readline() and readlines()."
   ]
  },
  {
   "cell_type": "markdown",
   "id": "648f4af1",
   "metadata": {},
   "source": [
    "###### Ans: read()\n",
    "The read() method is used to read a specified number of characters from a file. If no argument is provided, it reads the entire file. Here's an example:"
   ]
  },
  {
   "cell_type": "code",
   "execution_count": 3,
   "id": "3f88d7e9",
   "metadata": {},
   "outputs": [
    {
     "name": "stdout",
     "output_type": "stream",
     "text": [
      "Hello buddy!\n",
      "What's going?\n"
     ]
    }
   ],
   "source": [
    "# open file for reading\n",
    "file = open(\"example.txt\", \"r\")\n",
    "\n",
    "# read the entire contents of the file\n",
    "contents = file.read()\n",
    "\n",
    "# print the contents of the file\n",
    "print(contents)\n",
    "\n",
    "# close the file\n",
    "file.close()\n"
   ]
  },
  {
   "cell_type": "markdown",
   "id": "ae0ae3b0",
   "metadata": {},
   "source": [
    "##### readline()\n",
    "The readline() method is used to read a single line from a file."
   ]
  },
  {
   "cell_type": "code",
   "execution_count": 4,
   "id": "0baf5827",
   "metadata": {},
   "outputs": [
    {
     "name": "stdout",
     "output_type": "stream",
     "text": [
      "Hello buddy!\n",
      "\n"
     ]
    }
   ],
   "source": [
    "# open file for reading\n",
    "file = open(\"example.txt\", \"r\")\n",
    "\n",
    "# read the first line of the file\n",
    "line = file.readline()\n",
    "\n",
    "# print the first line of the file\n",
    "print(line)\n",
    "\n",
    "# close the file\n",
    "file.close()\n"
   ]
  },
  {
   "cell_type": "markdown",
   "id": "7dd7fb30",
   "metadata": {},
   "source": [
    "##### readlines()\n",
    "The readlines() method is used to read all the lines of a file and return them as a list. Each line in the file is a separate item in the list."
   ]
  },
  {
   "cell_type": "code",
   "execution_count": 6,
   "id": "2b83e881",
   "metadata": {},
   "outputs": [
    {
     "name": "stdout",
     "output_type": "stream",
     "text": [
      "Hello buddy!\n",
      "\n",
      "What's going?\n"
     ]
    }
   ],
   "source": [
    "# open file for reading\n",
    "file = open(\"example.txt\", \"r\")\n",
    "\n",
    "# read all the lines of the file\n",
    "lines = file.readlines()\n",
    "\n",
    "# print all the lines of the file\n",
    "for line in lines:\n",
    "    print(line)\n",
    "\n",
    "# close the file\n",
    "file.close()\n"
   ]
  },
  {
   "cell_type": "markdown",
   "id": "73dc4064",
   "metadata": {},
   "source": [
    "##### Q5. Explain why with statement is used with open(). What is the advantage of using with statement and open() together?"
   ]
  },
  {
   "cell_type": "markdown",
   "id": "5492763a",
   "metadata": {},
   "source": [
    "Ans: the 'with' statement is used to wrap the execution of a block of code with methods defined by a context manager. The open() function can be used as a context manager by including it in a with statement. When open() is used with with, the file is automatically closed at the end of the with block."
   ]
  },
  {
   "cell_type": "markdown",
   "id": "b051d2a4",
   "metadata": {},
   "source": [
    "##### Q6. Explain the write() and writelines() functions. Give a suitable example."
   ]
  },
  {
   "cell_type": "markdown",
   "id": "d8bd82a6",
   "metadata": {},
   "source": [
    "##### Ans:\n",
    "1. write(): The write() function is used to write a string to a file."
   ]
  },
  {
   "cell_type": "code",
   "execution_count": 7,
   "id": "17f15aaa",
   "metadata": {},
   "outputs": [],
   "source": [
    "# open file for writing\n",
    "file = open(\"example.txt\", \"w\")\n",
    "\n",
    "# write a string to the file\n",
    "file.write(\"Hello, world!\\n\")\n",
    "\n",
    "# close the file\n",
    "file.close()\n"
   ]
  },
  {
   "cell_type": "markdown",
   "id": "6699b95a",
   "metadata": {},
   "source": [
    "2. writelines(): \n",
    "The writelines() function is used to write a list of strings to a file. Each string in the list is written to a separate line in the file."
   ]
  },
  {
   "cell_type": "code",
   "execution_count": 8,
   "id": "2d285198",
   "metadata": {},
   "outputs": [],
   "source": [
    "# open file for writing\n",
    "file = open(\"example.txt\", \"w\")\n",
    "\n",
    "# write a list of strings to the file\n",
    "lines = [\"apple\\n\", \"banana\\n\", \"cherry\\n\"]\n",
    "file.writelines(lines)\n",
    "\n",
    "# close the file\n",
    "file.close()\n"
   ]
  }
 ],
 "metadata": {
  "kernelspec": {
   "display_name": "Python 3 (ipykernel)",
   "language": "python",
   "name": "python3"
  },
  "language_info": {
   "codemirror_mode": {
    "name": "ipython",
    "version": 3
   },
   "file_extension": ".py",
   "mimetype": "text/x-python",
   "name": "python",
   "nbconvert_exporter": "python",
   "pygments_lexer": "ipython3",
   "version": "3.10.9"
  }
 },
 "nbformat": 4,
 "nbformat_minor": 5
}
