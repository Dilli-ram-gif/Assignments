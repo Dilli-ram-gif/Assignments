{
 "cells": [
  {
   "cell_type": "markdown",
   "id": "3d99c4c7",
   "metadata": {},
   "source": [
    "### Feb 15, Assignment"
   ]
  },
  {
   "cell_type": "markdown",
   "id": "c894f19a",
   "metadata": {},
   "source": [
    "##### Q1. What is multiprocessing in python? Why is it useful?"
   ]
  },
  {
   "cell_type": "markdown",
   "id": "8ef06794",
   "metadata": {},
   "source": [
    "Ans:\n",
    "Multiprocessing in Python is a way to run multiple processes simultaneously, each of which runs in a separate CPU or core. This is achieved through the use of the multiprocessing module in Python.\n",
    "\n",
    "Multiprocessing is useful for a variety of reasons. One of the most important is that it allows for the execution of CPU-intensive tasks, which can be distributed among multiple processors to improve performance. Additionally, multiprocessing can be used to take advantage of machines with multiple CPUs or cores to improve the overall performance of a program.\n",
    "\n",
    "Another advantage of multiprocessing is that it can help to avoid blocking I/O operations. This is because multiprocessing allows for asynchronous execution of tasks, which means that I/O-bound tasks can be executed concurrently without blocking other tasks."
   ]
  },
  {
   "cell_type": "markdown",
   "id": "0baf0007",
   "metadata": {},
   "source": [
    "#### Q2. What are the differences between multiprocessing and multithreading?"
   ]
  },
  {
   "cell_type": "markdown",
   "id": "14a2744f",
   "metadata": {},
   "source": [
    "Ans: The main differences between multiprocessing and multithreading in Python are:\n",
    "\n",
    "1. Execution model: Multithreading runs multiple threads within a single process, while multiprocessing runs multiple processes.\n",
    "\n",
    "2. CPU utilization: Multiprocessing is useful for CPU-bound tasks, as it can take advantage of multiple CPUs or cores to perform calculations simultaneously. Multithreading is useful for I/O-bound tasks, as it can perform multiple input/output operations simultaneously.\n",
    "\n",
    "3. Memory sharing: Multithreading shares memory between threads within a process, which can lead to synchronization issues. Multiprocessing creates separate memory spaces for each process, which avoids these issues.\n",
    "\n",
    "4. Overhead: Multiprocessing can have more overhead than multithreading, as creating and managing processes can be more resource-intensive than creating and managing threads."
   ]
  },
  {
   "cell_type": "markdown",
   "id": "842337ef",
   "metadata": {},
   "source": [
    "##### Q3. Write a python code to create a process using the multiprocessing module."
   ]
  },
  {
   "cell_type": "code",
   "execution_count": 1,
   "id": "6e238cf1",
   "metadata": {},
   "outputs": [],
   "source": [
    "import multiprocessing\n",
    "\n",
    "def square(x):\n",
    "    return x * x\n",
    "\n",
    "if __name__ == '__main__':\n",
    "    p = multiprocessing.Process(target=square, args=(5,))\n",
    "    p.start()\n",
    "    p.join()\n"
   ]
  },
  {
   "cell_type": "code",
   "execution_count": 2,
   "id": "daac45e9",
   "metadata": {},
   "outputs": [
    {
     "data": {
      "text/plain": [
       "16"
      ]
     },
     "execution_count": 2,
     "metadata": {},
     "output_type": "execute_result"
    }
   ],
   "source": [
    "square(4)"
   ]
  },
  {
   "cell_type": "markdown",
   "id": "3239fab2",
   "metadata": {},
   "source": [
    "#### Q4. What is a multiprocessing pool in python? Why is it used?"
   ]
  },
  {
   "cell_type": "markdown",
   "id": "3d008dac",
   "metadata": {},
   "source": [
    "Ans:\n",
    "A multiprocessing pool in Python is a group of worker processes that are used to execute tasks in parallel. It allows for efficient distribution of workloads across multiple CPUs or CPU cores, improving the overall performance of the program.\n",
    "\n",
    "The multiprocessing pool is used to execute a function multiple times in parallel with different arguments. It returns a list of results for each execution of the function. The pool can be used to process a large amount of data or perform a computationally intensive task by dividing the work into smaller tasks and distributing them across the worker processes in the pool."
   ]
  },
  {
   "cell_type": "markdown",
   "id": "b4c34418",
   "metadata": {},
   "source": [
    "#### Q5. How can we create a pool of worker processes in python using the multiprocessing module?"
   ]
  },
  {
   "cell_type": "markdown",
   "id": "9643b93e",
   "metadata": {},
   "source": [
    "Ans:\n",
    "To create a pool of worker processes in Python using the multiprocessing module, we can use the Pool class. The Pool class provides a simple way to create a pool of worker processes that can be used to execute tasks in parallel."
   ]
  },
  {
   "cell_type": "markdown",
   "id": "b655d113",
   "metadata": {},
   "source": [
    "#### Q6. Write a python program to create 4 processes, each process should print a different number using the multiprocessing module in python."
   ]
  },
  {
   "cell_type": "code",
   "execution_count": null,
   "id": "eb91ce18",
   "metadata": {},
   "outputs": [],
   "source": [
    "import multiprocessing\n",
    "\n",
    "def print_number(num):\n",
    "    print(f\"Number: {num}\")\n",
    "\n",
    "if __name__ == '__main__':\n",
    "    with multiprocessing.Pool(processes=4) as pool:\n",
    "        pool.map(print_number, [1, 2, 3, 4])\n"
   ]
  },
  {
   "cell_type": "code",
   "execution_count": null,
   "id": "6f680830",
   "metadata": {},
   "outputs": [],
   "source": [
    "# Output:\n",
    "# Number: 1\n",
    "# Number: 2\n",
    "# Number: 3\n",
    "# Number: 4\n"
   ]
  }
 ],
 "metadata": {
  "kernelspec": {
   "display_name": "Python 3 (ipykernel)",
   "language": "python",
   "name": "python3"
  },
  "language_info": {
   "codemirror_mode": {
    "name": "ipython",
    "version": 3
   },
   "file_extension": ".py",
   "mimetype": "text/x-python",
   "name": "python",
   "nbconvert_exporter": "python",
   "pygments_lexer": "ipython3",
   "version": "3.10.9"
  }
 },
 "nbformat": 4,
 "nbformat_minor": 5
}
