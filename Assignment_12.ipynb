{
 "cells": [
  {
   "cell_type": "markdown",
   "id": "1b974e0f",
   "metadata": {},
   "source": [
    "#### Q1. What is multithreading in python? Why is it used? Name the module used to handle threads in python."
   ]
  },
  {
   "cell_type": "markdown",
   "id": "6bdd37bc",
   "metadata": {},
   "source": [
    "Ans:\n",
    "Multithreading in Python is the ability to run multiple threads (smaller units of a program) simultaneously within a single process. It is used to improve the performance of a program by using multiple CPUs or CPU cores. It helps to perform concurrent tasks efficiently and speed up the execution of the program.\n",
    "\n",
    "The threading module is used to handle threads in Python. It provides a higher-level interface than the lower-level _thread module and provides synchronization primitives like locks, events, and semaphores for thread-safe programming. "
   ]
  },
  {
   "cell_type": "markdown",
   "id": "e4786327",
   "metadata": {},
   "source": [
    "###### Q2. Why threading module used? Write the use of the following functions\n",
    "1. activeCount()\n",
    "2. currentThread\n",
    "3. enumerate()"
   ]
  },
  {
   "cell_type": "markdown",
   "id": "02189604",
   "metadata": {},
   "source": [
    "Ans: The threading module in Python is used to handle threads. It provides an easy and convenient way to create and manage threads in a Python program.\n",
    "\n",
    "activeCount(): This function is used to return the number of currently active Thread objects in the program. It does not include the main thread.\n",
    "\n",
    "currentThread(): This function is used to return the Thread object corresponding to the current thread of execution.\n",
    "\n",
    "enumerate(): This function is used to return a list of all active Thread objects in the program. It includes all threads, both daemon and non-daemon."
   ]
  },
  {
   "cell_type": "markdown",
   "id": "926f5e51",
   "metadata": {},
   "source": [
    "#### Q.3 Explain the following functions\n",
    "1. run()\n",
    "2. start()\n",
    "3. join()\n",
    "4. isAlive()"
   ]
  },
  {
   "cell_type": "markdown",
   "id": "7ddc6c6f",
   "metadata": {},
   "source": [
    "Ans:\n",
    "1. run(): This method is used to define the behavior of a thread when it starts executing. It is the code that runs in the thread’s context. When you call the run() method directly on a thread instance, it will run in the same thread from which it is called.\n",
    "\n",
    "2. start(): This method is used to start a new thread of execution. When you call the start() method on a thread instance, a new thread will be created and will execute the code defined in the run() method.\n",
    "\n",
    "3. join(): This method is used to wait for a thread to complete its execution. When you call the join() method on a thread instance, the calling thread will wait until the thread being joined completes its execution.\n",
    "\n",
    "4. isAlive(): This method is used to check if a thread is currently executing. When you call the isAlive() method on a thread instance, it will return True if the thread is currently executing, otherwise it will return False."
   ]
  },
  {
   "cell_type": "markdown",
   "id": "13a72bf3",
   "metadata": {},
   "source": [
    "#### Q.4 Write a python program to create two threads. Thread one must print the list of squares and thread two must print the list of cubes."
   ]
  },
  {
   "cell_type": "code",
   "execution_count": 4,
   "id": "4038af15",
   "metadata": {},
   "outputs": [
    {
     "name": "stdout",
     "output_type": "stream",
     "text": [
      "List of squares: [1, 4, 9, 16, 25, 36, 49, 64, 81, 100]\n",
      "List of cubes: [1, 8, 27, 64, 125, 216, 343, 512, 729, 1000]\n",
      "Main thread exiting...\n"
     ]
    }
   ],
   "source": [
    "import threading\n",
    "\n",
    "def print_squares():\n",
    "    squares = [num ** 2 for num in range(1, 11)]\n",
    "    print(\"List of squares:\", squares)\n",
    "\n",
    "def print_cubes():\n",
    "    cubes = [num ** 3 for num in range(1, 11)]\n",
    "    print(\"List of cubes:\", cubes)\n",
    "\n",
    "if __name__ == '__main__':\n",
    "    # create two threads\n",
    "    t1 = threading.Thread(target=print_squares)\n",
    "    t2 = threading.Thread(target=print_cubes)\n",
    "\n",
    "    # start the threads\n",
    "    t1.start()\n",
    "    t2.start()\n",
    "\n",
    "    # wait for the threads to finish\n",
    "    t1.join()\n",
    "    t2.join()\n",
    "\n",
    "    print(\"Main thread exiting...\")\n"
   ]
  },
  {
   "cell_type": "markdown",
   "id": "af08dd00",
   "metadata": {},
   "source": [
    "#### Q5. State advantages and disadvantages of multithreading."
   ]
  },
  {
   "cell_type": "markdown",
   "id": "a034a665",
   "metadata": {},
   "source": [
    "Ans: Advantages of multithreading:\n",
    "1. Improved performance: Multithreading can improve the performance of a program by allowing multiple threads to execute simultaneously on multiple CPUs or CPU cores.\n",
    "\n",
    "2. Responsiveness: Multithreading can improve the responsiveness of a program by allowing it to respond to user input while performing time-consuming tasks in the background.\n",
    "\n",
    "3. Resource sharing: Multithreading can allow multiple threads to share resources such as memory and network connections, which can improve the overall efficiency of a program.\n",
    "\n",
    "4. Modular design: Multithreading can enable a program to be designed in a more modular way, with different threads responsible for different tasks.\n",
    "\n",
    "Disadvantages of multithreading:\n",
    "1. Complex programming: Multithreading can add complexity to a program, as it requires careful synchronization of threads to prevent errors such as race conditions.\n",
    "\n",
    "2. Resource consumption: Multithreading can consume more system resources than a single-threaded program, as each thread requires its own stack and additional overhead.\n",
    "\n",
    "3. Debugging difficulties: Multithreaded programs can be more difficult to debug than single-threaded programs, as the behavior of threads can be unpredictable and difficult to reproduce.\n",
    "\n",
    "4. Scalability limitations: Multithreading can be limited by the scalability of the underlying hardware, as adding additional threads beyond a certain point may not result in a proportional increase in performance."
   ]
  },
  {
   "cell_type": "markdown",
   "id": "d900a753",
   "metadata": {},
   "source": [
    "#### Q6. Explain deadlocks and race conditions."
   ]
  },
  {
   "cell_type": "code",
   "execution_count": null,
   "id": "91c6af5f",
   "metadata": {},
   "outputs": [],
   "source": []
  },
  {
   "cell_type": "code",
   "execution_count": null,
   "id": "89d5d3a0",
   "metadata": {},
   "outputs": [],
   "source": []
  },
  {
   "cell_type": "code",
   "execution_count": null,
   "id": "8a50a9f7",
   "metadata": {},
   "outputs": [],
   "source": []
  },
  {
   "cell_type": "code",
   "execution_count": 3,
   "id": "ee346561",
   "metadata": {},
   "outputs": [
    {
     "name": "stdout",
     "output_type": "stream",
     "text": [
      "Task 1 executing\n",
      "Task 2 executing\n",
      "Task 1 executingTask 2 executing\n",
      "\n",
      "Task 2 executing\n",
      "Task 1 executing\n",
      "Task 2 executingTask 1 executing\n",
      "\n",
      "Task 1 executingTask 2 executing\n",
      "\n",
      "Both tasks are completed\n"
     ]
    }
   ],
   "source": [
    "import threading\n",
    "import time\n",
    "\n",
    "def task1():\n",
    "    for i in range(5):\n",
    "        print(\"Task 1 executing\")\n",
    "        time.sleep(1)\n",
    "\n",
    "def task2():\n",
    "    for i in range(5):\n",
    "        print(\"Task 2 executing\")\n",
    "        time.sleep(1)\n",
    "\n",
    "# create two threads for each task\n",
    "t1 = threading.Thread(target=task1)\n",
    "t2 = threading.Thread(target=task2)\n",
    "\n",
    "# start the threads\n",
    "t1.start()\n",
    "t2.start()\n",
    "\n",
    "# wait for the threads to complete\n",
    "t1.join()\n",
    "t2.join()\n",
    "\n",
    "print(\"Both tasks are completed\")\n"
   ]
  },
  {
   "cell_type": "code",
   "execution_count": null,
   "id": "38e418fc",
   "metadata": {},
   "outputs": [],
   "source": []
  }
 ],
 "metadata": {
  "kernelspec": {
   "display_name": "Python 3 (ipykernel)",
   "language": "python",
   "name": "python3"
  },
  "language_info": {
   "codemirror_mode": {
    "name": "ipython",
    "version": 3
   },
   "file_extension": ".py",
   "mimetype": "text/x-python",
   "name": "python",
   "nbconvert_exporter": "python",
   "pygments_lexer": "ipython3",
   "version": "3.10.9"
  }
 },
 "nbformat": 4,
 "nbformat_minor": 5
}
