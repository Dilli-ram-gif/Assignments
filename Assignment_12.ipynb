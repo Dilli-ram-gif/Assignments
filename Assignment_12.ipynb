{
 "cells": [
  {
   "cell_type": "markdown",
   "id": "fbafef6a",
   "metadata": {},
   "source": [
    "#### Q1. What is multithreading in python? Why is it used? Name the module used to handle threads in python."
   ]
  },
  {
   "cell_type": "markdown",
   "id": "2612bac8",
   "metadata": {},
   "source": [
    "Ans:\n",
    "Multithreading in Python is the ability to run multiple threads (smaller units of a program) simultaneously within a single process. It is used to improve the performance of a program by using multiple CPUs or CPU cores. It helps to perform concurrent tasks efficiently and speed up the execution of the program.\n",
    "\n",
    "The threading module is used to handle threads in Python. It provides a higher-level interface than the lower-level _thread module and provides synchronization primitives like locks, events, and semaphores for thread-safe programming. "
   ]
  },
  {
   "cell_type": "markdown",
   "id": "a139f115",
   "metadata": {},
   "source": [
    "###### Q2. Why threading module used? Write the use of the following functions\n",
    "1. activeCount()\n",
    "2. currentThread\n",
    "3. enumerate()"
   ]
  },
  {
   "cell_type": "markdown",
   "id": "2f5f82d7",
   "metadata": {},
   "source": [
    "Ans: The threading module in Python is used to handle threads. It provides an easy and convenient way to create and manage threads in a Python program.\n",
    "\n",
    "activeCount(): This function is used to return the number of currently active Thread objects in the program. It does not include the main thread.\n",
    "\n",
    "currentThread(): This function is used to return the Thread object corresponding to the current thread of execution.\n",
    "\n",
    "enumerate(): This function is used to return a list of all active Thread objects in the program. It includes all threads, both daemon and non-daemon."
   ]
  },
  {
   "cell_type": "markdown",
   "id": "46570ef1",
   "metadata": {},
   "source": [
    "#### Q.3 Explain the following functions\n",
    "1. run()\n",
    "2. start()\n",
    "3. join()\n",
    "4. isAlive()"
   ]
  },
  {
   "cell_type": "markdown",
   "id": "f31f4a91",
   "metadata": {},
   "source": [
    "Ans:\n",
    "1. run(): This method is used to define the behavior of a thread when it starts executing. It is the code that runs in the thread’s context. When you call the run() method directly on a thread instance, it will run in the same thread from which it is called.\n",
    "\n",
    "2. start(): This method is used to start a new thread of execution. When you call the start() method on a thread instance, a new thread will be created and will execute the code defined in the run() method.\n",
    "\n",
    "3. join(): This method is used to wait for a thread to complete its execution. When you call the join() method on a thread instance, the calling thread will wait until the thread being joined completes its execution.\n",
    "\n",
    "4. isAlive(): This method is used to check if a thread is currently executing. When you call the isAlive() method on a thread instance, it will return True if the thread is currently executing, otherwise it will return False."
   ]
  },
  {
   "cell_type": "markdown",
   "id": "82d7db21",
   "metadata": {},
   "source": [
    "#### Q.4 Write a python program to create two threads. Thread one must print the list of squares and thread two must print the list of cubes."
   ]
  },
  {
   "cell_type": "code",
   "execution_count": 4,
   "id": "cf9147c5",
   "metadata": {},
   "outputs": [
    {
     "name": "stdout",
     "output_type": "stream",
     "text": [
      "List of squares: [1, 4, 9, 16, 25, 36, 49, 64, 81, 100]\n",
      "List of cubes: [1, 8, 27, 64, 125, 216, 343, 512, 729, 1000]\n",
      "Main thread exiting...\n"
     ]
    }
   ],
   "source": [
    "import threading\n",
    "\n",
    "def print_squares():\n",
    "    squares = [num ** 2 for num in range(1, 11)]\n",
    "    print(\"List of squares:\", squares)\n",
    "\n",
    "def print_cubes():\n",
    "    cubes = [num ** 3 for num in range(1, 11)]\n",
    "    print(\"List of cubes:\", cubes)\n",
    "\n",
    "if __name__ == '__main__':\n",
    "    # create two threads\n",
    "    t1 = threading.Thread(target=print_squares)\n",
    "    t2 = threading.Thread(target=print_cubes)\n",
    "\n",
    "    # start the threads\n",
    "    t1.start()\n",
    "    t2.start()\n",
    "\n",
    "    # wait for the threads to finish\n",
    "    t1.join()\n",
    "    t2.join()\n",
    "\n",
    "    print(\"Main thread exiting...\")\n"
   ]
  },
  {
   "cell_type": "markdown",
   "id": "df2b9e86",
   "metadata": {},
   "source": [
    "#### Q5. State advantages and disadvantages of multithreading."
   ]
  },
  {
   "cell_type": "markdown",
   "id": "4b757129",
   "metadata": {},
   "source": [
    "Ans: Advantages of multithreading:\n",
    "1. Improved performance: Multithreading can improve the performance of a program by allowing multiple threads to execute simultaneously on multiple CPUs or CPU cores.\n",
    "\n",
    "2. Responsiveness: Multithreading can improve the responsiveness of a program by allowing it to respond to user input while performing time-consuming tasks in the background.\n",
    "\n",
    "3. Resource sharing: Multithreading can allow multiple threads to share resources such as memory and network connections, which can improve the overall efficiency of a program.\n",
    "\n",
    "4. Modular design: Multithreading can enable a program to be designed in a more modular way, with different threads responsible for different tasks.\n",
    "\n",
    "Disadvantages of multithreading:\n",
    "1. Complex programming: Multithreading can add complexity to a program, as it requires careful synchronization of threads to prevent errors such as race conditions.\n",
    "\n",
    "2. Resource consumption: Multithreading can consume more system resources than a single-threaded program, as each thread requires its own stack and additional overhead.\n",
    "\n",
    "3. Debugging difficulties: Multithreaded programs can be more difficult to debug than single-threaded programs, as the behavior of threads can be unpredictable and difficult to reproduce.\n",
    "\n",
    "4. Scalability limitations: Multithreading can be limited by the scalability of the underlying hardware, as adding additional threads beyond a certain point may not result in a proportional increase in performance."
   ]
  },
  {
   "cell_type": "markdown",
   "id": "4ddc1124",
   "metadata": {},
   "source": [
    "#### Q6. Explain deadlocks and race conditions."
   ]
  },
  {
   "cell_type": "markdown",
   "id": "a08c6353",
   "metadata": {},
   "source": [
    "Ans: A deadlock is a situation in which two or more threads are blocked forever, waiting for each other to release a resource that they need to continue execution. In other words, a deadlock occurs when two or more threads are stuck in a cycle of waiting for each other to release a resource that they need to proceed.\n",
    "\n",
    "A race condition is a situation in which the outcome of a program depends on the order and timing of events, and two or more threads are accessing the same shared resource. In other words, a race condition occurs when the behavior of a program is unpredictable because two or more threads are accessing the same shared resource at the same time, and the order in which they access it is not deterministic."
   ]
  }
 ],
 "metadata": {
  "kernelspec": {
   "display_name": "Python 3 (ipykernel)",
   "language": "python",
   "name": "python3"
  },
  "language_info": {
   "codemirror_mode": {
    "name": "ipython",
    "version": 3
   },
   "file_extension": ".py",
   "mimetype": "text/x-python",
   "name": "python",
   "nbconvert_exporter": "python",
   "pygments_lexer": "ipython3",
   "version": "3.10.9"
  }
 },
 "nbformat": 4,
 "nbformat_minor": 5
}
