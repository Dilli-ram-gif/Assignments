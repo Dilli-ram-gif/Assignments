{
 "cells": [
  {
   "cell_type": "markdown",
   "id": "9567dcdd",
   "metadata": {},
   "source": [
    "### Pandas Advance -I , Assignment"
   ]
  },
  {
   "cell_type": "markdown",
   "id": "735949f0",
   "metadata": {},
   "source": [
    "#### Q1. List any five functions of the pandas library with execution."
   ]
  },
  {
   "cell_type": "markdown",
   "id": "9cb59bb9",
   "metadata": {},
   "source": [
    "Ans:\n",
    "The list of the five functions of the pandas library with their execution is given below:"
   ]
  },
  {
   "cell_type": "code",
   "execution_count": 3,
   "id": "3ed46c85",
   "metadata": {},
   "outputs": [],
   "source": [
    "# 1: read_csv()\n",
    "\n",
    "import pandas as pd\n",
    "df = pd.read_csv('titanic.csv')"
   ]
  },
  {
   "cell_type": "code",
   "execution_count": 4,
   "id": "f160ecaf",
   "metadata": {},
   "outputs": [
    {
     "data": {
      "text/html": [
       "<div>\n",
       "<style scoped>\n",
       "    .dataframe tbody tr th:only-of-type {\n",
       "        vertical-align: middle;\n",
       "    }\n",
       "\n",
       "    .dataframe tbody tr th {\n",
       "        vertical-align: top;\n",
       "    }\n",
       "\n",
       "    .dataframe thead th {\n",
       "        text-align: right;\n",
       "    }\n",
       "</style>\n",
       "<table border=\"1\" class=\"dataframe\">\n",
       "  <thead>\n",
       "    <tr style=\"text-align: right;\">\n",
       "      <th></th>\n",
       "      <th>PassengerId</th>\n",
       "      <th>Survived</th>\n",
       "      <th>Pclass</th>\n",
       "      <th>Name</th>\n",
       "      <th>Sex</th>\n",
       "      <th>Age</th>\n",
       "      <th>SibSp</th>\n",
       "      <th>Parch</th>\n",
       "      <th>Ticket</th>\n",
       "      <th>Fare</th>\n",
       "      <th>Cabin</th>\n",
       "      <th>Embarked</th>\n",
       "    </tr>\n",
       "  </thead>\n",
       "  <tbody>\n",
       "    <tr>\n",
       "      <th>0</th>\n",
       "      <td>1</td>\n",
       "      <td>0</td>\n",
       "      <td>3</td>\n",
       "      <td>Braund, Mr. Owen Harris</td>\n",
       "      <td>male</td>\n",
       "      <td>22.0</td>\n",
       "      <td>1</td>\n",
       "      <td>0</td>\n",
       "      <td>A/5 21171</td>\n",
       "      <td>7.2500</td>\n",
       "      <td>NaN</td>\n",
       "      <td>S</td>\n",
       "    </tr>\n",
       "    <tr>\n",
       "      <th>1</th>\n",
       "      <td>2</td>\n",
       "      <td>1</td>\n",
       "      <td>1</td>\n",
       "      <td>Cumings, Mrs. John Bradley (Florence Briggs Th...</td>\n",
       "      <td>female</td>\n",
       "      <td>38.0</td>\n",
       "      <td>1</td>\n",
       "      <td>0</td>\n",
       "      <td>PC 17599</td>\n",
       "      <td>71.2833</td>\n",
       "      <td>C85</td>\n",
       "      <td>C</td>\n",
       "    </tr>\n",
       "    <tr>\n",
       "      <th>2</th>\n",
       "      <td>3</td>\n",
       "      <td>1</td>\n",
       "      <td>3</td>\n",
       "      <td>Heikkinen, Miss. Laina</td>\n",
       "      <td>female</td>\n",
       "      <td>26.0</td>\n",
       "      <td>0</td>\n",
       "      <td>0</td>\n",
       "      <td>STON/O2. 3101282</td>\n",
       "      <td>7.9250</td>\n",
       "      <td>NaN</td>\n",
       "      <td>S</td>\n",
       "    </tr>\n",
       "    <tr>\n",
       "      <th>3</th>\n",
       "      <td>4</td>\n",
       "      <td>1</td>\n",
       "      <td>1</td>\n",
       "      <td>Futrelle, Mrs. Jacques Heath (Lily May Peel)</td>\n",
       "      <td>female</td>\n",
       "      <td>35.0</td>\n",
       "      <td>1</td>\n",
       "      <td>0</td>\n",
       "      <td>113803</td>\n",
       "      <td>53.1000</td>\n",
       "      <td>C123</td>\n",
       "      <td>S</td>\n",
       "    </tr>\n",
       "    <tr>\n",
       "      <th>4</th>\n",
       "      <td>5</td>\n",
       "      <td>0</td>\n",
       "      <td>3</td>\n",
       "      <td>Allen, Mr. William Henry</td>\n",
       "      <td>male</td>\n",
       "      <td>35.0</td>\n",
       "      <td>0</td>\n",
       "      <td>0</td>\n",
       "      <td>373450</td>\n",
       "      <td>8.0500</td>\n",
       "      <td>NaN</td>\n",
       "      <td>S</td>\n",
       "    </tr>\n",
       "  </tbody>\n",
       "</table>\n",
       "</div>"
      ],
      "text/plain": [
       "   PassengerId  Survived  Pclass  \\\n",
       "0            1         0       3   \n",
       "1            2         1       1   \n",
       "2            3         1       3   \n",
       "3            4         1       1   \n",
       "4            5         0       3   \n",
       "\n",
       "                                                Name     Sex   Age  SibSp  \\\n",
       "0                            Braund, Mr. Owen Harris    male  22.0      1   \n",
       "1  Cumings, Mrs. John Bradley (Florence Briggs Th...  female  38.0      1   \n",
       "2                             Heikkinen, Miss. Laina  female  26.0      0   \n",
       "3       Futrelle, Mrs. Jacques Heath (Lily May Peel)  female  35.0      1   \n",
       "4                           Allen, Mr. William Henry    male  35.0      0   \n",
       "\n",
       "   Parch            Ticket     Fare Cabin Embarked  \n",
       "0      0         A/5 21171   7.2500   NaN        S  \n",
       "1      0          PC 17599  71.2833   C85        C  \n",
       "2      0  STON/O2. 3101282   7.9250   NaN        S  \n",
       "3      0            113803  53.1000  C123        S  \n",
       "4      0            373450   8.0500   NaN        S  "
      ]
     },
     "execution_count": 4,
     "metadata": {},
     "output_type": "execute_result"
    }
   ],
   "source": [
    "df.head()"
   ]
  },
  {
   "cell_type": "code",
   "execution_count": 12,
   "id": "c0f4918c",
   "metadata": {},
   "outputs": [
    {
     "name": "stdout",
     "output_type": "stream",
     "text": [
      "         Age\n",
      "Gender      \n",
      "Female  23.0\n",
      "Male    25.0\n"
     ]
    },
    {
     "name": "stderr",
     "output_type": "stream",
     "text": [
      "C:\\Users\\Dell\\AppData\\Local\\Temp\\ipykernel_6496\\1214392851.py:17: FutureWarning: The default value of numeric_only in DataFrameGroupBy.mean is deprecated. In a future version, numeric_only will default to False. Either specify numeric_only or select only columns which should be valid for the function.\n",
      "  print(grouped.mean())\n"
     ]
    }
   ],
   "source": [
    "# 2: groupby():\n",
    "#This function is used to group a Pandas DataFrame by one or more columns and apply a function to \n",
    "#each group. \n",
    "\n",
    "import pandas as pd\n",
    "\n",
    "data = {\n",
    "    'Name': ['Dilli', 'Sukrit', 'Sita', 'Kabita'],\n",
    "    'Age': [28, 22, 25, 21],\n",
    "    'Gender': ['Male', 'Male', 'Female', 'Female']\n",
    "}\n",
    "\n",
    "df = pd.DataFrame(data)\n",
    "\n",
    "#using groupby:\n",
    "grouped = df.groupby('Gender')\n",
    "print(grouped.mean())"
   ]
  },
  {
   "cell_type": "code",
   "execution_count": 13,
   "id": "bc1e9b42",
   "metadata": {},
   "outputs": [
    {
     "name": "stdout",
     "output_type": "stream",
     "text": [
      "      name      age gender\n",
      "0   Mitthu     25.0      M\n",
      "1   Chikku     30.0      F\n",
      "2  Unknown  Unknown      M\n",
      "3   Bikram     40.0      F\n",
      "4   Raghab     45.0      M\n"
     ]
    }
   ],
   "source": [
    "# 3: fillna()\n",
    "#fillna(): This function is used to fill missing values in a Pandas DataFrame with a specified\n",
    "#value or method. Here's an example of how to use it:\n",
    "\n",
    "import pandas as pd\n",
    "import numpy as np\n",
    "\n",
    "\n",
    "#create dataset\n",
    "data = {'name': ['Mitthu', 'Chikku', np.nan, 'Bikram', 'Raghab'],\n",
    "        'age': [25, 30, np.nan, 40, 45],\n",
    "        'gender': ['M', 'F', 'M', 'F', 'M']}\n",
    "\n",
    "df = pd.DataFrame(data)\n",
    "\n",
    "df.fillna(value='Unknown', inplace=True)\n",
    "print(df)\n"
   ]
  },
  {
   "cell_type": "code",
   "execution_count": 16,
   "id": "9fb10e83",
   "metadata": {},
   "outputs": [
    {
     "name": "stdout",
     "output_type": "stream",
     "text": [
      "age          21       23       24       25       32\n",
      "gender                                             \n",
      "F           NaN  60000.0  70000.0      NaN      NaN\n",
      "M       80000.0      NaN      NaN  50000.0  90000.0\n"
     ]
    }
   ],
   "source": [
    "# 4:  pivot_table()\n",
    "#This function is used to create a pivot table from a Pandas DataFrame, where the rows \n",
    "#represent one variable, the columns represent another variable, \n",
    "#and the values represent an aggregation of a third variable.\n",
    "\n",
    "#example code:\n",
    "\n",
    "import pandas as pd\n",
    "\n",
    "data = {'name': ['Rishab', 'Radha', 'Bindu', 'Bishal', 'Chakra'],\n",
    "        'age': [25, 23, 24, 21, 32],\n",
    "        'gender': ['M', 'F', 'F', 'M', 'M'],\n",
    "        'salary': [50000, 60000, 70000, 80000, 90000]}\n",
    "\n",
    "df = pd.DataFrame(data)\n",
    "\n",
    "pivot = df.pivot_table(values='salary', index='gender', columns='age', aggfunc='mean')\n",
    "print(pivot)\n"
   ]
  },
  {
   "cell_type": "code",
   "execution_count": 18,
   "id": "6fcce9b6",
   "metadata": {},
   "outputs": [],
   "source": [
    "# 5: merge()\n",
    "# This function is used to merge two or more Pandas DataFrames based on a common column.\n",
    "\n",
    "#code:\n",
    "import pandas as pd\n",
    "\n",
    "data1 = {'name': ['Rinku', 'Pinku', 'Sinku'],\n",
    "         'age': [25, 30, 35],\n",
    "         'gender': ['M', 'F', 'M']}\n",
    "\n",
    "data2 = {'name':['Rinku','Pinku', 'Si nku', 'Jhinku', 'Tinku'],\n",
    "'salary': [50000, 60000, 70000, 80000, 90000]}\n",
    "\n",
    "df1 = pd.DataFrame(data1)\n",
    "df2 = pd.DataFrame(data2)\n",
    "\n",
    "merged_result = pd.merge(df1, df2, on='name')\n"
   ]
  },
  {
   "cell_type": "code",
   "execution_count": 19,
   "id": "833ec9da",
   "metadata": {},
   "outputs": [
    {
     "data": {
      "text/html": [
       "<div>\n",
       "<style scoped>\n",
       "    .dataframe tbody tr th:only-of-type {\n",
       "        vertical-align: middle;\n",
       "    }\n",
       "\n",
       "    .dataframe tbody tr th {\n",
       "        vertical-align: top;\n",
       "    }\n",
       "\n",
       "    .dataframe thead th {\n",
       "        text-align: right;\n",
       "    }\n",
       "</style>\n",
       "<table border=\"1\" class=\"dataframe\">\n",
       "  <thead>\n",
       "    <tr style=\"text-align: right;\">\n",
       "      <th></th>\n",
       "      <th>name</th>\n",
       "      <th>age</th>\n",
       "      <th>gender</th>\n",
       "      <th>salary</th>\n",
       "    </tr>\n",
       "  </thead>\n",
       "  <tbody>\n",
       "    <tr>\n",
       "      <th>0</th>\n",
       "      <td>Rinku</td>\n",
       "      <td>25</td>\n",
       "      <td>M</td>\n",
       "      <td>50000</td>\n",
       "    </tr>\n",
       "    <tr>\n",
       "      <th>1</th>\n",
       "      <td>Pinku</td>\n",
       "      <td>30</td>\n",
       "      <td>F</td>\n",
       "      <td>60000</td>\n",
       "    </tr>\n",
       "  </tbody>\n",
       "</table>\n",
       "</div>"
      ],
      "text/plain": [
       "    name  age gender  salary\n",
       "0  Rinku   25      M   50000\n",
       "1  Pinku   30      F   60000"
      ]
     },
     "execution_count": 19,
     "metadata": {},
     "output_type": "execute_result"
    }
   ],
   "source": [
    "merged_result"
   ]
  },
  {
   "cell_type": "markdown",
   "id": "f539e52b",
   "metadata": {},
   "source": [
    "#### Q2. Given a Pandas DataFrame df with columns 'A', 'B', and 'C', write a Python function to re-index the DataFrame with a new index that starts from 1 and increments by 2 for each row."
   ]
  },
  {
   "cell_type": "code",
   "execution_count": 29,
   "id": "a69e22b0",
   "metadata": {},
   "outputs": [],
   "source": [
    "import pandas as pd\n",
    "\n",
    "def reindex_df(df):\n",
    "    # Reset the index of the DataFrame to the default integer index\n",
    "    df = df.reset_index()\n",
    "    \n",
    "    # Create a new index that starts from 1 and increments by 2 for each row\n",
    "    new_index = pd.RangeIndex(start=1, stop=2*len(df), step=2)\n",
    "    \n",
    "    # Set the new index for the DataFrame\n",
    "    df = df.set_index(new_index)\n",
    "    \n",
    "    return df\n"
   ]
  },
  {
   "cell_type": "code",
   "execution_count": 30,
   "id": "44d2857c",
   "metadata": {},
   "outputs": [
    {
     "name": "stdout",
     "output_type": "stream",
     "text": [
      "   A  B  C\n",
      "0  1  4  7\n",
      "1  2  5  8\n",
      "2  3  6  9\n",
      "   index  A  B  C\n",
      "1      0  1  4  7\n",
      "3      1  2  5  8\n",
      "5      2  3  6  9\n"
     ]
    }
   ],
   "source": [
    "# Create a DataFrame\n",
    "data = {'A': [1, 2, 3],\n",
    "        'B': [4, 5, 6],\n",
    "        'C': [7, 8, 9]}\n",
    "df = pd.DataFrame(data)\n",
    "\n",
    "# Print the original DataFrame\n",
    "print(df)\n",
    "\n",
    "# Re-index the DataFrame with a new index that starts from 1 and increments by 2 for each row\n",
    "new_df = reindex_df(df)\n",
    "\n",
    "# Print the re-indexed DataFrame\n",
    "print(new_df)\n"
   ]
  },
  {
   "cell_type": "markdown",
   "id": "f338e5e2",
   "metadata": {},
   "source": [
    "###### Q3. You have a Pandas DataFrame df with a column named 'Values'. Write a Python function that\n",
    "###### iterates over the DataFrame and calculates the sum of the first three values in the 'Values' column. The\n",
    "###### function should print the sum to the console.\n",
    "###### For example, if the 'Values' column of df contains the values [10, 20, 30, 40, 50], your function should\n",
    "###### calculate and print the sum of the first three values, which is 60.\n"
   ]
  },
  {
   "cell_type": "code",
   "execution_count": 33,
   "id": "3a56dbae",
   "metadata": {},
   "outputs": [
    {
     "data": {
      "text/html": [
       "<div>\n",
       "<style scoped>\n",
       "    .dataframe tbody tr th:only-of-type {\n",
       "        vertical-align: middle;\n",
       "    }\n",
       "\n",
       "    .dataframe tbody tr th {\n",
       "        vertical-align: top;\n",
       "    }\n",
       "\n",
       "    .dataframe thead th {\n",
       "        text-align: right;\n",
       "    }\n",
       "</style>\n",
       "<table border=\"1\" class=\"dataframe\">\n",
       "  <thead>\n",
       "    <tr style=\"text-align: right;\">\n",
       "      <th></th>\n",
       "      <th>Values</th>\n",
       "    </tr>\n",
       "  </thead>\n",
       "  <tbody>\n",
       "    <tr>\n",
       "      <th>0</th>\n",
       "      <td>10</td>\n",
       "    </tr>\n",
       "    <tr>\n",
       "      <th>1</th>\n",
       "      <td>20</td>\n",
       "    </tr>\n",
       "    <tr>\n",
       "      <th>2</th>\n",
       "      <td>30</td>\n",
       "    </tr>\n",
       "    <tr>\n",
       "      <th>3</th>\n",
       "      <td>40</td>\n",
       "    </tr>\n",
       "    <tr>\n",
       "      <th>4</th>\n",
       "      <td>50</td>\n",
       "    </tr>\n",
       "  </tbody>\n",
       "</table>\n",
       "</div>"
      ],
      "text/plain": [
       "   Values\n",
       "0      10\n",
       "1      20\n",
       "2      30\n",
       "3      40\n",
       "4      50"
      ]
     },
     "execution_count": 33,
     "metadata": {},
     "output_type": "execute_result"
    }
   ],
   "source": [
    "#code:\n",
    "\n",
    "import pandas as pd\n",
    "\n",
    "df = pd.DataFrame({\n",
    "    'Values': [10, 20, 30, 40, 50]\n",
    "})\n",
    "\n",
    "df"
   ]
  },
  {
   "cell_type": "code",
   "execution_count": 34,
   "id": "a9f304fa",
   "metadata": {},
   "outputs": [
    {
     "name": "stdout",
     "output_type": "stream",
     "text": [
      "The sum of first three values is  60\n"
     ]
    }
   ],
   "source": [
    "# python function to calculate the sum of first three values in the Values column\n",
    "def sum_of_three_vlaues(df):\n",
    "    first_three_values = df['Values'].iloc[:3]\n",
    "    numbers_sum = sum(first_three_values)\n",
    "    \n",
    "    print('The sum of first three values is ', numbers_sum)\n",
    "\n",
    "\n",
    "    \n",
    "sum_of_three_vlaues(df)\n",
    "    "
   ]
  },
  {
   "cell_type": "markdown",
   "id": "7c850ec3",
   "metadata": {},
   "source": [
    "#### Q4. Given a Pandas DataFrame df with a column 'Text', write a Python function to create a new column 'Word_Count' that contains the number of words in each row of the 'Text' column."
   ]
  },
  {
   "cell_type": "code",
   "execution_count": 52,
   "id": "e03ba05f",
   "metadata": {},
   "outputs": [],
   "source": [
    "#code\n",
    "import pandas as  pd\n",
    "df = pd.DataFrame({\n",
    "    'Text': ['Ram Kumar', 'Johny Gentleman', 'Ritesh Ram Chaudhary', 'Pwskills']\n",
    "})\n"
   ]
  },
  {
   "cell_type": "code",
   "execution_count": 54,
   "id": "4c0581b4",
   "metadata": {},
   "outputs": [
    {
     "data": {
      "text/html": [
       "<div>\n",
       "<style scoped>\n",
       "    .dataframe tbody tr th:only-of-type {\n",
       "        vertical-align: middle;\n",
       "    }\n",
       "\n",
       "    .dataframe tbody tr th {\n",
       "        vertical-align: top;\n",
       "    }\n",
       "\n",
       "    .dataframe thead th {\n",
       "        text-align: right;\n",
       "    }\n",
       "</style>\n",
       "<table border=\"1\" class=\"dataframe\">\n",
       "  <thead>\n",
       "    <tr style=\"text-align: right;\">\n",
       "      <th></th>\n",
       "      <th>Text</th>\n",
       "    </tr>\n",
       "  </thead>\n",
       "  <tbody>\n",
       "    <tr>\n",
       "      <th>0</th>\n",
       "      <td>Ram Kumar</td>\n",
       "    </tr>\n",
       "    <tr>\n",
       "      <th>1</th>\n",
       "      <td>Johny Gentleman</td>\n",
       "    </tr>\n",
       "    <tr>\n",
       "      <th>2</th>\n",
       "      <td>Ritesh Ram Chaudhary</td>\n",
       "    </tr>\n",
       "    <tr>\n",
       "      <th>3</th>\n",
       "      <td>Pwskills</td>\n",
       "    </tr>\n",
       "  </tbody>\n",
       "</table>\n",
       "</div>"
      ],
      "text/plain": [
       "                   Text\n",
       "0             Ram Kumar\n",
       "1       Johny Gentleman\n",
       "2  Ritesh Ram Chaudhary\n",
       "3              Pwskills"
      ]
     },
     "execution_count": 54,
     "metadata": {},
     "output_type": "execute_result"
    }
   ],
   "source": [
    "# before counting and creating another column named 'Word_Count'\n",
    "df"
   ]
  },
  {
   "cell_type": "code",
   "execution_count": 56,
   "id": "4d5550de",
   "metadata": {},
   "outputs": [],
   "source": [
    "#python function to calculate word:\n",
    "def add_word_count(df):\n",
    "    # Use str.split() to split the 'Text' column into words\n",
    "    words = df['Text'].str.split()\n",
    "    # Use apply() and len() to count the number of words in each row\n",
    "    word_counts = words.apply(len)\n",
    "    # Add the 'Word_Count' column to the DataFrame\n",
    "    df['Word_Count'] = word_counts\n",
    "    \n",
    "add_word_count(df)"
   ]
  },
  {
   "cell_type": "code",
   "execution_count": 58,
   "id": "2047ee44",
   "metadata": {},
   "outputs": [
    {
     "data": {
      "text/html": [
       "<div>\n",
       "<style scoped>\n",
       "    .dataframe tbody tr th:only-of-type {\n",
       "        vertical-align: middle;\n",
       "    }\n",
       "\n",
       "    .dataframe tbody tr th {\n",
       "        vertical-align: top;\n",
       "    }\n",
       "\n",
       "    .dataframe thead th {\n",
       "        text-align: right;\n",
       "    }\n",
       "</style>\n",
       "<table border=\"1\" class=\"dataframe\">\n",
       "  <thead>\n",
       "    <tr style=\"text-align: right;\">\n",
       "      <th></th>\n",
       "      <th>Text</th>\n",
       "      <th>Word_Count</th>\n",
       "    </tr>\n",
       "  </thead>\n",
       "  <tbody>\n",
       "    <tr>\n",
       "      <th>0</th>\n",
       "      <td>Ram Kumar</td>\n",
       "      <td>2</td>\n",
       "    </tr>\n",
       "    <tr>\n",
       "      <th>1</th>\n",
       "      <td>Johny Gentleman</td>\n",
       "      <td>2</td>\n",
       "    </tr>\n",
       "    <tr>\n",
       "      <th>2</th>\n",
       "      <td>Ritesh Ram Chaudhary</td>\n",
       "      <td>3</td>\n",
       "    </tr>\n",
       "    <tr>\n",
       "      <th>3</th>\n",
       "      <td>Pwskills</td>\n",
       "      <td>1</td>\n",
       "    </tr>\n",
       "  </tbody>\n",
       "</table>\n",
       "</div>"
      ],
      "text/plain": [
       "                   Text  Word_Count\n",
       "0             Ram Kumar           2\n",
       "1       Johny Gentleman           2\n",
       "2  Ritesh Ram Chaudhary           3\n",
       "3              Pwskills           1"
      ]
     },
     "execution_count": 58,
     "metadata": {},
     "output_type": "execute_result"
    }
   ],
   "source": [
    "#After counting words in the column 'Text' and creating an extra column 'Word_Count'\n",
    "df"
   ]
  },
  {
   "cell_type": "markdown",
   "id": "2c1f9f56",
   "metadata": {},
   "source": []
  },
  {
   "cell_type": "markdown",
   "id": "a34768e5",
   "metadata": {},
   "source": [
    "##### Q5. How are DataFrame.size() and DataFrame.shape() different?"
   ]
  },
  {
   "cell_type": "markdown",
   "id": "c7f5e6ee",
   "metadata": {},
   "source": [
    "##### Ans:\n",
    "- DataFrame.size() returns the total number of elements in the DataFrame, i.e., the product of the number of rows and the number of columns. It returns a single integer value.\n",
    "- DataFrame.shape() returns a tuple containing the number of rows and columns in the DataFrame, respectively. It returns a tuple of two integers."
   ]
  },
  {
   "cell_type": "code",
   "execution_count": 60,
   "id": "4f302d07",
   "metadata": {},
   "outputs": [
    {
     "name": "stdout",
     "output_type": "stream",
     "text": [
      "9\n",
      "(3, 3)\n"
     ]
    }
   ],
   "source": [
    "#Example code:\n",
    "import pandas as pd\n",
    "\n",
    "data = {'name': ['John', 'Jane', 'Bob'], \n",
    "        'age': [25, 30, 35], \n",
    "        'gender': ['M', 'F', 'M']}\n",
    "df = pd.DataFrame(data)\n",
    "\n",
    "print(df.size)    \n",
    "print(df.shape)   \n"
   ]
  },
  {
   "cell_type": "markdown",
   "id": "38749b89",
   "metadata": {},
   "source": [
    "#### Q6. Which function of pandas do we use to read an excel file?"
   ]
  },
  {
   "cell_type": "markdown",
   "id": "f8b26916",
   "metadata": {},
   "source": [
    "##### Ans:\n",
    "To read an Excel file in Pandas, we use the read_excel() function. "
   ]
  },
  {
   "cell_type": "code",
   "execution_count": 63,
   "id": "4ec0897e",
   "metadata": {},
   "outputs": [],
   "source": [
    "# Example code:\n",
    "import pandas as pd\n",
    "\n",
    "# Read an Excel file into a DataFrame\n",
    "df = pd.read_excel('example.xlsx')\n",
    "\n",
    "# Print the first five rows of the DataFrame\n",
    "print(df.head())\n"
   ]
  },
  {
   "cell_type": "markdown",
   "id": "75c0881a",
   "metadata": {},
   "source": [
    "#### Q7. You have a Pandas DataFrame df that contains a column named 'Email' that contains email addresses in the format 'username@domain.com'. Write a Python function that creates a new column 'Username' in df that contains only the username part of each email address."
   ]
  },
  {
   "cell_type": "code",
   "execution_count": 64,
   "id": "5d354553",
   "metadata": {},
   "outputs": [],
   "source": [
    "#### Code:\n",
    "import pandas as pd\n",
    "\n",
    "def extract_username(df):\n",
    "    # Use the str.split() method to split the 'Email' column on the '@' symbol\n",
    "    username_series = df['Email'].str.split('@', expand=True)[0]\n",
    "    \n",
    "    # Add a new column 'Username' to the DataFrame with the extracted username values\n",
    "    df['Username'] = username_series\n",
    "    \n",
    "    return df\n",
    "\n"
   ]
  },
  {
   "cell_type": "code",
   "execution_count": 68,
   "id": "46c044b1",
   "metadata": {},
   "outputs": [
    {
     "name": "stdout",
     "output_type": "stream",
     "text": [
      "                     Email     Username\n",
      "0  chaudharydr@example.com  chaudharydr\n",
      "1  sukrityadav@example.com  sukrityadav\n"
     ]
    }
   ],
   "source": [
    "df = pd.DataFrame({'Email': ['chaudharydr@example.com', 'sukrityadav@example.com']})\n",
    "df = extract_username(df)\n",
    "print(df)\n"
   ]
  },
  {
   "cell_type": "markdown",
   "id": "7c9cd3f7",
   "metadata": {},
   "source": [
    "#### Q8. You have a Pandas DataFrame df with columns 'A', 'B', and 'C'. Write a Python function that selects all rows where the value in column 'A' is greater than 5 and the value in column 'B' is less than 10. The function should return a new DataFrame that contains only the selected rows."
   ]
  },
  {
   "cell_type": "code",
   "execution_count": 90,
   "id": "7021ed47",
   "metadata": {},
   "outputs": [],
   "source": [
    "#code:\n",
    "import pandas as pd\n",
    "df = pd.DataFrame({\n",
    "    'A': [4,5,6,7,89,32,2,4,9,5],\n",
    "    'B': [1,9,66, 5, 8,44,21,2, 4, 11],\n",
    "    'C': [2,3,4,5,8,66,44,3, 5,12]\n",
    "})\n",
    "\n",
    "def selected_rows(df):\n",
    "    new_rows = df[(df['A'] > 5) & (df['B']<10)]\n",
    "    return new_rows"
   ]
  },
  {
   "cell_type": "code",
   "execution_count": 91,
   "id": "bd4980ee",
   "metadata": {},
   "outputs": [
    {
     "data": {
      "text/html": [
       "<div>\n",
       "<style scoped>\n",
       "    .dataframe tbody tr th:only-of-type {\n",
       "        vertical-align: middle;\n",
       "    }\n",
       "\n",
       "    .dataframe tbody tr th {\n",
       "        vertical-align: top;\n",
       "    }\n",
       "\n",
       "    .dataframe thead th {\n",
       "        text-align: right;\n",
       "    }\n",
       "</style>\n",
       "<table border=\"1\" class=\"dataframe\">\n",
       "  <thead>\n",
       "    <tr style=\"text-align: right;\">\n",
       "      <th></th>\n",
       "      <th>A</th>\n",
       "      <th>B</th>\n",
       "      <th>C</th>\n",
       "    </tr>\n",
       "  </thead>\n",
       "  <tbody>\n",
       "    <tr>\n",
       "      <th>3</th>\n",
       "      <td>7</td>\n",
       "      <td>5</td>\n",
       "      <td>5</td>\n",
       "    </tr>\n",
       "    <tr>\n",
       "      <th>4</th>\n",
       "      <td>89</td>\n",
       "      <td>8</td>\n",
       "      <td>8</td>\n",
       "    </tr>\n",
       "    <tr>\n",
       "      <th>8</th>\n",
       "      <td>9</td>\n",
       "      <td>4</td>\n",
       "      <td>5</td>\n",
       "    </tr>\n",
       "  </tbody>\n",
       "</table>\n",
       "</div>"
      ],
      "text/plain": [
       "    A  B  C\n",
       "3   7  5  5\n",
       "4  89  8  8\n",
       "8   9  4  5"
      ]
     },
     "execution_count": 91,
     "metadata": {},
     "output_type": "execute_result"
    }
   ],
   "source": [
    "selected_rows(df)"
   ]
  },
  {
   "cell_type": "markdown",
   "id": "6c9d30b3",
   "metadata": {},
   "source": [
    "#### Q9. Given a Pandas DataFrame df with a column 'Values', write a Python function to calculate the mean, median, and standard deviation of the values in the 'Values' column."
   ]
  },
  {
   "cell_type": "code",
   "execution_count": 81,
   "id": "4b38b2da",
   "metadata": {},
   "outputs": [
    {
     "name": "stdout",
     "output_type": "stream",
     "text": [
      "Mean: 3.0\n",
      "Median: 3.0\n",
      "Standard deviation: 1.5811388300841898\n"
     ]
    }
   ],
   "source": [
    "import pandas as pd\n",
    "\n",
    "def calc_stats(df):\n",
    "    mean = df['Values'].mean()\n",
    "    median = df['Values'].median()\n",
    "    std_dev = df['Values'].std()\n",
    "    return mean, median, std_dev\n",
    "df = pd.DataFrame({'Values': [1, 2, 3, 4, 5]})\n",
    "mean, median, std_dev = calc_stats(df)\n",
    "print('Mean:', mean)\n",
    "print('Median:', median)\n",
    "print('Standard deviation:', std_dev)\n"
   ]
  },
  {
   "cell_type": "markdown",
   "id": "afff9ce4",
   "metadata": {},
   "source": [
    "#### Q10. Given a Pandas DataFrame df with a column 'Sales' and a column 'Date', write a Python function to create a new column 'MovingAverage' that contains the moving average of the sales for the past 7 days for each row in the DataFrame. The moving average should be calculated using a window of size 7 and should include the current day."
   ]
  },
  {
   "cell_type": "code",
   "execution_count": 86,
   "id": "a5a103d5",
   "metadata": {},
   "outputs": [
    {
     "data": {
      "text/html": [
       "<div>\n",
       "<style scoped>\n",
       "    .dataframe tbody tr th:only-of-type {\n",
       "        vertical-align: middle;\n",
       "    }\n",
       "\n",
       "    .dataframe tbody tr th {\n",
       "        vertical-align: top;\n",
       "    }\n",
       "\n",
       "    .dataframe thead th {\n",
       "        text-align: right;\n",
       "    }\n",
       "</style>\n",
       "<table border=\"1\" class=\"dataframe\">\n",
       "  <thead>\n",
       "    <tr style=\"text-align: right;\">\n",
       "      <th></th>\n",
       "      <th>Date</th>\n",
       "      <th>MovingAverage</th>\n",
       "    </tr>\n",
       "  </thead>\n",
       "  <tbody>\n",
       "    <tr>\n",
       "      <th>0</th>\n",
       "      <td>2011</td>\n",
       "      <td>NaN</td>\n",
       "    </tr>\n",
       "    <tr>\n",
       "      <th>1</th>\n",
       "      <td>2010</td>\n",
       "      <td>NaN</td>\n",
       "    </tr>\n",
       "    <tr>\n",
       "      <th>2</th>\n",
       "      <td>2009</td>\n",
       "      <td>NaN</td>\n",
       "    </tr>\n",
       "    <tr>\n",
       "      <th>3</th>\n",
       "      <td>2008</td>\n",
       "      <td>NaN</td>\n",
       "    </tr>\n",
       "    <tr>\n",
       "      <th>4</th>\n",
       "      <td>2007</td>\n",
       "      <td>NaN</td>\n",
       "    </tr>\n",
       "    <tr>\n",
       "      <th>5</th>\n",
       "      <td>2006</td>\n",
       "      <td>NaN</td>\n",
       "    </tr>\n",
       "    <tr>\n",
       "      <th>6</th>\n",
       "      <td>2005</td>\n",
       "      <td>4000.0</td>\n",
       "    </tr>\n",
       "  </tbody>\n",
       "</table>\n",
       "</div>"
      ],
      "text/plain": [
       "   Date  MovingAverage\n",
       "0  2011            NaN\n",
       "1  2010            NaN\n",
       "2  2009            NaN\n",
       "3  2008            NaN\n",
       "4  2007            NaN\n",
       "5  2006            NaN\n",
       "6  2005         4000.0"
      ]
     },
     "execution_count": 86,
     "metadata": {},
     "output_type": "execute_result"
    }
   ],
   "source": [
    "import pandas as pd\n",
    "\n",
    "def calculate_moving_average(df):\n",
    "    # Set 'Date' column as the index\n",
    "    df.set_index('Date', inplace=True)\n",
    "    \n",
    "    # Calculate the rolling mean with window size of 7\n",
    "    ma = df.rolling(window=7).mean()\n",
    "    \n",
    "    # Rename 'Sales' column to 'MovingAverage'\n",
    "    ma = ma.rename(columns={'Sales': 'MovingAverage'})\n",
    "    \n",
    "    # Reset the index\n",
    "    ma.reset_index(inplace=True)\n",
    "    \n",
    "    return ma\n",
    "\n",
    "df = pd.DataFrame({\n",
    "    'Sales': [1000, 2000, 3000, 4000, 5000, 6000,7000],\n",
    "    'Date': [2023-11-1, 2023-11-2, 2023-11-3, 2023-11-4, 2023-11-5, 2023-11-6, 2023-11-7]\n",
    "})\n",
    "\n",
    "\n",
    "calculate_moving_average(df)"
   ]
  },
  {
   "cell_type": "markdown",
   "id": "19446aea",
   "metadata": {},
   "source": [
    "##### Q11. You have a Pandas DataFrame df with a column 'Date'. Write a Python function that creates a new column 'Weekday' in the DataFrame. The 'Weekday' column should contain the weekday name (e.g. Monday, Tuesday) corresponding to each date in the 'Date' column."
   ]
  },
  {
   "cell_type": "code",
   "execution_count": 89,
   "id": "11501ff1",
   "metadata": {},
   "outputs": [
    {
     "name": "stdout",
     "output_type": "stream",
     "text": [
      "        Date    Weekday\n",
      "0 2023-01-01     Sunday\n",
      "1 2023-01-02     Monday\n",
      "2 2023-01-03    Tuesday\n",
      "3 2023-01-04  Wednesday\n",
      "4 2023-01-05   Thursday\n"
     ]
    }
   ],
   "source": [
    "import pandas as pd\n",
    "\n",
    "# create a sample dataframe\n",
    "df = pd.DataFrame({'Date': ['2023-01-01', '2023-01-02', '2023-01-03', '2023-01-04', '2023-01-05']})\n",
    "\n",
    "# convert Date column to datetime dtype\n",
    "df['Date'] = pd.to_datetime(df['Date'])\n",
    "\n",
    "# use day_name() function to get weekday name of each date\n",
    "df['Weekday'] = df['Date'].dt.day_name()\n",
    "\n",
    "print(df)\n"
   ]
  },
  {
   "cell_type": "markdown",
   "id": "7bb8d650",
   "metadata": {},
   "source": [
    "##### Q12. Given a Pandas DataFrame df with a column 'Date' that contains timestamps, write a Python function to select all rows where the date is between '2023-01-01' and '2023-01-31'."
   ]
  },
  {
   "cell_type": "code",
   "execution_count": 92,
   "id": "95d58735",
   "metadata": {},
   "outputs": [],
   "source": [
    "import pandas as pd\n",
    "\n",
    "def select_rows_by_date(df):\n",
    "    start_date = '2023-01-01'\n",
    "    end_date = '2023-01-31'\n",
    "    mask = (df['Date'] >= start_date) & (df['Date'] <= end_date)\n",
    "    new_df = df.loc[mask]\n",
    "    return new_df\n"
   ]
  },
  {
   "cell_type": "code",
   "execution_count": 95,
   "id": "333ee4c4",
   "metadata": {},
   "outputs": [
    {
     "data": {
      "text/html": [
       "<div>\n",
       "<style scoped>\n",
       "    .dataframe tbody tr th:only-of-type {\n",
       "        vertical-align: middle;\n",
       "    }\n",
       "\n",
       "    .dataframe tbody tr th {\n",
       "        vertical-align: top;\n",
       "    }\n",
       "\n",
       "    .dataframe thead th {\n",
       "        text-align: right;\n",
       "    }\n",
       "</style>\n",
       "<table border=\"1\" class=\"dataframe\">\n",
       "  <thead>\n",
       "    <tr style=\"text-align: right;\">\n",
       "      <th></th>\n",
       "      <th>Date</th>\n",
       "    </tr>\n",
       "  </thead>\n",
       "  <tbody>\n",
       "    <tr>\n",
       "      <th>1</th>\n",
       "      <td>2023-01-01</td>\n",
       "    </tr>\n",
       "    <tr>\n",
       "      <th>2</th>\n",
       "      <td>2023-01-02</td>\n",
       "    </tr>\n",
       "    <tr>\n",
       "      <th>3</th>\n",
       "      <td>2023-01-03</td>\n",
       "    </tr>\n",
       "    <tr>\n",
       "      <th>4</th>\n",
       "      <td>2023-01-04</td>\n",
       "    </tr>\n",
       "    <tr>\n",
       "      <th>5</th>\n",
       "      <td>2023-01-05</td>\n",
       "    </tr>\n",
       "    <tr>\n",
       "      <th>6</th>\n",
       "      <td>2023-01-06</td>\n",
       "    </tr>\n",
       "  </tbody>\n",
       "</table>\n",
       "</div>"
      ],
      "text/plain": [
       "         Date\n",
       "1  2023-01-01\n",
       "2  2023-01-02\n",
       "3  2023-01-03\n",
       "4  2023-01-04\n",
       "5  2023-01-05\n",
       "6  2023-01-06"
      ]
     },
     "execution_count": 95,
     "metadata": {},
     "output_type": "execute_result"
    }
   ],
   "source": [
    "# checking\n",
    "df = pd.DataFrame({\n",
    "    'Date': ['2022-01-01','2023-01-01', '2023-01-02', '2023-01-03', \n",
    "             '2023-01-04', '2023-01-05', '2023-01-06', '2024-01-23']\n",
    "})\n",
    "\n",
    "select_rows_by_date(df)\n"
   ]
  },
  {
   "cell_type": "markdown",
   "id": "e3667185",
   "metadata": {},
   "source": [
    "##### Q13. To use the basic functions of pandas, what is the first and foremost necessary library that needs to be imported?"
   ]
  },
  {
   "cell_type": "code",
   "execution_count": 97,
   "id": "78f31af8",
   "metadata": {},
   "outputs": [],
   "source": [
    "#To use the basic functions of pandas, the first and foremost necessary library that needs to be \n",
    "#imported is pandas itself. \n",
    "\n",
    "#Example code:\n",
    "import pandas as pd\n"
   ]
  },
  {
   "cell_type": "markdown",
   "id": "e5126fcb",
   "metadata": {},
   "source": [
    "here, pd refers to the alias of pandas"
   ]
  }
 ],
 "metadata": {
  "kernelspec": {
   "display_name": "Python 3 (ipykernel)",
   "language": "python",
   "name": "python3"
  },
  "language_info": {
   "codemirror_mode": {
    "name": "ipython",
    "version": 3
   },
   "file_extension": ".py",
   "mimetype": "text/x-python",
   "name": "python",
   "nbconvert_exporter": "python",
   "pygments_lexer": "ipython3",
   "version": "3.10.9"
  }
 },
 "nbformat": 4,
 "nbformat_minor": 5
}
