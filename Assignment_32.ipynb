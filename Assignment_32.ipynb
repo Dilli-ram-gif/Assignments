{
 "cells": [
  {
   "cell_type": "markdown",
   "id": "d9cbeac6",
   "metadata": {},
   "source": [
    "### Panda Basic Assignment"
   ]
  },
  {
   "cell_type": "markdown",
   "id": "cefac853",
   "metadata": {},
   "source": [
    "##### Q1. Create a Pandas Series that contains the following data: 4, 8, 15, 16, 23, and 42. Then, print the series."
   ]
  },
  {
   "cell_type": "code",
   "execution_count": 4,
   "id": "cfc02739",
   "metadata": {},
   "outputs": [
    {
     "name": "stdout",
     "output_type": "stream",
     "text": [
      "0     4\n",
      "1     8\n",
      "2    15\n",
      "3    16\n",
      "4    23\n",
      "5    42\n",
      "dtype: int64\n"
     ]
    }
   ],
   "source": [
    "# Code:\n",
    "import pandas as np\n",
    "my_series = np.Series([4, 8, 15, 16, 23, 42])\n",
    "print(my_series)"
   ]
  },
  {
   "cell_type": "markdown",
   "id": "dd45d4c7",
   "metadata": {},
   "source": [
    "#### Q2. Create a variable of list type containing 10 elements in it, and apply pandas.Series function on the variable print it."
   ]
  },
  {
   "cell_type": "code",
   "execution_count": 8,
   "id": "21d42fd1",
   "metadata": {},
   "outputs": [],
   "source": [
    "# Code:\n",
    "import pandas as pd\n",
    "\n",
    "\n",
    "#create a variable of list type\n",
    "my_list = []\n",
    "for i in range(1,11):\n",
    "    my_list.append(i)\n",
    "\n",
    "#apply pandas.Series\n",
    "variable = pd.Series(my_list)"
   ]
  },
  {
   "cell_type": "code",
   "execution_count": 9,
   "id": "967ef630",
   "metadata": {},
   "outputs": [
    {
     "name": "stdout",
     "output_type": "stream",
     "text": [
      "0     1\n",
      "1     2\n",
      "2     3\n",
      "3     4\n",
      "4     5\n",
      "5     6\n",
      "6     7\n",
      "7     8\n",
      "8     9\n",
      "9    10\n",
      "dtype: int64\n"
     ]
    }
   ],
   "source": [
    "print(variable)"
   ]
  },
  {
   "cell_type": "markdown",
   "id": "825bcdbf",
   "metadata": {},
   "source": [
    "#### Q3. Create a Pandas DataFrame that contains the following data:"
   ]
  },
  {
   "attachments": {
    "image.png": {
     "image/png": "[encoded data removed]"
    }
   },
   "cell_type": "markdown",
   "id": "d65b21d3",
   "metadata": {},
   "source": [
    "![image.png](attachment:image.png)"
   ]
  },
  {
   "cell_type": "code",
   "execution_count": 37,
   "id": "bf1d01f9",
   "metadata": {},
   "outputs": [],
   "source": [
    "#Code\n",
    "import pandas as pd\n",
    "\n",
    "#Create dataset\n",
    "data = {\n",
    "    'Name': ['Alice', 'Bob', 'claire'],\n",
    "    'Age': [25, 30, 27],\n",
    "    'Gender': ['Female', 'Male', 'Female']\n",
    "}\n",
    "\n",
    "#Create dataframe:\n",
    "df = pd.DataFrame(data)"
   ]
  },
  {
   "cell_type": "code",
   "execution_count": 38,
   "id": "e43909bd",
   "metadata": {},
   "outputs": [
    {
     "data": {
      "text/html": [
       "<div>\n",
       "<style scoped>\n",
       "    .dataframe tbody tr th:only-of-type {\n",
       "        vertical-align: middle;\n",
       "    }\n",
       "\n",
       "    .dataframe tbody tr th {\n",
       "        vertical-align: top;\n",
       "    }\n",
       "\n",
       "    .dataframe thead th {\n",
       "        text-align: right;\n",
       "    }\n",
       "</style>\n",
       "<table border=\"1\" class=\"dataframe\">\n",
       "  <thead>\n",
       "    <tr style=\"text-align: right;\">\n",
       "      <th></th>\n",
       "      <th>Name</th>\n",
       "      <th>Age</th>\n",
       "      <th>Gender</th>\n",
       "    </tr>\n",
       "  </thead>\n",
       "  <tbody>\n",
       "    <tr>\n",
       "      <th>0</th>\n",
       "      <td>Alice</td>\n",
       "      <td>25</td>\n",
       "      <td>Female</td>\n",
       "    </tr>\n",
       "    <tr>\n",
       "      <th>1</th>\n",
       "      <td>Bob</td>\n",
       "      <td>30</td>\n",
       "      <td>Male</td>\n",
       "    </tr>\n",
       "    <tr>\n",
       "      <th>2</th>\n",
       "      <td>claire</td>\n",
       "      <td>27</td>\n",
       "      <td>Female</td>\n",
       "    </tr>\n",
       "  </tbody>\n",
       "</table>\n",
       "</div>"
      ],
      "text/plain": [
       "     Name  Age  Gender\n",
       "0   Alice   25  Female\n",
       "1     Bob   30    Male\n",
       "2  claire   27  Female"
      ]
     },
     "execution_count": 38,
     "metadata": {},
     "output_type": "execute_result"
    }
   ],
   "source": [
    "df"
   ]
  },
  {
   "cell_type": "markdown",
   "id": "5fe69c2f",
   "metadata": {},
   "source": [
    "#### Q4. What is ‘DataFrame’ in pandas and how is it different from pandas.series? Explain with an example."
   ]
  },
  {
   "cell_type": "markdown",
   "id": "c600b060",
   "metadata": {},
   "source": [
    "#### Ans: \n",
    "A DataFrame is a 2-dimensional labeled data structure with columns of potentially different types. It is like a table in a SQL database or an Excel spreadsheet. Each column in a DataFrame can be thought of as a Series.\n",
    "\n",
    "- The main difference between a DataFrame and a Series is that a DataFrame can hold multiple columns of data, while a Series can only hold a single column of data. In other words, a DataFrame is a collection of Series objects that share the same index."
   ]
  },
  {
   "cell_type": "code",
   "execution_count": 45,
   "id": "83134ad6",
   "metadata": {},
   "outputs": [
    {
     "name": "stdout",
     "output_type": "stream",
     "text": [
      "0       Sunday\n",
      "1       Monday\n",
      "2      Tuesday\n",
      "3    Wednesday\n",
      "4     Thursday\n",
      "5       Friday\n",
      "6     Saturday\n",
      "dtype: object\n",
      "     Name  Age  Height\n",
      "0  Sukrit   22     1.5\n",
      "1   Dilli   28     1.6\n",
      "2  Arbind   25     1.2\n",
      "3    Ajay   28     1.3\n"
     ]
    }
   ],
   "source": [
    "#code\n",
    "import pandas as pd\n",
    "\n",
    "#create a series:\n",
    "days = pd.Series(['Sunday', 'Monday', 'Tuesday', 'Wednesday', 'Thursday','Friday', 'Saturday'])\n",
    "\n",
    "#Create a dataframe:\n",
    "df = pd.DataFrame({\n",
    "    'Name': ['Sukrit', 'Dilli', 'Arbind', 'Ajay'],\n",
    "    'Age': [22, 28, 25, 28],\n",
    "    'Height': [1.5, 1.6, 1.2, 1.3] \n",
    "}\n",
    ")\n",
    "\n",
    "#print both data\n",
    "print(days)\n",
    "print(df)"
   ]
  },
  {
   "cell_type": "markdown",
   "id": "94c71741",
   "metadata": {},
   "source": [
    "In this code, we first create a Series called'days' that contains the names of seven days in a week. We then create a DataFrame called df that contains three columns: Name, Age, and Height."
   ]
  },
  {
   "cell_type": "markdown",
   "id": "a0a36bde",
   "metadata": {},
   "source": [
    "#### Q5. What are some common functions you can use to manipulate data in a Pandas DataFrame? Can you give an example of when you might use one of these functions?"
   ]
  },
  {
   "cell_type": "markdown",
   "id": "9eafb7f0",
   "metadata": {},
   "source": [
    "#### Ans:\n",
    "\n",
    "Some common functions we can use to manipulate data in a Pandas DataFrame as follow:\n",
    "\n",
    "- head() and tail(): These functions allow you to view the top or bottom n rows of the DataFrame. For example, df.head(10) would return the first 10 rows of the DataFrame.\n",
    "\n",
    "- info(): This function provides information about the DataFrame, such as the data types of each column and the number of non-null values. For example, df.info() would provide information about the DataFrame df.\n",
    "\n",
    "- describe(): This function provides summary statistics for each numeric column in the DataFrame, including the mean, standard deviation, and quartiles. For example, df.describe() would provide summary statistics for the DataFrame df.\n",
    "\n",
    "- drop(): This function allows you to drop a specified row or column from the DataFrame. For example, df.drop('column_name', axis=1) would drop the column specified by 'column_name' from the DataFrame df.\n",
    "\n",
    "- groupby(): This function allows you to group the data in the DataFrame by one or more columns and perform aggregate functions on the groups. For example, df.groupby('column_name').mean() would group the data by the values in 'column_name' and calculate the mean of each group."
   ]
  },
  {
   "cell_type": "markdown",
   "id": "90c614b7",
   "metadata": {},
   "source": [
    "#### Q6. Which of the following is mutable in nature Series, DataFrame, Panel?"
   ]
  },
  {
   "cell_type": "markdown",
   "id": "1105a407",
   "metadata": {},
   "source": [
    "#### Ans: \n",
    "In Pandas, both Series and DataFrame are mutable in nature, meaning their values can be changed after they are created. However, Panel is deprecated in the latest version of Pandas and is replaced by the more versatile multi-dimensional DataFrame, which is also mutable."
   ]
  },
  {
   "cell_type": "markdown",
   "id": "733fe9a0",
   "metadata": {},
   "source": [
    "##### Q7. Create a DataFrame using multiple Series. Explain with an example."
   ]
  },
  {
   "cell_type": "code",
   "execution_count": null,
   "id": "2a69a8d8",
   "metadata": {},
   "outputs": [],
   "source": []
  }
 ],
 "metadata": {
  "kernelspec": {
   "display_name": "Python 3 (ipykernel)",
   "language": "python",
   "name": "python3"
  },
  "language_info": {
   "codemirror_mode": {
    "name": "ipython",
    "version": 3
   },
   "file_extension": ".py",
   "mimetype": "text/x-python",
   "name": "python",
   "nbconvert_exporter": "python",
   "pygments_lexer": "ipython3",
   "version": "3.10.9"
  }
 },
 "nbformat": 4,
 "nbformat_minor": 5
}
