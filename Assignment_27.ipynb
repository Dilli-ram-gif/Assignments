{
 "cells": [
  {
   "cell_type": "markdown",
   "id": "05e9ed53",
   "metadata": {},
   "source": [
    "### March 8, Assignment, Statistics advance - I"
   ]
  },
  {
   "cell_type": "markdown",
   "id": "1b22300a",
   "metadata": {},
   "source": [
    "##### Q1. What is the Probability density function?"
   ]
  },
  {
   "cell_type": "markdown",
   "id": "79da23bd",
   "metadata": {},
   "source": [
    "Ans:\n",
    "A probability density function (PDF) is a function that describes the relative likelihood of a continuous random variable taking on a particular value. It is used in probability theory to describe the distribution of a continuous random variable"
   ]
  },
  {
   "cell_type": "markdown",
   "id": "94b6142f",
   "metadata": {},
   "source": [
    "##### Q2. What are the types of Probability distribution function?"
   ]
  },
  {
   "cell_type": "markdown",
   "id": "626f4dd6",
   "metadata": {},
   "source": [
    "Ans: There are two types of probability distribution functions:\n",
    "- Discrete distribution function\n",
    "- Continuous distribution function"
   ]
  },
  {
   "cell_type": "markdown",
   "id": "8d4879f5",
   "metadata": {},
   "source": [
    "#### Q3. Write a Python function to calculate the probability density function of a normal distribution with given mean and standard deviation at a given point."
   ]
  },
  {
   "cell_type": "code",
   "execution_count": 2,
   "id": "b56c2440",
   "metadata": {},
   "outputs": [],
   "source": [
    "import math\n",
    "\n",
    "def normal_pdf(x, mu, sigma):\n",
    "    \n",
    "    return (1.0 / (sigma * math.sqrt(2 * math.pi))) * math.exp(-0.5 * ((x - mu) / sigma) ** 2)\n"
   ]
  },
  {
   "cell_type": "code",
   "execution_count": 3,
   "id": "41d91105",
   "metadata": {},
   "outputs": [
    {
     "data": {
      "text/plain": [
       "0.12951759566589174"
      ]
     },
     "execution_count": 3,
     "metadata": {},
     "output_type": "execute_result"
    }
   ],
   "source": [
    "normal_pdf(1.5, 0, 1)"
   ]
  },
  {
   "cell_type": "markdown",
   "id": "3af6e053",
   "metadata": {},
   "source": [
    "##### Q4. What are the properties of Binomial distribution? Give two examples of events where binomial distribution can be applied."
   ]
  },
  {
   "cell_type": "markdown",
   "id": "2f83fb35",
   "metadata": {},
   "source": [
    "Ans: The binomial distribution has the following properties:\n",
    "\n",
    "1. The distribution models the number of successes in a fixed number of independent trials.\n",
    "2. Each trial has only two possible outcomes.\n",
    "3. The probability of success is the same for each trial.\n",
    "4. The trials are independent.\n",
    "5. The random variable representing the number of successes in the trials has a discrete probability distribution.\n",
    "\n",
    "Two examples of events where the binomial distribution can be applied are:\n",
    "\n",
    "1. Tossing a coin: Suppose we toss a fair coin (with equal probability of getting heads or tails) 10 times. We can model the number of times we get heads (or tails) using a binomial distribution with n=10 and p=0.5 (the probability of success, i.e., getting heads, is 0.5). The random variable representing the number of heads in 10 tosses of a fair coin follows a binomial distribution.\n",
    "\n",
    "2. Manufacturing defects: A manufacturer produces 1000 components, and each component has a 5% chance of being defective. We can model the number of defective components using a binomial distribution with n=1000 and p=0.05. The random variable representing the number of defective components in a batch of 1000 components follows a binomial distribution."
   ]
  },
  {
   "cell_type": "markdown",
   "id": "7b524de4",
   "metadata": {},
   "source": [
    "#### Q5. Generate a random sample of size 1000 from a binomial distribution with probability of success 0.4 and plot a histogram of the results using matplotlib."
   ]
  },
  {
   "cell_type": "code",
   "execution_count": 4,
   "id": "0c0ac597",
   "metadata": {},
   "outputs": [
    {
     "data": {
      "image/png": "[encoded data removed]",
      "text/plain": [
       "<Figure size 640x480 with 1 Axes>"
      ]
     },
     "metadata": {},
     "output_type": "display_data"
    }
   ],
   "source": [
    "import numpy as np\n",
    "import matplotlib.pyplot as plt\n",
    "\n",
    "# Generate a random sample of size 1000 from a binomial distribution with n=1 and p=0.4\n",
    "n = 1\n",
    "p = 0.4\n",
    "sample = np.random.binomial(n, p, size=1000)\n",
    "\n",
    "# Plot a histogram of the sample using matplotlib\n",
    "plt.hist(sample, bins=range(n+2), align='left', rwidth=0.8)\n",
    "plt.xlabel('Number of Successes')\n",
    "plt.ylabel('Frequency')\n",
    "plt.title('Histogram of Random Sample from Binomial Distribution')\n",
    "plt.show()\n"
   ]
  },
  {
   "cell_type": "markdown",
   "id": "ff756b37",
   "metadata": {},
   "source": [
    "##### Q6. Write a Python function to calculate the cumulative distribution function of a Poisson distribution with given mean at a given point."
   ]
  },
  {
   "cell_type": "code",
   "execution_count": 7,
   "id": "c7956f97",
   "metadata": {},
   "outputs": [],
   "source": [
    "#Ans: \n",
    "import math\n",
    "\n",
    "def poisson_cdf(mean, k):\n",
    "    \n",
    "    cdf = 0.0\n",
    "    for i in range(k+1):\n",
    "        cdf += math.exp(-mean) * (mean ** i) / math.factorial(i)\n",
    "        \n",
    "    return cdf\n"
   ]
  },
  {
   "cell_type": "code",
   "execution_count": 8,
   "id": "c6869080",
   "metadata": {},
   "outputs": [
    {
     "data": {
      "text/plain": [
       "0.7575761331330659"
      ]
     },
     "execution_count": 8,
     "metadata": {},
     "output_type": "execute_result"
    }
   ],
   "source": [
    "poisson_cdf(2.5, 3)"
   ]
  },
  {
   "cell_type": "markdown",
   "id": "b1676af1",
   "metadata": {},
   "source": [
    "#### Q7. How Binomial distribution different from Poisson distribution?"
   ]
  },
  {
   "cell_type": "markdown",
   "id": "9e05bcb6",
   "metadata": {},
   "source": [
    "#### Ans:\n",
    "Binomial and Poisson distributions are two types of discrete probability distributions, but they are different in several ways:\n",
    "\n",
    "- Number of trials: In a binomial distribution, the number of trials is fixed and finite, whereas in a Poisson distribution, the number of trials is infinite.\n",
    "\n",
    "- Nature of events: In a binomial distribution, the events are independent and can only have two possible outcomes (e.g. success or failure), whereas in a Poisson distribution, the events are independent but can have any number of outcomes.\n",
    "\n",
    "- Probability of success: In a binomial distribution, the probability of success is constant for each trial, whereas in a Poisson distribution, the probability of success can vary based on the mean rate of occurrence.\n",
    "\n",
    "- Relationship between mean and variance: In a binomial distribution, the variance is equal to the product of the number of trials and the probability of success, whereas in a Poisson distribution, the variance is equal to the mean.\n",
    "\n",
    "- Shape of distribution: A binomial distribution is generally more symmetric than a Poisson distribution, which tends to be skewed to the right."
   ]
  },
  {
   "cell_type": "markdown",
   "id": "b7881ec8",
   "metadata": {},
   "source": [
    "#### Q8. Generate a random sample of size 1000 from a Poisson distribution with mean 5 and calculate the sample mean and variance."
   ]
  },
  {
   "cell_type": "code",
   "execution_count": 9,
   "id": "d5beb90b",
   "metadata": {},
   "outputs": [
    {
     "name": "stdout",
     "output_type": "stream",
     "text": [
      "Sample mean: 5.112\n",
      "Sample variance: 5.387456\n"
     ]
    }
   ],
   "source": [
    "import numpy as np\n",
    "\n",
    "# Generate random sample from Poisson distribution\n",
    "sample = np.random.poisson(5, size=1000)\n",
    "\n",
    "# Calculate sample mean and variance\n",
    "sample_mean = np.mean(sample)\n",
    "sample_variance = np.var(sample)\n",
    "\n",
    "print(\"Sample mean:\", sample_mean)\n",
    "print(\"Sample variance:\", sample_variance)\n"
   ]
  },
  {
   "cell_type": "markdown",
   "id": "b2c5b39d",
   "metadata": {},
   "source": [
    "#### Q9. How mean and variance are related in Binomial distribution and Poisson distribution?"
   ]
  },
  {
   "cell_type": "markdown",
   "id": "24fb6190",
   "metadata": {},
   "source": [
    "##### Ans: \n",
    "In a binomial distribution, the mean is equal to the product of the number of trials and the probability of success, and the variance is equal to the product of the number of trials, the probability of success, and the probability of failure. That is, if X is a binomial random variable with parameters n and p, then:\n",
    "\n",
    "- Mean(X) = n * p\n",
    "- Variance(X) = n * p * (1 - p)\n",
    "\n",
    "In a Poisson distribution, the mean is equal to the variance. That is, if X is a Poisson random variable with parameter λ, then:\n",
    "\n",
    "- Mean(X) = Variance(X) = λ\n",
    "\n",
    "Therefore, the relationship between mean and variance is different for binomial and Poisson distributions. In binomial distribution, the variance is dependent on the probability of failure, which can increase as the number of trials increases, while in Poisson distribution, the variance is equal to the mean, which does not depend on any other factor."
   ]
  },
  {
   "cell_type": "markdown",
   "id": "080fb4e1",
   "metadata": {},
   "source": [
    "#### Q10. In normal distribution with respect to mean position, where does the least frequent data appear?"
   ]
  },
  {
   "cell_type": "markdown",
   "id": "ddcc36cc",
   "metadata": {},
   "source": [
    "#### Ans:\n",
    "In a normal distribution, the least frequent data appears in the tails or the extreme ends of the distribution."
   ]
  }
 ],
 "metadata": {
  "kernelspec": {
   "display_name": "Python 3 (ipykernel)",
   "language": "python",
   "name": "python3"
  },
  "language_info": {
   "codemirror_mode": {
    "name": "ipython",
    "version": 3
   },
   "file_extension": ".py",
   "mimetype": "text/x-python",
   "name": "python",
   "nbconvert_exporter": "python",
   "pygments_lexer": "ipython3",
   "version": "3.10.9"
  }
 },
 "nbformat": 4,
 "nbformat_minor": 5
}
