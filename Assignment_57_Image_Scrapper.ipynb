{
 "cells": [
  {
   "cell_type": "markdown",
   "id": "a0b844bb",
   "metadata": {},
   "source": [
    "### Feb 22, Image Scrapping Assignment"
   ]
  },
  {
   "cell_type": "markdown",
   "id": "85296342",
   "metadata": {},
   "source": [
    "#### Go to this given URL and solve the following questions\n",
    "##### URL: https://www.youtube.com/@PW-Foundation/videos\n",
    "##### Q1. Write a python program to extract the video URL of the first five videos.\n",
    "##### Q2. Write a python program to extract the URL of the video thumbnails of the first five videos.\n",
    "##### Q3. Write a python program to extract the title of the first five videos.\n",
    "##### Q4. Write a python program to extract the number of views of the first five videos.\n",
    "##### Q5. Write a python program to extract the time of posting of video for the first five videos.\n",
    "\n",
    "#### Note: Save all the data scraped in the above questions in a CSV file."
   ]
  },
  {
   "cell_type": "code",
   "execution_count": 98,
   "id": "a248a878",
   "metadata": {},
   "outputs": [],
   "source": [
    "from bs4 import BeautifulSoup\n",
    "import logging\n",
    "import http\n",
    "import requests"
   ]
  },
  {
   "cell_type": "code",
   "execution_count": 99,
   "id": "b78ca60e",
   "metadata": {},
   "outputs": [],
   "source": [
    "response = requests.get(\"https://www.youtube.com/@PW-Foundation/videos\")"
   ]
  },
  {
   "cell_type": "code",
   "execution_count": 100,
   "id": "89f6454e",
   "metadata": {},
   "outputs": [],
   "source": [
    "# response.text"
   ]
  },
  {
   "cell_type": "code",
   "execution_count": 101,
   "id": "94dba3af",
   "metadata": {},
   "outputs": [],
   "source": [
    "pw_page = response.text"
   ]
  },
  {
   "cell_type": "code",
   "execution_count": 102,
   "id": "9b13dd38",
   "metadata": {},
   "outputs": [],
   "source": [
    "# pw_page"
   ]
  },
  {
   "cell_type": "code",
   "execution_count": 103,
   "id": "0337820f",
   "metadata": {},
   "outputs": [],
   "source": [
    "soup = BeautifulSoup(pw_page, 'html.parser')"
   ]
  },
  {
   "cell_type": "code",
   "execution_count": 104,
   "id": "59f8ca79",
   "metadata": {},
   "outputs": [],
   "source": [
    "# soup.prettify()"
   ]
  },
  {
   "cell_type": "code",
   "execution_count": 105,
   "id": "d1b8d0cd",
   "metadata": {},
   "outputs": [],
   "source": [
    "# soup"
   ]
  },
  {
   "cell_type": "code",
   "execution_count": 115,
   "id": "7740fec8",
   "metadata": {},
   "outputs": [],
   "source": [
    "link = soup.find('div', class_=\"yt-simple-endpoint inline-block style-scope ytd-thumbnail\")"
   ]
  },
  {
   "cell_type": "code",
   "execution_count": 116,
   "id": "28105276",
   "metadata": {},
   "outputs": [
    {
     "name": "stdout",
     "output_type": "stream",
     "text": [
      "None\n"
     ]
    }
   ],
   "source": [
    "print(link)"
   ]
  },
  {
   "cell_type": "code",
   "execution_count": null,
   "id": "867b55c1",
   "metadata": {},
   "outputs": [],
   "source": []
  },
  {
   "cell_type": "code",
   "execution_count": 95,
   "id": "1a185af9",
   "metadata": {},
   "outputs": [
    {
     "data": {
      "text/plain": [
       "[<a href=\"https://www.youtube.com/about/\" slot=\"guide-links-primary\" style=\"display: none;\">बारेमाhref</a>,\n",
       " <a href=\"https://www.youtube.com/about/press/\" slot=\"guide-links-primary\" style=\"display: none;\">प्रेसhref</a>,\n",
       " <a href=\"https://www.youtube.com/about/copyright/\" slot=\"guide-links-primary\" style=\"display: none;\">प्रतिलिपि अधिकारhref</a>,\n",
       " <a href=\"/t/contact_us/\" slot=\"guide-links-primary\" style=\"display: none;\">हामीलाई सम्पर्क गर्नुहोस्</a>,\n",
       " <a href=\"https://www.youtube.com/creators/\" slot=\"guide-links-primary\" style=\"display: none;\">निर्माताहरू</a>,\n",
       " <a href=\"https://www.youtube.com/ads/\" slot=\"guide-links-primary\" style=\"display: none;\">विज्ञापन गर्नुहोस्</a>,\n",
       " <a href=\"https://developers.google.com/youtube\" slot=\"guide-links-primary\" style=\"display: none;\">विकासकर्ताहरू</a>,\n",
       " <a href=\"/t/terms\" slot=\"guide-links-secondary\" style=\"display: none;\">सर्तहरू</a>,\n",
       " <a href=\"/t/privacy\" slot=\"guide-links-secondary\" style=\"display: none;\">गोपनीयता</a>]"
      ]
     },
     "execution_count": 95,
     "metadata": {},
     "output_type": "execute_result"
    }
   ],
   "source": [
    "soup.find_all('a', class='')[]"
   ]
  },
  {
   "cell_type": "code",
   "execution_count": 89,
   "id": "bd850478",
   "metadata": {},
   "outputs": [],
   "source": [
    "links = []\n",
    "for link in soup.find_all('a', href = True)[:5]:\n",
    "    link.append('href')\n",
    "for link in links:\n",
    "    print(link)"
   ]
  },
  {
   "cell_type": "code",
   "execution_count": null,
   "id": "174c547c",
   "metadata": {},
   "outputs": [],
   "source": []
  },
  {
   "cell_type": "code",
   "execution_count": null,
   "id": "349b17b4",
   "metadata": {},
   "outputs": [],
   "source": []
  },
  {
   "cell_type": "code",
   "execution_count": null,
   "id": "dc4c55ec",
   "metadata": {},
   "outputs": [],
   "source": []
  },
  {
   "cell_type": "code",
   "execution_count": null,
   "id": "5bcaf5b4",
   "metadata": {},
   "outputs": [],
   "source": []
  },
  {
   "cell_type": "code",
   "execution_count": null,
   "id": "1bcd7c7e",
   "metadata": {},
   "outputs": [],
   "source": []
  },
  {
   "cell_type": "code",
   "execution_count": 72,
   "id": "9885206c",
   "metadata": {},
   "outputs": [],
   "source": [
    "video_elements = soup.find_all(\"a\", {\"class\": \"yt-simple-endpoint inline-block style-scope ytd-thumbnail\"})[:5]"
   ]
  },
  {
   "cell_type": "code",
   "execution_count": 74,
   "id": "a2826371",
   "metadata": {},
   "outputs": [
    {
     "name": "stdout",
     "output_type": "stream",
     "text": [
      "Video URLs:\n"
     ]
    }
   ],
   "source": [
    "video_urls = [\"https://www.youtube.com\" + element[\"href\"] for element in video_elements]\n",
    "print(\"Video URLs:\")\n",
    "for video_url in video_urls:\n",
    "    print(video_url)"
   ]
  },
  {
   "cell_type": "code",
   "execution_count": 59,
   "id": "80a263f8",
   "metadata": {},
   "outputs": [],
   "source": [
    "first_video = soup.find_all('a', class_ = \"yt-simple-endpoint inline-block style-scope ytd-thumbnail\")"
   ]
  },
  {
   "cell_type": "code",
   "execution_count": null,
   "id": "94e2b066",
   "metadata": {},
   "outputs": [],
   "source": []
  },
  {
   "cell_type": "code",
   "execution_count": null,
   "id": "c8602a41",
   "metadata": {},
   "outputs": [],
   "source": [
    "import requests\n",
    "from bs4 import BeautifulSoup\n",
    "\n",
    "# Send an HTTP GET request to the YouTube channel page\n",
    "url = \"https://www.youtube.com/@PW-Foundation/videos\"\n",
    "response = requests.get(url)\n",
    "\n",
    "# Create a BeautifulSoup object to parse the HTML content\n",
    "soup = BeautifulSoup(response.content, \"html.parser\")\n",
    "\n",
    "# Extract information from the first five videos\n",
    "video_elements = soup.find_all(\"a\", {\"class\": \"yt-simple-endpoint style-scope ytd-grid-video-renderer\"})[:5]\n",
    "\n",
    "# Q1: Extract the video URLs of the first five videos\n",
    "video_urls = [f\"https://www.youtube.com{element['href']}\" for element in video_elements]\n",
    "print(\"Video URLs:\")\n",
    "for video_url in video_urls:\n",
    "    print(video_url)\n",
    "\n",
    "# Q2: Extract the URLs of the video thumbnails of the first five videos\n",
    "thumbnail_urls = [element.find(\"img\")[\"src\"] for element in video_elements]\n",
    "print(\"\\nThumbnail URLs:\")\n",
    "for thumbnail_url in thumbnail_urls:\n",
    "    print(thumbnail_url)\n",
    "\n",
    "# Q3: Extract the titles of the first five videos\n",
    "video_titles = [element[\"title\"] for element in video_elements]\n",
    "print(\"\\nVideo Titles:\")\n",
    "for video_title in video_titles:\n",
    "    print(video_title)\n",
    "\n",
    "# Q4: Extract the number of views of the first five videos\n",
    "view_counts = [element.find(\"span\", {\"class\": \"style-scope ytd-grid-video-renderer\"}).get_text() for element in video_elements]\n",
    "print(\"\\nView Counts:\")\n",
    "for view_count in view_counts:\n",
    "    print(view_count)\n",
    "\n",
    "# Q5: Extract the time of posting of videos for the first five videos\n",
    "upload_times = [element.find(\"span\", {\"class\": \"style-scope ytd-grid-video-renderer\"}).get_text() for element in video_elements]\n",
    "print(\"\\nUpload Times:\")\n",
    "for upload_time in upload_times:\n",
    "    print(upload_time)\n"
   ]
  },
  {
   "cell_type": "code",
   "execution_count": null,
   "id": "7971f021",
   "metadata": {},
   "outputs": [],
   "source": []
  },
  {
   "cell_type": "code",
   "execution_count": null,
   "id": "656b8af8",
   "metadata": {},
   "outputs": [],
   "source": []
  },
  {
   "cell_type": "code",
   "execution_count": null,
   "id": "d54e7975",
   "metadata": {},
   "outputs": [],
   "source": []
  },
  {
   "cell_type": "code",
   "execution_count": null,
   "id": "9be70097",
   "metadata": {},
   "outputs": [],
   "source": []
  },
  {
   "cell_type": "code",
   "execution_count": null,
   "id": "f366fcf4",
   "metadata": {},
   "outputs": [],
   "source": []
  },
  {
   "cell_type": "code",
   "execution_count": null,
   "id": "38f9e56f",
   "metadata": {},
   "outputs": [],
   "source": []
  },
  {
   "cell_type": "code",
   "execution_count": null,
   "id": "9b9f7b44",
   "metadata": {},
   "outputs": [],
   "source": []
  },
  {
   "cell_type": "code",
   "execution_count": null,
   "id": "504fbe8e",
   "metadata": {},
   "outputs": [],
   "source": []
  },
  {
   "cell_type": "code",
   "execution_count": null,
   "id": "480bf40f",
   "metadata": {},
   "outputs": [],
   "source": []
  },
  {
   "cell_type": "code",
   "execution_count": null,
   "id": "605ec949",
   "metadata": {},
   "outputs": [],
   "source": []
  },
  {
   "cell_type": "code",
   "execution_count": null,
   "id": "d3011dce",
   "metadata": {},
   "outputs": [],
   "source": []
  },
  {
   "cell_type": "code",
   "execution_count": null,
   "id": "a602f4ae",
   "metadata": {},
   "outputs": [],
   "source": []
  },
  {
   "cell_type": "code",
   "execution_count": null,
   "id": "09ca5c65",
   "metadata": {},
   "outputs": [],
   "source": []
  },
  {
   "cell_type": "code",
   "execution_count": null,
   "id": "08e541b8",
   "metadata": {},
   "outputs": [],
   "source": []
  },
  {
   "cell_type": "code",
   "execution_count": 35,
   "id": "2e96b282",
   "metadata": {},
   "outputs": [],
   "source": [
    "image_class = soup.select('yt-core-image--fill-parent-height yt-core-image--fill-parent-width yt-core-image yt-core-image--content-mode-scale-aspect-fill yt-core-image--loaded')"
   ]
  },
  {
   "cell_type": "code",
   "execution_count": 39,
   "id": "479b8c17",
   "metadata": {},
   "outputs": [
    {
     "data": {
      "text/plain": [
       "[]"
      ]
     },
     "execution_count": 39,
     "metadata": {},
     "output_type": "execute_result"
    }
   ],
   "source": [
    "image_class"
   ]
  },
  {
   "cell_type": "code",
   "execution_count": 42,
   "id": "9190da22",
   "metadata": {},
   "outputs": [],
   "source": [
    "image_url = \"https://www.youtube.com/@PW-Foundation/videos\" + \"https://i.ytimg.com/vi/Fks4dVnTb5M/hqdefault.jpg?sqp=-oaymwEjCNACELwBSFryq4qpAxUIARUAAAAAGAElAADIQj0AgKJDeAE=&rs=AOn4CLCHXf5XebQJcUioL-AX9g1ZXcizVQ\""
   ]
  },
  {
   "cell_type": "code",
   "execution_count": 43,
   "id": "686c7a0d",
   "metadata": {},
   "outputs": [
    {
     "data": {
      "text/plain": [
       "'https://www.youtube.com/@PW-Foundation/videoshttps://i.ytimg.com/vi/Fks4dVnTb5M/hqdefault.jpg?sqp=-oaymwEjCNACELwBSFryq4qpAxUIARUAAAAAGAElAADIQj0AgKJDeAE=&rs=AOn4CLCHXf5XebQJcUioL-AX9g1ZXcizVQ'"
      ]
     },
     "execution_count": 43,
     "metadata": {},
     "output_type": "execute_result"
    }
   ],
   "source": [
    "image_url"
   ]
  },
  {
   "cell_type": "code",
   "execution_count": null,
   "id": "ec161d44",
   "metadata": {},
   "outputs": [],
   "source": []
  },
  {
   "cell_type": "code",
   "execution_count": null,
   "id": "d91fed0c",
   "metadata": {},
   "outputs": [],
   "source": []
  },
  {
   "cell_type": "code",
   "execution_count": null,
   "id": "c982d0c2",
   "metadata": {},
   "outputs": [],
   "source": []
  },
  {
   "cell_type": "code",
   "execution_count": null,
   "id": "06f9ac35",
   "metadata": {},
   "outputs": [],
   "source": []
  },
  {
   "cell_type": "code",
   "execution_count": null,
   "id": "e0a2c359",
   "metadata": {},
   "outputs": [],
   "source": [
    "soup.select('import requests\n",
    "from bs4 import BeautifulSoup\n",
    "\n",
    "# Send an HTTP GET request to the YouTube channel page\n",
    "url = \"https://www.youtube.com/@PW-Foundation/videos\"\n",
    "response = requests.get(url)\n",
    "\n",
    "# Create a BeautifulSoup object to parse the HTML content\n",
    "soup = BeautifulSoup(response.content, \"html.parser\")\n",
    "\n",
    "# Extract information from the first five videos\n",
    "video_elements = soup.find_all(\"a\", {\"class\": \"yt-simple-endpoint style-scope ytd-grid-video-renderer\"})[:5]\n",
    "\n",
    "# Q1: Extract the video URLs of the first five videos\n",
    "video_urls = [f\"https://www.youtube.com{element['href']}\" for element in video_elements]\n",
    "print(\"Video URLs:\")\n",
    "for video_url in video_urls:\n",
    "    print(video_url)\n",
    "\n",
    "# Q2: Extract the URLs of the video thumbnails of the first five videos\n",
    "thumbnail_urls = [element.find(\"img\")[\"src\"] for element in video_elements]\n",
    "print(\"\\nThumbnail URLs:\")\n",
    "for thumbnail_url in thumbnail_urls:\n",
    "    print(thumbnail_url)\n",
    "\n",
    "# Q3: Extract the titles of the first five videos\n",
    "video_titles = [element[\"title\"] for element in video_elements]\n",
    "print(\"\\nVideo Titles:\")\n",
    "for video_title in video_titles:\n",
    "    print(video_title)\n",
    "\n",
    "# Q4: Extract the number of views of the first five videos\n",
    "view_counts = [element.find(\"span\", {\"class\": \"style-scope ytd-grid-video-renderer\"}).get_text() for element in video_elements]\n",
    "print(\"\\nView Counts:\")\n",
    "for view_count in view_counts:\n",
    "    print(view_count)\n",
    "\n",
    "# Q5: Extract the time of posting of videos for the first five videos\n",
    "upload_times = [element.find(\"span\", {\"class\": \"style-scope ytd-grid-video-renderer\"}).get_text() for element in video_elements]\n",
    "print(\"\\nUpload Times:\")\n",
    "for upload_time in upload_times:\n",
    "    print(upload_time)\n",
    "')"
   ]
  },
  {
   "cell_type": "code",
   "execution_count": null,
   "id": "2aff60fa",
   "metadata": {},
   "outputs": [],
   "source": []
  },
  {
   "cell_type": "code",
   "execution_count": null,
   "id": "af8c50d6",
   "metadata": {},
   "outputs": [],
   "source": []
  },
  {
   "cell_type": "code",
   "execution_count": null,
   "id": "f3d51c41",
   "metadata": {},
   "outputs": [],
   "source": []
  },
  {
   "cell_type": "code",
   "execution_count": null,
   "id": "b0515a76",
   "metadata": {},
   "outputs": [],
   "source": []
  },
  {
   "cell_type": "code",
   "execution_count": 23,
   "id": "baf896f8",
   "metadata": {},
   "outputs": [],
   "source": [
    "thumbnail = soup.find(name = \"img\", class_ = 'yt-core-image--fill-parent-height yt-core-image--fill-parent-width yt-core-image yt-core-image--content-mode-scale-aspect-fill yt-core-image--loaded')"
   ]
  },
  {
   "cell_type": "code",
   "execution_count": 25,
   "id": "fb100593",
   "metadata": {},
   "outputs": [
    {
     "ename": "NameError",
     "evalue": "name 'thumbnail' is not defined",
     "output_type": "error",
     "traceback": [
      "\u001b[1;31m---------------------------------------------------------------------------\u001b[0m",
      "\u001b[1;31mNameError\u001b[0m                                 Traceback (most recent call last)",
      "Cell \u001b[1;32mIn[25], line 1\u001b[0m\n\u001b[1;32m----> 1\u001b[0m \u001b[43mthumbnail\u001b[49m\u001b[38;5;241m.\u001b[39mget(\u001b[38;5;124m'\u001b[39m\u001b[38;5;124mhref\u001b[39m\u001b[38;5;124m'\u001b[39m)\n",
      "\u001b[1;31mNameError\u001b[0m: name 'thumbnail' is not defined"
     ]
    }
   ],
   "source": [
    "thumbnail.get('href')"
   ]
  },
  {
   "cell_type": "code",
   "execution_count": 33,
   "id": "a9d5871a",
   "metadata": {},
   "outputs": [
    {
     "name": "stdout",
     "output_type": "stream",
     "text": [
      "Video URLs:\n",
      "\n",
      "Thumbnail URLs:\n",
      "\n",
      "Video Titles:\n",
      "\n",
      "View Counts:\n",
      "\n",
      "Upload Times:\n"
     ]
    }
   ],
   "source": [
    "import requests\n",
    "from bs4 import BeautifulSoup\n",
    "\n",
    "# Send an HTTP GET request to the YouTube channel page\n",
    "url = \"https://www.youtube.com/@PW-Foundation/videos\"\n",
    "response = requests.get(url)\n",
    "\n",
    "# Create a BeautifulSoup object to parse the HTML content\n",
    "soup = BeautifulSoup(response.content, \"html.parser\")\n",
    "\n",
    "# Extract information from the first five videos\n",
    "video_elements = soup.find_all(\"a\", {\"class\": \"yt-simple-endpoint style-scope ytd-grid-video-renderer\"})[:5]\n",
    "\n",
    "# Q1: Extract the video URLs of the first five videos\n",
    "video_urls = [f\"https://www.youtube.com{element['href']}\" for element in video_elements]\n",
    "print(\"Video URLs:\")\n",
    "for video_url in video_urls:\n",
    "    print(video_url)\n",
    "\n",
    "# Q2: Extract the URLs of the video thumbnails of the first five videos\n",
    "thumbnail_urls = [element.find(\"img\")[\"src\"] for element in video_elements]\n",
    "print(\"\\nThumbnail URLs:\")\n",
    "for thumbnail_url in thumbnail_urls:\n",
    "    print(thumbnail_url)\n",
    "\n",
    "# Q3: Extract the titles of the first five videos\n",
    "video_titles = [element[\"title\"] for element in video_elements]\n",
    "print(\"\\nVideo Titles:\")\n",
    "for video_title in video_titles:\n",
    "    print(video_title)\n",
    "\n",
    "# Q4: Extract the number of views of the first five videos\n",
    "view_counts = [element.find(\"span\", {\"class\": \"style-scope ytd-grid-video-renderer\"}).get_text() for element in video_elements]\n",
    "print(\"\\nView Counts:\")\n",
    "for view_count in view_counts:\n",
    "    print(view_count)\n",
    "\n",
    "# Q5: Extract the time of posting of videos for the first five videos\n",
    "upload_times = [element.find(\"span\", {\"class\": \"style-scope ytd-grid-video-renderer\"}).get_text() for element in video_elements]\n",
    "print(\"\\nUpload Times:\")\n",
    "for upload_time in upload_times:\n",
    "    print(upload_time)\n"
   ]
  },
  {
   "cell_type": "code",
   "execution_count": null,
   "id": "5014971f",
   "metadata": {},
   "outputs": [],
   "source": []
  },
  {
   "cell_type": "code",
   "execution_count": null,
   "id": "a5f34074",
   "metadata": {},
   "outputs": [],
   "source": []
  },
  {
   "cell_type": "code",
   "execution_count": null,
   "id": "5768d7db",
   "metadata": {},
   "outputs": [],
   "source": []
  },
  {
   "cell_type": "code",
   "execution_count": null,
   "id": "714ce742",
   "metadata": {},
   "outputs": [],
   "source": []
  },
  {
   "cell_type": "code",
   "execution_count": 117,
   "id": "06334ee3",
   "metadata": {},
   "outputs": [
    {
     "data": {
      "text/plain": [
       "[0, 1, 2, 3, 4, 5, 6, 7, 8]"
      ]
     },
     "execution_count": 117,
     "metadata": {},
     "output_type": "execute_result"
    }
   ],
   "source": [
    "l = list(range(9))\n",
    "\n",
    "l"
   ]
  },
  {
   "cell_type": "code",
   "execution_count": 118,
   "id": "b98db779",
   "metadata": {},
   "outputs": [
    {
     "ename": "NameError",
     "evalue": "name 'include' is not defined",
     "output_type": "error",
     "traceback": [
      "\u001b[1;31m---------------------------------------------------------------------------\u001b[0m",
      "\u001b[1;31mNameError\u001b[0m                                 Traceback (most recent call last)",
      "Cell \u001b[1;32mIn[118], line 1\u001b[0m\n\u001b[1;32m----> 1\u001b[0m l \u001b[38;5;241m=\u001b[39m \u001b[38;5;28mlist\u001b[39m(\u001b[38;5;28mfilter\u001b[39m(\u001b[43minclude\u001b[49m, l))\n",
      "\u001b[1;31mNameError\u001b[0m: name 'include' is not defined"
     ]
    }
   ],
   "source": [
    "l = list(filter(include, l))"
   ]
  },
  {
   "cell_type": "code",
   "execution_count": null,
   "id": "7823bf0a",
   "metadata": {},
   "outputs": [],
   "source": []
  }
 ],
 "metadata": {
  "kernelspec": {
   "display_name": "Python 3 (ipykernel)",
   "language": "python",
   "name": "python3"
  },
  "language_info": {
   "codemirror_mode": {
    "name": "ipython",
    "version": 3
   },
   "file_extension": ".py",
   "mimetype": "text/x-python",
   "name": "python",
   "nbconvert_exporter": "python",
   "pygments_lexer": "ipython3",
   "version": "3.10.9"
  }
 },
 "nbformat": 4,
 "nbformat_minor": 5
}
