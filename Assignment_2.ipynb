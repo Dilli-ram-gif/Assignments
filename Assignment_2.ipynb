{
 "cells": [
  {
   "cell_type": "markdown",
   "id": "fbc5b6b9",
   "metadata": {},
   "source": [
    "### 30th Jan Python Assignment (Assignment 2)"
   ]
  },
  {
   "cell_type": "markdown",
   "id": "54c6d3a9",
   "metadata": {},
   "source": [
    "### 1.  Program to accept percentage from the user and display the grade according to the given criteria:"
   ]
  },
  {
   "cell_type": "code",
   "execution_count": 12,
   "id": "7c3e8c10",
   "metadata": {},
   "outputs": [
    {
     "name": "stdout",
     "output_type": "stream",
     "text": [
      "What is your percentage?91\n",
      "You got A grade.\n"
     ]
    }
   ],
   "source": [
    "percentage = int(input(\"What is your percentage?\"))\n",
    "\n",
    "if percentage > 90:\n",
    "    print(\"You got A grade.\")\n",
    "elif percentage >80 and percentage <= 90:\n",
    "    print(\"You got B grade.\")\n",
    "elif percentage >= 60 and percentage <= 80:\n",
    "    print(\"You got C grade.\")\n",
    "else:\n",
    "    print(\"You got D grade.\")"
   ]
  },
  {
   "cell_type": "markdown",
   "id": "6f27cc27",
   "metadata": {},
   "source": [
    "### 2. Program to accept the cost of a bike and display the road tax to be paid according to the given criteria."
   ]
  },
  {
   "cell_type": "code",
   "execution_count": 16,
   "id": "d796b908",
   "metadata": {},
   "outputs": [
    {
     "name": "stdout",
     "output_type": "stream",
     "text": [
      "Enter the cost price of bike: 1000001\n",
      "You have to pay 15% tax.\n"
     ]
    }
   ],
   "source": [
    "cost_price = int(input(\"Enter the cost price of bike: \"))\n",
    "\n",
    "\n",
    "if cost_price > 100000:\n",
    "    print(\"You have to pay 15% tax.\")\n",
    "elif cost_price > 50000 and cost_price <= 100000:\n",
    "    print(\"You have to pay 10% tax.\")\n",
    "else:\n",
    "    print(\"You have to pay only 5% tax\")"
   ]
  },
  {
   "cell_type": "markdown",
   "id": "c4d849ba",
   "metadata": {},
   "source": [
    "### 3. To accept any city from the user and display monuments of that city."
   ]
  },
  {
   "cell_type": "code",
   "execution_count": 21,
   "id": "4ea08eaa",
   "metadata": {
    "scrolled": true
   },
   "outputs": [
    {
     "name": "stdout",
     "output_type": "stream",
     "text": [
      "Choose any one city from these:\n",
      "1. Delhi\n",
      "2. Agra\n",
      "3. Jaipur\n",
      "agra\n",
      "Taj Mahal is present in Agra\n"
     ]
    }
   ],
   "source": [
    "city = input('''Choose any one city from these:\n",
    "1. Delhi\n",
    "2. Agra\n",
    "3. Jaipur\n",
    "''').title()\n",
    "\n",
    "if city == 'Delhi':\n",
    "    print(f\"Red Fort is present in {city}\")\n",
    "elif city == 'Agra':\n",
    "    print(f\"Taj Mahal is present in {city}\")\n",
    "else:\n",
    "    print(f\"Jal Mahal is present in {city}\")"
   ]
  },
  {
   "cell_type": "markdown",
   "id": "8f59a1d1",
   "metadata": {},
   "source": [
    "### 4. To check how many times a given number can be divided by 3 before it is less than or equal to 10"
   ]
  },
  {
   "cell_type": "code",
   "execution_count": 27,
   "id": "bf2d2d17",
   "metadata": {},
   "outputs": [
    {
     "name": "stdout",
     "output_type": "stream",
     "text": [
      "Enter a number: 180\n",
      "The given number can be divided 3 times by 3 before it is less than or equal to 10.\n"
     ]
    }
   ],
   "source": [
    "number = int(input(\"Enter a number: \"))\n",
    "count = 0\n",
    "\n",
    "while number > 10:\n",
    "    number = number / 3\n",
    "    count += 1\n",
    "\n",
    "print(f\"The given number can be divided {count} times by 3 before it is less than or equal to 10.\")\n",
    "\n"
   ]
  },
  {
   "cell_type": "markdown",
   "id": "b29ba7e3",
   "metadata": {},
   "source": [
    "### 5. Why and When to use while loop in Python, give a detailed description with example."
   ]
  },
  {
   "cell_type": "markdown",
   "id": "39661868",
   "metadata": {},
   "source": [
    "####\n",
    "The while loop is a type of loop in Python that allows us to execute a block of code repeatedly as long as a certain condition is true. This is useful when we want to perform an action repeatedly until a certain condition is met.\n",
    "\n",
    "Here's an example to illustrate when and why we might use a while loop in Python:"
   ]
  },
  {
   "cell_type": "code",
   "execution_count": 29,
   "id": "5428c65d",
   "metadata": {},
   "outputs": [
    {
     "name": "stdout",
     "output_type": "stream",
     "text": [
      "Please enter the correct password: correct_password\n",
      "Access granted!\n"
     ]
    }
   ],
   "source": [
    "# Let's say we want to keep asking the user for a password until they enter a correct one\n",
    "\n",
    "password = \"\"\n",
    "while password != \"correct_password\":\n",
    "    password = input(\"Please enter the correct password: \")\n",
    "\n",
    "print(\"Access granted!\")\n"
   ]
  },
  {
   "cell_type": "markdown",
   "id": "4c73512d",
   "metadata": {},
   "source": [
    "### 6. Use nested while loop to print different pattern"
   ]
  },
  {
   "cell_type": "markdown",
   "id": "9aa4b0f0",
   "metadata": {},
   "source": [
    "#### \n",
    " Here are three different patterns that can be printed using nested while loops:"
   ]
  },
  {
   "cell_type": "code",
   "execution_count": 31,
   "id": "7670746d",
   "metadata": {},
   "outputs": [
    {
     "name": "stdout",
     "output_type": "stream",
     "text": [
      "*\n",
      "**\n",
      "***\n",
      "****\n",
      "*****\n"
     ]
    }
   ],
   "source": [
    "# 1. Triangle Pattern:\n",
    "n = 5\n",
    "i = 1\n",
    "\n",
    "while i <= n:\n",
    "    j = 1\n",
    "    while j <= i:\n",
    "        print(\"*\", end=\"\")\n",
    "        j += 1\n",
    "    print()\n",
    "    i += 1\n"
   ]
  },
  {
   "cell_type": "code",
   "execution_count": 32,
   "id": "d3055491",
   "metadata": {},
   "outputs": [
    {
     "name": "stdout",
     "output_type": "stream",
     "text": [
      "*****\n",
      "*****\n",
      "*****\n",
      "*****\n",
      "*****\n"
     ]
    }
   ],
   "source": [
    "# 2. Square Pattern:\n",
    "n = 5\n",
    "i = 1\n",
    "\n",
    "while i <= n:\n",
    "    j = 1\n",
    "    while j <= n:\n",
    "        print(\"*\", end=\"\")\n",
    "        j += 1\n",
    "    print()\n",
    "    i += 1\n"
   ]
  },
  {
   "cell_type": "code",
   "execution_count": 34,
   "id": "64b79bf5",
   "metadata": {},
   "outputs": [
    {
     "name": "stdout",
     "output_type": "stream",
     "text": [
      "*****\n",
      "****\n",
      "***\n",
      "**\n",
      "*\n"
     ]
    }
   ],
   "source": [
    "# Reverse Triangle Pattern:\n",
    "n = 5\n",
    "i = n\n",
    "\n",
    "while i >= 1:\n",
    "    j = 1\n",
    "    while j <= i:\n",
    "        print(\"*\", end=\"\")\n",
    "        j += 1\n",
    "    print()\n",
    "    i -= 1\n"
   ]
  },
  {
   "cell_type": "markdown",
   "id": "5808bc75",
   "metadata": {},
   "source": [
    "###  7. Reverse a while loop to display numbers from 10 to 1."
   ]
  },
  {
   "cell_type": "code",
   "execution_count": 35,
   "id": "4acd7a0c",
   "metadata": {},
   "outputs": [
    {
     "name": "stdout",
     "output_type": "stream",
     "text": [
      "10\n",
      "9\n",
      "8\n",
      "7\n",
      "6\n",
      "5\n",
      "4\n",
      "3\n",
      "2\n",
      "1\n"
     ]
    }
   ],
   "source": [
    "# Reversing a while loop to display numbers from 10 to 1.\n",
    "num = 10\n",
    "\n",
    "while num >= 1:\n",
    "    print(num)\n",
    "    num -= 1\n"
   ]
  },
  {
   "cell_type": "code",
   "execution_count": null,
   "id": "5d0ec6ec",
   "metadata": {},
   "outputs": [],
   "source": []
  }
 ],
 "metadata": {
  "kernelspec": {
   "display_name": "Python 3 (ipykernel)",
   "language": "python",
   "name": "python3"
  },
  "language_info": {
   "codemirror_mode": {
    "name": "ipython",
    "version": 3
   },
   "file_extension": ".py",
   "mimetype": "text/x-python",
   "name": "python",
   "nbconvert_exporter": "python",
   "pygments_lexer": "ipython3",
   "version": "3.10.9"
  }
 },
 "nbformat": 4,
 "nbformat_minor": 5
}
