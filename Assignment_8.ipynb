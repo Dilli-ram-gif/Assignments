{
 "cells": [
  {
   "cell_type": "markdown",
   "id": "3d62f5fb",
   "metadata": {},
   "source": [
    "### Feb 7, Assignment"
   ]
  },
  {
   "cell_type": "markdown",
   "id": "e4a79d6a",
   "metadata": {},
   "source": [
    "##### Q1. You are writing code for a company. The requirement of the company is that you create a python function that will check whether the password entered by the user is correct or not. The function should take the password as input and return the string “Valid Password” if the entered password follows the below-given password guidelines else it should return “Invalid Password”. Note: \n",
    "1. The Password should contain at least two uppercase letters and at least two lowercase letters. \n",
    "2. The Password should contain at least a number and three special characters. \n",
    "3. The length of the password should be 10 characters long."
   ]
  },
  {
   "cell_type": "code",
   "execution_count": 3,
   "id": "241a2437",
   "metadata": {},
   "outputs": [],
   "source": [
    "# Code:\n",
    "def validate_password(password):\n",
    "    # Check if password is 10 characters long\n",
    "    if len(password) != 10:\n",
    "        return \"Invalid Password\"\n",
    "    \n",
    "    # Count number of uppercase and lowercase letters\n",
    "    num_upper = 0\n",
    "    num_lower = 0\n",
    "    for char in password:\n",
    "        if char.isupper():\n",
    "            num_upper += 1\n",
    "        elif char.islower():\n",
    "            num_lower += 1\n",
    "            \n",
    "    # Check if password contains at least two uppercase and two lowercase letters\n",
    "    if num_upper < 2 or num_lower < 2:\n",
    "        return \"Invalid Password\"\n",
    "    \n",
    "    # Count number of digits and special characters\n",
    "    num_digits = 0\n",
    "    num_special = 0\n",
    "    special_chars = \"!@#$%^&*()_+-={}|[]\\\\:\\\";'<>?,./\"\n",
    "    for char in password:\n",
    "        if char.isdigit():\n",
    "            num_digits += 1\n",
    "        elif char in special_chars:\n",
    "            num_special += 1\n",
    "    \n",
    "    # Check if password contains at least one digit and three special characters\n",
    "    if num_digits < 1 or num_special < 3:\n",
    "        return \"Invalid Password\"\n",
    "    \n",
    "    # If all conditions are met, return \"Valid Password\"\n",
    "    return \"Valid Password\"\n"
   ]
  },
  {
   "cell_type": "code",
   "execution_count": 7,
   "id": "5b34f7cd",
   "metadata": {},
   "outputs": [
    {
     "name": "stdout",
     "output_type": "stream",
     "text": [
      "Valid Password\n"
     ]
    }
   ],
   "source": [
    "# password = \"Abcd123#$%\"     Output: Invalid Password\n",
    "\n",
    "password = \"ABcd123#$%\"\n",
    "result = validate_password(password)\n",
    "print(result)  \n"
   ]
  },
  {
   "cell_type": "markdown",
   "id": "3eb9b0a2",
   "metadata": {},
   "source": [
    "##### Q2. Solve the below-given questions using at least one of the following:\n",
    "1. Lambda function\n",
    "2. Filter function\n",
    "3. Zap function\n",
    "4. List Comprehension\n",
    ".Check if the string starts with a particular letterY\n",
    ".Check if the string is numericY\n",
    ".Sort a list of tuples having fruit names and their quantity. [(\"mango\",99),(\"orange\",80), (\"grapes\", 1000)-\n",
    "-Find the squares of numbers from 1 to 10Y\n",
    "-Find the cube root of numbers from 1 to 10Y\n",
    "-Check if a given number is evenY\n",
    "-Filter odd numbers from the given list. [1,2,3,4,5,6,7,8,9,10-\n",
    "-Sort a list of integers into positive and negative integers lists. [1,2,3,4,5,6,-1,-2,-3,-4,-5,0]"
   ]
  },
  {
   "cell_type": "markdown",
   "id": "b5f04885",
   "metadata": {},
   "source": [
    "# Code:\n",
    "Check if the string starts with a particular letter:\n",
    "Using lambda function and string method 'startswith'"
   ]
  },
  {
   "cell_type": "code",
   "execution_count": 11,
   "id": "2d189e3c",
   "metadata": {},
   "outputs": [
    {
     "name": "stdout",
     "output_type": "stream",
     "text": [
      "True\n",
      "False\n"
     ]
    }
   ],
   "source": [
    "starts_with = lambda string, char: string.startswith(char)\n",
    "print(starts_with('apple', 'a'))\n",
    "print(starts_with('banana', 'c')) \n"
   ]
  },
  {
   "cell_type": "markdown",
   "id": "3d83043b",
   "metadata": {},
   "source": [
    "Check if the string is numeric:\n",
    "Using lambda function and string method 'isnumeric'"
   ]
  },
  {
   "cell_type": "code",
   "execution_count": 12,
   "id": "06f65e1d",
   "metadata": {},
   "outputs": [
    {
     "name": "stdout",
     "output_type": "stream",
     "text": [
      "True\n",
      "False\n"
     ]
    }
   ],
   "source": [
    "is_numeric = lambda string: string.isnumeric()\n",
    "print(is_numeric('123')) \n",
    "print(is_numeric('abc123')) \n"
   ]
  },
  {
   "cell_type": "markdown",
   "id": "e094c19b",
   "metadata": {},
   "source": [
    "Sort a list of tuples having fruit names and their quantity:\n",
    "Using lambda function and sorted function"
   ]
  },
  {
   "cell_type": "code",
   "execution_count": 13,
   "id": "55500fc4",
   "metadata": {},
   "outputs": [
    {
     "name": "stdout",
     "output_type": "stream",
     "text": [
      "[('orange', 80), ('mango', 99), ('grapes', 1000)]\n"
     ]
    }
   ],
   "source": [
    "fruits = [(\"mango\", 99), (\"orange\", 80), (\"grapes\", 1000)]\n",
    "sorted_fruits = sorted(fruits, key=lambda x: x[1])\n",
    "print(sorted_fruits) \n"
   ]
  },
  {
   "cell_type": "markdown",
   "id": "afb59154",
   "metadata": {},
   "source": [
    "Find the squares of numbers from 1 to 10:\n",
    "Using list comprehension"
   ]
  },
  {
   "cell_type": "code",
   "execution_count": 14,
   "id": "edeb1704",
   "metadata": {},
   "outputs": [
    {
     "name": "stdout",
     "output_type": "stream",
     "text": [
      "[1, 4, 9, 16, 25, 36, 49, 64, 81, 100]\n"
     ]
    }
   ],
   "source": [
    "squares = [x**2 for x in range(1, 11)]\n",
    "print(squares) \n"
   ]
  },
  {
   "cell_type": "markdown",
   "id": "a1d4c97f",
   "metadata": {},
   "source": [
    "Find the cube root of numbers from 1 to 10:\n",
    "Using list comprehension and math module"
   ]
  },
  {
   "cell_type": "code",
   "execution_count": 15,
   "id": "a53acb81",
   "metadata": {},
   "outputs": [
    {
     "name": "stdout",
     "output_type": "stream",
     "text": [
      "[1.0, 1.2599210498948732, 1.4422495703074083, 1.5874010519681994, 1.7099759466766968, 1.8171205928321397, 1.912931182772389, 2.0, 2.080083823051904, 2.154434690031884]\n"
     ]
    }
   ],
   "source": [
    "import math\n",
    "cube_roots = [math.pow(x, 1/3) for x in range(1, 11)]\n",
    "print(cube_roots) \n"
   ]
  },
  {
   "cell_type": "markdown",
   "id": "46b9f006",
   "metadata": {},
   "source": [
    "Check if a given number is even:\n",
    "Using lambda function and modulus operator"
   ]
  },
  {
   "cell_type": "code",
   "execution_count": 16,
   "id": "5c281032",
   "metadata": {},
   "outputs": [
    {
     "name": "stdout",
     "output_type": "stream",
     "text": [
      "True\n",
      "False\n"
     ]
    }
   ],
   "source": [
    "is_even = lambda num: num % 2 == 0\n",
    "print(is_even(2)) \n",
    "print(is_even(3)) \n"
   ]
  },
  {
   "cell_type": "markdown",
   "id": "23048154",
   "metadata": {},
   "source": [
    "Filter odd numbers from the given list:\n",
    "Using filter function and lambda function"
   ]
  },
  {
   "cell_type": "code",
   "execution_count": 18,
   "id": "634ce412",
   "metadata": {},
   "outputs": [
    {
     "name": "stdout",
     "output_type": "stream",
     "text": [
      "[1, 3, 5, 7, 9]\n"
     ]
    }
   ],
   "source": [
    "nums = [1, 2, 3, 4, 5, 6, 7, 8, 9, 10]\n",
    "odd_nums = list(filter(lambda x: x % 2 != 0, nums))\n",
    "print(odd_nums) \n"
   ]
  },
  {
   "cell_type": "markdown",
   "id": "d07a1ebe",
   "metadata": {},
   "source": [
    "Sort a list of integers into positive and negative integers lists:\n",
    "Using lambda function and filter function"
   ]
  },
  {
   "cell_type": "code",
   "execution_count": 19,
   "id": "c29733fb",
   "metadata": {},
   "outputs": [
    {
     "name": "stdout",
     "output_type": "stream",
     "text": [
      "[1, 2, 3, 4, 5, 6]\n",
      "[-1, -2, -3, -4, -5]\n"
     ]
    }
   ],
   "source": [
    "nums = [1, 2, 3, 4, 5, 6, -1, -2, -3, -4, -5, 0]\n",
    "positive_nums = list(filter(lambda x: x > 0, nums))\n",
    "negative_nums = list(filter(lambda x: x < 0, nums))\n",
    "print(positive_nums) \n",
    "print(negative_nums) \n"
   ]
  }
 ],
 "metadata": {
  "kernelspec": {
   "display_name": "Python 3 (ipykernel)",
   "language": "python",
   "name": "python3"
  },
  "language_info": {
   "codemirror_mode": {
    "name": "ipython",
    "version": 3
   },
   "file_extension": ".py",
   "mimetype": "text/x-python",
   "name": "python",
   "nbconvert_exporter": "python",
   "pygments_lexer": "ipython3",
   "version": "3.10.9"
  }
 },
 "nbformat": 4,
 "nbformat_minor": 5
}
