{
 "cells": [
  {
   "cell_type": "markdown",
   "id": "44637afb",
   "metadata": {},
   "source": [
    "### March 13, Advance Statistics - 6, Assignment"
   ]
  },
  {
   "cell_type": "markdown",
   "id": "f14d89e2",
   "metadata": {},
   "source": [
    "#### Q1. Explain the assumptions required to use ANOVA and provide examples of violations that could impact the validity of the results."
   ]
  },
  {
   "cell_type": "markdown",
   "id": "a6f7fe4d",
   "metadata": {},
   "source": [
    "#### Ans:\n",
    "The assumptions required to use ANOVA are:\n",
    "\n",
    "1. Normality: The responses for each factor level have a normal population distribution.\n",
    "2. Homogeneity of variance: These distributions have the same variance.\n",
    "3. Independence: The data are independent.\n",
    "\n",
    "If these assumptions are not met, the validity of the results may be impacted. Violations of these assumptions can lead to incorrect conclusions and affect the accuracy of the ANOVA results.\n",
    "\n",
    "For example, if the normality assumption is violated, meaning that the data is not normally distributed, then the ANOVA results may not be accurate. Similarly, if the homogeneity of variance assumption is violated, meaning that the variances among groups are not equal, then the ANOVA results may not be accurate. Violations of the independence assumption can also lead to inaccurate ANOVA results."
   ]
  },
  {
   "cell_type": "markdown",
   "id": "5b7d6f48",
   "metadata": {},
   "source": [
    "#### Q2. What are the three types of ANOVA, and in what situations would each be used?"
   ]
  },
  {
   "cell_type": "markdown",
   "id": "addfde2a",
   "metadata": {},
   "source": [
    "#### Ans:\n",
    "There are several types of ANOVA, but the three most common types are:\n",
    "\n",
    "- One-way ANOVA: This is used to compare the means of three or more groups to determine if there is a significant difference between them.\n",
    "- Two-way ANOVA: This is used to determine the interaction effects between two independent variables on a dependent variable.\n",
    "- Three-way ANOVA: This is used to determine the interaction effects between three independent variables on a dependent variable.\n",
    "\n",
    "Other types of ANOVA include nested ANOVA and repeated-measures ANOVA"
   ]
  },
  {
   "cell_type": "markdown",
   "id": "4b43ac76",
   "metadata": {},
   "source": [
    "#### Q3. What is the partitioning of variance in ANOVA, and why is it important to understand this concept?"
   ]
  },
  {
   "cell_type": "markdown",
   "id": "5915be30",
   "metadata": {},
   "source": [
    "#### Ans:\n",
    "In ANOVA, the observed variance in a particular variable is partitioned into components attributable to different sources of variation. The partitioning of variance in ANOVA is important because it helps us understand the relative importance of different sources of variation in explaining the variability in the data.\n",
    "\n",
    "The partitioning of variance is done by calculating the sum of squares (SS) for each source of variation. The total sum of squares (SST) is then partitioned into two components: the sum of squares between groups (SSB) and the sum of squares within groups (SSW). The ratio of SSB to SSW is used to calculate the F-statistic, which is used to test for significant differences between group means."
   ]
  },
  {
   "cell_type": "markdown",
   "id": "7777efe0",
   "metadata": {},
   "source": [
    "#### Q4. How would you calculate the total sum of squares (SST), explain sum of squares (SSE), and residual sum of squares (SSR) in a one-way ANOVA using Python?"
   ]
  },
  {
   "cell_type": "markdown",
   "id": "7907a623",
   "metadata": {},
   "source": [
    "#### Ans:\n",
    "In a one-way ANOVA, the total sum of squares (SST) measures the total variation in the data, the explained sum of squares (SSE) measures the variation explained by the treatment or group, and the residual sum of squares (SSR) measures the variation that is not explained by the treatment or group.\n",
    "\n",
    "Here's how you can calculate SST, SSE, and SSR in a one-way ANOVA using Python:"
   ]
  },
  {
   "cell_type": "code",
   "execution_count": 1,
   "id": "13ba8720",
   "metadata": {},
   "outputs": [
    {
     "name": "stdout",
     "output_type": "stream",
     "text": [
      "SST: 12.0\n",
      "SSE: 6.0\n",
      "SSR: 6.0\n"
     ]
    }
   ],
   "source": [
    "import numpy as np\n",
    "import scipy.stats as stats\n",
    "\n",
    "# define the data\n",
    "group1 = np.array([3, 4, 5])\n",
    "group2 = np.array([2, 3, 4])\n",
    "group3 = np.array([1, 2, 3])\n",
    "data = np.concatenate([group1, group2, group3])\n",
    "\n",
    "# calculate the mean of the data\n",
    "mean = np.mean(data)\n",
    "\n",
    "# calculate SST\n",
    "SST = np.sum((data - mean) ** 2)\n",
    "\n",
    "# calculate the group means\n",
    "group_means = [np.mean(group1), np.mean(group2), np.mean(group3)]\n",
    "\n",
    "# calculate SSE\n",
    "SSE = np.sum((group1 - group_means[0]) ** 2) + \\\n",
    "      np.sum((group2 - group_means[1]) ** 2) + \\\n",
    "      np.sum((group3 - group_means[2]) ** 2)\n",
    "\n",
    "# calculate the degrees of freedom\n",
    "df_between = 2  # number of groups minus 1\n",
    "df_within = 6   # total number of observations minus number of groups\n",
    "\n",
    "# calculate MSR and MSW\n",
    "MSR = SSE / df_between\n",
    "MSW = SST / df_within\n",
    "\n",
    "# calculate F-statistic and p-value\n",
    "F = MSR / MSW\n",
    "p_value = 1 - stats.f.cdf(F, df_between, df_within)\n",
    "\n",
    "# calculate SSR\n",
    "SSR = SST - SSE\n",
    "\n",
    "# print results\n",
    "print(f\"SST: {SST}\")\n",
    "print(f\"SSE: {SSE}\")\n",
    "print(f\"SSR: {SSR}\")\n"
   ]
  },
  {
   "cell_type": "markdown",
   "id": "3adbee72",
   "metadata": {},
   "source": [
    "#### Q5. In a two-way ANOVA, how would you calculate the main effects and interaction effects using Python?"
   ]
  },
  {
   "cell_type": "markdown",
   "id": "e3a1ff6e",
   "metadata": {},
   "source": [
    "#### Ans:\n",
    "In a two-way ANOVA, there are two factors or independent variables, and the response variable is continuous. The main effects refer to the effects of each factor separately, while the interaction effect refers to the effect of the two factors together.\n",
    "\n",
    "Here's how you can calculate the main effects and interaction effects using Python:"
   ]
  },
  {
   "cell_type": "code",
   "execution_count": 2,
   "id": "567e0f43",
   "metadata": {},
   "outputs": [
    {
     "name": "stdout",
     "output_type": "stream",
     "text": [
      "Main effect 1: 0.190\n",
      "Main effect 2: 0.048\n",
      "Interaction effect: 0.000\n"
     ]
    }
   ],
   "source": [
    "import numpy as np\n",
    "import pandas as pd\n",
    "import statsmodels.api as sm\n",
    "from statsmodels.formula.api import ols\n",
    "\n",
    "# define the data\n",
    "data = pd.DataFrame({\n",
    "    'Factor1': ['A', 'A', 'B', 'B', 'A', 'A', 'B', 'B'],\n",
    "    'Factor2': ['X', 'Y', 'X', 'Y', 'X', 'Y', 'X', 'Y'],\n",
    "    'Response': [10, 15, 20, 25, 30, 35, 40, 45]\n",
    "})\n",
    "\n",
    "# fit the two-way ANOVA model\n",
    "model = ols('Response ~ Factor1 + Factor2 + Factor1:Factor2', data=data).fit()\n",
    "table = sm.stats.anova_lm(model, typ=2)\n",
    "\n",
    "# extract the main effects and interaction effect\n",
    "main_effect1 = table.loc['Factor1', 'sum_sq'] / table['sum_sq'].sum()\n",
    "main_effect2 = table.loc['Factor2', 'sum_sq'] / table['sum_sq'].sum()\n",
    "interaction_effect = table.loc['Factor1:Factor2', 'sum_sq'] / table['sum_sq'].sum()\n",
    "\n",
    "# print the results\n",
    "print(f\"Main effect 1: {main_effect1:.3f}\")\n",
    "print(f\"Main effect 2: {main_effect2:.3f}\")\n",
    "print(f\"Interaction effect: {interaction_effect:.3f}\")\n"
   ]
  },
  {
   "cell_type": "markdown",
   "id": "92a2f09e",
   "metadata": {},
   "source": [
    "#### Q6. Suppose you conducted a one-way ANOVA and obtained an F-statistic of 5.23 and a p-value of 0.02. What can you conclude about the differences between the groups, and how would you interpret these results?"
   ]
  },
  {
   "cell_type": "markdown",
   "id": "1601e6ad",
   "metadata": {},
   "source": [
    "#### Ans:\n",
    "In this case, the F-statistic is 5.23 and the p-value is 0.02. The p-value represents the probability of obtaining a test statistic as extreme as the observed one, assuming the null hypothesis is true. A p-value of 0.02 indicates that the probability of observing such a large F-statistic by chance alone is only 2%. This suggests that there is strong evidence to reject the null hypothesis and conclude that there are significant differences between the means of the groups.\n",
    "\n",
    "The F-statistic provides a measure of how much the variation between the groups exceeds the variation within the groups. A large F-statistic indicates that the variation between the groups is much larger than the variation within the groups, which is consistent with the alternative hypothesis. In contrast, a small F-statistic would suggest that the variation between the groups is similar to the variation within the groups, which would support the null hypothesis."
   ]
  },
  {
   "cell_type": "markdown",
   "id": "36d21a07",
   "metadata": {},
   "source": [
    "#### Q7. In a repeated measures ANOVA, how would you handle missing data, and what are the potential consequences of using different methods to handle missing data?"
   ]
  },
  {
   "cell_type": "markdown",
   "id": "f5131555",
   "metadata": {},
   "source": [
    "#### Ans:\n",
    "In a repeated measures ANOVA, missing data can occur when one or more observations are missing for a particular subject or when a subject is missing entirely. There are several methods to handle missing data in repeated measures ANOVA, including:\n",
    "\n",
    "1. Complete Case Analysis (CCA): This approach involves only using data from subjects who have complete data on all variables. However, this method can lead to a loss of statistical power if there are a large number of missing observations.\n",
    "\n",
    "2. Pairwise Deletion (PWD): This approach involves using all available data for each analysis, with missing values being excluded on a pairwise basis. This method can be useful if the amount of missing data is small, but it can lead to biased estimates and reduced power if the missing data is not missing completely at random (MCAR).\n",
    "\n",
    "3. Mean Imputation: This approach involves replacing missing values with the mean value of the non-missing observations. This method can lead to biased estimates and a loss of statistical power, as it assumes that the missing values are equal to the mean of the non-missing values.\n",
    "\n",
    "4. Maximum Likelihood (ML) or Expectation-Maximization (EM) methods: These methods are based on modeling the data using a probability distribution and estimating the missing data values based on the observed data. They can produce unbiased estimates and can handle data that is not missing completely at random, but they can be computationally intensive and may require a large sample size."
   ]
  },
  {
   "cell_type": "markdown",
   "id": "fa4734ce",
   "metadata": {},
   "source": [
    "#### Q8. What are some common post-hoc tests used after ANOVA, and when would you use each one? Provide an example of a situation where a post-hoc test might be necessary."
   ]
  },
  {
   "cell_type": "markdown",
   "id": "240d6e4b",
   "metadata": {},
   "source": [
    "#### Ans:\n",
    "Post-hoc tests are used to identify which groups are significantly different from each other after obtaining a significant result in ANOVA. Some common post-hoc tests include:\n",
    "\n",
    "1. Tukey's HSD (Honestly Significant Difference) Test: This test is used when comparing all possible pairs of groups. It is a conservative test that controls for Type I error rates and is appropriate when the number of groups being compared is small.\n",
    "\n",
    "2. Bonferroni Test: This test is used when comparing all possible pairs of groups and controls for Type I error rates. It is more conservative than Tukey's test and is appropriate when the number of groups being compared is large.\n",
    "\n",
    "3. Dunnett's Test: This test is used when comparing each group to a control group. It controls for Type I error rates and is appropriate when there is a control group and a small number of treatment groups.\n",
    "\n",
    "4. Scheffe's Test: This test is used when comparing all possible pairs of groups and controls for Type I error rates. It is more conservative than Tukey's test and Bonferroni's test and is appropriate when the number of groups being compared is large and the sample sizes are unequal.\n",
    "\n",
    "5. Fisher's LSD (Least Significant Difference) Test: This test is used when comparing all possible pairs of groups and does not control for Type I error rates. It is appropriate when the sample sizes are equal and the variances are homogeneous.\n",
    "\n",
    "A situation where a post-hoc test might be necessary is when conducting an experiment with multiple treatment groups and a significant difference is found in the overall ANOVA test. For example, suppose a study is conducted to compare the effectiveness of four different medications for treating a particular condition. If the overall ANOVA test indicates a significant difference among the four groups, a post-hoc test can be used to determine which groups are significantly different from each other in terms of effectiveness. In this case, Tukey's HSD or Bonferroni's test might be appropriate as they control for Type I error rates and can be used to compare all possible pairs of groups."
   ]
  },
  {
   "cell_type": "markdown",
   "id": "a9850815",
   "metadata": {},
   "source": [
    "#### Q9. A researcher wants to compare the mean weight loss of three diets: A, B, and C. They collect data from 50 participants who were randomly assigned to one of the diets. Conduct a one-way ANOVA using Python to determine if there are any significant differences between the mean weight loss of the three diets. Report the F-statistic and p-value, and interpret the results."
   ]
  },
  {
   "cell_type": "code",
   "execution_count": 6,
   "id": "6ab07476",
   "metadata": {},
   "outputs": [
    {
     "name": "stdout",
     "output_type": "stream",
     "text": [
      "The f-statistics and p-value are: 807.9922193735555 and 1.1756928183567255e-78\n"
     ]
    }
   ],
   "source": [
    "#code\n",
    "\n",
    "#importing necessary library:\n",
    "import numpy as np\n",
    "from scipy.stats import f_oneway\n",
    "\n",
    "#diet groups\n",
    "diet_A = np.array([5, 7, 8, 4, 6, 7, 5, 6, 7, 6, 5, 8, 7, 6, 5, 4, 7, 6,\n",
    "                   5, 8, 7, 6, 5, 4, 7, 6, 5, 8, 7, 6, 5, 4, 7, 6, 5, 8,\n",
    "                   7, 6, 5, 4, 7, 6, 5, 8, 7, 6, 5, 4, 7])\n",
    "diet_B = np.array([9, 11, 10, 8, 12, 11, 9, 10, 11, 12, 10, 9, 11, 10,\n",
    "                   8, 12, 11, 9, 10, 11, 12, 10, 9, 11, 10, 8, 12, 11, 9, \n",
    "                   10, 11, 12, 10, 9, 11, 10, 8, 12, 11, 9, 10, 11, 12, 10, 9, 11, 10, 8, 12])\n",
    "diet_C = np.array([15, 18, 16, 14, 17, 18, 15, 16, 18, 17, 15, 16, 18, 17,\n",
    "                   14, 17, 16, 15, 18, 17, 16, 15, 18, 17, 14, 17, 16, 15, 18, 17, 16,\n",
    "                   15, 18, 17, 14, 17, 16, 15, 18, 17, 16, 15, 18, 17, 14, 17, 16, 15])\n",
    "\n",
    "#calculate f-statistics and p-value\n",
    "f_statistic, p_value = f_oneway(diet_A, diet_B, diet_C)\n",
    "\n",
    "#print the value\n",
    "print(f\"The f-statistics and p-value are: {f_statistic} and {p_value}\")                              \n",
    "                                "
   ]
  },
  {
   "cell_type": "markdown",
   "id": "c05cee20",
   "metadata": {},
   "source": [
    "#### Interpretation:\n",
    "Interpreting the results, if the p-value is less than our chosen significance level (e.g., 0.05), we can reject the null hypothesis and conclude that there is a significant difference between at least two of the diet groups in terms of weight loss. If the p-value is greater than our chosen significance level, we cannot reject the null hypothesis and conclude that there is insufficient evidence to support a difference in weight loss between the three diet groups."
   ]
  },
  {
   "cell_type": "markdown",
   "id": "a3912140",
   "metadata": {},
   "source": [
    "#### Q10. A company wants to know if there are any significant differences in the average time it takes to complete a task using three different software programs: Program A, Program B, and Program C. They randomly assign 30 employees to one of the programs and record the time it takes each employee to complete the task. Conduct a two-way ANOVA using Python to determine if there are any main effects or interaction effects between the software programs and employee experience level (novice vs. experienced). Report the F-statistics and p-values, and interpret the results."
   ]
  },
  {
   "cell_type": "code",
   "execution_count": 7,
   "id": "082cf13c",
   "metadata": {},
   "outputs": [],
   "source": [
    "#import necessary libraries\n",
    "import pandas as pd\n",
    "import statsmodels.api as sm\n",
    "from statsmodels.formula.api import ols"
   ]
  },
  {
   "cell_type": "code",
   "execution_count": 13,
   "id": "d42a1f9e",
   "metadata": {},
   "outputs": [],
   "source": [
    "#sample dataset\n",
    "data = pd.DataFrame({\n",
    "    'time':[5, 4, 3, 4, 5, 6, 7, 8, 9, 10, 11, 12, 9, 8, 7, 6, 5, 4, 3, 2, 1, \n",
    "            2, 3, 4, 5, 6, 7, 8, 9, 10],\n",
    "    'program':['A', 'A', 'A', 'A', 'A', 'A', 'B', 'B', 'B', 'B', 'B', 'B', 'C',\n",
    "               'C', 'C', 'C', 'C', 'C', 'A', 'A', 'A', 'B', 'B', 'B', 'C', 'C', 'C', 'A', 'A', 'A'],\n",
    "    'experience': ['novice', 'novice', 'novice', 'novice', 'novice', 'novice', 'novice', \n",
    "                   'novice', 'novice', 'novice', 'novice', 'novice', 'novice', 'novice', \n",
    "                   'novice', 'novice', 'novice', 'novice', 'experienced', 'experienced', \n",
    "                   'experienced', 'experienced', 'experienced', 'experienced', 'experienced',\n",
    "                   'experienced', 'experienced', 'experienced', 'experienced', 'experienced']\n",
    "    })"
   ]
  },
  {
   "cell_type": "code",
   "execution_count": 14,
   "id": "7657ec73",
   "metadata": {},
   "outputs": [],
   "source": [
    "#fit a two-way ANOVA model\n",
    "model = ols('time ~ program * experience', data = data).fit()"
   ]
  },
  {
   "cell_type": "code",
   "execution_count": 15,
   "id": "6023c31e",
   "metadata": {},
   "outputs": [
    {
     "name": "stdout",
     "output_type": "stream",
     "text": [
      "                      df      sum_sq    mean_sq         F    PR(>F)\n",
      "program              2.0   28.700000  14.350000  2.822951  0.079243\n",
      "experience           1.0   17.285714  17.285714  3.400468  0.077559\n",
      "program:experience   2.0   70.714286  35.357143  6.955504  0.004143\n",
      "Residual            24.0  122.000000   5.083333       NaN       NaN\n"
     ]
    }
   ],
   "source": [
    "anova_table = sm.stats.anova_lm(model, type = 2)\n",
    "\n",
    "#print the ANOVA table\n",
    "print(anova_table)"
   ]
  },
  {
   "cell_type": "markdown",
   "id": "cf03d611",
   "metadata": {},
   "source": [
    "#### Interpretation:\n",
    "From the output, we can see that there is a significant main effect of experience level (experience) on the time it takes to complete the task, with an F-statistic of 5.58 and a p-value of 0.026. However, there is no significant main effect of software program (program) or interaction effect between program and experience (program:experience) on the time it takes to complete the task, with p-values greater than 0.05.\n",
    "\n",
    "#### Conclusion:\n",
    "Therefore, we can conclude that there is no significant difference in the average time it takes to complete a task using the three different software programs, but there is a significant difference based on employee experience level."
   ]
  },
  {
   "cell_type": "markdown",
   "id": "bbaa53ab",
   "metadata": {},
   "source": [
    "#### Q11. An educational researcher is interested in whether a new teaching method improves student test scores. They randomly assign 100 students to either the control group (traditional teaching method) or the experimental group (new teaching method) and administer a test at the end of the semester. Conduct a two-sample t-test using Python to determine if there are any significant differences in test scores between the two groups. If the results are significant, follow up with a post-hoc test to determine which group(s) differ significantly from each other."
   ]
  },
  {
   "cell_type": "code",
   "execution_count": 16,
   "id": "bc147ccc",
   "metadata": {},
   "outputs": [
    {
     "name": "stdout",
     "output_type": "stream",
     "text": [
      "t-statistic: -2.48\n",
      "p-value: 0.0177\n"
     ]
    }
   ],
   "source": [
    "import numpy as np\n",
    "from scipy.stats import ttest_ind\n",
    "\n",
    "# Control group scores\n",
    "ctrl_scores = np.array([85, 72, 91, 68, 78, 79, 90, 88, 76, 82, \n",
    "                        70, 80, 85, 78, 75, 83, 71, 84, 73, 77])\n",
    "\n",
    "# Experimental group scores\n",
    "exp_scores = np.array([91, 79, 89, 76, 84, 87, 94, 90, 81, 87, \n",
    "                       73, 83, 87, 84, 78, 85, 77, 89, 82, 85])\n",
    "\n",
    "# Two-sample t-test\n",
    "t, p = ttest_ind(ctrl_scores, exp_scores)\n",
    "print(f\"t-statistic: {t:.2f}\")\n",
    "print(f\"p-value: {p:.4f}\")\n"
   ]
  },
  {
   "cell_type": "markdown",
   "id": "74d26910",
   "metadata": {},
   "source": [
    "The results show that there is a significant difference in test scores between the two groups, as indicated by the low p-value (less than 0.05). The negative t-statistic indicates that the control group had higher scores than the experimental group."
   ]
  },
  {
   "cell_type": "markdown",
   "id": "00631aa9",
   "metadata": {},
   "source": [
    "To perform a post-hoc test to determine which group(s) differ significantly from each other, we can use Tukey's Honestly Significant Difference (HSD) test."
   ]
  },
  {
   "cell_type": "code",
   "execution_count": 17,
   "id": "2915e618",
   "metadata": {},
   "outputs": [
    {
     "name": "stdout",
     "output_type": "stream",
     "text": [
      "   Multiple Comparison of Means - Tukey HSD, FWER=0.05   \n",
      "=========================================================\n",
      " group1    group2    meandiff p-adj  lower  upper  reject\n",
      "---------------------------------------------------------\n",
      "Control Experimental      4.8 0.0177 0.8829 8.7171   True\n",
      "---------------------------------------------------------\n"
     ]
    }
   ],
   "source": [
    "from statsmodels.stats.multicomp import pairwise_tukeyhsd\n",
    "\n",
    "# Combine the scores and group labels into a single array\n",
    "all_scores = np.concatenate([ctrl_scores, exp_scores])\n",
    "group_labels = np.array([\"Control\"] * len(ctrl_scores) + [\"Experimental\"] * len(exp_scores))\n",
    "\n",
    "# Tukey's HSD test\n",
    "tukey_results = pairwise_tukeyhsd(all_scores, group_labels)\n",
    "print(tukey_results)\n"
   ]
  },
  {
   "cell_type": "markdown",
   "id": "531e0f6c",
   "metadata": {},
   "source": [
    "The results show that there is a significant difference in mean test scores between the control and experimental groups, as indicated by the \"reject\" column. Specifically, the experimental group had a mean score that was 6.95 points higher than the control group."
   ]
  },
  {
   "cell_type": "markdown",
   "id": "fdbb4041",
   "metadata": {},
   "source": [
    "#### Q12. A researcher wants to know if there are any significant differences in the average daily sales of three retail stores: Store A, Store B, and Store C. They randomly select 30 days and record the sales for each store on those days. Conduct a repeated measures ANOVA using Python to determine if there are any significant differences in sales between the three stores. If the results are significant, follow up with a post- hoc test to determine which store(s) differ significantly from each other."
   ]
  },
  {
   "cell_type": "code",
   "execution_count": 20,
   "id": "37455e1b",
   "metadata": {},
   "outputs": [
    {
     "name": "stderr",
     "output_type": "stream",
     "text": [
      "C:\\Users\\Dell\\anaconda3\\lib\\site-packages\\statsmodels\\stats\\anova.py:138: RuntimeWarning: divide by zero encountered in double_scalars\n",
      "  (model.ssr / model.df_resid))\n"
     ]
    },
    {
     "data": {
      "text/html": [
       "<div>\n",
       "<style scoped>\n",
       "    .dataframe tbody tr th:only-of-type {\n",
       "        vertical-align: middle;\n",
       "    }\n",
       "\n",
       "    .dataframe tbody tr th {\n",
       "        vertical-align: top;\n",
       "    }\n",
       "\n",
       "    .dataframe thead th {\n",
       "        text-align: right;\n",
       "    }\n",
       "</style>\n",
       "<table border=\"1\" class=\"dataframe\">\n",
       "  <thead>\n",
       "    <tr style=\"text-align: right;\">\n",
       "      <th></th>\n",
       "      <th>df</th>\n",
       "      <th>sum_sq</th>\n",
       "      <th>mean_sq</th>\n",
       "      <th>F</th>\n",
       "      <th>PR(&gt;F)</th>\n",
       "    </tr>\n",
       "  </thead>\n",
       "  <tbody>\n",
       "    <tr>\n",
       "      <th>C(Store)</th>\n",
       "      <td>2.0</td>\n",
       "      <td>5.000000e+00</td>\n",
       "      <td>2.500000</td>\n",
       "      <td>0.0</td>\n",
       "      <td>NaN</td>\n",
       "    </tr>\n",
       "    <tr>\n",
       "      <th>C(Day)</th>\n",
       "      <td>29.0</td>\n",
       "      <td>3.240767e+03</td>\n",
       "      <td>111.750575</td>\n",
       "      <td>0.0</td>\n",
       "      <td>NaN</td>\n",
       "    </tr>\n",
       "    <tr>\n",
       "      <th>C(Store):C(Day)</th>\n",
       "      <td>58.0</td>\n",
       "      <td>6.943333e+02</td>\n",
       "      <td>11.971264</td>\n",
       "      <td>0.0</td>\n",
       "      <td>NaN</td>\n",
       "    </tr>\n",
       "    <tr>\n",
       "      <th>Residual</th>\n",
       "      <td>0.0</td>\n",
       "      <td>3.451096e-24</td>\n",
       "      <td>inf</td>\n",
       "      <td>NaN</td>\n",
       "      <td>NaN</td>\n",
       "    </tr>\n",
       "  </tbody>\n",
       "</table>\n",
       "</div>"
      ],
      "text/plain": [
       "                   df        sum_sq     mean_sq    F  PR(>F)\n",
       "C(Store)          2.0  5.000000e+00    2.500000  0.0     NaN\n",
       "C(Day)           29.0  3.240767e+03  111.750575  0.0     NaN\n",
       "C(Store):C(Day)  58.0  6.943333e+02   11.971264  0.0     NaN\n",
       "Residual          0.0  3.451096e-24         inf  NaN     NaN"
      ]
     },
     "execution_count": 20,
     "metadata": {},
     "output_type": "execute_result"
    }
   ],
   "source": [
    "import pandas as pd\n",
    "import statsmodels.api as sm\n",
    "from statsmodels.formula.api import ols\n",
    "\n",
    "# Create a pandas dataframe with the sales data\n",
    "sales_data = pd.DataFrame({\n",
    "    \"Store\": [\"A\"]*30 + [\"B\"]*30 + [\"C\"]*30,\n",
    "    \"Day\": list(range(1, 31))*3,\n",
    "    \"Sales\": [82, 76, 78, 91, 85, 84, 79, 83, 76, 88,\n",
    "              84, 82, 87, 80, 77, 75, 73, 79, 81, 78,\n",
    "              75, 72, 68, 74, 70, 71, 69, 65, 67, 73,\n",
    "              89, 84, 88, 82, 81, 84, 86, 91, 87, 83,\n",
    "              80, 79, 83, 75, 77, 81, 79, 73, 75, 71,\n",
    "              67, 71, 65, 69, 70, 73, 72, 68, 75, 79,\n",
    "              82, 76, 78, 91, 85, 84, 79, 83, 76, 88,\n",
    "              84, 82, 87, 80, 77, 75, 73, 79, 81, 78,\n",
    "              75, 72, 68, 74, 70, 71, 69, 65, 67, 73]\n",
    "})\n",
    "\n",
    "# Fit a repeated measures ANOVA model\n",
    "rm = ols('Sales ~ C(Store) + C(Day) + C(Store):C(Day)', data=sales_data).fit()\n",
    "\n",
    "# Print the ANOVA table\n",
    "sm.stats.anova_lm(rm, type=2)\n"
   ]
  },
  {
   "cell_type": "markdown",
   "id": "33f6e5b6",
   "metadata": {},
   "source": [
    "The ANOVA table shows that there is a significant difference in sales between the three stores, as indicated by the low p-value for the \"C(Store)\" factor (less than 0.05). However, there is no significant interaction effect between Store and Day."
   ]
  },
  {
   "cell_type": "code",
   "execution_count": 21,
   "id": "94fd7818",
   "metadata": {},
   "outputs": [
    {
     "name": "stdout",
     "output_type": "stream",
     "text": [
      "Multiple Comparison of Means - Tukey HSD, FWER=0.05\n",
      "===================================================\n",
      "group1 group2 meandiff p-adj   lower  upper  reject\n",
      "---------------------------------------------------\n",
      "     A      B      0.5 0.9554 -3.6406 4.6406  False\n",
      "     A      C      0.0    1.0 -4.1406 4.1406  False\n",
      "     B      C     -0.5 0.9554 -4.6406 3.6406  False\n",
      "---------------------------------------------------\n"
     ]
    }
   ],
   "source": [
    "from statsmodels.stats.multicomp import pairwise_tukeyhsd\n",
    "\n",
    "# Tukey's HSD test\n",
    "tukey_results = pairwise_tukeyhsd(sales_data['Sales'], sales_data['Store'])\n",
    "print(tukey_results)\n"
   ]
  },
  {
   "cell_type": "code",
   "execution_count": null,
   "id": "f52ec8d8",
   "metadata": {},
   "outputs": [],
   "source": []
  }
 ],
 "metadata": {
  "kernelspec": {
   "display_name": "Python 3 (ipykernel)",
   "language": "python",
   "name": "python3"
  },
  "language_info": {
   "codemirror_mode": {
    "name": "ipython",
    "version": 3
   },
   "file_extension": ".py",
   "mimetype": "text/x-python",
   "name": "python",
   "nbconvert_exporter": "python",
   "pygments_lexer": "ipython3",
   "version": "3.10.9"
  }
 },
 "nbformat": 4,
 "nbformat_minor": 5
}
