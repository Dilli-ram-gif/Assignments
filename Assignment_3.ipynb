{
 "cells": [
  {
   "cell_type": "markdown",
   "id": "91c6c6a7",
   "metadata": {},
   "source": [
    "### Feb -2, Assignment"
   ]
  },
  {
   "cell_type": "markdown",
   "id": "b67795d6",
   "metadata": {},
   "source": [
    "##### Q1. What are the characteristics of the tuples? Is tuple immutable?"
   ]
  },
  {
   "cell_type": "markdown",
   "id": "4e47f9ee",
   "metadata": {},
   "source": [
    "Ans: Tuples are ordered and immutable collections of elements in Python. Some of the main characteristics of tuples are:\n",
    "\n",
    "1. Ordered: Tuples are ordered collections of elements. This means that the elements of a tuple are stored in a specific order and can be accessed by their index values.\n",
    "\n",
    "2. Immutable: Tuples are immutable, which means that once a tuple is created, its contents cannot be changed. This means that we cannot add or remove elements from a tuple after it has been created.\n",
    "\n",
    "3. Heterogeneous: Tuples can contain elements of different data types. For example, a tuple can contain integers, strings, and even other tuples.\n",
    "\n",
    "4. Iterable: Tuples are iterable, which means that we can loop over their elements using a for loop or a while loop.\n",
    "\n",
    "Yes, tuples are immutable in Python. Once a tuple is created, its contents cannot be changed."
   ]
  },
  {
   "cell_type": "markdown",
   "id": "785ad545",
   "metadata": {},
   "source": [
    "##### Q2. What are the two tuple methods in python? Give an example of each method. Give a reason why tuples have only two in-built methods as compared to Lists."
   ]
  },
  {
   "cell_type": "markdown",
   "id": "fa1c72cc",
   "metadata": {},
   "source": [
    "Ans: The two tuple methods in Python are:\n",
    "\n",
    "1. count(): This method returns the number of times a specified element appears in the tuple."
   ]
  },
  {
   "cell_type": "code",
   "execution_count": 43,
   "id": "6c855024",
   "metadata": {},
   "outputs": [
    {
     "data": {
      "text/plain": [
       "3"
      ]
     },
     "execution_count": 43,
     "metadata": {},
     "output_type": "execute_result"
    }
   ],
   "source": [
    "#Example:\n",
    "\n",
    "my_tuple = (1, 2, 3, 4, 3, 5, 3)\n",
    "count = my_tuple.count(3)\n",
    "count"
   ]
  },
  {
   "cell_type": "markdown",
   "id": "8f7290a2",
   "metadata": {},
   "source": [
    "2. `index()`: This method returns the index of the first occurrence of a specified element in the tuple."
   ]
  },
  {
   "cell_type": "code",
   "execution_count": 44,
   "id": "68b7a22a",
   "metadata": {},
   "outputs": [
    {
     "name": "stdout",
     "output_type": "stream",
     "text": [
      "1\n"
     ]
    }
   ],
   "source": [
    "#Example:\n",
    "\n",
    "my_tuple = ('a', 'b', 'c', 'b')\n",
    "index = my_tuple.index('b')\n",
    "print(index) "
   ]
  },
  {
   "cell_type": "markdown",
   "id": "90375665",
   "metadata": {},
   "source": [
    "Tuples have only two in-built methods (`count()` and `index()`) as compared to lists because tuples are immutable, and thus, many of the operations that are available for lists (such as append, insert, pop, remove, etc.) would not make sense for tuples since we cannot modify their contents once they are created. Therefore, the designers of Python have provided only those methods that are relevant to immutable collections, such as counting and finding the index of an element."
   ]
  },
  {
   "cell_type": "markdown",
   "id": "eb8bbea3",
   "metadata": {},
   "source": [
    "##### Q3.  Which collection datatypes in python do not allow duplicate items? Write a code using a set to remove duplicates from the given list.\n",
    "List = [1, 1, 1, 2, 1, 3, 1, 4, 2, 1, 2, 2, 2, 3, 2, 4, 3, 1, 3, 2, 3, 3, 3, 4, 4, 1, 4, 2, 4, 3, 4, 4]"
   ]
  },
  {
   "cell_type": "markdown",
   "id": "1bf4008a",
   "metadata": {},
   "source": [
    "Ans:The set datatype in Python does not allow duplicate items."
   ]
  },
  {
   "cell_type": "code",
   "execution_count": 45,
   "id": "e9a5b598",
   "metadata": {},
   "outputs": [
    {
     "name": "stdout",
     "output_type": "stream",
     "text": [
      "[1, 2, 3, 4]\n"
     ]
    }
   ],
   "source": [
    "my_list = [1, 1, 1, 2, 1, 3, 1, 4, 2, 1, 2, 2, 2, 3, 2, 4, 3, 1, 3, 2, 3, 3, 3, 4, 4, 1, 4, 2, 4, 3, 4, 4]\n",
    "unique_list = list(set(my_list))\n",
    "print(unique_list)\n"
   ]
  },
  {
   "cell_type": "markdown",
   "id": "838b4fc1",
   "metadata": {},
   "source": [
    "##### Q4. Explain the difference between the union() and update() methods for a set. Give an example of each method."
   ]
  },
  {
   "cell_type": "markdown",
   "id": "9af3952e",
   "metadata": {},
   "source": [
    "Ans: Both union() and update() methods are used to combine two or more sets in Python, but they differ in how they modify the original set.\n",
    "\n",
    "The union() method returns a new set that contains all the unique elements from all the sets that are being combined, without modifying the original sets. The resulting set is a new set that contains all the unique elements from all the sets involved.\n",
    "\n",
    "Here's an example of using the union() method:"
   ]
  },
  {
   "cell_type": "code",
   "execution_count": 46,
   "id": "28dd6c6c",
   "metadata": {},
   "outputs": [
    {
     "name": "stdout",
     "output_type": "stream",
     "text": [
      "{1, 2, 3, 4, 5, 6, 7}\n"
     ]
    }
   ],
   "source": [
    "set1 = {1, 2, 3}\n",
    "set2 = {3, 4, 5}\n",
    "set3 = {5, 6, 7}\n",
    "\n",
    "result_set = set1.union(set2, set3)\n",
    "print(result_set)"
   ]
  },
  {
   "cell_type": "markdown",
   "id": "509015a5",
   "metadata": {},
   "source": [
    "On the other hand, the update() method modifies the original set by adding all the elements from one or more sets to the original set. The update() method adds the unique elements from the sets being combined to the original set.\n",
    "\n",
    "Here's an example of using the update() method:"
   ]
  },
  {
   "cell_type": "code",
   "execution_count": 47,
   "id": "c8bd2d49",
   "metadata": {},
   "outputs": [
    {
     "name": "stdout",
     "output_type": "stream",
     "text": [
      "{1, 2, 3, 4, 5, 6, 7}\n"
     ]
    }
   ],
   "source": [
    "set1 = {1, 2, 3}\n",
    "set2 = {3, 4, 5}\n",
    "set3 = {5, 6, 7}\n",
    "\n",
    "set1.update(set2, set3)\n",
    "print(set1)\n"
   ]
  },
  {
   "cell_type": "markdown",
   "id": "a47ab130",
   "metadata": {},
   "source": [
    "##### Q5. What is a dictionary? Give an example. Also, state whether a dictionary is ordered or unordered."
   ]
  },
  {
   "cell_type": "markdown",
   "id": "9b7131a7",
   "metadata": {},
   "source": [
    "a dictionary is a collection of key-value pairs, where each key is unique and is used to access its corresponding value. Dictionaries are represented by curly braces {} and the items are separated by commas.\n",
    "\n",
    "Example of a dictionary:"
   ]
  },
  {
   "cell_type": "code",
   "execution_count": 48,
   "id": "87342317",
   "metadata": {},
   "outputs": [
    {
     "data": {
      "text/plain": [
       "{'apple': 2.99, 'banana': 1.25, 'orange': 0.99, 'grape': 3.49}"
      ]
     },
     "execution_count": 48,
     "metadata": {},
     "output_type": "execute_result"
    }
   ],
   "source": [
    "my_dict = {'apple': 2.99, 'banana': 1.25, 'orange': 0.99, 'grape': 3.49}\n",
    "my_dict"
   ]
  },
  {
   "cell_type": "markdown",
   "id": "7aa360a9",
   "metadata": {},
   "source": [
    "Dictionaries in Python are unordered, meaning the items are not stored in any specific order."
   ]
  },
  {
   "cell_type": "markdown",
   "id": "c08080ec",
   "metadata": {},
   "source": [
    "##### Q6. Can we create a nested dictionary? If so, please give an example by creating a simple one-level nested dictionary."
   ]
  },
  {
   "cell_type": "markdown",
   "id": "50bc2471",
   "metadata": {},
   "source": [
    "Ans: Yes, we can create a nested dictionary in Python. A nested dictionary is a dictionary within a dictionary, where the value associated with a key can be another dictionary.\n",
    "\n",
    "Example of a simple one-level nested dictionary:"
   ]
  },
  {
   "cell_type": "code",
   "execution_count": 49,
   "id": "7ffa2495",
   "metadata": {},
   "outputs": [
    {
     "name": "stdout",
     "output_type": "stream",
     "text": [
      "John\n",
      "22\n"
     ]
    }
   ],
   "source": [
    "# create a dictionary of students and their details\n",
    "student1 = {'name': 'John', 'age': 20, 'gender': 'Male'}\n",
    "student2 = {'name': 'Jane', 'age': 22, 'gender': 'Female'}\n",
    "\n",
    "# create a nested dictionary of students and their details\n",
    "students_dict = {'student1': student1, 'student2': student2}\n",
    "\n",
    "# access the details of a specific student\n",
    "print(students_dict['student1']['name'])  # output: John\n",
    "print(students_dict['student2']['age'])   # output: 22\n"
   ]
  },
  {
   "cell_type": "markdown",
   "id": "c3b7ba3b",
   "metadata": {},
   "source": [
    "##### Q7. Using setdefault() method, create key named topics in the given dictionary and also add the value of the key as this list ['Python', 'Machine Learning’, 'Deep Learning']"
   ]
  },
  {
   "cell_type": "code",
   "execution_count": 50,
   "id": "a67651da",
   "metadata": {},
   "outputs": [
    {
     "name": "stdout",
     "output_type": "stream",
     "text": [
      "{'language': 'Python', 'course': 'Data Science Masters', 'topics': ['Python', 'Machine Learning', 'Deep Learning']}\n"
     ]
    }
   ],
   "source": [
    "# given dictionary\n",
    "dict1 = {'language' : 'Python', 'course': 'Data Science Masters'}\n",
    "\n",
    "# use setdefault() method to create a new key 'topics' with a value of a list\n",
    "dict1.setdefault('topics', ['Python', 'Machine Learning', 'Deep Learning'])\n",
    "\n",
    "# print the updated dictionary\n",
    "print(dict1)\n"
   ]
  },
  {
   "cell_type": "markdown",
   "id": "a27c87e6",
   "metadata": {},
   "source": [
    "##### Q8. What are the three view objects in dictionaries? Use the three in-built methods in python to display these three view objects for the given dictionary.   dict1 = {'Sport': 'Cricket' , 'Teams': ['India', 'Australia', 'England', 'South Africa', 'Sri Lanka', 'New Zealand']}"
   ]
  },
  {
   "cell_type": "markdown",
   "id": "3b2d1438",
   "metadata": {},
   "source": [
    "Ans: In Python dictionaries, there are three view objects:\n",
    "\n",
    "1. dict.keys(): returns a view object of the keys in the dictionary\n",
    "2. dict.values(): returns a view object of the values in the dictionary\n",
    "3. dict.items(): returns a view object of the (key, value) pairs in the dictionary\n",
    "\n",
    "Here is an example code to display these three view objects for the given dictionary dict1:"
   ]
  },
  {
   "cell_type": "code",
   "execution_count": 51,
   "id": "10ca3c19",
   "metadata": {},
   "outputs": [
    {
     "name": "stdout",
     "output_type": "stream",
     "text": [
      "Keys: dict_keys(['Sport', 'Teams'])\n",
      "Values: dict_values(['Cricket', ['India', 'Australia', 'England', 'South Africa', 'Sri Lanka', 'New Zealand']])\n",
      "Items: dict_items([('Sport', 'Cricket'), ('Teams', ['India', 'Australia', 'England', 'South Africa', 'Sri Lanka', 'New Zealand'])])\n"
     ]
    }
   ],
   "source": [
    "# given dictionary\n",
    "dict1 = {'Sport': 'Cricket', \n",
    "         'Teams': ['India', 'Australia', 'England', 'South Africa', 'Sri Lanka', 'New Zealand']}\n",
    "\n",
    "# display view object of keys\n",
    "print(\"Keys:\", dict1.keys())\n",
    "\n",
    "# display view object of values\n",
    "print(\"Values:\", dict1.values())\n",
    "\n",
    "# display view object of (key, value) pairs\n",
    "print(\"Items:\", dict1.items())\n"
   ]
  }
 ],
 "metadata": {
  "kernelspec": {
   "display_name": "Python 3 (ipykernel)",
   "language": "python",
   "name": "python3"
  },
  "language_info": {
   "codemirror_mode": {
    "name": "ipython",
    "version": 3
   },
   "file_extension": ".py",
   "mimetype": "text/x-python",
   "name": "python",
   "nbconvert_exporter": "python",
   "pygments_lexer": "ipython3",
   "version": "3.10.9"
  }
 },
 "nbformat": 4,
 "nbformat_minor": 5
}
