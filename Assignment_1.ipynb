{
 "cells": [
  {
   "cell_type": "markdown",
   "id": "e2f87b0a",
   "metadata": {},
   "source": [
    "##### 1. Who developed Python Programming Language?"
   ]
  },
  {
   "cell_type": "markdown",
   "id": "3d1ba82e",
   "metadata": {},
   "source": [
    "###### => \n",
    "Python programming language was developed by Guido van Rossum in the late 1980s."
   ]
  },
  {
   "cell_type": "markdown",
   "id": "dacc8da0",
   "metadata": {},
   "source": [
    "##### 2. Which type of programming does python support?"
   ]
  },
  {
   "cell_type": "markdown",
   "id": "f429e8c0",
   "metadata": {},
   "source": [
    "###### => \n",
    "Python supports various programming paradigms such as:\n",
    "1. Procedural Programmming\n",
    "2. Object-Oriented Programming\n",
    "3. Functional Programming\n",
    "4. Event-Driven Programming"
   ]
  },
  {
   "cell_type": "markdown",
   "id": "94bcd76a",
   "metadata": {},
   "source": [
    "##### 3. Is python case sensitive when dealing with identifiers?"
   ]
  },
  {
   "cell_type": "markdown",
   "id": "025e985a",
   "metadata": {},
   "source": [
    "###### => \n",
    "Yes, Python is a case-sensitive programming language when dealing with identifiers such as variable names, function names, and class names. This means that the capitalization of letters in an identifier matters, and a variable or function with a different capitalization is treated as a different identifier."
   ]
  },
  {
   "cell_type": "markdown",
   "id": "e1746e85",
   "metadata": {},
   "source": [
    "##### 4. What is the correct extension of the Python file?"
   ]
  },
  {
   "cell_type": "markdown",
   "id": "0ed86496",
   "metadata": {},
   "source": [
    "###### =>\n",
    "The correct extension of a Python file is \".py\"."
   ]
  },
  {
   "cell_type": "markdown",
   "id": "6905376f",
   "metadata": {},
   "source": [
    "##### 5. Is python code compiled or interpreted?"
   ]
  },
  {
   "cell_type": "markdown",
   "id": "b2ae1f74",
   "metadata": {},
   "source": [
    "###### =>\n",
    "Python code is interpreted, rather than compiled. This means that Python source code is not directly translated into machine code that can be executed by a computer's processor. Instead, the Python interpreter reads and executes the code line by line at runtime."
   ]
  },
  {
   "cell_type": "markdown",
   "id": "c5ba17fa",
   "metadata": {},
   "source": [
    "##### 6. Name a few blocks of code used to define in Python language."
   ]
  },
  {
   "cell_type": "markdown",
   "id": "b9ddd33c",
   "metadata": {},
   "source": [
    "###### =>\n",
    "In Python, code blocks are defined by their indentation level. Here are some of the most common blocks of code used in Python:\n",
    "1. Function\n",
    "2. Class\n",
    "3. Conditionals statements\n",
    "4. Loops\n",
    "5. Exception handling"
   ]
  },
  {
   "cell_type": "markdown",
   "id": "10e750ec",
   "metadata": {},
   "source": [
    "##### 7. State a character used to give single-line comments in Python."
   ]
  },
  {
   "cell_type": "markdown",
   "id": "c4f9ee55",
   "metadata": {},
   "source": [
    "###### => \n",
    "In Python, a single-line comment can be created by placing the hash symbol (#) before the comment text."
   ]
  },
  {
   "cell_type": "markdown",
   "id": "000a013b",
   "metadata": {},
   "source": [
    "##### 8. Mention functions which can help us to find the version of python  that we are currently working on?"
   ]
  },
  {
   "cell_type": "markdown",
   "id": "f1f08dba",
   "metadata": {},
   "source": [
    "###### =>\n",
    "In Python, there are a few functions and attributes that can be used to find the version of Python that you are currently working on:\n",
    "1. sys.version()\n",
    "2. platform.python_version()\n",
    "3. sys..version_info()\n"
   ]
  },
  {
   "cell_type": "markdown",
   "id": "49434a5d",
   "metadata": {},
   "source": [
    "##### 9. Python supports the creation of anonymous functions at runtime, using a construct called..........."
   ]
  },
  {
   "cell_type": "markdown",
   "id": "5f5293f2",
   "metadata": {},
   "source": [
    "###### =>\n",
    "Python supports the creation of anonymous functions at runtime, using a construct called lambda functions."
   ]
  },
  {
   "cell_type": "markdown",
   "id": "e7427aeb",
   "metadata": {},
   "source": [
    "##### 10. What does pip stand for ?"
   ]
  },
  {
   "cell_type": "markdown",
   "id": "b92c6d3b",
   "metadata": {},
   "source": [
    "###### =>\n",
    "pip stands for \"pip install packages\"."
   ]
  },
  {
   "cell_type": "markdown",
   "id": "cf97676c",
   "metadata": {},
   "source": [
    "##### 11. Mention a few built-in functions in python."
   ]
  },
  {
   "cell_type": "markdown",
   "id": "01ba19a0",
   "metadata": {},
   "source": [
    "###### =>\n",
    "Python has a large number of built-in functions that are available for use without needing to import any modules. Here are some examples of commonly used built-in functions in Python:\n",
    "1. print()\n",
    "2. len()\n",
    "3. int()\n",
    "4. type()\n",
    "5. range()\n",
    "6. input()\n",
    "7. sum()\n",
    "8. sorted()\n",
    "9. abs()\n",
    "10. round()"
   ]
  },
  {
   "cell_type": "markdown",
   "id": "e9313af3",
   "metadata": {},
   "source": [
    "##### 12. What is the maximum possible length of an identifier in Python?"
   ]
  },
  {
   "cell_type": "markdown",
   "id": "c64e3460",
   "metadata": {},
   "source": [
    "###### =>\n",
    "In Python, the maximum length of an identifier is not explicitly defined."
   ]
  },
  {
   "cell_type": "markdown",
   "id": "c32a8f42",
   "metadata": {},
   "source": [
    "##### 13. What are the benefits of using python?"
   ]
  },
  {
   "cell_type": "markdown",
   "id": "3583df13",
   "metadata": {},
   "source": [
    "###### =>\n",
    "Python has many benefits as a programming language, some of which include:\n",
    "1. Easy to learn and use\n",
    "2. Large standard library\n",
    "3. Cross-plateform compatibility\n",
    "4. Third-party libraries and frameworks\n",
    "5. Rapid Development\n",
    "6. Scalability\n",
    "7. Community Support"
   ]
  },
  {
   "cell_type": "markdown",
   "id": "529f4c26",
   "metadata": {},
   "source": [
    "##### 14. How is memory managed in Python?"
   ]
  },
  {
   "cell_type": "markdown",
   "id": "a7eedf8b",
   "metadata": {},
   "source": [
    "###### =>\n",
    "Memory management in Python is handled automatically by the Python interpreter, using a system known as reference counting. Reference counting keeps track of the number of references to an object, and when the number of references to an object drops to zero, the memory used by that object is automatically freed up."
   ]
  },
  {
   "cell_type": "markdown",
   "id": "93a71659",
   "metadata": {},
   "source": [
    "##### 15. How to install Python on windows and set path variables?"
   ]
  },
  {
   "cell_type": "markdown",
   "id": "24c83da7",
   "metadata": {},
   "source": [
    "###### =>\n",
    "To install Python on windows and set path variables, we should follow these steps:\n",
    "To install Python on Windows and set path variables, you can follow these steps:\n",
    "\n",
    "1. Download the latest version of Python from the official website (https://www.python.org/downloads/windows/).\n",
    "\n",
    "2. Run the downloaded installation file and follow the instructions to complete the installation process. Make sure to select the option to add Python to your system PATH during the installation process.\n",
    "\n",
    "3. Once the installation is complete, open the Start menu and search for \"Environment Variables\". Click on \"Edit the system environment variables\" to open the System Properties window.\n",
    "\n",
    "4. Click on the \"Environment Variables\" button in the System Properties window.\n",
    "\n",
    "5. Under \"System variables\", scroll down and find the \"Path\" variable. Click on \"Edit\" to open the \"Edit environment variable\" window.\n",
    "\n",
    "6. Click on \"New\" to add a new path. Add the path to the Python installation directory (usually \"C:\\PythonXX\", where XX is the version number of Python).\n",
    "\n",
    "7. Click \"OK\" to close the \"Edit environment variable\" window and then click \"OK\" again to close the \"Environment Variables\" window.\n",
    "\n",
    "8. Restart any open command prompt windows for the changes to take effect.\n",
    "\n",
    "Once we complete these steps, we should be able to run Python from the command prompt by typing \"python\" and pressing enter. "
   ]
  },
  {
   "cell_type": "markdown",
   "id": "5d8ba9f1",
   "metadata": {},
   "source": [
    "##### 16. Is indentation required in python?"
   ]
  },
  {
   "cell_type": "markdown",
   "id": "4edbca98",
   "metadata": {},
   "source": [
    "###### =>\n",
    "Yes, indentation is required in Python. In fact, indentation is a fundamental aspect of Python's syntax and is used to define the structure of code blocks such as loops, functions, and conditional statements."
   ]
  }
 ],
 "metadata": {
  "kernelspec": {
   "display_name": "Python 3 (ipykernel)",
   "language": "python",
   "name": "python3"
  },
  "language_info": {
   "codemirror_mode": {
    "name": "ipython",
    "version": 3
   },
   "file_extension": ".py",
   "mimetype": "text/x-python",
   "name": "python",
   "nbconvert_exporter": "python",
   "pygments_lexer": "ipython3",
   "version": "3.10.9"
  }
 },
 "nbformat": 4,
 "nbformat_minor": 5
}
