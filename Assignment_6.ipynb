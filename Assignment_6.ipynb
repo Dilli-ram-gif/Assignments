{
 "cells": [
  {
   "cell_type": "markdown",
   "id": "97752ce7",
   "metadata": {},
   "source": [
    "### Feb - 05, Assignment"
   ]
  },
  {
   "cell_type": "markdown",
   "id": "4166bf92",
   "metadata": {},
   "source": [
    "#### Q1. Explain Class and Object with respect to Object-Oriented Programming. Give a suitable example."
   ]
  },
  {
   "cell_type": "markdown",
   "id": "01217503",
   "metadata": {},
   "source": [
    "Ans: In Object-Oriented Programming (OOP), a class is a blueprint or template for creating objects that share similar properties and behaviors. It is a user-defined data type that encapsulates data and functions that operate on that data.\n",
    "\n",
    "On the other hand, an object is an instance of a class. It is a concrete entity that has state (data) and behavior (functions). Objects are created from classes and can be used to interact with the program.\n",
    "\n",
    "Let's consider an example to illustrate this concept. Suppose we are building a program for a car rental company. We can define a class called \"Car\" that has attributes such as make, model, year, color, and price. The class can also have methods that define the behavior of a car object, such as start(), stop(), accelerate(), and brake()."
   ]
  },
  {
   "cell_type": "code",
   "execution_count": 11,
   "id": "00f1430b",
   "metadata": {},
   "outputs": [
    {
     "name": "stdout",
     "output_type": "stream",
     "text": [
      "The car has started.\n",
      "The car is accelerating.\n",
      "The car is braking.\n",
      "The car has stopped.\n",
      "The car has started.\n",
      "The car is accelerating.\n",
      "The car is braking.\n",
      "The car has stopped.\n"
     ]
    }
   ],
   "source": [
    "# Let's see an example:\n",
    "class Car:\n",
    "    def __init__(self, make, model, year, color, price):\n",
    "        self.make = make\n",
    "        self.model = model\n",
    "        self.year = year\n",
    "        self.color = color\n",
    "        self.price = price\n",
    "\n",
    "    def start(self):\n",
    "        print(\"The car has started.\")\n",
    "\n",
    "    def stop(self):\n",
    "        print(\"The car has stopped.\")\n",
    "\n",
    "    def accelerate(self):\n",
    "        print(\"The car is accelerating.\")\n",
    "\n",
    "    def brake(self):\n",
    "        print(\"The car is braking.\")\n",
    "\n",
    "# create car objects\n",
    "car1 = Car(\"Toyota\", \"Camry\", 2020, \"white\", 25000)\n",
    "car2 = Car(\"Honda\", \"Accord\", 2021, \"black\", 28000)\n",
    "\n",
    "# use the car objects\n",
    "car1.start()\n",
    "car1.accelerate()\n",
    "car1.brake()\n",
    "car1.stop()\n",
    "\n",
    "car2.start()\n",
    "car2.accelerate()\n",
    "car2.brake()\n",
    "car2.stop()\n"
   ]
  },
  {
   "cell_type": "markdown",
   "id": "5d31fba5",
   "metadata": {},
   "source": [
    "#### Q2. Name the four pillars of OOPs."
   ]
  },
  {
   "cell_type": "markdown",
   "id": "5a57c42e",
   "metadata": {},
   "source": [
    "Ans: The four pillars of Object-Oriented Programming (OOP) are:\n",
    "\n",
    "1. Encapsulation: Encapsulation refers to the practice of bundling data and methods that operate on that data within a single unit or class. It allows for better data hiding and protects the data from external interference, thereby improving security and reducing code complexity.\n",
    "\n",
    "2. Inheritance: Inheritance is a mechanism by which a new class is created from an existing class by inheriting its properties and methods. The new class is called a subclass or derived class, and the existing class is called the superclass or base class. Inheritance allows for code reuse, reduces code duplication, and enables the creation of hierarchical class structures.\n",
    "\n",
    "3. Polymorphism: Polymorphism refers to the ability of objects of different classes to be treated as if they are of the same class. It allows for code to be written that can work with objects of multiple classes, providing flexibility and extensibility to the program. Polymorphism is achieved through method overloading and method overriding.\n",
    "\n",
    "4. Abstraction: Abstraction refers to the process of identifying essential features of an object and ignoring irrelevant details. It allows for the creation of abstract data types that can be used to represent complex systems or concepts. Abstraction helps to reduce complexity, improve code readability, and provide a high-level view of the system being modeled."
   ]
  },
  {
   "cell_type": "markdown",
   "id": "948e5a7b",
   "metadata": {},
   "source": [
    "#### Q3. Explain why the __init__() function is used. Give a suitable example."
   ]
  },
  {
   "cell_type": "markdown",
   "id": "ac3a4cd0",
   "metadata": {},
   "source": [
    "Ans: In Object-Oriented Programming (OOP), the __init__() function is a special method that is called when an object is created from a class. It is also known as a constructor. The purpose of the __init__() function is to initialize the attributes or properties of the object with default or user-defined values.\n",
    "\n",
    "Here's an example to illustrate this concept. Suppose we have a class called Person that represents a person with attributes such as name, age, and gender. We can define an __init__() method within the Person class that initializes these attributes with default values:"
   ]
  },
  {
   "cell_type": "code",
   "execution_count": 12,
   "id": "2b7190c5",
   "metadata": {},
   "outputs": [
    {
     "name": "stdout",
     "output_type": "stream",
     "text": [
      "John Doe\n",
      "30\n",
      "Male\n",
      "Jane Smith\n",
      "25\n",
      "Female\n"
     ]
    }
   ],
   "source": [
    "class Person:\n",
    "    def __init__(self, name=\"John Doe\", age=30, gender=\"Male\"):\n",
    "        self.name = name\n",
    "        self.age = age\n",
    "        self.gender = gender\n",
    "        \n",
    "        \n",
    "# create a Person object\n",
    "person1 = Person()\n",
    "\n",
    "# print the attributes of the Person object\n",
    "print(person1.name)    # output: John Doe\n",
    "print(person1.age)     # output: 30\n",
    "print(person1.gender)  # output: Male\n",
    "\n",
    "# create a Person object with custom attribute values\n",
    "person2 = Person(\"Jane Smith\", 25, \"Female\")\n",
    "\n",
    "# print the attributes of the Person object\n",
    "print(person2.name)    # output: Jane Smith\n",
    "print(person2.age)     # output: 25\n",
    "print(person2.gender)  # output: Female\n"
   ]
  },
  {
   "cell_type": "markdown",
   "id": "84567061",
   "metadata": {},
   "source": [
    "#### Q4. Why self is used in OOPs?"
   ]
  },
  {
   "cell_type": "markdown",
   "id": "c1d16be6",
   "metadata": {},
   "source": [
    "Ans: In Object-Oriented Programming (OOP), self is a special keyword that refers to the instance or object of a class. It is used to access the attributes and methods of the object within the class.\n",
    "\n",
    "When a method is called on an object, the object itself is passed to the method as the first argument. By convention, this argument is named self. Using self as the first argument in a method definition tells Python to pass the object to the method when it is called."
   ]
  },
  {
   "cell_type": "code",
   "execution_count": null,
   "id": "211d5e29",
   "metadata": {},
   "outputs": [],
   "source": []
  },
  {
   "cell_type": "markdown",
   "id": "cef7584c",
   "metadata": {},
   "source": [
    "Ans: Inheritance is a fundamental concept in Object-Oriented Programming (OOP) that allows a new class to be based on an existing class, inheriting its attributes and methods. The new class is called the subclass or derived class, and the existing class is called the superclass or base class. The idea is that the subclass is a more specialized version of the superclass, with additional features or behavior.\n",
    "\n",
    "There are four types of inheritance in Python:"
   ]
  },
  {
   "cell_type": "code",
   "execution_count": 13,
   "id": "bb4e7fc0",
   "metadata": {},
   "outputs": [
    {
     "name": "stdout",
     "output_type": "stream",
     "text": [
      "Max\n",
      "3\n",
      "Golden Retriever\n",
      "The dog barks\n"
     ]
    }
   ],
   "source": [
    "# 1. Single Inheritance:\n",
    "\n",
    "class Animal:\n",
    "    def __init__(self, name, age):\n",
    "        self.name = name\n",
    "        self.age = age\n",
    "\n",
    "    def make_sound(self):\n",
    "        print(\"The animal makes a sound\")\n",
    "\n",
    "class Dog(Animal):\n",
    "    def __init__(self, name, age, breed):\n",
    "        super().__init__(name, age)\n",
    "        self.breed = breed\n",
    "\n",
    "    def make_sound(self):\n",
    "        print(\"The dog barks\")\n",
    "\n",
    "# create a Dog object\n",
    "my_dog = Dog(\"Max\", 3, \"Golden Retriever\")\n",
    "\n",
    "# access the attributes and methods of the Dog object\n",
    "print(my_dog.name)    # output: Max\n",
    "print(my_dog.age)     # output: 3\n",
    "print(my_dog.breed)   # output: Golden Retriever\n",
    "my_dog.make_sound()   # output: The dog barks\n"
   ]
  },
  {
   "cell_type": "code",
   "execution_count": 14,
   "id": "f1223cd5",
   "metadata": {},
   "outputs": [
    {
     "name": "stdout",
     "output_type": "stream",
     "text": [
      "The animal can fly\n",
      "The animal can swim\n",
      "The duck quacks\n"
     ]
    }
   ],
   "source": [
    "# 2.Multiple Inheritance: \n",
    "class Flyer:\n",
    "    def fly(self):\n",
    "        print(\"The animal can fly\")\n",
    "\n",
    "class Swimmer:\n",
    "    def swim(self):\n",
    "        print(\"The animal can swim\")\n",
    "\n",
    "class Duck(Flyer, Swimmer):\n",
    "    def quack(self):\n",
    "        print(\"The duck quacks\")\n",
    "\n",
    "# create a Duck object\n",
    "my_duck = Duck()\n",
    "\n",
    "# access the attributes and methods of the Duck object\n",
    "my_duck.fly()    # output: The animal can fly\n",
    "my_duck.swim()   # output: The animal can swim\n",
    "my_duck.quack()  # output: The duck quacks\n"
   ]
  },
  {
   "cell_type": "code",
   "execution_count": 15,
   "id": "f78a9a0b",
   "metadata": {},
   "outputs": [
    {
     "name": "stdout",
     "output_type": "stream",
     "text": [
      "Max\n",
      "3\n",
      "The mammal nurses its young\n"
     ]
    }
   ],
   "source": [
    "# 3. Multi-level Inheritance:\n",
    "class Animal:\n",
    "    def __init__(self, name, age):\n",
    "        self.name = name\n",
    "        self.age = age\n",
    "\n",
    "class Mammal(Animal):\n",
    "    def nurse(self):\n",
    "        print(\"The mammal nurses its young\")\n",
    "\n",
    "class Dog(Mammal):\n",
    "    def bark(self):\n",
    "        print(\"The dog barks\")\n",
    "\n",
    "# create a Dog object\n",
    "my_dog = Dog(\"Max\", 3)\n",
    "\n",
    "# access the attributes and methods of the Dog object\n",
    "print(my_dog.name)    # output: Max\n",
    "print(my_dog.age)     # output: 3\n",
    "my_dog.nurse()        # output: The mammal nurses its young\n"
   ]
  }
 ],
 "metadata": {
  "kernelspec": {
   "display_name": "Python 3 (ipykernel)",
   "language": "python",
   "name": "python3"
  },
  "language_info": {
   "codemirror_mode": {
    "name": "ipython",
    "version": 3
   },
   "file_extension": ".py",
   "mimetype": "text/x-python",
   "name": "python",
   "nbconvert_exporter": "python",
   "pygments_lexer": "ipython3",
   "version": "3.10.9"
  }
 },
 "nbformat": 4,
 "nbformat_minor": 5
}
