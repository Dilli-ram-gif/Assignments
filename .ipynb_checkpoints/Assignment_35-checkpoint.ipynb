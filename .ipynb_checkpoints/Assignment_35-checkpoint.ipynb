{
 "cells": [
  {
   "cell_type": "markdown",
   "id": "e42393c7",
   "metadata": {},
   "source": [
    "### March 9, Advance Statistics -2 Assignment"
   ]
  },
  {
   "cell_type": "markdown",
   "id": "ddee1a09",
   "metadata": {},
   "source": [
    "#### Q1: What are the Probability Mass Function (PMF) and Probability Density Function (PDF)? Explain with an example."
   ]
  },
  {
   "cell_type": "markdown",
   "id": "d6211d45",
   "metadata": {},
   "source": [
    "#### Ans:\n",
    "- A Probability Mass Function (PMF) is a function that models the potential outcomes of a discrete random variable. It assigns probabilities to each possible value of the random variable. For example, consider a coin toss where the outcome can be either heads or tails. The PMF for this random variable would assign a probability of 0.5 to heads and 0.5 to tails.\n",
    "\n",
    "- A Probability Density Function (PDF) is used to describe the outcome of a continuous random variable. It assigns probabilities to ranges of values of the random variable. For example, consider the height of people in a population. The PDF for this random variable would assign probabilities to ranges of heights such as 5’6\" - 5’7\", 5’7\" - 5’8\", etc."
   ]
  },
  {
   "cell_type": "markdown",
   "id": "cd48b430",
   "metadata": {},
   "source": [
    "#### Q2: What is Cumulative Density Function (CDF)? Explain with an example. Why CDF is used?"
   ]
  },
  {
   "cell_type": "markdown",
   "id": "a6f2bf32",
   "metadata": {},
   "source": [
    "#### Ans:\n",
    "- A Cumulative Density Function (CDF) is a function that describes the probability that a random variable X takes on a value less than or equal to x. It is defined as the integral of the Probability Density Function (PDF) of X from negative infinity to x. The CDF is used to calculate probabilities for continuous random variables.\n",
    "\n",
    "- For example, consider rolling a fair six-sided die. Let X be the random variable representing the outcome of the roll. The CDF for X would be:\n",
    "\n",
    "P(X ≤ 1) = 1/6 P(X ≤ 2) = 2/6 P(X ≤ 3) = 3/6 P(X ≤ 4) = 4/6 P(X ≤ 5) = 5/6 P(X ≤ 6) = 6/6\n",
    "\n",
    "- The CDF is used to calculate probabilities for continuous random variables because it is difficult to assign probabilities to individual values of a continuous random variable. Instead, we assign probabilities to ranges of values using the PDF and then use the CDF to calculate probabilities for specific values."
   ]
  },
  {
   "cell_type": "markdown",
   "id": "297b8fd2",
   "metadata": {},
   "source": [
    "#### Q3: What are some examples of situations where the normal distribution might be used as a model? Explain how the parameters of the normal distribution relate to the shape of the distribution."
   ]
  },
  {
   "cell_type": "markdown",
   "id": "605e2fc0",
   "metadata": {},
   "source": [
    "#### Ans:\n",
    "- The normal distribution is used as a model in many situations where the data is distributed symmetrically around the mean. Some examples of real-world variables that can be normally distributed are heights, blood pressure, measurement error, and IQ scores.\n",
    "\n",
    "- The normal distribution is characterized by two parameters: the mean (μ) and the standard deviation (σ). The mean determines the location of the center of the distribution, while the standard deviation determines the spread of the distribution. Specifically, about 68% of the data falls within one standard deviation of the mean, about 95% falls within two standard deviations of the mean, and about 99.7% falls within three standard deviations of the mean."
   ]
  },
  {
   "cell_type": "markdown",
   "id": "a78d9a0c",
   "metadata": {},
   "source": [
    "#### Q4: Explain the importance of Normal Distribution. Give a few real-life examples of Normal Distribution."
   ]
  },
  {
   "cell_type": "markdown",
   "id": "5a2608da",
   "metadata": {},
   "source": [
    "#### Ans:\n",
    "- The normal distribution is important because it is used as a model in many situations where the data is distributed symmetrically around the mean. It is also important because of the Central Limit Theorem, which states that the sum of a large number of independent random variables will be approximately normally distributed.\n",
    "\n",
    "- Some real-life examples of normal distribution are heights, blood pressure, measurement error, and IQ scores . The normal distribution is also used in finance to model stock prices and returns."
   ]
  },
  {
   "cell_type": "markdown",
   "id": "fbcd1f16",
   "metadata": {},
   "source": [
    "#### Q5: What is Bernaulli Distribution? Give an Example. What is the difference between Bernoulli Distribution and Binomial Distribution?"
   ]
  },
  {
   "cell_type": "markdown",
   "id": "55956bd3",
   "metadata": {},
   "source": [
    "#### Ans:\n",
    "- The Bernoulli distribution is a discrete probability distribution that describes the outcomes of a single experiment that can have one of two possible outcomes. For example, flipping a coin is a Bernoulli trial because it can either result in heads or tails. The Bernoulli distribution is characterized by a single parameter p, which is the probability of success.\n",
    "\n",
    "- The binomial distribution is the sum of independent and identically distributed Bernoulli random variables. It describes the number of successes in a fixed number of independent trials. For example, flipping a coin 10 times and counting the number of heads is an example of a binomial distribution. The binomial distribution is characterized by two parameters: n, the number of trials, and p, the probability of success.\n",
    "\n",
    "- The difference between the Bernoulli distribution and the binomial distribution is that the Bernoulli distribution describes the outcomes of a single experiment with two possible outcomes, while the binomial distribution describes the number of successes in a fixed number of independent trials."
   ]
  },
  {
   "cell_type": "markdown",
   "id": "1ae51aa3",
   "metadata": {},
   "source": [
    "#### Q6. Consider a dataset with a mean of 50 and a standard deviation of 10. If we assume that the dataset is normally distributed, what is the probability that a randomly selected observation will be greater than 60? Use the appropriate formula and show your calculations."
   ]
  },
  {
   "cell_type": "markdown",
   "id": "fc6afb24",
   "metadata": {},
   "source": [
    "#### Ans:\n",
    "First, we need to standardize the value of 60 using the formula:\n",
    "\n",
    "z = (x - μ) / σ\n",
    "\n",
    "where x is the value we want to standardize, μ is the mean of the dataset, and σ is the standard deviation of the dataset.\n",
    "\n",
    "In this case:\n",
    "\n",
    "z = (60 - 50) / 10 = 1\n",
    "\n",
    "Next, we use a standard normal distribution table to find the probability that a z-score of 1 or greater occurs. The probability of a z-score of 1 or greater is approximately 0.1587.\n",
    "\n",
    "Therefore, the probability that a randomly selected observation from a normally distributed dataset with a mean of 50 and a standard deviation of 10 will be greater than 60 is approximately 0.1587."
   ]
  },
  {
   "cell_type": "markdown",
   "id": "89fb6de8",
   "metadata": {},
   "source": [
    "#### Q7: Explain uniform Distribution with an example."
   ]
  },
  {
   "cell_type": "markdown",
   "id": "1e855378",
   "metadata": {},
   "source": [
    "#### Ans:\n",
    "- The uniform distribution is a probability distribution that describes a situation where every possible outcome has an equal chance of occurring. In other words, the probability of each outcome is the same.\n",
    "\n",
    "- An example of a uniform distribution is rolling a fair six-sided die. Each number has an equal chance of being rolled, so the probability of rolling any number is 1/6. Another example is guessing a birthday. If you randomly approach a person and try to guess their birthday, the probability of their birthday falling exactly on the date you have guessed follows a uniform distribution."
   ]
  },
  {
   "cell_type": "markdown",
   "id": "23f169a4",
   "metadata": {},
   "source": [
    "#### Q8: What is the z score? State the importance of the z score."
   ]
  },
  {
   "cell_type": "markdown",
   "id": "7a0d8d2d",
   "metadata": {},
   "source": [
    "#### Ans:\n",
    "The z-score is a statistical measurement that compares a score to the mean of a group of scores. It is calculated by subtracting the mean from the score and then dividing by the standard deviation. The z-score is important because it lets statisticians and traders know whether a score falls within the norm for a given data set or deviates from it."
   ]
  },
  {
   "cell_type": "markdown",
   "id": "e238214d",
   "metadata": {},
   "source": [
    "#### Q9: What is Central Limit Theorem? State the significance of the Central Limit Theorem."
   ]
  },
  {
   "cell_type": "markdown",
   "id": "650e295d",
   "metadata": {},
   "source": [
    "#### Ans: \n",
    "The Central Limit Theorem is a statistical concept that states that the distribution of sample means will be normal, regardless of the shape of the population distribution"
   ]
  },
  {
   "cell_type": "markdown",
   "id": "c991af8e",
   "metadata": {},
   "source": [
    "- The significance of the Central Limit Theorem is that it allows us to use statistical techniques that assume a normal distribution. This is important for inferential statistics because it allows us to safely assume that the sampling distribution of the mean will be normal in most cases. This means that we can take advantage of statistical techniques that assume a normal distribution."
   ]
  },
  {
   "cell_type": "markdown",
   "id": "ed9721c7",
   "metadata": {},
   "source": [
    "#### Q10: State the assumptions of the Central Limit Theorem."
   ]
  },
  {
   "cell_type": "markdown",
   "id": "35f0628d",
   "metadata": {},
   "source": [
    "#### Ans:\n",
    "The assumptions of the Central Limit Theorem are that the sample size is large enough (usually n > 30), the sample is randomly selected, and the observations are independent."
   ]
  }
 ],
 "metadata": {
  "kernelspec": {
   "display_name": "Python 3 (ipykernel)",
   "language": "python",
   "name": "python3"
  },
  "language_info": {
   "codemirror_mode": {
    "name": "ipython",
    "version": 3
   },
   "file_extension": ".py",
   "mimetype": "text/x-python",
   "name": "python",
   "nbconvert_exporter": "python",
   "pygments_lexer": "ipython3",
   "version": "3.10.9"
  }
 },
 "nbformat": 4,
 "nbformat_minor": 5
}
