{
 "cells": [
  {
   "cell_type": "markdown",
   "id": "176c66d6",
   "metadata": {},
   "source": [
    "### Feb 26, Numpy Assignment - Part 4"
   ]
  },
  {
   "cell_type": "markdown",
   "id": "344cbf3e",
   "metadata": {},
   "source": [
    "Consider the below code to answer further questions:\n",
    "\n",
    "import numpy as np\n",
    "\n",
    "list_ = [ ‘1’ , ’2’ , ‘3’ , ‘4’ , ‘5’ ]\n",
    "\n",
    "array_list = np.array(object = list_)"
   ]
  },
  {
   "cell_type": "markdown",
   "id": "8f8ae508",
   "metadata": {},
   "source": [
    "#### Q1. Is there any difference in the data type of variables list_ and array_list? If there is then write a code to print the data types of both the variables."
   ]
  },
  {
   "cell_type": "markdown",
   "id": "2efbe7a5",
   "metadata": {},
   "source": [
    "#### Ans: \n",
    "Yes, there is a difference in the data type of variables list_ and array_list as list_ variable is of type list and array_list is of type array but they both are string in  python. We can see the data type of these two variables using the code below:"
   ]
  },
  {
   "cell_type": "code",
   "execution_count": 8,
   "id": "d682f191",
   "metadata": {},
   "outputs": [
    {
     "name": "stdout",
     "output_type": "stream",
     "text": [
      "The datatype of the list_ is  <class 'list'>\n",
      "The datatype of the array_list <class 'numpy.ndarray'>\n"
     ]
    }
   ],
   "source": [
    "import numpy as np\n",
    "\n",
    "list_ = [ '1', '2', '3', '4', '5' ]\n",
    "\n",
    "array_list = np.array(object = list_)\n",
    "\n",
    "print(\"The datatype of the list_ is \", type(list_))\n",
    "print(\"The datatype of the array_list\", type(array_list))"
   ]
  },
  {
   "cell_type": "markdown",
   "id": "15dc0d0b",
   "metadata": {},
   "source": [
    "#### Q2. Write a code to print the data type of each and every element of both the variables list_ and array_list."
   ]
  },
  {
   "cell_type": "code",
   "execution_count": 10,
   "id": "1943844a",
   "metadata": {},
   "outputs": [
    {
     "name": "stdout",
     "output_type": "stream",
     "text": [
      "[<class 'str'>, <class 'str'>, <class 'str'>, <class 'str'>, <class 'str'>]\n",
      "[<class 'numpy.str_'>, <class 'numpy.str_'>, <class 'numpy.str_'>, <class 'numpy.str_'>, <class 'numpy.str_'>]\n"
     ]
    }
   ],
   "source": [
    "# program to print the data type of variable list_\n",
    "data_type1 = []\n",
    "for element in list_:\n",
    "    data_type1.append(type(element))\n",
    "print(data_type1)\n",
    "\n",
    "\n",
    "#  program to print the data type of variable array_list\n",
    "data_type2 = []\n",
    "for every_element in array_list:\n",
    "    data_type2.append(type(every_element))\n",
    "print(data_type2)"
   ]
  },
  {
   "cell_type": "markdown",
   "id": "e49f69e7",
   "metadata": {},
   "source": [
    "#### Q3. Considering the following changes in the variable, array_list: array_list = np.array(object = list_, dtype = int) Will there be any difference in the data type of the elements present in both the variables, list_ and arra_list? If so then print the data types of each and every element present in both the variables, list_ and array_list."
   ]
  },
  {
   "cell_type": "markdown",
   "id": "f5003eab",
   "metadata": {},
   "source": [
    "#### Ans:\n",
    "Yes, there will be the differences in the data type of the elements present in both the the variables as the list_ variable will be having string type for the elements but the array_list will be having int type of the data."
   ]
  },
  {
   "cell_type": "code",
   "execution_count": 15,
   "id": "3a6bb70e",
   "metadata": {},
   "outputs": [
    {
     "name": "stdout",
     "output_type": "stream",
     "text": [
      "<class 'numpy.int32'>\n",
      "<class 'numpy.int32'>\n",
      "<class 'numpy.int32'>\n",
      "<class 'numpy.int32'>\n",
      "<class 'numpy.int32'>\n"
     ]
    }
   ],
   "source": [
    "# change the data type of the element of the array_list\n",
    "array_list = np.array(object= list_, dtype = int)\n",
    "\n",
    "# check the dtype of the element in the variable array_list\n",
    "for i in array_list:\n",
    "    print(type(i))"
   ]
  },
  {
   "cell_type": "code",
   "execution_count": 17,
   "id": "22dea444",
   "metadata": {},
   "outputs": [
    {
     "name": "stdout",
     "output_type": "stream",
     "text": [
      "<class 'str'>\n",
      "<class 'str'>\n",
      "<class 'str'>\n",
      "<class 'str'>\n",
      "<class 'str'>\n"
     ]
    }
   ],
   "source": [
    "# check the data type of the element for list_ variable\n",
    "for j in list_:\n",
    "    print(type(j))"
   ]
  },
  {
   "cell_type": "markdown",
   "id": "d4bc51e9",
   "metadata": {},
   "source": [
    "Here,now we can see that the data type of the element in array_list is int type but that of the list_ is still string type. So, "
   ]
  },
  {
   "cell_type": "markdown",
   "id": "5d723e42",
   "metadata": {},
   "source": [
    "Consider the below code to answer further questions:\n",
    "import numpy as np\n",
    "num_list = [ [ 1 , 2 , 3 ] , [ 4 , 5 , 6 ] ]\n",
    "num_array = np.array(object = num_list)"
   ]
  },
  {
   "cell_type": "markdown",
   "id": "c7455476",
   "metadata": {},
   "source": [
    "#### Q4. Write a code to find the following characteristics of variable, num_array:\n",
    "- (i) shape\n",
    "- (ii) size"
   ]
  },
  {
   "cell_type": "code",
   "execution_count": 21,
   "id": "77ea686e",
   "metadata": {},
   "outputs": [
    {
     "name": "stdout",
     "output_type": "stream",
     "text": [
      "The shape and the size of the num_array are as follow respectively: \n",
      "\n",
      "\n",
      " Shape: (2, 3)  \n",
      "\n",
      " Size:  6\n"
     ]
    }
   ],
   "source": [
    "## Ans:\n",
    "import numpy as np \n",
    "num_list = [ [ 1 , 2 , 3 ] , [ 4 , 5 , 6 ] ] \n",
    "num_array = np.array(object = num_list)\n",
    "\n",
    "# To find the shape and size of the array, shape and size properties can be used\n",
    "print(\"The shape and the size of the num_array are as follow respectively: \\n\\n\\n\", \n",
    "      \"Shape:\",num_array.shape, \" \\n\\n Size: \", num_array.size)"
   ]
  },
  {
   "cell_type": "markdown",
   "id": "9bbd941b",
   "metadata": {},
   "source": [
    "#### Q5. Write a code to create numpy array of 3*3 matrix containing zeros only, using a numpy arra  creation function. [Hint: The size of the array will be 9 and the shape will be (3,3).]"
   ]
  },
  {
   "cell_type": "code",
   "execution_count": 32,
   "id": "41b20ef3",
   "metadata": {},
   "outputs": [],
   "source": [
    "# import the necessary library\n",
    "import numpy as np\n",
    "zero_matrix = np.zeros((3,3))"
   ]
  },
  {
   "cell_type": "code",
   "execution_count": 33,
   "id": "fdabd0ea",
   "metadata": {},
   "outputs": [
    {
     "name": "stdout",
     "output_type": "stream",
     "text": [
      "The shape of the matrix : (3, 3) \n",
      "\n",
      "The size of the matrix : 9\n"
     ]
    }
   ],
   "source": [
    "# indentity matrix of rank 3 X 3 with all the elements zeros\n",
    "zero_matrix\n",
    "\n",
    "# print the shape and size of the matrix\n",
    "print(\"The shape of the matrix :\",zero_matrix.shape, \"\\n\\nThe size of the matrix :\",zero_matrix.size)"
   ]
  },
  {
   "cell_type": "markdown",
   "id": "7b3544bd",
   "metadata": {},
   "source": [
    "#### Q6. Create an identity matrix of shape (5,5) using numpy functions? [Hint: An identity matrix is a matrix containing 1 diagonally and other elements will be 0.]"
   ]
  },
  {
   "cell_type": "code",
   "execution_count": 35,
   "id": "99fac7fb",
   "metadata": {},
   "outputs": [
    {
     "name": "stdout",
     "output_type": "stream",
     "text": [
      "[[1. 0. 0. 0. 0.]\n",
      " [0. 1. 0. 0. 0.]\n",
      " [0. 0. 1. 0. 0.]\n",
      " [0. 0. 0. 1. 0.]\n",
      " [0. 0. 0. 0. 1.]]\n"
     ]
    }
   ],
   "source": [
    "import numpy as np\n",
    "identity_matrix = np.eye(5)\n",
    "print(identity_matrix)"
   ]
  }
 ],
 "metadata": {
  "kernelspec": {
   "display_name": "Python 3 (ipykernel)",
   "language": "python",
   "name": "python3"
  },
  "language_info": {
   "codemirror_mode": {
    "name": "ipython",
    "version": 3
   },
   "file_extension": ".py",
   "mimetype": "text/x-python",
   "name": "python",
   "nbconvert_exporter": "python",
   "pygments_lexer": "ipython3",
   "version": "3.10.9"
  }
 },
 "nbformat": 4,
 "nbformat_minor": 5
}
