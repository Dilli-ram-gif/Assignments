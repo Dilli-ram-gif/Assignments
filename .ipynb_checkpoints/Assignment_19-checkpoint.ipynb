{
 "cells": [
  {
   "cell_type": "markdown",
   "id": "b0a82e0a",
   "metadata": {},
   "source": [
    "### Feb 12, Assignment"
   ]
  },
  {
   "cell_type": "markdown",
   "id": "651a12bf",
   "metadata": {},
   "source": [
    "##### Q1. What is an Exception in python? Write the difference between Exeptions and Syntax errors."
   ]
  },
  {
   "cell_type": "markdown",
   "id": "7f9548f3",
   "metadata": {},
   "source": [
    "Ans: \n",
    "In Python, an exception is an error that occurs during the execution of a program. When an exception occurs, the Python interpreter raises an exception object and stops executing the program. \n",
    "\n",
    "The main difference between exceptions and syntax errors is that syntax errors occur when the Python interpreter cannot understand the code, whereas exceptions occur when the code is syntactically correct but there is an error during its execution. "
   ]
  },
  {
   "cell_type": "markdown",
   "id": "104e6856",
   "metadata": {},
   "source": [
    "#### Q2. What hppens when an exception is not handled? Explain with an example."
   ]
  },
  {
   "cell_type": "markdown",
   "id": "ecea4860",
   "metadata": {},
   "source": [
    "Ans: \n",
    "When an exception is not handled, the program will terminate abruptly and an error message will be displayed that indicates the type of exception that occurred and where it occurred in the program. "
   ]
  },
  {
   "cell_type": "code",
   "execution_count": 1,
   "id": "65107217",
   "metadata": {},
   "outputs": [
    {
     "ename": "ZeroDivisionError",
     "evalue": "division by zero",
     "output_type": "error",
     "traceback": [
      "\u001b[1;31m---------------------------------------------------------------------------\u001b[0m",
      "\u001b[1;31mZeroDivisionError\u001b[0m                         Traceback (most recent call last)",
      "Cell \u001b[1;32mIn[1], line 3\u001b[0m\n\u001b[0;32m      1\u001b[0m x \u001b[38;5;241m=\u001b[39m \u001b[38;5;241m10\u001b[39m\n\u001b[0;32m      2\u001b[0m y \u001b[38;5;241m=\u001b[39m \u001b[38;5;241m0\u001b[39m\n\u001b[1;32m----> 3\u001b[0m z \u001b[38;5;241m=\u001b[39m \u001b[43mx\u001b[49m\u001b[43m \u001b[49m\u001b[38;5;241;43m/\u001b[39;49m\u001b[43m \u001b[49m\u001b[43my\u001b[49m\n\u001b[0;32m      4\u001b[0m \u001b[38;5;28mprint\u001b[39m(z)\n",
      "\u001b[1;31mZeroDivisionError\u001b[0m: division by zero"
     ]
    }
   ],
   "source": [
    "# Code to demonstrate error message displaying the type or error and where it happened.\n",
    "x = 10\n",
    "y = 0\n",
    "z = x / y\n",
    "print(z)\n"
   ]
  },
  {
   "cell_type": "markdown",
   "id": "9c95ba35",
   "metadata": {},
   "source": [
    "In the above error message, it is seen that ZeroDivisionError error is raised  as any number cannot be divided by zero. Along with that, the location where it happened has also been shown in the error message.Since we have not included any exception handling code in our program to catch this exception.\n"
   ]
  },
  {
   "cell_type": "markdown",
   "id": "30292531",
   "metadata": {},
   "source": [
    "#### Q3. Which Python statements are used to catch and handle exceptions? Explain with an example."
   ]
  },
  {
   "cell_type": "markdown",
   "id": "a8c3468d",
   "metadata": {},
   "source": [
    "Ans: To catch and handle exceptions, we use the \"try\" and \"except\" statements.\n",
    "\n",
    "The 'try' statement is used to enclose the code that may raise an exception. If an exception is raised within the try block, the code within the corresponding \"except\" block will be executed to handle the exception. The except block must specify the type of exception that it is capable of handling."
   ]
  },
  {
   "cell_type": "code",
   "execution_count": 2,
   "id": "70bf7714",
   "metadata": {},
   "outputs": [
    {
     "name": "stdout",
     "output_type": "stream",
     "text": [
      "Enter a number: 10\n",
      "Enter another number: 0\n",
      "Error: Division by zero!\n"
     ]
    }
   ],
   "source": [
    "try:\n",
    "    x = int(input(\"Enter a number: \"))\n",
    "    y = int(input(\"Enter another number: \"))\n",
    "    z = x / y\n",
    "    print(\"Result: \", z)\n",
    "except ZeroDivisionError:\n",
    "    print(\"Error: Division by zero!\")\n",
    "except ValueError:\n",
    "    print(\"Error: Invalid input!\")\n"
   ]
  },
  {
   "cell_type": "markdown",
   "id": "1c2d5e82",
   "metadata": {},
   "source": [
    "In this example, the try block contains code that prompts the user to enter two numbers, divides the first number by the second number, and prints the result. If the user enters an invalid input, such as a non-numeric value or a zero as the second number, an exception will be raised.\n",
    "\n",
    "The except block following ZeroDivisionError handles the case where the user enters zero as the second number. The except block following ValueError handles the case where the user enters a non-numeric value.\n"
   ]
  },
  {
   "cell_type": "markdown",
   "id": "0b55b4f2",
   "metadata": {},
   "source": [
    "#### Q4. Explain with an example:\n",
    "    a. try and else\n",
    "    b. finally\n",
    "    c. raise"
   ]
  },
  {
   "cell_type": "code",
   "execution_count": null,
   "id": "447f554a",
   "metadata": {},
   "outputs": [],
   "source": []
  },
  {
   "cell_type": "code",
   "execution_count": null,
   "id": "ebc149b3",
   "metadata": {},
   "outputs": [],
   "source": []
  }
 ],
 "metadata": {
  "kernelspec": {
   "display_name": "Python 3 (ipykernel)",
   "language": "python",
   "name": "python3"
  },
  "language_info": {
   "codemirror_mode": {
    "name": "ipython",
    "version": 3
   },
   "file_extension": ".py",
   "mimetype": "text/x-python",
   "name": "python",
   "nbconvert_exporter": "python",
   "pygments_lexer": "ipython3",
   "version": "3.10.9"
  }
 },
 "nbformat": 4,
 "nbformat_minor": 5
}
