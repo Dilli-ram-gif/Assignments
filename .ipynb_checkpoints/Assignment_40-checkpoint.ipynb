{
 "cells": [
  {
   "cell_type": "markdown",
   "id": "492ff7db",
   "metadata": {},
   "source": [
    "### March 14, Statistics Advance - 7, Assignment"
   ]
  },
  {
   "cell_type": "markdown",
   "id": "8c32c35c",
   "metadata": {},
   "source": [
    "#### Q1. Write a Python function that takes in two arrays of data and calculates the F-value for a variance ratio test. The function should return the F-value and the corresponding p-value for the test."
   ]
  },
  {
   "cell_type": "code",
   "execution_count": 5,
   "id": "ccda790c",
   "metadata": {},
   "outputs": [],
   "source": [
    "#import necessary libraries\n",
    "import numpy as np\n",
    "import scipy.stats as stats\n",
    "\n",
    "#define a function\n",
    "def variance_ratio_test(x,y):\n",
    "    n = len(x)\n",
    "    m = len(y)\n",
    "    \n",
    "    #calculate variance\n",
    "    var_x = np.var(x, ddof = 1)\n",
    "    var_y = np.var(y, ddof = 1)\n",
    "\n",
    "    #calculate f-value\n",
    "    if var_x > var_y:\n",
    "        f_value = var_x/var_y\n",
    "    else:\n",
    "        f_value = var_y / var_x\n",
    "        \n",
    "    #calculate p-value\n",
    "    p_value = 1 - stats.f.cdf(f_value, n-1, m-1)\n",
    "    \n",
    "    #return the f_value and p_value\n",
    "    return f_value, p_value"
   ]
  },
  {
   "cell_type": "code",
   "execution_count": 8,
   "id": "48b0a47d",
   "metadata": {},
   "outputs": [
    {
     "name": "stdout",
     "output_type": "stream",
     "text": [
      "(4.132121212121212, 0.02307173039384569)\n"
     ]
    }
   ],
   "source": [
    "#check the function whether it works or not\n",
    "result = variance_ratio_test(np.array([1,2,3,4,5,6,7,8,9,10]), np.array([2,4,6,8,10,12,14,17,18,20]))\n",
    "print(result)"
   ]
  },
  {
   "cell_type": "markdown",
   "id": "0eb179a2",
   "metadata": {},
   "source": [
    "#### Q2. Given a significance level of 0.05 and the degrees of freedom for the numerator and denominator of an F-distribution, write a Python function that returns the critical F-value for a two-tailed test."
   ]
  },
  {
   "cell_type": "code",
   "execution_count": 9,
   "id": "0fbc0e7f",
   "metadata": {},
   "outputs": [],
   "source": [
    "#import necessary libraries\n",
    "import numpy as np\n",
    "import scipy.stats as stats\n",
    "\n",
    "# define function\n",
    "def critical_value(df1, df2, alpha):\n",
    "    \n",
    "    #calculate a f-critical value for a two tailed test\n",
    "    f_critical = stats.f.ppf(1 - alpha/2, df1, df2)\n",
    "    \n",
    "    #return f_critical\n",
    "    return f_critical\n",
    "\n",
    "#store result \n",
    "result = critical_value(5, 6, 0.05)"
   ]
  },
  {
   "cell_type": "code",
   "execution_count": 10,
   "id": "f200d0ec",
   "metadata": {},
   "outputs": [
    {
     "name": "stdout",
     "output_type": "stream",
     "text": [
      "5.987565126046928\n"
     ]
    }
   ],
   "source": [
    "print(result)"
   ]
  },
  {
   "cell_type": "markdown",
   "id": "6c4918af",
   "metadata": {},
   "source": [
    "#### Q3. Write a Python program that generates random samples from two normal distributions with known variances and uses an F-test to determine if the variances are equal. The program should output the F- value, degrees of freedom, and p-value for the test."
   ]
  },
  {
   "cell_type": "code",
   "execution_count": 18,
   "id": "ff9a31c3",
   "metadata": {},
   "outputs": [],
   "source": [
    "#import necessary libraries\n",
    "import numpy as np\n",
    "import scipy.stats as stats\n",
    "\n",
    "#Set random seed for reproducibility\n",
    "np.random.seed(123)\n",
    "\n",
    "#Define known variances and sample sizes\n",
    "var_x = 4\n",
    "var_y = 9\n",
    "n = 20\n",
    "m = 30\n",
    "\n",
    "#Generate random samples from normal distributions\n",
    "x = np.random.normal(loc=0, scale=np.sqrt(var_x), size=n)\n",
    "y = np.random.normal(loc=0, scale=np.sqrt(var_y), size=m)\n",
    "\n",
    "# Perform F-test for equality of variances\n",
    "if var_x > var_y:\n",
    "    f_value = var_x/var_y\n",
    "else:\n",
    "    f_value = var_y / var_x\n",
    "\n",
    "    \n",
    "p_value = stats.f.cdf(f_value, n-1, m-1)"
   ]
  },
  {
   "cell_type": "code",
   "execution_count": 19,
   "id": "a31f13c7",
   "metadata": {},
   "outputs": [
    {
     "name": "stdout",
     "output_type": "stream",
     "text": [
      "F-value: 2.25\n",
      "Degrees of freedom (numerator, denominator): 19 29\n",
      "p-value: 0.976153831282353\n"
     ]
    }
   ],
   "source": [
    "\n",
    "# Print results\n",
    "print(\"F-value:\", f_value)\n",
    "print(\"Degrees of freedom (numerator, denominator):\", n-1, m-1)\n",
    "print(\"p-value:\", p_value)\n"
   ]
  },
  {
   "cell_type": "markdown",
   "id": "9782a89b",
   "metadata": {},
   "source": [
    "#### Q4.The variances of two populations are known to be 10 and 15. A sample of 12 observations is taken from each population. Conduct an F-test at the 5% significance level to determine if the variances are significantly different."
   ]
  },
  {
   "cell_type": "code",
   "execution_count": 20,
   "id": "cce257b9",
   "metadata": {},
   "outputs": [
    {
     "name": "stdout",
     "output_type": "stream",
     "text": [
      "Fail to reject the null hypothesis. The variances are not significantly different.\n",
      "F-value: 0.9829721932551935\n",
      "p-value: 1.0222112803086683\n",
      "Degrees of freedom for the numerator: 11\n",
      "Degrees of freedom for the denominator: 11\n"
     ]
    }
   ],
   "source": [
    "import numpy as np\n",
    "import scipy.stats as stats\n",
    "\n",
    "# Define the sample variances and sample sizes\n",
    "var1 = 10\n",
    "var2 = 15\n",
    "n1 = 12\n",
    "n2 = 12\n",
    "\n",
    "# Generate two random samples from normal distributions\n",
    "x = np.random.normal(loc=0, scale=np.sqrt(var1), size=n1)\n",
    "y = np.random.normal(loc=0, scale=np.sqrt(var2), size=n2)\n",
    "\n",
    "# Calculate the sample variances\n",
    "s1_sq = np.var(x, ddof=1)\n",
    "s2_sq = np.var(y, ddof=1)\n",
    "\n",
    "# Calculate the F-statistic\n",
    "f_value = s1_sq / s2_sq\n",
    "\n",
    "# Calculate the degrees of freedom\n",
    "dfn = n1 - 1\n",
    "dfd = n2 - 1\n",
    "\n",
    "# Calculate the p-value\n",
    "p_value = stats.f.sf(f_value, dfn, dfd) * 2\n",
    "\n",
    "# Compare the p-value with the level of significance\n",
    "alpha = 0.05\n",
    "if p_value < alpha:\n",
    "    print(\"Reject the null hypothesis. The variances are significantly different.\")\n",
    "else:\n",
    "    print(\"Fail to reject the null hypothesis. The variances are not significantly different.\")\n",
    "    \n",
    "# Print the results\n",
    "print(\"F-value:\", f_value)\n",
    "print(\"p-value:\", p_value)\n",
    "print(\"Degrees of freedom for the numerator:\", dfn)\n",
    "print(\"Degrees of freedom for the denominator:\", dfd)\n"
   ]
  },
  {
   "cell_type": "markdown",
   "id": "58ceb1c5",
   "metadata": {},
   "source": [
    "#### Q5. A manufacturer claims that the variance of the diameter of a certain product is 0.005. A sample of 25 products is taken, and the sample variance is found to be 0.006. Conduct an F-test at the 1% significance level to determine if the claim is justified."
   ]
  },
  {
   "cell_type": "code",
   "execution_count": 21,
   "id": "eed26f3a",
   "metadata": {},
   "outputs": [
    {
     "name": "stdout",
     "output_type": "stream",
     "text": [
      "Critical F-value: 2.659072104348157\n"
     ]
    }
   ],
   "source": [
    "import scipy.stats as stats\n",
    "\n",
    "alpha = 0.01\n",
    "dfn,dfd = 24,24\n",
    "f_crit = stats.f.ppf(1-alpha, dfn, dfd)\n",
    "print('Critical F-value:', f_crit)\n"
   ]
  },
  {
   "cell_type": "code",
   "execution_count": 22,
   "id": "1c3d3e7c",
   "metadata": {},
   "outputs": [
    {
     "name": "stdout",
     "output_type": "stream",
     "text": [
      "Test statistic: 1.2\n"
     ]
    }
   ],
   "source": [
    "s2 = 0.006 # sample variance\n",
    "sigma2 = 0.005 # claimed population variance\n",
    "f = s2/sigma2\n",
    "print('Test statistic:', f)\n"
   ]
  },
  {
   "cell_type": "markdown",
   "id": "0b5f0528",
   "metadata": {},
   "source": [
    "##### Interpretation:\n",
    "Since the test statistic is less than the critical F-value, we fail to reject the null hypothesis. Therefore, we do not have enough evidence to conclude that the population variance is greater than the claimed variance. In other words, the manufacturer's claim is justified at the 1% significance level."
   ]
  },
  {
   "cell_type": "markdown",
   "id": "e8b1d226",
   "metadata": {},
   "source": [
    "##### Q6. Write a Python function that takes in the degrees of freedom for the numerator and denominator of an F-distribution and calculates the mean and variance of the distribution. The function should return the mean and variance as a tuple."
   ]
  },
  {
   "cell_type": "code",
   "execution_count": 23,
   "id": "dbfb2799",
   "metadata": {},
   "outputs": [],
   "source": [
    "import numpy as np\n",
    "\n",
    "def f_distribution_mean_var(dfn, dfd):\n",
    "    mean = dfd / (dfd - 2)\n",
    "    var = 2 * (dfn + dfd - 2) / (dfn * (dfd - 2) ** 2)\n",
    "    return mean, var\n"
   ]
  },
  {
   "cell_type": "code",
   "execution_count": 24,
   "id": "db9ea56e",
   "metadata": {},
   "outputs": [
    {
     "name": "stdout",
     "output_type": "stream",
     "text": [
      "(1.0714285714285714, 0.006122448979591836)\n"
     ]
    }
   ],
   "source": [
    "#check the function\n",
    "result = f_distribution_mean_var(20,30)\n",
    "print(result)"
   ]
  },
  {
   "cell_type": "markdown",
   "id": "757ed599",
   "metadata": {},
   "source": [
    "#### Q7. A random sample of 10 measurements is taken from a normal population with unknown variance. The sample variance is found to be 25. Another random sample of 15 measurements is taken from another normal population with unknown variance, and the sample variance is found to be 20. Conduct an F-test at the 10% significance level to determine if the variances are significantly different."
   ]
  },
  {
   "cell_type": "code",
   "execution_count": 26,
   "id": "79fd156d",
   "metadata": {},
   "outputs": [
    {
     "name": "stdout",
     "output_type": "stream",
     "text": [
      "F-value: 1.766983348783618\n",
      "Degrees of freedom (numerator, denominator): 9 14\n",
      "p-value: 0.8361786553842877\n",
      "The variances are not significantly different at the 10% significance level.\n"
     ]
    }
   ],
   "source": [
    "import numpy as np\n",
    "import scipy.stats as stats\n",
    "\n",
    "#define a function\n",
    "def variance_ratio_test(x,y):\n",
    "    n = len(x)\n",
    "    m = len(y)\n",
    "\n",
    "    #calculate variance\n",
    "    var_x = np.var(x, ddof = 1)\n",
    "    var_y = np.var(y, ddof = 1)\n",
    "\n",
    "    #calculate f-value\n",
    "    if var_x > var_y:\n",
    "        f_value = var_x/var_y\n",
    "    else:\n",
    "        f_value = var_y / var_x\n",
    "\n",
    "    #calculate p-value\n",
    "    p_value = stats.f.cdf(f_value, n-1, m-1)\n",
    "\n",
    "    #return the f_value and p_value\n",
    "    return f_value, p_value\n",
    "\n",
    "# Define sample variances and sample sizes\n",
    "var_x = 25\n",
    "var_y = 20\n",
    "n = 10\n",
    "m = 15\n",
    "\n",
    "# Perform F-test for equality of variances\n",
    "f_value, p_value = variance_ratio_test(np.random.normal(loc=0, scale=np.sqrt(var_x), size=n), \n",
    "                                       np.random.normal(loc=0, scale=np.sqrt(var_y), size=m))\n",
    "\n",
    "# Print results\n",
    "print(\"F-value:\", f_value)\n",
    "print(\"Degrees of freedom (numerator, denominator):\", n-1, m-1)\n",
    "print(\"p-value:\", p_value)\n",
    "\n",
    "# Check if the null hypothesis should be rejected\n",
    "if p_value < 0.10:\n",
    "    print(\"The variances are significantly different at the 10% significance level.\")\n",
    "else:\n",
    "    print(\"The variances are not significantly different at the 10% significance level.\")\n"
   ]
  },
  {
   "cell_type": "markdown",
   "id": "f59e0f16",
   "metadata": {},
   "source": [
    "#### Q8. The following data represent the waiting times in minutes at two different restaurants on a Saturday night: Restaurant A: 24, 25, 28, 23, 22, 20, 27; Restaurant B: 31, 33, 35, 30, 32, 36. Conduct an F-test at the 5% significance level to determine if the variances are significantly different."
   ]
  },
  {
   "cell_type": "code",
   "execution_count": 27,
   "id": "0f489b3f",
   "metadata": {},
   "outputs": [
    {
     "name": "stdout",
     "output_type": "stream",
     "text": [
      "Sample variance for Restaurant A: 7.80952380952381\n",
      "Sample variance for Restaurant B: 5.366666666666667\n"
     ]
    }
   ],
   "source": [
    "# calculate variances for each restaurants:\n",
    "import numpy as np\n",
    "\n",
    "# Sample waiting times at each restaurant\n",
    "a = np.array([24, 25, 28, 23, 22, 20, 27])\n",
    "b = np.array([31, 33, 35, 30, 32, 36])\n",
    "\n",
    "# Sample variances\n",
    "var_a = np.var(a, ddof=1)\n",
    "var_b = np.var(b, ddof=1)\n",
    "\n",
    "print(\"Sample variance for Restaurant A:\", var_a)\n",
    "print(\"Sample variance for Restaurant B:\", var_b)\n"
   ]
  },
  {
   "cell_type": "code",
   "execution_count": 28,
   "id": "877df2ee",
   "metadata": {},
   "outputs": [
    {
     "name": "stdout",
     "output_type": "stream",
     "text": [
      "F-value: 1.4551907719609583\n",
      "P-value: 0.3487407873968742\n"
     ]
    }
   ],
   "source": [
    "#Conduct the F-test with a level of significance of 0.05\n",
    "import scipy.stats as stats\n",
    "\n",
    "# Degrees of freedom for each sample\n",
    "n_a = len(a)\n",
    "n_b = len(b)\n",
    "\n",
    "# F-value\n",
    "f_value = var_a / var_b\n",
    "\n",
    "# P-value\n",
    "p_value = 1 - stats.f.cdf(f_value, n_a-1, n_b-1)\n",
    "\n",
    "print(\"F-value:\", f_value)\n",
    "print(\"P-value:\", p_value)\n"
   ]
  },
  {
   "cell_type": "markdown",
   "id": "c5f4ad0d",
   "metadata": {},
   "source": [
    "##### Interpretation:\n",
    "The calculated p-value is greater than 0.05, so we fail to reject the null hypothesis that the variances are equal. \n",
    "##### Conclusion:\n",
    "Therefore, we can conclude that there is not enough evidence to suggest that the variances of waiting times at the two restaurants are significantly different."
   ]
  },
  {
   "cell_type": "markdown",
   "id": "a2ed0869",
   "metadata": {},
   "source": [
    "#### Q9. The following data represent the test scores of two groups of students: Group A: 80, 85, 90, 92, 87, 83;\n",
    "#### Group B: 75, 78, 82, 79, 81, 84. Conduct an F-test at the 1% significance level to determine if the variances are significantly different."
   ]
  },
  {
   "cell_type": "code",
   "execution_count": 30,
   "id": "c73f20a8",
   "metadata": {},
   "outputs": [
    {
     "name": "stdout",
     "output_type": "stream",
     "text": [
      "0.7584478225464656\n",
      "The variances are not significantly different.\n"
     ]
    }
   ],
   "source": [
    "#import necesary libraries:\n",
    "import numpy as np\n",
    "import scipy.stats as stats\n",
    "\n",
    "# define the data\n",
    "group_a = [80, 85, 90, 92, 87, 83]\n",
    "group_b = [75, 78, 82, 79, 81, 84]\n",
    "\n",
    "# calculate the variances\n",
    "var_a = np.var(group_a, ddof=1)\n",
    "var_b = np.var(group_b, ddof=1)\n",
    "\n",
    "# calculate the f-value\n",
    "if var_a > var_b:\n",
    "    f_value = var_a / var_b\n",
    "else:\n",
    "    f_value = var_b / var_a\n",
    "\n",
    "# calculate the degrees of freedom\n",
    "degree_a = len(group_a)\n",
    "degree_b = len(group_b)\n",
    "dfn = degree_a - 1\n",
    "dfd = degree_b - 1\n",
    "\n",
    "# calculate the p-value\n",
    "p_value = stats.f.cdf(f_value, dfn, dfd)\n",
    "\n",
    "print(p_value)\n",
    "# determine if the variances are significantly different\n",
    "alpha = 0.01\n",
    "if p_value < alpha:\n",
    "    print(\"The variances are significantly different.\")\n",
    "else:\n",
    "    print(\"The variances are not significantly different.\")"
   ]
  },
  {
   "cell_type": "markdown",
   "id": "f84cbb95",
   "metadata": {},
   "source": [
    "##### Interpretation:\n",
    "From above calculation, it can be seen that p-value is greater than level of significance so there is strong evidence to reject null hypothesis.\n",
    "\n",
    "##### Conclusion:\n",
    "We can conclude that there is not enough evidence to suggest that the variances of the two groups are significantly different at the 1% significance level."
   ]
  }
 ],
 "metadata": {
  "kernelspec": {
   "display_name": "Python 3 (ipykernel)",
   "language": "python",
   "name": "python3"
  },
  "language_info": {
   "codemirror_mode": {
    "name": "ipython",
    "version": 3
   },
   "file_extension": ".py",
   "mimetype": "text/x-python",
   "name": "python",
   "nbconvert_exporter": "python",
   "pygments_lexer": "ipython3",
   "version": "3.10.9"
  }
 },
 "nbformat": 4,
 "nbformat_minor": 5
}
