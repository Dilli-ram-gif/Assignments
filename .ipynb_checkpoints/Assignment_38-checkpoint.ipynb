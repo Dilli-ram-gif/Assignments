{
 "cells": [
  {
   "cell_type": "markdown",
   "id": "e36c6d60",
   "metadata": {},
   "source": [
    "### Statistics Advance - 5 Assignment"
   ]
  },
  {
   "cell_type": "markdown",
   "id": "17007735",
   "metadata": {},
   "source": [
    "#### Q1. Calculate the 95% confidence interval for a sample of data with a mean of 50 and a standard deviation of 5 using Python. Interpret the results."
   ]
  },
  {
   "cell_type": "code",
   "execution_count": 10,
   "id": "d72031dc",
   "metadata": {},
   "outputs": [
    {
     "name": "stdout",
     "output_type": "stream",
     "text": [
      "Hence, the 95% confidence interval is  (49.02001800772997, 50.97998199227003)\n"
     ]
    }
   ],
   "source": [
    "import scipy.stats as stats\n",
    "\n",
    "#data given in the problem\n",
    "sample_mean = 50\n",
    "sample_std = 5\n",
    "\n",
    "#assume the sample size\n",
    "sample_size = 100\n",
    "\n",
    "#calculate the standard error\n",
    "standard_error = sample_std/(sample_size**0.5)\n",
    "\n",
    "#calculate confidence interval:\n",
    "confidence_interval = stats.norm.interval(0.95, loc=sample_mean, scale= standard_error)\n",
    "\n",
    "#printing the confidence interval:\n",
    "print(\"Hence, the 95% confidence interval is \", confidence_interval)\n"
   ]
  },
  {
   "cell_type": "markdown",
   "id": "4118c890",
   "metadata": {},
   "source": [
    "#### Interpretation:\n",
    "\n",
    "The 95% confidence interval for the population mean based on this sample is (49.02001800772997, 50.97998199227003). This means that if we take multiple random samples from the same population, and construct a confidence interval for the population mean based on each sample, we would expect approximately 95% of those intervals to contain the true population mean. We can also say with 95% confidence that the true population mean falls within this interval."
   ]
  },
  {
   "cell_type": "markdown",
   "id": "e16528e6",
   "metadata": {},
   "source": [
    "#### Q2. Conduct a chi-square goodness of fit test to determine if the distribution of colors of M&Ms in a bag matches the expected distribution of 20% blue, 20% orange, 20% green, 10% yellow, 10% red, and 20% brown. Use Python to perform the test with a significance level of 0.05."
   ]
  },
  {
   "cell_type": "code",
   "execution_count": 8,
   "id": "e93c8235",
   "metadata": {},
   "outputs": [
    {
     "name": "stdout",
     "output_type": "stream",
     "text": [
      "The null hypothesis should be rejected.\n",
      "Chi-square statistic: 64.17460317460318\n",
      "P-value: 1.662130491730958e-12\n"
     ]
    }
   ],
   "source": [
    "import numpy as np\n",
    "import scipy.stats as stats\n",
    "\n",
    "# Define observed values\n",
    "observed_values = np.array([110, 109, 102, 106, 100, 103])\n",
    "\n",
    "# Define expected values\n",
    "expected_values = np.array([.2*630, .2*630, .2*630, .1*630, .1*630, .2*630])\n",
    "\n",
    "# Calculate chi-square statistic\n",
    "chi_sq, p_value = stats.chisquare(observed_values, expected_values)\n",
    "\n",
    "\n",
    "\n",
    "\n",
    "\n",
    "##This is the another way of ma\n",
    "\n",
    "# # Define the significance level\n",
    "# alpha = 0.05\n",
    "\n",
    "# #degree of freedom\n",
    "# dof = len(observed_values) - 1\n",
    "\n",
    "# #critical value\n",
    "# critival_value = stats.chi2.ppf(1 - alpha, dof)\n",
    "\n",
    "\n",
    "# #print critical value\n",
    "# print(\"The critical value is: \", critival_value)\n",
    "\n",
    "\n",
    "# #compare chi_aq and critical value\n",
    "# if chi_sq > critival_value:\n",
    "#     print(\"Reject the null hypothesis.\")\n",
    "    \n",
    "# else:\n",
    "#     print(\"Accept the null hypothesis.\")\n",
    "# Determine if the null hypothesis should be rejected\n",
    "if p_value < alpha:\n",
    "    print(\"The null hypothesis should be rejected.\")\n",
    "else:\n",
    "    print(\"The null hypothesis cannot be rejected.\")\n",
    "    \n",
    "# Print the results\n",
    "print(\"Chi-square statistic:\", chi_sq)\n",
    "print(\"P-value:\", p_value)"
   ]
  },
  {
   "cell_type": "markdown",
   "id": "38588ed8",
   "metadata": {},
   "source": [
    "#### Q3. Use Python to calculate the chi-square statistic and p-value for a contingency table with the following data:"
   ]
  },
  {
   "attachments": {
    "image.png": {
     "image/png": "[encoded data removed]"
    }
   },
   "cell_type": "markdown",
   "id": "2789934a",
   "metadata": {},
   "source": [
    "![image.png](attachment:image.png)"
   ]
  },
  {
   "cell_type": "code",
   "execution_count": 14,
   "id": "e13fcd03",
   "metadata": {},
   "outputs": [
    {
     "name": "stdout",
     "output_type": "stream",
     "text": [
      "Chi-square statistic: 5.833333333333334\n",
      "P-value: 0.05411376622282158\n"
     ]
    }
   ],
   "source": [
    "import numpy as np\n",
    "import scipy.stats as stats\n",
    "\n",
    "# observed data\n",
    "observed = np.array([[20, 10, 15], [15, 25, 20]])\n",
    "\n",
    "# calculate chi-square statistic and p-value\n",
    "chi2, p, dof, expected = stats.chi2_contingency(observed)\n",
    "\n",
    "# print results\n",
    "print(f\"Chi-square statistic: {chi2}\")\n",
    "print(f\"P-value: {p}\")\n"
   ]
  },
  {
   "cell_type": "markdown",
   "id": "8cbee42f",
   "metadata": {},
   "source": [
    "##### Q4. A study of the prevalence of smoking in a population of 500 individuals found that 60 individuals smoked. Use Python to calculate the 95% confidence interval for the true proportion of individuals in the population who smoke."
   ]
  },
  {
   "cell_type": "code",
   "execution_count": 25,
   "id": "4a968a5a",
   "metadata": {},
   "outputs": [
    {
     "name": "stdout",
     "output_type": "stream",
     "text": [
      "Z-value: 1.9600\n",
      "The 95% confidence interval is: [0.09151638887130707, 0.1484836111286929]\n"
     ]
    }
   ],
   "source": [
    "import scipy.stats as stats\n",
    "\n",
    "\n",
    "#number of smokers\n",
    "smokers = 60\n",
    "\n",
    "#total population\n",
    "population = 500\n",
    "\n",
    "#probability of smokers\n",
    "p = smokers/population\n",
    "\n",
    "q = 1 - p\n",
    "\n",
    "# standard error \n",
    "standard_error = ((p*q)/population)**0.5\n",
    "\n",
    "#confidence interval\n",
    "confidence = 0.95\n",
    "\n",
    "#level of significance\n",
    "significance = 1 - confidence\n",
    "\n",
    "\n",
    "# calculate z-value\n",
    "z_value = stats.norm.ppf(1 - 0.05/2)\n",
    "print(f\"Z-value: {z_value:.4f}\")\n",
    "\n",
    "#calculate confidence interval\n",
    "lower_bound = p - z_value*standard_error\n",
    "upper_bound = p + z_value*standard_error\n",
    "\n",
    "\n",
    "#print result\n",
    "print(f\"The 95% confidence interval is: [{lower_bound}, {upper_bound}]\")"
   ]
  },
  {
   "cell_type": "markdown",
   "id": "966050af",
   "metadata": {},
   "source": [
    "#### Q5. Calculate the 90% confidence interval for a sample of data with a mean of 75 and a standard deviation of 12 using Python. Interpret the results."
   ]
  },
  {
   "cell_type": "code",
   "execution_count": 30,
   "id": "a9c1e673",
   "metadata": {},
   "outputs": [
    {
     "name": "stdout",
     "output_type": "stream",
     "text": [
      "Z-value:  1.64\n",
      "The 90% confidence interval is : [73.8, 76.2]\n"
     ]
    }
   ],
   "source": [
    "import scipy.stats as stats\n",
    "import math\n",
    "\n",
    "#mean given\n",
    "mean = 75\n",
    "\n",
    "#standard deviation given\n",
    "std = 12\n",
    "\n",
    "#sample size assumed to large enough to hold CI\n",
    "n = 100\n",
    "\n",
    "#confidence level\n",
    "confidence = 0.9\n",
    "\n",
    "#significance level\n",
    "significance = 1 - confidence\n",
    "\n",
    "#calculate z-value\n",
    "z_value = stats.norm.ppf(1 - significance/2)\n",
    "print(f\"Z-value: {z_value: .2f}\")\n",
    "\n",
    "#calculate lower bound and upper bound\n",
    "lower_bound = mean - std/math.sqrt(n)\n",
    "upper_bound = mean + std/math.sqrt(n)\n",
    "\n",
    "#print the CI\n",
    "print(f\"The 90% confidence interval is : [{lower_bound}, {upper_bound}]\")"
   ]
  },
  {
   "cell_type": "markdown",
   "id": "8af4db0a",
   "metadata": {},
   "source": [
    "#### Interpretation:\n",
    "This means that we can be 90% confident that the true population mean falls between  and 73.8 and 76.2. Another way to interpret this result is that if we were to take many samples of size 100 from this population, and calculate a 90% confidence interval for each sample, about 90% of those intervals would contain the true population mean."
   ]
  },
  {
   "cell_type": "markdown",
   "id": "f373296f",
   "metadata": {},
   "source": [
    "#### Q6. Use Python to plot the chi-square distribution with 10 degrees of freedom. Label the axes and shade the corresponding to a chi-square statistic of 15."
   ]
  },
  {
   "cell_type": "code",
   "execution_count": 36,
   "id": "39f55c98",
   "metadata": {},
   "outputs": [],
   "source": [
    "import numpy\n",
    "import matplotlib.pyplot as plt\n",
    "import scipy.stats as stats"
   ]
  },
  {
   "cell_type": "code",
   "execution_count": 46,
   "id": "307e7b99",
   "metadata": {},
   "outputs": [
    {
     "data": {
      "image/png": "[encoded data removed]",
      "text/plain": [
       "<Figure size 640x480 with 1 Axes>"
      ]
     },
     "metadata": {},
     "output_type": "display_data"
    }
   ],
   "source": [
    "\n",
    "x = np.arange(0, 30, 0.001)\n",
    "y = stats.chi2.pdf(x, df = 10)\n",
    "plt.plot(x,y)\n",
    "\n",
    "#shade to a chi-square statistic of 15\n",
    "x2 = np.arange(15, 30, 0.001)\n",
    "y2 = stats.chi2.pdf(x2, df = 10) \n",
    "plt.fill_between(x2, y2, color = 'red')\n",
    "\n",
    "#label\n",
    "plt.xlabel(\"Chi-Square statistic\")\n",
    "plt.ylabel(\"Probability density\")\n",
    "plt.show()"
   ]
  },
  {
   "cell_type": "code",
   "execution_count": null,
   "id": "787c39b2",
   "metadata": {},
   "outputs": [],
   "source": []
  },
  {
   "cell_type": "code",
   "execution_count": null,
   "id": "98a368fc",
   "metadata": {},
   "outputs": [],
   "source": []
  }
 ],
 "metadata": {
  "kernelspec": {
   "display_name": "Python 3 (ipykernel)",
   "language": "python",
   "name": "python3"
  },
  "language_info": {
   "codemirror_mode": {
    "name": "ipython",
    "version": 3
   },
   "file_extension": ".py",
   "mimetype": "text/x-python",
   "name": "python",
   "nbconvert_exporter": "python",
   "pygments_lexer": "ipython3",
   "version": "3.10.9"
  }
 },
 "nbformat": 4,
 "nbformat_minor": 5
}
