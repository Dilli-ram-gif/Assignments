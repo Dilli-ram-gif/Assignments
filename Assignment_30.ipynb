{
 "cells": [
  {
   "cell_type": "markdown",
   "id": "21db606c",
   "metadata": {},
   "source": [
    "### March 5, Bokeh Assignment"
   ]
  },
  {
   "cell_type": "markdown",
   "id": "2792f54c",
   "metadata": {},
   "source": [
    "##### Q1. How can you create a Bokeh plot using Python code?"
   ]
  },
  {
   "cell_type": "markdown",
   "id": "304acbaa",
   "metadata": {},
   "source": [
    "##### Ans:\n",
    "A Bokeh plot can be created using Python code as shown in the example code below:   "
   ]
  },
  {
   "cell_type": "code",
   "execution_count": 6,
   "id": "d490d514",
   "metadata": {},
   "outputs": [],
   "source": [
    "# Step:1  Import necessary Bokeh modules and functions\n",
    "from bokeh.plotting import figure, output_file, show\n",
    "\n",
    "# Step:2 Prepare data and create data source object\n",
    "x = [1, 2, 3, 4, 5]\n",
    "y = [2, 4, 6, 8, 10]\n",
    "data_source = {'x': x, 'y': y}\n",
    "\n",
    "# Step:3 Create a figure object with plot attributes\n",
    "p = figure(title='Line Plot', x_axis_label='X-axis', y_axis_label='Y-axis')\n",
    "\n",
    "# Step:4 Add a line glyph to the figure object\n",
    "p.line(x='x', y='y', source=data_source)\n",
    "\n",
    "# Step:5 Customize glyph attributes\n",
    "p.outline_line_color = 'red'\n",
    "\n",
    "# Step:6 Show the plot\n",
    "show(p)\n"
   ]
  },
  {
   "attachments": {
    "image.png": {
     "image/png": "[encoded data removed]"
    }
   },
   "cell_type": "markdown",
   "id": "97b4cfeb",
   "metadata": {},
   "source": [
    "![image.png](attachment:image.png)"
   ]
  },
  {
   "cell_type": "markdown",
   "id": "72d029c0",
   "metadata": {},
   "source": [
    "#### Q2. What are glyphs in Bokeh, and how can you add them to a Bokeh plot? Explain with an example."
   ]
  },
  {
   "cell_type": "markdown",
   "id": "21358787",
   "metadata": {},
   "source": [
    "#### Ans:\n",
    "In Bokeh, a glyph is a visual mark that represents data in a plot, such as a line, circle, square, or triangle. Glyphs are added to a Bokeh plot using glyph methods, such as line, circle, square, and triangle, among others."
   ]
  },
  {
   "cell_type": "code",
   "execution_count": 11,
   "id": "a567826b",
   "metadata": {},
   "outputs": [],
   "source": [
    "# Example code for glyphs in Bokeh is given below:\n",
    "\n",
    "\n",
    "# Import necessary Bokeh modules and functions\n",
    "from bokeh.plotting import figure,ColumnDataSource, output_file, show\n",
    "from bokeh.sampledata.iris import flowers as iris_data\n",
    "\n",
    "# Prepare data and create data source object\n",
    "iris_df = iris_data.copy()\n",
    "iris_df['petal_ratio'] = iris_df['petal_length'] / iris_df['petal_width']\n",
    "iris_source = ColumnDataSource(iris_df)\n",
    "\n",
    "# Create a figure object with plot attributes\n",
    "p = figure(title='Iris Scatter Plot', x_axis_label='Petal Length', y_axis_label='Petal Width')\n",
    "\n",
    "# Add circle and triangle glyphs to the figure object\n",
    "p.circle(x='petal_length', y='petal_width', source=iris_source, size=8, color='species_color', alpha=0.8)\n",
    "p.triangle(x='petal_length', y='petal_ratio', source=iris_source, size=8, color='species_color', alpha=0.8)\n",
    "\n",
    "# Customize glyph attributes\n",
    "p.legend.location = 'top_left'\n",
    "p.legend.title = 'Species'\n",
    "p.legend.click_policy = 'hide'\n",
    "\n",
    "# Show the plot\n",
    "show(p)\n"
   ]
  },
  {
   "cell_type": "markdown",
   "id": "47cbeb7b",
   "metadata": {},
   "source": [
    "#### Q3. How can you customize the appearance of a Bokeh plot, including the axes, title, and legend?"
   ]
  },
  {
   "cell_type": "markdown",
   "id": "4aad2101",
   "metadata": {},
   "source": [
    "#### Ans:\n",
    "Bokeh provides several ways to customize the appearance of a plot, including the axes, title, and legend. Some of the ways to customize a Bokeh plot are:\n",
    "\n",
    "Setting plot attributes: You can use the various attributes of the figure object to customize the plot. For example, you can set the plot title using the title attribute, and the axis labels using the x_axis_label and y_axis_label attributes.\n",
    "\n",
    "Customizing axis properties: You can customize various properties of the plot axes using the axis attribute of the figure object. For example, you can set the font size and color of the axis labels using the axis_label_text_font_size and axis_label_text_color attributes.\n",
    "\n",
    "Adding legends: You can add legends to your plot using the legend attribute of the figure object. You can customize various properties of the legend, such as the position, background color, and font size."
   ]
  },
  {
   "cell_type": "markdown",
   "id": "797ecc0b",
   "metadata": {},
   "source": [
    "##### Q4. What is a Bokeh server, and how can you use it to create interactive plots that can be updated in real time?"
   ]
  },
  {
   "cell_type": "markdown",
   "id": "d1b0760b",
   "metadata": {},
   "source": [
    "#### Ans:\n",
    "A Bokeh server is a Python library that allows the creation of interactive web-based visualizations in Python. Bokeh server provides a framework for building and deploying interactive data applications on the web. With Bokeh server, we can create interactive visualizations that can be updated in real-time as data changes.\n",
    "\n",
    "To use Bokeh server, we need to first define our Bokeh plot and its associated data sources, then we create a function that updates the data sources in response to user interactions, such as button clicks or slider movements. Finally, we have to run the Bokeh server, which launches a web application that serves your Bokeh plot and allows users to interact with it."
   ]
  },
  {
   "cell_type": "markdown",
   "id": "6099129c",
   "metadata": {},
   "source": [
    "#### Q5. How can you embed a Bokeh plot into a web page or dashboard using Flask or Django?"
   ]
  },
  {
   "cell_type": "markdown",
   "id": "df2cfe30",
   "metadata": {},
   "source": [
    "Bokeh plots can be embedded into a web page or dashboard using Flask or Django by following these steps:\n",
    "\n",
    "- Create a Bokeh plot as usual using the figure() function and adding glyphs and other styling options.\n",
    "\n",
    "- Create a Bokeh ColumnDataSource to store the data that will be plotted on the plot.\n",
    "\n",
    "- Create a Bokeh CustomJS callback function that will update the plot in real time when the user interacts with it.\n",
    "\n",
    "- Create a Flask or Django view function that will render the HTML template containing the Bokeh plot.\n",
    "\n",
    "- In the HTML template, include the Bokeh JavaScript and CSS files and add a div element with an id where the plot will be rendered.\n",
    "\n",
    "- Use the bokeh.embed.components() function to generate the necessary script and div elements to embed the plot in the HTML template."
   ]
  },
  {
   "cell_type": "code",
   "execution_count": 15,
   "id": "c8d8cda1",
   "metadata": {},
   "outputs": [
    {
     "name": "stdout",
     "output_type": "stream",
     "text": [
      " * Serving Flask app '__main__'\n",
      " * Debug mode: on\n"
     ]
    },
    {
     "name": "stderr",
     "output_type": "stream",
     "text": [
      "WARNING: This is a development server. Do not use it in a production deployment. Use a production WSGI server instead.\n",
      " * Running on http://127.0.0.1:5000\n",
      "Press CTRL+C to quit\n",
      " * Restarting with watchdog (windowsapi)\n"
     ]
    },
    {
     "ename": "SystemExit",
     "evalue": "1",
     "output_type": "error",
     "traceback": [
      "An exception has occurred, use %tb to see the full traceback.\n",
      "\u001b[1;31mSystemExit\u001b[0m\u001b[1;31m:\u001b[0m 1\n"
     ]
    },
    {
     "name": "stderr",
     "output_type": "stream",
     "text": [
      "C:\\Users\\Dell\\AppData\\Roaming\\Python\\Python310\\site-packages\\IPython\\core\\interactiveshell.py:3441: UserWarning: To exit: use 'exit', 'quit', or Ctrl-D.\n",
      "  warn(\"To exit: use 'exit', 'quit', or Ctrl-D.\", stacklevel=1)\n"
     ]
    }
   ],
   "source": [
    "from flask import Flask, render_template\n",
    "from bokeh.plotting import figure, ColumnDataSource\n",
    "from bokeh.embed import components\n",
    "from bokeh.resources import INLINE\n",
    "from builtins import bytes\n",
    "\n",
    "app = Flask(__name__)\n",
    "\n",
    "@app.route('/')\n",
    "def index():\n",
    "    # create the plot\n",
    "    source = ColumnDataSource(data=dict(x=[1, 2, 3], y=[4, 5, 6]))\n",
    "    plot = figure(title='My Plot', x_axis_label='X', y_axis_label='Y')\n",
    "    plot.circle('x', 'y', source=source)\n",
    "\n",
    "    # generate the plot components\n",
    "    script, div = components(plot)\n",
    "\n",
    "    # generate the HTML template with the plot components\n",
    "    html = render_template('index.html', plot_script=script, plot_div=div)\n",
    "\n",
    "    return encode_utf8(html)\n",
    "\n",
    "if __name__ == '__main__':\n",
    "    app.run(debug=True)\n"
   ]
  },
  {
   "cell_type": "code",
   "execution_count": null,
   "id": "f617687b",
   "metadata": {},
   "outputs": [],
   "source": []
  }
 ],
 "metadata": {
  "kernelspec": {
   "display_name": "Python 3 (ipykernel)",
   "language": "python",
   "name": "python3"
  },
  "language_info": {
   "codemirror_mode": {
    "name": "ipython",
    "version": 3
   },
   "file_extension": ".py",
   "mimetype": "text/x-python",
   "name": "python",
   "nbconvert_exporter": "python",
   "pygments_lexer": "ipython3",
   "version": "3.10.9"
  }
 },
 "nbformat": 4,
 "nbformat_minor": 5
}
