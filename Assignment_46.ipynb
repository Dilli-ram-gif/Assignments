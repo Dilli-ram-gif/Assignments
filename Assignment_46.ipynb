{
 "cells": [
  {
   "cell_type": "markdown",
   "id": "aa3f1d31",
   "metadata": {},
   "source": [
    "### March 22, Feature Engineering -6 Assignment"
   ]
  },
  {
   "cell_type": "markdown",
   "id": "a2d199f6",
   "metadata": {},
   "source": [
    "#### Q1. Pearson correlation coefficient is a measure of the linear relationship between two variables. Suppose you have collected data on the amount of time students spend studying for an exam and their final exam scores. Calculate the Pearson correlation coefficient between these two variables and interpret the result."
   ]
  },
  {
   "cell_type": "code",
   "execution_count": 2,
   "id": "e036994e",
   "metadata": {},
   "outputs": [
    {
     "name": "stdout",
     "output_type": "stream",
     "text": [
      "Pearson correlation coefficient:  0.9846573354073431\n",
      "P-value:  0.000351290223858439\n"
     ]
    }
   ],
   "source": [
    "import numpy as np\n",
    "from scipy.stats import pearsonr\n",
    "\n",
    "#Example data\n",
    "study_time = [5, 8, 10, 12, 9, 4]\n",
    "exam_scores = [40, 70, 90, 95, 80, 30]\n",
    "\n",
    "#Calculate Pearson correlation coefficient\n",
    "correlation_coefficient, p_value = pearsonr(study_time, exam_scores)\n",
    "\n",
    "#Display the correlation coefficient and p-value\n",
    "print(\"Pearson correlation coefficient: \", correlation_coefficient)\n",
    "print(\"P-value: \", p_value)\n",
    "\n"
   ]
  },
  {
   "cell_type": "markdown",
   "id": "14da6321",
   "metadata": {},
   "source": [
    "#### Interpretation: \n",
    "The Pearson correlation coefficient value calculated above is very near to 1 indicating that exam scores obtained by the students is strogly linearly correlated to the study hours. In other words, students who spend more time studying tend to get higher scores on their exams."
   ]
  },
  {
   "cell_type": "markdown",
   "id": "9fde55da",
   "metadata": {},
   "source": [
    "#### Q2. Spearman's rank correlation is a measure of the monotonic relationship between two variables. Suppose you have collected data on the amount of sleep individuals get each night and their overall job satisfaction level on a scale of 1 to 10. Calculate the Spearman's rank correlation between these two variables and interpret the result."
   ]
  },
  {
   "cell_type": "code",
   "execution_count": 3,
   "id": "22781f8b",
   "metadata": {},
   "outputs": [
    {
     "name": "stdout",
     "output_type": "stream",
     "text": [
      "Spearman's rank correlation coefficient: 0.9710083124552246\n",
      "p-value: 0.0012485929031976688\n"
     ]
    }
   ],
   "source": [
    "import numpy as np\n",
    "from scipy.stats import spearmanr\n",
    "\n",
    "# Example data\n",
    "sleep = [7, 6, 5, 8, 7, 6]  # Amount of sleep (hours)\n",
    "job_satisfaction = [8, 6, 4, 9, 7, 5]  # Job satisfaction level (on a scale of 1 to 10)\n",
    "\n",
    "# Calculate Spearman's rank correlation coefficient\n",
    "correlation_coefficient, p_value = spearmanr(sleep, job_satisfaction)\n",
    "\n",
    "# Display the correlation coefficient and p-value\n",
    "print(\"Spearman's rank correlation coefficient:\", correlation_coefficient)\n",
    "print(\"p-value:\", p_value)\n"
   ]
  },
  {
   "cell_type": "markdown",
   "id": "531fdfe1",
   "metadata": {},
   "source": [
    "#### Interpretation:\n",
    "The Spearman's rank correlation coefficient of 0.9710083124552246 indicates a strong positive monotonic relationship between the amount of sleep individuals get each night and their overall job satisfaction level. This means that as the amount of sleep individuals get increases, their job satisfaction tends to increase slightly."
   ]
  },
  {
   "cell_type": "markdown",
   "id": "f4e8afa7",
   "metadata": {},
   "source": [
    "#### Q3. Suppose you are conducting a study to examine the relationship between the number of hours of exercise per week and body mass index (BMI) in a sample of adults. You collected data on both variables for 50 participants. Calculate the Pearson correlation coefficient and the Spearman's rank correlation between these two variables and compare the results."
   ]
  },
  {
   "cell_type": "code",
   "execution_count": 5,
   "id": "205e35c7",
   "metadata": {},
   "outputs": [
    {
     "name": "stdout",
     "output_type": "stream",
     "text": [
      "Pearson correlation coefficient: 0.6261874912297491\n",
      "Pearson p-value: 1.1522646735757004e-06\n",
      "Spearman's rank correlation coefficient: 0.6186162546699036\n",
      "Spearman's p-value: 1.685454931704157e-06\n"
     ]
    }
   ],
   "source": [
    "import numpy as np\n",
    "from scipy.stats import pearsonr, spearmanr\n",
    "\n",
    "# Example data\n",
    "hours_of_exercise = [4, 5, 3, 6, 7, 4, 6, 5, 3, 2, 5, 4, 3, 6, 5, 4, 2, 3, 5, 6, 7, 3, 4, 6, 5, 2, 4, 6, 7, 5, 4, 3, 2, 4, 5, 6, 3, 2, 4, 5, 6, 7, 4, 3, 5, 6, 4, 3, 5, 6]\n",
    "bmi = [25.1, 22.5, 27.8, 29.3, 31.2, 24.5, 30.1, 27.2, 26.9, 23.7, 25.6, 26.8, 28.5, 29.7, 24.9, 23.4, 27.1, 29.8, 25.4, 30.2, 30.9, 26.6, 25.2, 29.6, 28.1, 23.2, 26.4, 31.5, 31.7, 27.9, 25.7, 28.3, 24.8, 26.1, 27.3, 28.7, 23.6, 24.4, 25.9, 27.4, 29.1, 30.4, 25.3, 28.6, 26.2, 29.9, 25.8, 28.9, 26.3, 29.4]\n",
    "\n",
    "# Calculate Pearson correlation coefficient\n",
    "pearson_correlation, pearson_p_value = pearsonr(hours_of_exercise, bmi)\n",
    "\n",
    "# Calculate Spearman's rank correlation coefficient\n",
    "spearman_correlation, spearman_p_value = spearmanr(hours_of_exercise, bmi)\n",
    "\n",
    "# Display the results\n",
    "print(\"Pearson correlation coefficient:\", pearson_correlation)\n",
    "print(\"Pearson p-value:\", pearson_p_value)\n",
    "print(\"Spearman's rank correlation coefficient:\", spearman_correlation)\n",
    "print(\"Spearman's p-value:\", spearman_p_value)\n"
   ]
  },
  {
   "cell_type": "markdown",
   "id": "3ec0cbe4",
   "metadata": {},
   "source": [
    "#### Interpretation:\n",
    "- The Pearson correlation coefficient between the number of hours of exercise per week and the body mass index (BMI) is 0.6261874912297491. This indicates a moderate positive linear relationship between the two variables. As the number of hours of exercise per week increases, there is a tendency for the BMI to increase as well. However, the relationship is not extremely strong.\n",
    "\n",
    "- The Spearman's rank correlation coefficient is 0.6186162546699036, which is very close to the Pearson correlation coefficient. This suggests that the relationship between the number of hours of exercise per week and BMI is also monotonic, meaning that as the number of hours of exercise increases, the BMI tends to increase."
   ]
  },
  {
   "cell_type": "markdown",
   "id": "9544d80a",
   "metadata": {},
   "source": [
    "#### Q4. A researcher is interested in examining the relationship between the number of hours individuals spend watching television per day and their level of physical activity. The researcher collected data on both variables from a sample of 50 participants. Calculate the Pearson correlation coefficient between these two variables."
   ]
  },
  {
   "cell_type": "code",
   "execution_count": 6,
   "id": "3b128ff8",
   "metadata": {},
   "outputs": [
    {
     "name": "stdout",
     "output_type": "stream",
     "text": [
      "Pearson correlation coefficient: -0.7269801523208659\n",
      "p-value: 1.5349687830961816e-09\n"
     ]
    }
   ],
   "source": [
    "import numpy as np\n",
    "from scipy.stats import pearsonr\n",
    "\n",
    "# Example data\n",
    "hours_of_tv = [2, 1, 3, 4, 5, 2, 3, 1, 2, 1, 3, 4, 2, 1, 5, 3, 2, 1, 4, 3, 2, 1, 3, 2, 4, 5, 1, 2, 3, 4, 1, 5, 2, 3, 4, 1, 2, 3, 5, 1, 4, 3, 2, 1, 4, 5, 3, 2, 1, 2, 5]\n",
    "physical_activity = [3, 4, 2, 1, 1, 3, 2, 4, 3, 4, 2, 1, 3, 4, 1, 2, 3, 4, 1, 2, 3, 4, 2, 3, 1, 1, 4, 3, 2, 1, 4, 1, 3, 2, 1, 4, 3, 2, 1, 3, 2, 4, 1, 2, 3, 4, 1, 3, 2, 4, 1]\n",
    "\n",
    "# Calculate Pearson correlation coefficient\n",
    "correlation_coefficient, p_value = pearsonr(hours_of_tv, physical_activity)\n",
    "\n",
    "# Display the correlation coefficient and p-value\n",
    "print(\"Pearson correlation coefficient:\", correlation_coefficient)\n",
    "print(\"p-value:\", p_value)\n"
   ]
  },
  {
   "cell_type": "markdown",
   "id": "89602fa5",
   "metadata": {},
   "source": [
    "#### Interpretation:\n",
    "The Pearson correlation coefficient between the number of hours individuals spend watching television per day and their level of physical activity is -0.7269801523208659. This indicates a strong negative linear relationship between the two variables. As the number of hours spent watching television per day increases, the level of physical activity tends to decrease. Similarly, as the number of hours spent watching television per day decreases, the level of physical activity tends to increase."
   ]
  },
  {
   "cell_type": "markdown",
   "id": "7796844f",
   "metadata": {},
   "source": [
    "#### Q5. A survey was conducted to examine the relationship between age and preference for a particular brand of soft drink. The survey results are shown below:"
   ]
  },
  {
   "attachments": {
    "image.png": {
     "image/png": "[encoded data removed]"
    }
   },
   "cell_type": "markdown",
   "id": "6d66bdb3",
   "metadata": {},
   "source": [
    "![image.png](attachment:image.png)"
   ]
  },
  {
   "cell_type": "code",
   "execution_count": 7,
   "id": "e2227112",
   "metadata": {},
   "outputs": [],
   "source": [
    "age = [25, 42, 37, 19, 31, 28]\n",
    "soft_drinks = ['Coke', 'Pepsi', 'Mountain Dew', 'Coke', 'Pepsi', 'Coke']\n"
   ]
  },
  {
   "cell_type": "code",
   "execution_count": 9,
   "id": "05789731",
   "metadata": {},
   "outputs": [
    {
     "data": {
      "image/png": "[encoded data removed]",
      "text/plain": [
       "<Figure size 640x480 with 1 Axes>"
      ]
     },
     "metadata": {},
     "output_type": "display_data"
    }
   ],
   "source": [
    "import pandas as pd\n",
    "import seaborn as sns\n",
    "import matplotlib.pyplot as plt\n",
    "\n",
    "# Create a DataFrame from the age and soft drinks data\n",
    "data = pd.DataFrame({'Age': age, 'Soft Drink': soft_drinks})\n",
    "\n",
    "# Plot the bar plot\n",
    "sns.countplot(x='Age', hue='Soft Drink', data=data)\n",
    "\n",
    "# Set the plot title and labels\n",
    "plt.title('Soft Drink Preferences by Age')\n",
    "plt.xlabel('Age')\n",
    "plt.ylabel('Count')\n",
    "plt.\n",
    "\n",
    "# Show the plot\n",
    "plt.show()\n"
   ]
  },
  {
   "cell_type": "markdown",
   "id": "a3f82ea5",
   "metadata": {},
   "source": [
    "#### Q6. A company is interested in examining the relationship between the number of sales calls made per day and the number of sales made per week. The company collected data on both variables from a sample of 30 sales representatives. Calculate the Pearson correlation coefficient between these two variables."
   ]
  },
  {
   "cell_type": "code",
   "execution_count": 4,
   "id": "1835eee1",
   "metadata": {},
   "outputs": [
    {
     "name": "stdout",
     "output_type": "stream",
     "text": [
      "Pearson correlation coefficient: 0.9957824122051618\n",
      "p-value: 1.3448675053385066e-30\n"
     ]
    }
   ],
   "source": [
    "import numpy as np\n",
    "from scipy.stats import pearsonr\n",
    "\n",
    "# Example data\n",
    "sales_calls_per_day = [10, 8, 6, 9, 12, 11, 7, 5, 8, 9, 10, 7, 6, 8, 11, 9, 7, 10, 12, 6, 9, 8, 7, 10, 12, 11, 6, 8, 9, 10]\n",
    "sales_per_week = [25, 20, 15, 22, 28, 26, 18, 14, 20, 22, 24, 18, 16, 20, 26, 22, 18, 25, 28, 16, 22, 20, 18, 25, 28, 26, 16, 20, 22, 25]\n",
    "\n",
    "# Calculate Pearson correlation coefficient\n",
    "correlation_coefficient, p_value = pearsonr(sales_calls_per_day, sales_per_week)\n",
    "\n",
    "# Display the correlation coefficient and p-value\n",
    "print(\"Pearson correlation coefficient:\", correlation_coefficient)\n",
    "print(\"p-value:\", p_value)\n"
   ]
  },
  {
   "cell_type": "markdown",
   "id": "0676c88b",
   "metadata": {},
   "source": [
    "#### Interpretation:\n",
    "The Pearson correlation coefficient is 0.9957824122051618, which indicates a very strong positive linear relationship between the number of sales calls made per day and the number of sales made per week. As the number of sales calls made per day increases, there is a high tendency for the number of sales made per week to also increase."
   ]
  }
 ],
 "metadata": {
  "kernelspec": {
   "display_name": "Python 3 (ipykernel)",
   "language": "python",
   "name": "python3"
  },
  "language_info": {
   "codemirror_mode": {
    "name": "ipython",
    "version": 3
   },
   "file_extension": ".py",
   "mimetype": "text/x-python",
   "name": "python",
   "nbconvert_exporter": "python",
   "pygments_lexer": "ipython3",
   "version": "3.10.9"
  }
 },
 "nbformat": 4,
 "nbformat_minor": 5
}
