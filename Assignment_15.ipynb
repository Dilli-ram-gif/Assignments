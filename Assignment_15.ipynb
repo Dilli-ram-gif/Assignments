{
 "cells": [
  {
   "cell_type": "markdown",
   "id": "db441cfe",
   "metadata": {},
   "source": [
    "### Feb - 17, Assignment"
   ]
  },
  {
   "cell_type": "markdown",
   "id": "165bcaf3",
   "metadata": {},
   "source": [
    "### Q1. What is MongoDB? Explain non-relational databases in short. In which scenarios it is preferred to use MongoDB over SQL databases?"
   ]
  },
  {
   "cell_type": "markdown",
   "id": "1edf4607",
   "metadata": {},
   "source": [
    "Ans:\n",
    "MongoDB is a document-oriented NoSQL database that stores data in flexible, semi-structured documents rather than fixed schemas like traditional SQL databases. It uses a JSON-like format called BSON to store data, making it easy to work with for developers.\n",
    "\n",
    "Non-relational databases, also known as NoSQL databases, are databases that do not use the traditional table-based relational data model used by SQL databases. Instead, they use a variety of data models, including document-oriented, key-value, graph, and column-family models. This allows for greater flexibility and scalability, as well as faster read and write speeds, making them ideal for handling large amounts of unstructured data.\n",
    "\n",
    "MongoDB is preferred over SQL databases in scenarios where the data is unstructured or semi-structured, and the data model is likely to change frequently. It is also preferred in scenarios where there is a need for high scalability and performance, such as in big data or real-time data processing applications. Additionally, MongoDB's flexible schema allows for easier integration with modern application development frameworks, making it a popular choice for web and mobile applications. However, SQL databases are still preferred in scenarios where the data is highly structured and relational, such as in financial systems or inventory management systems."
   ]
  },
  {
   "cell_type": "markdown",
   "id": "8972f369",
   "metadata": {},
   "source": [
    "### Q2. State and Explain the features of MongoDB."
   ]
  },
  {
   "cell_type": "markdown",
   "id": "9e515190",
   "metadata": {},
   "source": [
    "Ans: MongoDB has a number of features that make it a popular choice for modern application development:\n",
    "\n",
    "1. Flexible document data model: MongoDB's document data model allows for flexible and dynamic schema design, making it easy to store and retrieve complex data structures. Documents are stored in BSON format, which supports a wide range of data types, including arrays and nested objects.\n",
    "\n",
    "2. High scalability: MongoDB's sharding and replication features make it easy to scale horizontally across multiple servers, allowing for high availability and performance even with large amounts of data.\n",
    "\n",
    "3. Rich query language: MongoDB's query language, called the MongoDB Query Language (MQL), supports a wide range of queries, including complex aggregations and geospatial queries.\n",
    "\n",
    "4. Indexing and aggregation framework: MongoDB's indexing and aggregation framework allows for efficient query performance, even with large data sets.\n",
    "\n",
    "5. ACID transactions: MongoDB supports ACID transactions at the document level, allowing for consistent and reliable data operations.\n",
    "\n",
    "6. Easy integration with modern development frameworks: MongoDB has a robust set of drivers and APIs that make it easy to integrate with popular programming languages and modern development frameworks, such as Node.js, React, and Angular.\n",
    "\n",
    "7. Automatic sharding and failover: MongoDB's automatic sharding and failover features make it easy to manage clusters of servers and ensure high availability and performance."
   ]
  },
  {
   "cell_type": "markdown",
   "id": "ef83aef9",
   "metadata": {},
   "source": [
    "#### Q3. Write a code to connect MongoDB to Python. Also, create a database and a collection in MongoDB."
   ]
  },
  {
   "cell_type": "code",
   "execution_count": null,
   "id": "6e44ed36",
   "metadata": {},
   "outputs": [],
   "source": [
    "# import pymongo library\n",
    "import pymongo\n",
    "\n",
    "# establish a connection to MongoDB\n",
    "client = pymongo.MongoClient('mongodb://localhost:27017/')\n",
    "\n",
    "# create a database called 'mydatabase'\n",
    "mydb = client['mydatabase']\n",
    "\n",
    "# create a collection called 'customers' within the 'mydatabase' database\n",
    "mycol = mydb['customers']\n",
    "\n",
    "# insert a document into the 'customers' collection\n",
    "customer = {'name': 'Dilliram', 'address': 'Buddhabhumi 2, Nepal'}\n",
    "x = mycol.insert_one(customer)\n",
    "\n",
    "# print the ID of the inserted document\n",
    "print(x.inserted_id)\n"
   ]
  },
  {
   "cell_type": "markdown",
   "id": "7f8a0883",
   "metadata": {},
   "source": [
    "### Q4. Using the database and the collection created in question number 3, write a code to insert one record, and insert many records. Use the find() and find_one() methods to print the inserted record."
   ]
  },
  {
   "cell_type": "code",
   "execution_count": null,
   "id": "0fdef2e6",
   "metadata": {},
   "outputs": [],
   "source": [
    "# import pymongo library\n",
    "import pymongo\n",
    "\n",
    "# establish a connection to MongoDB\n",
    "client = pymongo.MongoClient('mongodb://localhost:27017/')\n",
    "\n",
    "# create a database called 'mydatabase'\n",
    "mydb = client['mydatabase']\n",
    "\n",
    "# create a collection called 'customers' within the 'mydatabase' database\n",
    "mycol = mydb['customers']\n",
    "\n",
    "# insert one record into the 'customers' collection\n",
    "customer = {'name': 'Sukrit', 'address': 'Rupandehi', 'age': 25}\n",
    "x = mycol.insert_one(customer)\n",
    "\n",
    "# print the ID of the inserted document\n",
    "print(x.inserted_id)\n",
    "\n",
    "# insert many records into the 'customers' collection\n",
    "customers = [\n",
    "    {'name': 'Arbind', 'address': 'Madesh pradesh', 'age': 30},\n",
    "    {'name': 'Ajay', 'address': 'Saptari', 'age': 35},\n",
    "    {'name': 'Mitthu', 'address': 'Jungle', 'age':2}\n",
    "]\n",
    "x = mycol.insert_many(customers)\n",
    "\n",
    "# print the IDs of the inserted documents\n",
    "print(x.inserted_ids)\n",
    "\n",
    "# find one record in the 'customers' collection\n",
    "customer = mycol.find_one()\n",
    "print(customer)\n",
    "\n",
    "# find all records in the 'customers' collection\n",
    "customers = mycol.find()\n",
    "for customer in customers:\n",
    "    print(customer)\n"
   ]
  },
  {
   "cell_type": "markdown",
   "id": "bd3e0eaf",
   "metadata": {},
   "source": [
    "#### Q5. Explain how you can use the find() method to query the MongoDB database. Write a simple code to demonstrate this."
   ]
  },
  {
   "cell_type": "markdown",
   "id": "89445e1a",
   "metadata": {},
   "source": [
    "Ans: The `find()` method in MongoDB is used to query a collection and retrieve documents that match the specified search criteria. The method takes one or more parameters to specify the search criteria, sort order, and projection for the query. The `filter` parameter is used to specify the search criteria for the query, and can include comparison, logical, and array operators to filter the results based on specific fields. The `projection` parameter is used to specify which fields to include or exclude from the results, and can use the dot notation to specify nested fields. The `sort` parameter is used to specify the sort order for the results, and the `limit` and `skip` parameters are used to limit the number of documents returned and skip over a certain number of documents, respectively. The `find()` method returns a cursor object, which can be iterated over to access the documents in the result set."
   ]
  },
  {
   "cell_type": "code",
   "execution_count": null,
   "id": "6d39a689",
   "metadata": {},
   "outputs": [],
   "source": [
    "# import pymongo library\n",
    "import pymongo\n",
    "\n",
    "# establish a connection to MongoDB\n",
    "client = pymongo.MongoClient('mongodb://localhost:27017/')\n",
    "\n",
    "# get a handle to the 'mydatabase' database and 'customers' collection\n",
    "mydb = client['mydatabase']\n",
    "mycol = mydb['customers']\n",
    "\n",
    "# query the 'customers' collection using the find() method\n",
    "\n",
    "query = mycol.find({'age': {'$gt': 30}}, {'_id': 0, 'name': 1, 'address': 1}).sort('name', 1)\n",
    "\n",
    "# print the results\n",
    "for customer in query:\n",
    "    print(customer)\n"
   ]
  },
  {
   "cell_type": "markdown",
   "id": "0fe170bc",
   "metadata": {},
   "source": [
    "#### Q6. Explain the sort() method. Give an example to demonstrate sorting in MongoDB."
   ]
  },
  {
   "cell_type": "markdown",
   "id": "77d0a9e7",
   "metadata": {},
   "source": [
    "Ans: The sort() method in MongoDB is used to sort the documents in a collection based on one or more fields. The method takes one or more parameters to specify the field or fields to sort by and the sort order (ascending or descending) for each field."
   ]
  },
  {
   "cell_type": "code",
   "execution_count": null,
   "id": "4acecceb",
   "metadata": {},
   "outputs": [],
   "source": [
    "# import pymongo library\n",
    "import pymongo\n",
    "\n",
    "# establish a connection to MongoDB\n",
    "client = pymongo.MongoClient('mongodb://localhost:27017/')\n",
    "\n",
    "# get a handle to the 'mydatabase' database and 'mycollection' collection\n",
    "mydb = client['mydatabase']\n",
    "mycol = mydb['mycollection']\n",
    "\n",
    "# sort the documents in the collection by the 'age' field in ascending order\n",
    "query = mycol.find().sort('age', pymongo.ASCENDING)\n",
    "\n",
    "# iterate over the results and print each document\n",
    "for document in query:\n",
    "    print(document)\n"
   ]
  },
  {
   "cell_type": "markdown",
   "id": "8a448baf",
   "metadata": {},
   "source": [
    "#### Q7. Explain why delete_one(), delete_many(), and drop() is used."
   ]
  },
  {
   "cell_type": "markdown",
   "id": "23e48824",
   "metadata": {},
   "source": [
    "Ans:\n",
    "1. delete_one(filter) - This method is used to delete a single document from a collection that matches the specified filter criteria. If multiple documents match the filter, only the first matching document is deleted. If no documents match the filter, the method does nothing.\n",
    "\n",
    "2. delete_many(filter) - This method is used to delete multiple documents from a collection that match the specified filter criteria. All documents that match the filter are deleted. If no documents match the filter, the method does nothing.\n",
    "\n",
    "3. drop() - This method is used to drop (delete) an entire collection from a database. Once a collection is dropped, all the documents in it are permanently deleted and cannot be recovered."
   ]
  }
 ],
 "metadata": {
  "kernelspec": {
   "display_name": "Python 3 (ipykernel)",
   "language": "python",
   "name": "python3"
  },
  "language_info": {
   "codemirror_mode": {
    "name": "ipython",
    "version": 3
   },
   "file_extension": ".py",
   "mimetype": "text/x-python",
   "name": "python",
   "nbconvert_exporter": "python",
   "pygments_lexer": "ipython3",
   "version": "3.10.9"
  }
 },
 "nbformat": 4,
 "nbformat_minor": 5
}
