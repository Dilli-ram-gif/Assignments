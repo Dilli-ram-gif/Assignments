{
 "cells": [
  {
   "cell_type": "markdown",
   "id": "52982d02",
   "metadata": {},
   "source": [
    "### March 10, Statistics Advance - 3 Assignment"
   ]
  },
  {
   "cell_type": "markdown",
   "id": "fe8457af",
   "metadata": {},
   "source": [
    "#### Q1: What is Estimation Statistics? Explain point estimate and interval estimate."
   ]
  },
  {
   "cell_type": "markdown",
   "id": "a6073eb5",
   "metadata": {},
   "source": [
    "#### Ans:\n",
    "Estimation statistics is a branch of statistics that deals with estimating the value of a population parameter based on the sample data. There are two types of estimation in statistics: point estimation and interval estimation.\n",
    "\n",
    "Point estimation is a single value that estimates the parameter. Point estimates are single values calculated from the sample. For example, the sample mean is a point estimate of the population mean.\n",
    "\n",
    "Interval estimation gives a range of values for the parameter. Interval estimates are intervals within which the parameter is expected to fall, with a certain degree of confidence. A confidence interval is one example of an interval estimate."
   ]
  },
  {
   "cell_type": "markdown",
   "id": "802ca968",
   "metadata": {},
   "source": [
    "#### Q2. Write a Python function to estimate the population mean using a sample mean and standard deviation."
   ]
  },
  {
   "cell_type": "code",
   "execution_count": 1,
   "id": "3ff5bc1e",
   "metadata": {},
   "outputs": [],
   "source": [
    "def estimate_population_mean(sample_mean, sample_std_dev, sample_size):\n",
    "    return sample_mean * (sample_size ** 0.5) / sample_std_dev\n"
   ]
  },
  {
   "cell_type": "code",
   "execution_count": 3,
   "id": "4118f909",
   "metadata": {},
   "outputs": [
    {
     "data": {
      "text/plain": [
       "15.811388300841898"
      ]
     },
     "execution_count": 3,
     "metadata": {},
     "output_type": "execute_result"
    }
   ],
   "source": [
    "estimate_population_mean(5, 2,40 )"
   ]
  },
  {
   "cell_type": "markdown",
   "id": "1d99d65b",
   "metadata": {},
   "source": [
    "#### Q3: What is Hypothesis testing? Why is it used? State the importance of Hypothesis testing."
   ]
  },
  {
   "cell_type": "markdown",
   "id": "b08b6125",
   "metadata": {},
   "source": [
    "#### Ans:\n",
    "- Hypothesis testing is a statistical method used to determine whether a hypothesis about a population parameter is supported by the sample data. It is used to assess the plausibility of a hypothesis by using sample data. The test provides evidence concerning the plausibility of the hypothesis, given the data.\n",
    "\n",
    "##### Importance of Hypothesis testing:\n",
    "- Hypothesis testing is important because it provides a framework for making determinations related to the population. \n",
    "\n",
    "- It provides a method for understanding how reliably one can extrapolate observed findings in a sample under study to the larger population from which the sample was drawn.\n",
    "\n",
    "- It also helps researchers make decisions about whether to accept or reject a particular hypothesis based on the available evidence."
   ]
  },
  {
   "cell_type": "markdown",
   "id": "a3da8c9b",
   "metadata": {},
   "source": [
    "#### Q4. Create a hypothesis that states whether the average weight of male college students is greater than the average weight of female college students."
   ]
  },
  {
   "cell_type": "markdown",
   "id": "bac6f8fb",
   "metadata": {},
   "source": [
    "#### Ans:\n",
    "- Null hypothesis: The average weight of male college students is equal to the average weight of female college students.\n",
    "\n",
    "- Alternative hypothesis: The average weight of male college students is greater than the average weight of female college students."
   ]
  },
  {
   "cell_type": "markdown",
   "id": "fdda7c72",
   "metadata": {},
   "source": [
    "#### Q5. Write a Python script to conduct a hypothesis test on the difference between two population means, given a sample from each population."
   ]
  },
  {
   "cell_type": "code",
   "execution_count": 6,
   "id": "d830a941",
   "metadata": {},
   "outputs": [
    {
     "name": "stdout",
     "output_type": "stream",
     "text": [
      "Sample mean 1: 10.11\n",
      "Sample mean 2: 12.29\n",
      "Sample std dev 1: 2.16\n",
      "Sample std dev 2: 1.96\n",
      "t-statistic: -7.47\n",
      "p-value: 0.0000\n",
      "Reject null hypothesis: Population means are different.\n"
     ]
    }
   ],
   "source": [
    "import numpy as np\n",
    "from scipy.stats import ttest_ind\n",
    "\n",
    "# Generate random samples for two populations\n",
    "pop1 = np.random.normal(loc=10, scale=2, size=100)\n",
    "pop2 = np.random.normal(loc=12, scale=2, size=100)\n",
    "\n",
    "# Calculate sample means and standard deviations\n",
    "sample_mean1 = np.mean(pop1)\n",
    "sample_mean2 = np.mean(pop2)\n",
    "sample_std1 = np.std(pop1, ddof=1)\n",
    "sample_std2 = np.std(pop2, ddof=1)\n",
    "\n",
    "# Perform two-sample t-test with equal variances assumed\n",
    "t_stat, p_val = ttest_ind(pop1, pop2, equal_var=True)\n",
    "\n",
    "# Print results\n",
    "print(\"Sample mean 1: {:.2f}\".format(sample_mean1))\n",
    "print(\"Sample mean 2: {:.2f}\".format(sample_mean2))\n",
    "print(\"Sample std dev 1: {:.2f}\".format(sample_std1))\n",
    "print(\"Sample std dev 2: {:.2f}\".format(sample_std2))\n",
    "print(\"t-statistic: {:.2f}\".format(t_stat))\n",
    "print(\"p-value: {:.4f}\".format(p_val))\n",
    "if p_val < 0.05:\n",
    "    print(\"Reject null hypothesis: Population means are different.\")\n",
    "else:\n",
    "    print(\"Fail to reject null hypothesis: Population means may be equal.\")\n"
   ]
  },
  {
   "cell_type": "markdown",
   "id": "7eded1bd",
   "metadata": {},
   "source": [
    "#### Q6: What is a null and alternative hypothesis? Give some examples."
   ]
  },
  {
   "cell_type": "markdown",
   "id": "2052530f",
   "metadata": {},
   "source": [
    "#### Ans:\n",
    "The null hypothesis is a statement about the population parameter that we wish to test. It represents the status quo or default assumption, and assumes that there is no significant difference or relationship between the variables of interest. In other words, the null hypothesis assumes that any observed differences or relationships are due to chance or random error.\n",
    "\n",
    "The alternative hypothesis is a statement that contradicts the null hypothesis. It represents the researcher's belief or hypothesis that there is a significant difference or relationship between the variables of interest. In other words, the alternative hypothesis assumes that any observed differences or relationships are not due to chance or random error.\n",
    "\n",
    "###### Here are some examples of null and alternative hypotheses:\n",
    "\n",
    "- A researcher is interested in whether a new drug is effective in reducing cholesterol levels. The null hypothesis would be that the drug has no effect on cholesterol levels (i.e., the mean cholesterol levels of the treatment group are the same as the mean cholesterol levels of the control group), while the alternative hypothesis would be that the drug is effective in reducing cholesterol levels (i.e., the mean cholesterol levels of the treatment group are lower than the mean cholesterol levels of the control group).\n",
    "\n",
    "- A researcher is interested in whether there is a gender difference in mathematical ability. The null hypothesis would be that there is no significant difference in mathematical ability between males and females (i.e., the mean math scores of males and females are the same), while the alternative hypothesis would be that there is a gender difference in mathematical ability (i.e., the mean math scores of males and females are different)."
   ]
  },
  {
   "cell_type": "markdown",
   "id": "86b7bcb1",
   "metadata": {},
   "source": [
    "#### Q7: Write down the steps involved in hypothesis testing."
   ]
  },
  {
   "cell_type": "markdown",
   "id": "e9669fe4",
   "metadata": {},
   "source": [
    "### Ans:\n",
    "Here are the general steps involved in hypothesis testing:\n",
    "\n",
    "- State the null and alternative hypotheses: The null hypothesis represents the status quo or the current understanding of the phenomenon being studied. The alternative hypothesis represents a new or different understanding of the phenomenon.\n",
    "\n",
    "- Choose a significance level: The significance level is the probability of rejecting the null hypothesis when it is actually true. It is usually set at 0.05 or 0.01.\n",
    "\n",
    "- Collect data: Collect data from a sample that is representative of the population being studied.\n",
    "\n",
    "- Calculate a test statistic: Calculate a test statistic that measures the difference between the sample data and what would be expected if the null hypothesis were true.\n",
    "\n",
    "- Determine the p-value: The p-value is the probability of obtaining a test statistic as extreme as or more extreme than the one calculated from the sample data, assuming that the null hypothesis is true.\n",
    "\n",
    "- Make a decision: Compare the p-value to the significance level. If the p-value is less than or equal to the significance level, reject the null hypothesis. Otherwise, fail to reject the null hypothesis.\n",
    "\n",
    "- Interpret results: If you reject the null hypothesis, interpret your results in light of your alternative hypothesis."
   ]
  },
  {
   "cell_type": "markdown",
   "id": "1c09d8dc",
   "metadata": {},
   "source": [
    "#### Q8. Define p-value and explain its significance in hypothesis testing."
   ]
  },
  {
   "cell_type": "markdown",
   "id": "88ab5512",
   "metadata": {},
   "source": [
    "#### Ans:\n",
    "The p-value is the probability of obtaining a test statistic as extreme as or more extreme than the one calculated from the sample data, assuming that the null hypothesis is true\n",
    "\n",
    "The significance of the p-value in hypothesis testing is that it helps us determine whether to reject or fail to reject the null hypothesis. If the p-value is less than or equal to the significance level (usually 0.05 or 0.01), we reject the null hypothesis. If the p-value is greater than the significance level, we fail to reject the null hypothesis."
   ]
  },
  {
   "cell_type": "markdown",
   "id": "de4987fb",
   "metadata": {},
   "source": [
    "#### Q9. Generate a Student's t-distribution plot using Python's matplotlib library, with the degrees of freedom parameter set to 10."
   ]
  },
  {
   "cell_type": "code",
   "execution_count": 14,
   "id": "30f77389",
   "metadata": {},
   "outputs": [
    {
     "data": {
      "image/png": "[encoded data removed]",
      "text/plain": [
       "<Figure size 640x480 with 1 Axes>"
      ]
     },
     "metadata": {},
     "output_type": "display_data"
    }
   ],
   "source": [
    "# import necessary library and module\n",
    "import numpy as np\n",
    "import matplotlib.pyplot as plt\n",
    "from scipy.stats import t\n",
    "\n",
    "#degree of freedom\n",
    "degree_f = 10\n",
    "x = np.linspace(-5, 5, 1000)\n",
    "y =t.pdf(x, degree_f)\n",
    "\n",
    "#plotting\n",
    "plt.plot(x, y)\n",
    "plt.title(\"Student's t distribution with degree of freedom 10\")\n",
    "plt.xlabel(\"x-axis\")\n",
    "plt.ylabel('pdf')\n",
    "plt.show()"
   ]
  },
  {
   "cell_type": "markdown",
   "id": "1ddc8ced",
   "metadata": {},
   "source": [
    "#### Q10. Write a Python program to calculate the two-sample t-test for independent samples, given two random samples of equal size and a null hypothesis that the population means are equal."
   ]
  },
  {
   "cell_type": "code",
   "execution_count": 15,
   "id": "6f63feec",
   "metadata": {},
   "outputs": [
    {
     "name": "stdout",
     "output_type": "stream",
     "text": [
      "t_statistic:  -7.181859579301727\n",
      "p_value: 1.3604818955721109e-11\n"
     ]
    }
   ],
   "source": [
    "#import necessary library and module\n",
    "import numpy as np\n",
    "from scipy.stats import ttest_ind\n",
    "\n",
    "\n",
    "#generate random samples of equal size\n",
    "sample1 = np.random.normal(0, 1, 100)\n",
    "sample2 = np.random.normal(1, 1, 100)\n",
    "\n",
    "\n",
    "#calculate the two sample t-test for independent samples\n",
    "t_statistic, p_value = ttest_ind(sample1, sample2)\n",
    "\n",
    "#print the results\n",
    "print(\"t_statistic: \",t_statistic)\n",
    "print(\"p_value:\", p_value)\n"
   ]
  },
  {
   "cell_type": "markdown",
   "id": "8d11232f",
   "metadata": {},
   "source": [
    "#### Q11: What is Student’s t distribution? When to use the t-Distribution."
   ]
  },
  {
   "cell_type": "markdown",
   "id": "afd7cfad",
   "metadata": {},
   "source": [
    "#### Ans:\n",
    "- The Student’s t-distribution (or simply the t-distribution) is a continuous probability distribution that generalizes the standard normal distribution. It is used for estimating population parameters for small sample sizes or unknown variances. The t-distribution is similar to the normal distribution with its bell shape but has heavier tails. It is a type of normal distribution used for smaller sample sizes, where the variance in the data is unknown.\n",
    "\n",
    "- The t-distribution is used when the sample size must be 30 or less than 30, the population standard deviation (σ) is unknown and the population distribution must be unimodal and skewed."
   ]
  },
  {
   "cell_type": "markdown",
   "id": "a86f5cb2",
   "metadata": {},
   "source": [
    "#### Q12: What is t-statistic? State the formula for t-statistic."
   ]
  },
  {
   "cell_type": "markdown",
   "id": "f15fa8b2",
   "metadata": {},
   "source": [
    "#### Ans:\n",
    "- The t-statistic is a measure of how extreme a statistical estimate is. It is used to test whether the difference between two groups is statistically significant. The formula for the t-statistic depends on the type of test being performed. For example, in a two-sample t-test, the formula for the test statistic t is:\n",
    "\n",
    "t = ( x̄1 –  x̄2) / s(√1/n1 + 1/n2)\n",
    "\n",
    "where x1 and x2 are the sample means, n1 and n2 are the sample sizes, and s is the pooled standard deviation."
   ]
  },
  {
   "cell_type": "markdown",
   "id": "c8f3759f",
   "metadata": {},
   "source": [
    "#### Q13. A coffee shop owner wants to estimate the average daily revenue for their shop. They take a random sample of 50 days and find the sample mean revenue to be dollar 500 with a standard deviation of dollar 50. Estimate the population mean revenue with a 95% confidence interval."
   ]
  },
  {
   "cell_type": "code",
   "execution_count": 20,
   "id": "840ed2e0",
   "metadata": {},
   "outputs": [
    {
     "name": "stdout",
     "output_type": "stream",
     "text": [
      "95% Confidence Interval: (488.1449949532307, 511.8550050467693)\n"
     ]
    }
   ],
   "source": [
    "#sample mean \n",
    "sample_mean = 500\n",
    "\n",
    "#lower bound\n",
    "lower_bound = sample_mean - t_value * std_error\n",
    "\n",
    "#upper bound \n",
    "upper_bound = sample_mean + t_value * std_error\n",
    "\n",
    "#print results\n",
    "print(\"95% Confidence Interval: ({}, {})\".format(lower_bound, upper_bound))"
   ]
  },
  {
   "cell_type": "markdown",
   "id": "e917490b",
   "metadata": {},
   "source": [
    "#### Q14. A researcher hypothesizes that a new drug will decrease blood pressure by 10 mmHg. They conduct a clinical trial with 100 patients and find that the sample mean decrease in blood pressure is 8 mmHg with a standard deviation of 3 mmHg. Test the hypothesis with a significance level of 0.05."
   ]
  },
  {
   "cell_type": "markdown",
   "id": "925585b5",
   "metadata": {},
   "source": [
    "#### Ans:\n",
    "- NULL HYPOTHESIS: A new drug will decrease blood pressure by 10 mmHg.\n",
    "- ALTERNATE HYPOTHESIS: A new drug will drease blood pressure by more than 10 mmHg."
   ]
  },
  {
   "cell_type": "code",
   "execution_count": 21,
   "id": "276fefa3",
   "metadata": {},
   "outputs": [
    {
     "name": "stdout",
     "output_type": "stream",
     "text": [
      "t-value: -6.666666666666667\n",
      "p-value: 7.506144504985108e-10\n",
      "Critical t-value: -1.6603911559963902\n"
     ]
    }
   ],
   "source": [
    "import numpy as np\n",
    "from scipy.stats import t\n",
    "\n",
    "# Sample mean\n",
    "sample_mean = 8\n",
    "\n",
    "# Hypothesized mean\n",
    "hypothesized_mean = 10\n",
    "\n",
    "# Standard deviation\n",
    "std_dev = 3\n",
    "\n",
    "# Sample size\n",
    "n = 100\n",
    "\n",
    "# Calculate the standard error\n",
    "std_error = std_dev / np.sqrt(n)\n",
    "\n",
    "# Calculate the t-value\n",
    "t_value = (sample_mean - hypothesized_mean) / std_error\n",
    "\n",
    "# Find the p-value\n",
    "p_value = t.cdf(t_value, df=n-1)\n",
    "\n",
    "# Calculate the critical t-value for a one-tailed test with alpha=0.05 and n-1 degrees of freedom\n",
    "critical_t = t.ppf(0.05, df=n-1)\n",
    "\n",
    "# Print the results\n",
    "print(\"t-value:\", t_value)\n",
    "print(\"p-value:\", p_value)\n",
    "print(\"Critical t-value:\", critical_t)\n"
   ]
  },
  {
   "cell_type": "markdown",
   "id": "cc16a6c6",
   "metadata": {},
   "source": [
    "###### Conclusion and interpretation\n",
    "Here, it can be seen that the p-value, which is 0.00006, is less than the significance level of 0.05, and it  provides strong evidence against the null hypothesis. Therefore,hypothesis cannot be accepted. So, we can conclude that the new drug decreases blood pressure by more than 10 mmHg."
   ]
  },
  {
   "cell_type": "markdown",
   "id": "0da41d37",
   "metadata": {},
   "source": [
    "#### Q15. An electronics company produces a certain type of product with a mean weight of 5 pounds and a standard deviation of 0.5 pounds. A random sample of 25 products is taken, and the sample mean weight is found to be 4.8 pounds. Test the hypothesis that the true mean weight of the products is less than 5 pounds with a significance level of 0.01."
   ]
  },
  {
   "cell_type": "markdown",
   "id": "a93990a0",
   "metadata": {},
   "source": [
    "#### Ans: \n",
    "- NULL HYPOTHESIS: The true mean weight of the product is equal to 5 pounds.\n",
    "- ALTERNATE HYPOTHESIS: The mean weight of the product is less than 5 pounds. "
   ]
  },
  {
   "cell_type": "code",
   "execution_count": 5,
   "id": "69e32a36",
   "metadata": {},
   "outputs": [],
   "source": [
    "import numpy as np\n",
    "from scipy.stats import t\n",
    "\n",
    "#population mean\n",
    "population_mean = 5\n",
    "\n",
    "#population standard deviation\n",
    "population_std = 0.5\n",
    "\n",
    "#sample size\n",
    "n = 25\n",
    "\n",
    "# sample mean\n",
    "sample_mean = 4.8\n",
    "\n",
    "# standard error\n",
    "standard_error = population_std/np.sqrt(n)\n",
    "\n",
    "# Calculate the t value\n",
    "t_value = (sample_mean - population_mean)/standard_error\n",
    "\n",
    "\n",
    "# Calculate the critical t-value for a one-tailed test with alpha=0.05 and n-1 degrees of freedom\n",
    "critical_t = t.ppf(0.01, df=n-1)\n"
   ]
  },
  {
   "cell_type": "code",
   "execution_count": 6,
   "id": "c68e70d2",
   "metadata": {},
   "outputs": [
    {
     "name": "stdout",
     "output_type": "stream",
     "text": [
      "t-value and critical-value are respectively: -2.00 and -2.49 \n"
     ]
    }
   ],
   "source": [
    "print(\"t-value and critical-value are respectively: {: .2f} and {: .2f} \".format(t_value, critical_t))"
   ]
  },
  {
   "cell_type": "markdown",
   "id": "5fc48a9b",
   "metadata": {},
   "source": [
    "#### Conclusion and Interpretation:\n",
    "From above calculation, it can seen that t-value is more than critical-value which gives strong evidence against null hypothesis. Hence, null hypothesis cannot be accepted. So, we can conclude that there is sufficient evidence that the true mean weight of the product is less than 5 pounds. "
   ]
  },
  {
   "cell_type": "markdown",
   "id": "823e9544",
   "metadata": {},
   "source": [
    "#### Q16. Two groups of students are given different study materials to prepare for a test. The first group (n1 = 30) has a mean score of 80 with a standard deviation of 10, and the second group (n2 = 40) has a mean score of 75 with a standard deviation of 8. Test the hypothesis that the population means for the two groups are equal with a significance level of 0.01."
   ]
  },
  {
   "cell_type": "markdown",
   "id": "c8c9b5c0",
   "metadata": {},
   "source": [
    "#### Ans:\n",
    "- NULL HYPOTHESIS: The population means for two groups are equal.\n",
    "- ALTERNATE HYPOTHESIS: The population means for two group are not equal."
   ]
  },
  {
   "cell_type": "code",
   "execution_count": 8,
   "id": "a15a90cc",
   "metadata": {},
   "outputs": [
    {
     "name": "stdout",
     "output_type": "stream",
     "text": [
      "t-statistic: 2.25\n",
      "p-value: 0.0285\n"
     ]
    }
   ],
   "source": [
    "import scipy.stats as stats\n",
    "\n",
    "# Sample statistics for the first group\n",
    "n1 = 30\n",
    "mean1 = 80\n",
    "std1 = 10\n",
    "\n",
    "# Sample statistics for the second group\n",
    "n2 = 40\n",
    "mean2 = 75\n",
    "std2 = 8\n",
    "\n",
    "# Calculate the pooled standard deviation\n",
    "s_p = ((n1-1)*std1**2 + (n2-1)*std2**2) / (n1+n2-2)\n",
    "s_p = s_p**0.5\n",
    "\n",
    "# Calculate the t-statistic and p-value\n",
    "t, p = stats.ttest_ind_from_stats(mean1, std1, n1, mean2, std2, n2, equal_var=False)\n",
    "\n",
    "# Print the results\n",
    "print(\"t-statistic: {:.2f}\".format(t))\n",
    "print(\"p-value: {:.4f}\".format(p))\n"
   ]
  },
  {
   "cell_type": "markdown",
   "id": "42b41951",
   "metadata": {},
   "source": [
    "Using a t-distribution table with 68 degrees of freedom and a significance level of 0.01, we find that the critical t-value is ±2.648."
   ]
  },
  {
   "cell_type": "markdown",
   "id": "8dd479f8",
   "metadata": {},
   "source": [
    "Since our calculated t-value of 2.25 is less than the critical t-value of ±2.648, we fail to reject the null hypothesis at the 0.01 level of significance.\n",
    "\n",
    "##### Conclusion and Interpretation\n",
    "Therefore, we can conclude that there is not enough evidence to suggest that the population means for the two groups are different."
   ]
  },
  {
   "cell_type": "markdown",
   "id": "0e996d22",
   "metadata": {},
   "source": [
    "#### Q17. A marketing company wants to estimate the average number of ads watched by viewers during a TV program. They take a random sample of 50 viewers and find that the sample mean is 4 with a standard deviation of 1.5. Estimate the population mean with a 99% confidence interval."
   ]
  },
  {
   "cell_type": "markdown",
   "id": "614365ab",
   "metadata": {},
   "source": [
    "#### Ans:\n",
    "To estimate the population mean with a 99% confidence interval,\n",
    "we can use the following formula:\n",
    "\n",
    "- CI = x̄ ± z*(s/√n)\n",
    "\n",
    "Where:\n",
    "x̄ = sample mean = 4\n",
    "s = sample standard deviation = 1.5\n",
    "n = sample size = 50\n",
    "z = z-score for the desired confidence level = 0.99\n",
    "\n",
    "The z-score for a 99% confidence level = 2.576. (found using a z-table)\n",
    "\n",
    "Plugging in the values, we get:\n",
    "\n",
    "CI = 4 ± 2.576*(1.5/√50) = (3.596, 4.404)\n",
    "\n",
    "- Therefore, we can say with 99% confidence that the population mean of the number of ads watched by viewers during a TV program is between 3.596 and 4.404."
   ]
  }
 ],
 "metadata": {
  "kernelspec": {
   "display_name": "Python 3 (ipykernel)",
   "language": "python",
   "name": "python3"
  },
  "language_info": {
   "codemirror_mode": {
    "name": "ipython",
    "version": 3
   },
   "file_extension": ".py",
   "mimetype": "text/x-python",
   "name": "python",
   "nbconvert_exporter": "python",
   "pygments_lexer": "ipython3",
   "version": "3.10.9"
  }
 },
 "nbformat": 4,
 "nbformat_minor": 5
}
