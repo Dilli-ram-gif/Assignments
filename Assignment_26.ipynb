{
 "cells": [
  {
   "cell_type": "markdown",
   "id": "82000f68",
   "metadata": {},
   "source": [
    "#### March 7, Assignment, Statistics Assignment"
   ]
  },
  {
   "cell_type": "markdown",
   "id": "793a6630",
   "metadata": {},
   "source": [
    "##### Q1. What are the three measures of central tendency?"
   ]
  },
  {
   "cell_type": "markdown",
   "id": "ae0212f5",
   "metadata": {},
   "source": [
    "Ans:\n",
    "The three measures of central tendency are:\n",
    "- mean\n",
    "- median\n",
    "- mode"
   ]
  },
  {
   "cell_type": "markdown",
   "id": "3827c5ad",
   "metadata": {},
   "source": [
    "#### Q2. What is the difference between the mean, median, and mode? How are they used to measure the central tendency of a dataset?"
   ]
  },
  {
   "cell_type": "markdown",
   "id": "c04367bf",
   "metadata": {},
   "source": [
    "Ans: The main difference between the mean, median and mode is that the mean is appropriate for normally distributed data, the median is a better measure for skewed data or when there are extreme values or outliers, and the mode is best for categorical or discrete data. The choice of which measure to use depends on the characteristics of the dataset and the research question.\n",
    "\n",
    "The usage of these measures of central tendency are as follow:\n",
    "- The mean is calculated by adding up all the values in a dataset and dividing by the total number of observations. It is the most commonly used measure of central tendency and is appropriate for normally distributed data. However, it is sensitive to extreme values or outliers and can be affected by skewness in the dataset.\n",
    "\n",
    "- The median is the middle value in a dataset. It is the value that separates the dataset into two equal halves. It is a good measure of central tendency for skewed data or when there are extreme values or outliers. It is not affected by the actual values of extreme observations.\n",
    "\n",
    "- The mode is the value in a dataset that occurs most frequently. It is a good measure of central tendency for categorical or discrete data. However, it may not exist or may be ambiguous for continuous data."
   ]
  },
  {
   "cell_type": "markdown",
   "id": "44e979b8",
   "metadata": {},
   "source": [
    "#### Q3. Measure the three measures of central tendency for the given height data:\n",
    "[178,177,176,177,178.2,178,175,179,180,175,178.9,176.2,177,172.5,178,176.5]"
   ]
  },
  {
   "cell_type": "markdown",
   "id": "99a2411e",
   "metadata": {},
   "source": [
    "#### Ans:\n",
    "\n",
    "###### Mean = (sum of all values) / (number of values)\n",
    "- or, Mean = (178 + 177 + 176 + 177 + 178.2 + 178 + 175 + 179 + 180 + 175 + 178.9 + 176.2 + 177 + 172.5 + 178 + 176.5) / 16\n",
    "- or, Mean = 2832.3 / 16\n",
    "- or, Mean = 177.01875\n",
    "\n",
    "The mean height is approximately 177.01875 cm.\n",
    "\n",
    "\n",
    "###### Median = middle value (when the data is sorted in ascending or descending order)\n",
    "To do this, we need to sort the data in ascending order:\n",
    "\n",
    "[172.5, 175, 175, 176, 176.2, 176.5, 177, 177, 178, 178, 178, 178.2, 178.9, 179, 180]\n",
    "\n",
    "The median is the middle value, which is:\n",
    "\n",
    "Median = (176.5 + 177) / 2\n",
    "- or, Median = 353.5 / 2\n",
    "- or, Median = 176.75\n",
    "\n",
    "The median height is approximately 176.75 cm.\n",
    "\n",
    "\n",
    "##### Mode = value that occurs most frequently\n",
    "     = 178\n",
    "Therefore, the measures of central tendency for the given height data are:\n",
    "\n",
    "- Mean = 177.01875\n",
    "- Median = 176.75 cm\n",
    "- Mode = 178"
   ]
  },
  {
   "cell_type": "markdown",
   "id": "c0fcdead",
   "metadata": {},
   "source": [
    "#### Q4. Find the standard deviation for the given data:\n",
    "[178,177,176,177,178.2,178,175,179,180,175,178.9,176.2,177,172.5,178,176.5]"
   ]
  },
  {
   "cell_type": "markdown",
   "id": "2a0d2122",
   "metadata": {},
   "source": [
    "#### Ans: \n",
    "- The table below shows the calculation for standard deviation:"
   ]
  },
  {
   "attachments": {
    "image.png": {
     "image/png": "[encoded data removed]"
    }
   },
   "cell_type": "markdown",
   "id": "cfb41cff",
   "metadata": {},
   "source": [
    "![image.png](attachment:image.png)"
   ]
  },
  {
   "cell_type": "markdown",
   "id": "9452c5e3",
   "metadata": {},
   "source": [
    "Now,\n",
    "standard deviation = square root (51.58/16)\n",
    "                   =  square root (3.22375)\n",
    "                   = 1.795\n",
    "- So, the standard deviation for the data given is 1.795"
   ]
  },
  {
   "cell_type": "markdown",
   "id": "55d7fafc",
   "metadata": {},
   "source": [
    "##### Q5. How are measures of dispersion such as range, variance, and standard deviation used to describe the spread of a dataset? Provide an example."
   ]
  },
  {
   "cell_type": "markdown",
   "id": "24a0b19d",
   "metadata": {},
   "source": [
    "##### Ans:\n",
    "Measures of dispersion, such as range, variance, and standard deviation, are used to describe the spread of a dataset by measuring how far apart the data points are from each other. \n",
    "\n",
    "Range is the simplest measure of dispersion and is defined as the difference between the maximum and minimum values in a dataset. Range gives an idea of how widely spread the data is. However, it doesn't take into account the distribution of the data points within the range.\n",
    "\n",
    "Variance is a more complex measure of dispersion and is defined as the average of the squared differences between each data point and the mean of the dataset. Variance measures how much the data deviates from the mean. It gives an idea of how much variation there is in the dataset.\n",
    "\n",
    "Standard deviation is the square root of the variance and is a widely used measure of dispersion. It gives an idea of how spread out the data is relative to the mean. A smaller standard deviation indicates that the data is closely clustered around the mean, while a larger standard deviation indicates that the data is more spread out.\n",
    "\n",
    "For example, suppose you have a dataset of the salaries of employees in a company. The salaries of five employees are as follows:  50,000, 60,000, 70,000, 80,000, and 90,000. The range is 40,000 (90,000 - 50,000). The mean salary is 70,000. The variance is calculated by taking the difference between each salary and the mean, squaring the difference, and taking the average of the squares. The variance is 200,000. The standard deviation is the square root of the variance, which is approximately 447.21. This indicates that the salaries are moderately spread out around the mean."
   ]
  },
  {
   "cell_type": "markdown",
   "id": "efe8ea01",
   "metadata": {},
   "source": [
    "#### Q6. What is a Venn diagram?"
   ]
  },
  {
   "cell_type": "markdown",
   "id": "5d5bf5af",
   "metadata": {},
   "source": [
    "#### Ans:\n",
    "A Venn diagram is a visual representation of sets or groups of objects or concepts that shows their relationships to each other. It consists of overlapping circles or other shapes, with each circle representing a set or a group and the overlapping regions showing the relationships between the sets."
   ]
  },
  {
   "cell_type": "markdown",
   "id": "fb51d8a8",
   "metadata": {},
   "source": [
    "##### Q7. For the two given sets A = {2,3,4,5,6,7} & B = {0,2,6,8,10}. Find:\n",
    "- (i) A ∩ B\n",
    "- (ii) A ⋃ B"
   ]
  },
  {
   "cell_type": "markdown",
   "id": "d462bc45",
   "metadata": {},
   "source": [
    "##### Ans: \n",
    "- (i) A ∩ B = {2, 6} \n",
    "- (ii) A ⋃ B = {0, 2, 3, 4, 5, 6, 7, 8, 10}"
   ]
  },
  {
   "cell_type": "markdown",
   "id": "c4caad7b",
   "metadata": {},
   "source": [
    "#### Q8. What do you understand about skewness in data?"
   ]
  },
  {
   "cell_type": "markdown",
   "id": "5bd5e138",
   "metadata": {},
   "source": [
    "##### Ans:\n",
    "Skewness is a measure of the asymmetry of a probability distribution. It indicates the degree to which the distribution is not symmetrical. In other words, it measures the extent to which the data is spread out to one side or the other of the mean.\n",
    "\n",
    "If a dataset is symmetric, its distribution will be roughly balanced around the mean, and the skewness will be zero. If a dataset is skewed to the right (positive skewness), it means that the majority of the data is concentrated on the left side of the distribution, and there are a few extreme values on the right. If a dataset is skewed to the left (negative skewness), it means that the majority of the data is concentrated on the right side of the distribution, and there are a few extreme values on the left."
   ]
  },
  {
   "cell_type": "markdown",
   "id": "ffe2947f",
   "metadata": {},
   "source": [
    "##### Q9. If a data is right skewed then what will be the position of median with respect to mean?"
   ]
  },
  {
   "cell_type": "markdown",
   "id": "0376f3dc",
   "metadata": {},
   "source": [
    "Ans:\n",
    "If a dataset is right skewed, then the mean will be greater than the median. This is because the extreme values on the right side of the distribution pull the mean towards the right, while the median is less affected by these extreme values and remains closer to the middle of the distribution."
   ]
  },
  {
   "cell_type": "markdown",
   "id": "3312cf12",
   "metadata": {},
   "source": [
    "##### Q10. Explain the difference between covariance and correlation. How are these measures used in statistical analysis?"
   ]
  },
  {
   "cell_type": "markdown",
   "id": "76acbafd",
   "metadata": {},
   "source": [
    "Ans:\n",
    "Covariance and correlation are two statistical measures used to describe the relationship between two variables in a dataset.\n",
    "\n",
    "Covariance measures how two variables change together. Specifically, it measures the degree to which two variables vary together, such that if one variable increases or decreases, the other variable is likely to increase or decrease as well. A positive covariance indicates that the two variables tend to increase or decrease together, while a negative covariance indicates that the two variables tend to vary in opposite directions.\n",
    "\n",
    "Correlation, on the other hand, is a standardized measure of the strength and direction of the linear relationship between two variables. Correlation ranges from -1 to +1, where -1 indicates a perfectly negative correlation, +1 indicates a perfectly positive correlation, and 0 indicates no correlation between the two variables. Correlation takes into account the scale of the variables and is not affected by the units in which the variables are measured.\n",
    "\n",
    "In statistical analysis, covariance and correlation are used to identify the degree and direction of the relationship between two variables. Covariance is a useful measure in describing the strength of the relationship between two variables, but it is difficult to interpret because its magnitude is affected by the scale of the variables. Correlation, on the other hand, is a more standardized measure that is easier to interpret, and it is widely used in statistical analysis to identify the strength and direction of relationships between variables.\n",
    "\n",
    "Correlation can also be used to make predictions about one variable based on the other variable. For example, if there is a strong positive correlation between two variables, then it is likely that one variable can be used to predict the other variable. Similarly, if there is a strong negative correlation between two variables, then it is likely that one variable can be used to predict the opposite of the other variable."
   ]
  },
  {
   "cell_type": "markdown",
   "id": "09459cd4",
   "metadata": {},
   "source": [
    "##### Q11. What is the formula for calculating the sample mean? Provide an example calculation for a dataset."
   ]
  },
  {
   "cell_type": "markdown",
   "id": "6ba4ab91",
   "metadata": {},
   "source": [
    "Ans:\n",
    "The formula for calculating the sample mean is \n",
    "- x̄ = sum of all the values in the dataset / number of all the values in dataset\n",
    "\n",
    "- Example:\n",
    "dataset = 12,14,18,17, 13, 15, 16\n",
    "\n",
    "here,\n",
    "sum of all the values = 12 + 14 + 18 + 17 + 13 + 15 + 16 = 105\n",
    "\n",
    "number of all the dataset = 7\n",
    "\n",
    "so,\n",
    "  mean = 105 / 7\n",
    "  = 15\n",
    "    \n"
   ]
  },
  {
   "cell_type": "markdown",
   "id": "90d0df9e",
   "metadata": {},
   "source": [
    "#### Q12. For a normal distribution data what is the relationship between its measure of central tendency?"
   ]
  },
  {
   "cell_type": "markdown",
   "id": "939bb34f",
   "metadata": {},
   "source": [
    "Ans: For a normal distribution, the mean, median, and mode are all equal to each other. This means that they are all measures of central tendency that describe the center of the distribution.\n",
    "\n",
    "In a normal distribution, the data is symmetric around the mean, which is located at the center of the distribution. The median is also located at the center of the distribution, and because the data is symmetric, it is equal to the mean. The mode is the value in the distribution that occurs most frequently, and for a normal distribution, the mode is also located at the center of the distribution, and it is equal to the mean and the median."
   ]
  },
  {
   "cell_type": "markdown",
   "id": "2074bddf",
   "metadata": {},
   "source": [
    "##### Q13. How is covariance different from correlation?"
   ]
  },
  {
   "cell_type": "markdown",
   "id": "367212fe",
   "metadata": {},
   "source": [
    "- Ans:\n",
    "The main difference between covariance and correlation is that covariance measures the degree and direction of the relationship between two variables, but it does not tell us about the strength of the relationship. In contrast, correlation not only measures the degree and direction of the relationship between two variables, but also provides information about the strength of the relationship. Furthermore, correlation is a more standardized measure that is easier to interpret, and it is widely used in statistical analysis to identify the strength and direction of relationships between variables."
   ]
  },
  {
   "cell_type": "markdown",
   "id": "0900c90c",
   "metadata": {},
   "source": [
    "##### Q14. How do outliers affect measures of central tendency and dispersion? Provide an example."
   ]
  },
  {
   "cell_type": "code",
   "execution_count": null,
   "id": "dd7f5640",
   "metadata": {},
   "outputs": [],
   "source": []
  }
 ],
 "metadata": {
  "kernelspec": {
   "display_name": "Python 3 (ipykernel)",
   "language": "python",
   "name": "python3"
  },
  "language_info": {
   "codemirror_mode": {
    "name": "ipython",
    "version": 3
   },
   "file_extension": ".py",
   "mimetype": "text/x-python",
   "name": "python",
   "nbconvert_exporter": "python",
   "pygments_lexer": "ipython3",
   "version": "3.10.9"
  }
 },
 "nbformat": 4,
 "nbformat_minor": 5
}
