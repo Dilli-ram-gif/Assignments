{
 "cells": [
  {
   "cell_type": "markdown",
   "id": "3db383d1",
   "metadata": {},
   "source": [
    "### March 11, Statistics Advance -4 Assignment"
   ]
  },
  {
   "cell_type": "markdown",
   "id": "82318b05",
   "metadata": {},
   "source": [
    "#### Q1: What is the difference between a t-test and a z-test? Provide an example scenario where you would use each type of test."
   ]
  },
  {
   "cell_type": "markdown",
   "id": "425b9346",
   "metadata": {},
   "source": [
    "#### Ans:\n",
    "- A t-test is used when the sample size is small (less than 30) and the population standard deviation is unknown. It is used to determine whether there is a significant difference between the means of two groups. For example, suppose you want to know if there is a significant difference in the average weight of apples from two different orchards. You could use a t-test to determine if there is a significant difference between the two groups.\n",
    "\n",
    "- On the other hand, a z-test is used when the sample size is large (greater than 30) and the population standard deviation is known. It is used to determine whether there is a significant difference between the means of two groups. For example, suppose you want to know if there is a significant difference in the average height of men and women in your city. You could use a z-test to determine if there is a significant difference between the two groups."
   ]
  },
  {
   "cell_type": "markdown",
   "id": "876bc8eb",
   "metadata": {},
   "source": [
    "#### Q2: Differentiate between one-tailed and two-tailed tests."
   ]
  },
  {
   "cell_type": "markdown",
   "id": "ec734a2f",
   "metadata": {},
   "source": [
    "#### Ans:\n",
    "A one-tailed test is used when you want to test for a difference in one direction only. For example, suppose you want to know if a new drug is better than an existing drug. You could use a one-tailed test to determine if the new drug is better than the existing drug.\n",
    "\n",
    "On the other hand, a two-tailed test is used when you want to test for a difference in two directions. For example, suppose you want to know if there is a significant difference in the average weight of apples from two different orchards. You could use a two-tailed test to determine if there is a significant difference between the two groups."
   ]
  },
  {
   "cell_type": "markdown",
   "id": "b068aa90",
   "metadata": {},
   "source": [
    "#### Q3: Explain the concept of Type 1 and Type 2 errors in hypothesis testing. Provide an example scenario for each type of error."
   ]
  },
  {
   "cell_type": "markdown",
   "id": "d243a045",
   "metadata": {},
   "source": [
    "#### Ans:\n",
    "- Type I error occurs when you reject the null hypothesis when it is actually true. This is also known as a false positive. For example, suppose you are testing a new drug to see if it is effective in treating a certain condition. A Type I error would occur if you conclude that the drug is effective when it actually has no effect.\n",
    "\n",
    "- Type II error occurs when you fail to reject the null hypothesis when it is actually false. This is also known as a false negative. For example, suppose you are testing a new drug to see if it is effective in treating a certain condition. A Type II error would occur if you conclude that the drug has no effect when it actually does."
   ]
  },
  {
   "cell_type": "markdown",
   "id": "8e2b8b29",
   "metadata": {},
   "source": [
    "#### Q4: Explain Bayes's theorem with an example."
   ]
  },
  {
   "cell_type": "markdown",
   "id": "6349029c",
   "metadata": {},
   "source": [
    "#### Ans:\n",
    "- Bayes's theorem is a fundamental concept in probability theory that describes the probability of an event based on prior knowledge of related conditions.\n",
    "The formula for Bayes’s theorem is:\n",
    "\n",
    "P(A|B) = P(B|A) * P(A) / P(B)\n",
    "\n",
    "where:\n",
    "\n",
    "P(A|B) is the probability of A given B.\n",
    "P(B|A) is the probability of B given A.\n",
    "P(A) is the prior probability of A.\n",
    "P(B) is the prior probability of B.\n",
    "\n",
    "\n",
    "#### Example:\n",
    "- Here’s an example scenario: Suppose you are a doctor and you are trying to diagnose a patient with a rare disease. The disease affects only 1% of the population. You have a test that can detect the disease with 99% accuracy (i.e., if a person has the disease, there is a 99% chance that the test will be positive; if a person does not have the disease, there is a 99% chance that the test will be negative). You administer the test to your patient and it comes back positive. What is the probability that your patient actually has the disease?\n",
    "\n",
    "Using Bayes’s theorem, we can calculate this as follows:\n",
    "\n",
    "- P(A) = 0.01 (the prior probability of having the disease)\n",
    "- P(B|A) = 0.99 (the probability of testing positive given that the patient has the disease)\n",
    "- P(B|~A) = 0.01 (the probability of testing positive given that the patient does not have the disease)\n",
    "- P(~A) = 0.99 (the prior probability of not having the disease)\n",
    "P(B) can be calculated as follows:\n",
    "\n",
    "- P(B) = 0.99 * 0.01 + 0.01 * 0.99 = 0.0198\n",
    "\n",
    "Now we can calculate P(A|B):\n",
    "\n",
    "P(A|B) = P(B|A) * P(A) / P(B) = 0.99 * 0.01 / 0.0198 ≈ 0.50\n",
    "So there is only about a 50% chance that your patient actually has the disease."
   ]
  },
  {
   "cell_type": "markdown",
   "id": "20f4fa62",
   "metadata": {},
   "source": [
    "#### Q5: What is a confidence interval? How to calculate the confidence interval, explain with an example."
   ]
  },
  {
   "cell_type": "markdown",
   "id": "d07ed70c",
   "metadata": {},
   "source": [
    "#### Ans: \n",
    "- A confidence interval is a range of values that is likely to contain the true value of an unknown population parameter with a certain level of confidence. It is used to estimate the precision of sample statistics such as the mean or proportion.\n",
    "\n",
    "##### To calculate a confidence interval, you need to follow these steps:\n",
    "\n",
    "- Find the sample mean.\n",
    "- Determine the standard deviation of the sample.\n",
    "- Choose the confidence level.\n",
    "- Compute the standard error.\n",
    "- Find the critical value for your confidence level and degrees of freedom.\n",
    "- Calculate the confidence interval.\n",
    "\n",
    "##### Example:\n",
    "Here’s an example scenario: Suppose you want to estimate the average height of all men in a certain country. You take a random sample of 100 men and measure their heights. The sample mean height is 175 cm and the standard deviation is 10 cm. You want to calculate a 95% confidence interval for the population mean height.\n",
    "\n",
    "- sample mean = 175 cm.\n",
    "\n",
    "- standard deviation = 10 cm.\n",
    "\n",
    "- confidence level =  95%.\n",
    "\n",
    "- standard error = 10 / sqrt(100) = 1\n",
    "\n",
    "- the critical value for a 95% confidence level with 99 degrees of freedom (n-1) = 1.984.\n",
    "\n",
    "- confidence interval = sample mean ± (critical value * standard error) = 175 ± (1.984 * 1) = [173.02, 176.98]\n",
    "\n",
    "So we can say with 95% confidence that the true population mean height falls between 173.02 cm and 176.98 cm."
   ]
  },
  {
   "cell_type": "markdown",
   "id": "348e6842",
   "metadata": {},
   "source": [
    "#### Q6. Use Bayes' Theorem to calculate the probability of an event occurring given prior knowledge of the event's probability and new evidence. Provide a sample problem and solution."
   ]
  },
  {
   "cell_type": "markdown",
   "id": "7dca7a16",
   "metadata": {},
   "source": [
    "#### Ans:\n",
    "- Here’s an example scenario:\n",
    "Suppose you are a financial analyst at an investment bank. According to your research of publicly-traded companies, 60% of the companies that increased their share price by more than 5% in the last three years replaced their CEOs during the period. You also know that 10% of all publicly-traded companies replaced their CEOs during the period. What is the probability that a company that increased its share price by more than 5% during the period replaced its CEO?\n",
    "\n",
    "#### Ans:\n",
    "- Let A be the event that a company increased its share price by more than 5% during the period, and let B be the event that a company replaced its CEO during the period. We want to calculate P(B|A), the probability that a company replaced its CEO given that it increased its share price by more than 5%.\n",
    "\n",
    "Using Bayes’ Theorem, we have:\n",
    "\n",
    "P(B|A) = P(A|B) * P(B) / P(A)\n",
    "\n",
    "We know that:\n",
    "\n",
    "P(A|B) = 0.6 (60% of companies that increased their share price by more than 5% replaced their CEOs).\n",
    "P(B) = 0.1 (10% of all publicly-traded companies replaced their CEOs).\n",
    "\n",
    "\n",
    "P(A) = P(A|B) * P(B) + P(A|not B) * P(not B)\n",
    "\n",
    "where not B means “did not replace CEO”. \n",
    "\n",
    "We know that:\n",
    "\n",
    "P(A|not B) = 0.2 (20% of companies that did not replace their CEOs increased their share price by more than 5%).\n",
    "P(not B) = 0.9 (90% of all publicly-traded companies did not replace their CEOs).\n",
    "So we have:\n",
    "\n",
    "P(A) = 0.6 * 0.1 + 0.2 * 0.9 = 0.24\n",
    "\n",
    "Now we can substitute these values into Bayes’ Theorem:\n",
    "\n",
    "- P(B|A) = 0.6 * 0.1 / 0.24 = 0.25\n",
    "\n",
    "So the probability that a company that increased its share price by more than 5% during the period replaced its CEO is 25%."
   ]
  },
  {
   "cell_type": "markdown",
   "id": "587e95f7",
   "metadata": {},
   "source": [
    "#### Q7. Calculate the 95% confidence interval for a sample of data with a mean of 50 and a standard deviation of 5. Interpret the results."
   ]
  },
  {
   "cell_type": "markdown",
   "id": "5738c3b3",
   "metadata": {},
   "source": [
    "#### Ans:\n",
    "To calculate the 95% confidence interval for a sample of data with a mean of 50 and a standard deviation of 5, we can use the following formula:\n",
    "\n",
    "- CI = x̄ ± Z * (σ / sqrt(n))\n",
    "\n",
    "where:\n",
    "\n",
    "x̄ is the sample mean (50).\n",
    "Z is the z-score associated with the desired confidence level (95%). For a two-tailed test, this value is 1.96.\n",
    "σ is the population standard deviation (5).\n",
    "n is the sample size.\n",
    "Substituting these values into the formula, we get:\n",
    "\n",
    "CI = 50 ± 1.96 * (5 / sqrt(n))\n",
    "\n",
    "To find the value of n that gives us a 95% confidence interval with a margin of error of 2, we can solve for n:\n",
    "\n",
    "2 = 1.96 * (5 / sqrt(n))\n",
    "\n",
    "n = (1.96 * 5 / 2)^2 = 24.01\n",
    "\n",
    "So we need a sample size of at least 25 to obtain a 95% confidence interval with a margin of error of 2."
   ]
  },
  {
   "cell_type": "markdown",
   "id": "40a48c26",
   "metadata": {},
   "source": [
    "#### Q8. What is the margin of error in a confidence interval? How does sample size affect the margin of error? Provide an example of a scenario where a larger sample size would result in a smaller margin of error."
   ]
  },
  {
   "cell_type": "markdown",
   "id": "198b0572",
   "metadata": {},
   "source": [
    "##### Ans:\n",
    " **Margin of error:**\n",
    " \n",
    "The margin of error is the range of values below and above the sample statistic in a confidence interval. It is equal to half the width of the entire confidence interval . For example, suppose we have the following confidence interval for a population mean: 95% confidence interval = [12.5, 18.5]. The margin of error is equal to half the width of this interval, which is (18.5 - 12.5) / 2 = 3.\n",
    "\n",
    "**Explanation**\n",
    "\n",
    "The sample size affects the margin of error in that as the sample size increases, the margin of error decreases. This relationship is called an inverse relationship because the two move in opposite directions. A larger sample size will result in a smaller margin of error because it provides more information about the population being studied. For example, if we were to take a sample of 1000 people instead of 100 people, we would expect to get a more accurate estimate of the population mean because we have more data points to work with.\n",
    "\n",
    "**Example**\n",
    "\n",
    "An example of a scenario where a larger sample size would result in a smaller margin of error is when conducting a political poll. Suppose we want to estimate the proportion of voters who support a particular candidate with 95% confidence and a margin of error of 3%. If we take a sample of 1000 voters and find that 55% support the candidate, then we can construct a confidence interval with a lower bound of 52% and an upper bound of 58%. However, if we take a sample of only 100 voters, then our margin of error will be larger and our confidence interval will be wider. For example, if we find that 55% support the candidate in this smaller sample, then our confidence interval would be [45%, 65%], which is much wider than the previous interval."
   ]
  },
  {
   "cell_type": "markdown",
   "id": "2433e227",
   "metadata": {},
   "source": [
    "#### Q9. Calculate the z-score for a data point with a value of 75, a population mean of 70, and a population standard deviation of 5. Interpret the results."
   ]
  },
  {
   "cell_type": "markdown",
   "id": "62f686ec",
   "metadata": {},
   "source": [
    "#### Ans:\n",
    "The formula for calculating the z-score is:\n",
    "\n",
    "- z = (x - mu) / sigma\n",
    "\n",
    "where x is the data point,\n",
    "mu is the population mean, \n",
    "and sigma is the population standard deviation.  \n",
    "\n",
    "In this case, x = 75, mu = 70, and sigma = 5. \n",
    "\n",
    "Plugging these values into the formula gives:\n",
    "\n",
    "- z = (75 - 70) / 5 = 1\n",
    "\n",
    "**Interpretation:**\n",
    "\n",
    "The z-score of 1 indicates that the data point of 75 is one standard deviation above the mean. This means that the data point is higher than 68% of all other data points in the population."
   ]
  },
  {
   "cell_type": "markdown",
   "id": "702e55a3",
   "metadata": {},
   "source": [
    "#### Q10. In a study of the effectiveness of a new weight loss drug, a sample of 50 participants lost an averageof 6 pounds with a standard deviation of 2.5 pounds. Conduct a hypothesis test to determine if the drug is significantly effective at a 95% confidence level using a t-test."
   ]
  },
  {
   "cell_type": "markdown",
   "id": "6efe019a",
   "metadata": {},
   "source": [
    "#### Ans:\n",
    "- State the null hypothesis (H0) and alternative hypothesis (Ha).\n",
    "\n",
    " H0: The drug is not significantly effective.\n",
    " Ha: The drug is significantly effective.\n",
    " \n",
    "- Determine the level of significance (alpha) and degrees of freedom (df).\n",
    "\n",
    "alpha = 0.05 (95% confidence level)\n",
    "df = n - 1 = 50 - 1 = 49\n",
    "\n",
    "- Calculate the t-statistic using the formula:\n",
    "\n",
    "t = (x̄ - μ) / (s / sqrt(n))\n",
    "where x̄ is the sample mean, μ is the population mean, s is the sample standard deviation, and n is the sample size.\n",
    "\n",
    "- Plugging in the values from the problem gives:\n",
    "\n",
    "t = (6 - μ) / (2.5 / sqrt(50)) = 8.94\n",
    "\n",
    "- Determine the critical value of t using a t-table with df = 49 and alpha = 0.05.\n",
    "\n",
    "The critical value of t is ±2.009.\n",
    "\n",
    "- Compare the calculated t-statistic with the critical value of t.\n",
    "\n",
    "Since |t| > 2.009, we reject the null hypothesis.\n",
    "\n",
    "- Interpret the results.\n",
    "\n",
    "We can conclude that there is sufficient evidence to suggest that the drug is significantly effective at a 95% confidence level.\n"
   ]
  },
  {
   "cell_type": "markdown",
   "id": "577b37e8",
   "metadata": {},
   "source": [
    "#### Q11. In a survey of 500 people, 65% reported being satisfied with their current job. Calculate the 95% confidence interval for the true proportion of people who are satisfied with their job."
   ]
  },
  {
   "cell_type": "markdown",
   "id": "eea0237c",
   "metadata": {},
   "source": [
    "#### Ans:\n",
    "To calculate the 95% confidence interval for the true proportion of people who are satisfied with their job, we can use the following formula 1:\n",
    "\n",
    "- CI = p ± z * sqrt((p * (1 - p)) / n)\n",
    "\n",
    "where:\n",
    "\n",
    "- CI is the confidence interval\n",
    "- p is the sample proportion (0.65)\n",
    "- z is the z-score for the desired confidence level (1.96 for 95% confidence level)\n",
    "- n is the sample size (500)\n",
    "- Plugging in the values gives: CI = 0.65 ± 1.96 * sqrt((0.65 * (1 - 0.65)) / 500) = [0.61, 0.69]\n",
    "\n",
    "Therefore, we can be 95% confident that the true proportion of people who are satisfied with their job is between 61% and 69%."
   ]
  },
  {
   "cell_type": "markdown",
   "id": "1da84131",
   "metadata": {},
   "source": [
    "#### Q12. A researcher is testing the effectiveness of two different teaching methods on student performance. Sample A has a mean score of 85 with a standard deviation of 6, while sample B has a mean score of 82 with a standard deviation of 5. Conduct a hypothesis test to determine if the two teaching methods have a significant difference in student performance using a t-test with a significance level of 0.01."
   ]
  },
  {
   "cell_type": "markdown",
   "id": "6c1f7203",
   "metadata": {},
   "source": [
    "#### Ans:\n",
    "To conduct a hypothesis test to determine if the two teaching methods have a significant difference in student performance using a t-test with a significance level of 0.01, we can use the following steps.\n",
    "\n",
    "**Define the null hypothesis (H0) and alternative hypothesis (Ha):**\n",
    "\n",
    "H0: The two teaching methods have no significant difference in student performance.\n",
    "Ha: The two teaching methods have a significant difference in student performance.\n",
    "\n",
    "**Determine the level of significance:**\n",
    "\n",
    "alpha (α) = 0.01.\n",
    "\n",
    "**Calculate the test statistic:**\n",
    "\n",
    "- t = (x̄1 - x̄2) / sqrt((s1^2 / n1) + (s2^2 / n2)) \n",
    "where:\n",
    "x̄1 and x̄2 are the sample means\n",
    "s1 and s2 are the sample standard deviations\n",
    "n1 and n2 are the sample sizes\n",
    "- Plugging in the values gives: \n",
    "\n",
    "- t = (85 - 82) / sqrt((6^2 / 500) + (5^2 / 500)) = 3.118\n",
    "\n",
    "- Determine the critical value for t with df = 998 and α = 0.01 using a t-table or calculator. For a two-tailed test, this is ±2.576.\n",
    "\n",
    "**Compare the calculated test statistic with the critical value:**\n",
    "\n",
    "If |t| > 2.576, reject H0.\n",
    "If |t| ≤ 2.576, fail to reject H0.\n",
    "Plugging in the values gives: |3.118| > 2.576, therefore we reject H0.\n",
    "\n",
    "**Interpret the results:**\n",
    "\n",
    "Since we rejected H0, we can conclude that there is sufficient evidence to suggest that there is a significant difference in student performance between the two teaching methods."
   ]
  },
  {
   "cell_type": "markdown",
   "id": "cf1588e2",
   "metadata": {},
   "source": [
    "#### Q13. A population has a mean of 60 and a standard deviation of 8. A sample of 50 observations has a mean of 65. Calculate the 90% confidence interval for the true population mean."
   ]
  },
  {
   "cell_type": "markdown",
   "id": "e47a0746",
   "metadata": {},
   "source": [
    "#### Ans:\n",
    "To calculate the 90% confidence interval for the true population mean, we can use the following formula:\n",
    "\n",
    "CI = x̄ ± z(α/2) * (σ / sqrt(n)) where:\n",
    "\n",
    "- x̄ = 65\n",
    "- z(α/2) = 1.645 at level of significance (α) = 0.1/2 = 0.05\n",
    "- σ is the population standard deviation = 8\n",
    "- n is the sample size = 50\n",
    "\n",
    "Plugging in the values gives:\n",
    " - CI = 65 ± 1.645 * (8 / sqrt(50)) = [63.08, 66.92]\n",
    "\n",
    "Therefore, we can be 90% confident that the true population mean lies between 63.08 and 66.92.\n"
   ]
  },
  {
   "cell_type": "markdown",
   "id": "abcdef46",
   "metadata": {},
   "source": [
    "#### Q14. In a study of the effects of caffeine on reaction time, a sample of 30 participants had an average reaction time of 0.25 seconds with a standard deviation of 0.05 seconds. Conduct a hypothesis test to determine if the caffeine has a significant effect on reaction time at a 90% confidence level using a t-test."
   ]
  },
  {
   "cell_type": "markdown",
   "id": "8570e798",
   "metadata": {},
   "source": [
    "##### Ans:\n",
    "\n",
    "\n",
    "To conduct a hypothesis test to determine if caffeine has a significant effect on reaction time, we need to set up the null and alternative hypotheses:\n",
    "\n",
    "- Null Hypothesis: Caffeine has no significant effect on reaction time.\n",
    "- Alternative Hypothesis: Caffeine has a significant effect on reaction time.\n",
    "\n",
    "The formula for the t-statistic is:\n",
    "\n",
    "- t = (x̄ - μ) / (s / sqrt(n))\n",
    "\n",
    "Where:\n",
    "x̄ = sample mean\n",
    "\n",
    "μ = hypothesized population mean\n",
    "\n",
    "s = sample standard deviation\n",
    "\n",
    "n = sample size\n",
    "\n",
    "We want to test the null hypothesis at a 90% confidence level, which corresponds to a significance level (α) of 0.10. The critical t-value for a two-tailed test with 29 degrees of freedom (n-1) is ±1.699.\n",
    "\n",
    "- Calculations:\n",
    "Using the formula for the t-statistic and plugging in the given values, we get:\n",
    "\n",
    "t = (0.25 - μ) / (0.05 / sqrt(30))\n",
    "\n",
    "- We need to find the value of μ that would result in a t-statistic of ±1.699 at the 90% confidence level. Since this is a two-tailed test, we will use the critical t-value of ±1.699.\n",
    "\n",
    "For t = -1.699, we have:\n",
    "\n",
    "-1.699 = (0.25 - μ) / (0.05 / sqrt(30))\n",
    "\n",
    "-1.699 * (0.05 / sqrt(30)) = 0.25 - μ\n",
    "\n",
    "μ = 0.25 + 1.699 * (0.05 / sqrt(30))\n",
    "\n",
    "μ = 0.2586\n",
    "\n",
    "- For t = 1.699, we have:\n",
    "\n",
    "1.699 = (0.25 - μ) / (0.05 / sqrt(30))\n",
    "\n",
    "1.699 * (0.05 / sqrt(30)) = 0.25 - μ\n",
    "\n",
    "μ = 0.25 - 1.699 * (0.05 / sqrt(30))\n",
    "\n",
    "μ = 0.2414\n",
    "\n",
    "The critical region is therefore μ < 0.2414 or μ > 0.2586.\n",
    "\n",
    "We can now calculate the t-statistic using the sample data:\n",
    "\n",
    "t = (0.25 - μ) / (0.05 / sqrt(30))\n",
    "t = (0.25 - 0) / (0.05 / sqrt(30))\n",
    "t = 17.32\n",
    "\n",
    "The calculated t-statistic of 17.32 is greater than the critical t-value of ±1.699, which means that we can reject the null hypothesis and conclude that caffeine has a significant effect on reaction time at a 90% confidence level.\n",
    "\n",
    "#### Conclusion and Interpretation:\n",
    "Therefore, we can infer that the reaction time for participants who consume caffeine is significantly different from the reaction time for participants who do not consume caffeine."
   ]
  }
 ],
 "metadata": {
  "kernelspec": {
   "display_name": "Python 3 (ipykernel)",
   "language": "python",
   "name": "python3"
  },
  "language_info": {
   "codemirror_mode": {
    "name": "ipython",
    "version": 3
   },
   "file_extension": ".py",
   "mimetype": "text/x-python",
   "name": "python",
   "nbconvert_exporter": "python",
   "pygments_lexer": "ipython3",
   "version": "3.10.9"
  }
 },
 "nbformat": 4,
 "nbformat_minor": 5
}
