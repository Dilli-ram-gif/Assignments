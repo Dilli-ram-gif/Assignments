{
 "cells": [
  {
   "cell_type": "markdown",
   "id": "ced2590c",
   "metadata": {},
   "source": [
    "### Feb - 3, Assignment"
   ]
  },
  {
   "cell_type": "markdown",
   "id": "8ae36c16",
   "metadata": {},
   "source": [
    "##### Q1. Which keyword is used to create a function? Create a function to return a list of odd numbers in the range of 1 to 25."
   ]
  },
  {
   "cell_type": "markdown",
   "id": "49e8fc04",
   "metadata": {},
   "source": [
    "The \"def\" keyword is used to create a function in Python."
   ]
  },
  {
   "cell_type": "code",
   "execution_count": 1,
   "id": "ebd6b0a0",
   "metadata": {},
   "outputs": [],
   "source": [
    "def get_odd_numbers():\n",
    "    odd_numbers = []\n",
    "    for i in range(1, 26):\n",
    "        if i % 2 != 0:\n",
    "            odd_numbers.append(i)\n",
    "    return odd_numbers\n"
   ]
  },
  {
   "cell_type": "code",
   "execution_count": 2,
   "id": "4a38f39f",
   "metadata": {},
   "outputs": [
    {
     "data": {
      "text/plain": [
       "[1, 3, 5, 7, 9, 11, 13, 15, 17, 19, 21, 23, 25]"
      ]
     },
     "execution_count": 2,
     "metadata": {},
     "output_type": "execute_result"
    }
   ],
   "source": [
    "get_odd_numbers()"
   ]
  },
  {
   "cell_type": "markdown",
   "id": "e1b74bda",
   "metadata": {},
   "source": [
    "##### Q2. Why *args and **kwargs is used in some functions? Create a function each for *args and **kwargs to demonstrate their use."
   ]
  },
  {
   "cell_type": "markdown",
   "id": "316c664d",
   "metadata": {},
   "source": [
    "Ans: The *args is used when we don't know the number of arguments that will be passed to the function. It allows us to pass a variable number of arguments to the function as a tuple."
   ]
  },
  {
   "cell_type": "code",
   "execution_count": 8,
   "id": "cc276c62",
   "metadata": {},
   "outputs": [
    {
     "data": {
      "text/plain": [
       "15"
      ]
     },
     "execution_count": 8,
     "metadata": {},
     "output_type": "execute_result"
    }
   ],
   "source": [
    "# Example of using *args:\n",
    "def sum_numbers(*args):\n",
    "    result = 0\n",
    "    for num in args:\n",
    "        result += num\n",
    "    return result\n",
    "\n",
    "\n",
    "sum_numbers(1, 2, 3, 4, 5)"
   ]
  },
  {
   "cell_type": "markdown",
   "id": "b9eff441",
   "metadata": {},
   "source": [
    "The **kwargs is used when we don't know the number of keyword arguments that will be passed to the function. It allows us to pass a variable number of keyword arguments to the function as a dictionary"
   ]
  },
  {
   "cell_type": "code",
   "execution_count": 10,
   "id": "9033b58e",
   "metadata": {},
   "outputs": [
    {
     "name": "stdout",
     "output_type": "stream",
     "text": [
      "name: John\n",
      "age: 25\n",
      "city: New York\n"
     ]
    }
   ],
   "source": [
    "# Example of using **kwargs:\n",
    "def print_values(**kwargs):\n",
    "    for key, value in kwargs.items():\n",
    "        print(f\"{key}: {value}\")\n",
    "\n",
    "print_values(name='John', age=25, city='New York')"
   ]
  },
  {
   "cell_type": "markdown",
   "id": "2a01fa87",
   "metadata": {},
   "source": [
    "##### Q3.  What is an iterator in python? Name the method used to initialise the iterator object and the method used for iteration. Use these methods to print the first five elements of the given list [2, 4, 6, 8, 10, 12, 14, 16, 18, 20]"
   ]
  },
  {
   "cell_type": "markdown",
   "id": "4d1ee5b8",
   "metadata": {},
   "source": [
    "Ans: An iterator is an object that allows us to traverse through a sequence of values in a container such as a list, tuple, or set. The iter() method is used to initialize an iterator object, and the next() method is used to iterate over the container."
   ]
  },
  {
   "cell_type": "code",
   "execution_count": 11,
   "id": "d520a368",
   "metadata": {},
   "outputs": [
    {
     "name": "stdout",
     "output_type": "stream",
     "text": [
      "2\n",
      "4\n",
      "6\n",
      "8\n",
      "10\n"
     ]
    }
   ],
   "source": [
    "my_list = [2, 4, 6, 8, 10, 12, 14, 16, 18, 20]\n",
    "\n",
    "# Initializing the iterator object\n",
    "my_iter = iter(my_list)\n",
    "\n",
    "# Iterating over the first five elements\n",
    "for i in range(5):\n",
    "    print(next(my_iter))\n"
   ]
  },
  {
   "cell_type": "markdown",
   "id": "652ea55a",
   "metadata": {},
   "source": [
    "##### Q4.  What is a generator function in python? Why yield keyword is used? Give an example of a generator function."
   ]
  },
  {
   "cell_type": "markdown",
   "id": "4727ac43",
   "metadata": {},
   "source": [
    "Ans: In Python, a generator function is a special kind of function that can be used to create an iterator. It generates a sequence of values one at a time and stores only one value in memory at a time. This means that it is very memory-efficient and can be used to generate very large sequences.\n",
    "\n",
    "The yield keyword is used in a generator function to indicate that it should generate a value and then pause the function execution, saving its state so that it can be resumed later. When the generator function is resumed, it continues execution immediately after the last yield statement and generates the next value in the sequence."
   ]
  },
  {
   "cell_type": "code",
   "execution_count": 12,
   "id": "b2aeee75",
   "metadata": {},
   "outputs": [
    {
     "name": "stdout",
     "output_type": "stream",
     "text": [
      "0\n",
      "2\n",
      "4\n",
      "6\n",
      "8\n"
     ]
    }
   ],
   "source": [
    "def even_numbers(n):\n",
    "    i = 0\n",
    "    while i <= n:\n",
    "        yield i\n",
    "        i += 2\n",
    "        \n",
    "gen = even_numbers(10)\n",
    "print(next(gen))\n",
    "print(next(gen))\n",
    "print(next(gen))\n",
    "print(next(gen))\n",
    "print(next(gen))\n"
   ]
  },
  {
   "cell_type": "markdown",
   "id": "be0a5ef6",
   "metadata": {},
   "source": [
    "#### Q5. Create a generator function for prime numbers less than 1000. Use the next() method to print the first 20 prime numbers."
   ]
  },
  {
   "cell_type": "code",
   "execution_count": 13,
   "id": "c062b521",
   "metadata": {},
   "outputs": [
    {
     "name": "stdout",
     "output_type": "stream",
     "text": [
      "2\n",
      "3\n",
      "5\n",
      "7\n",
      "11\n",
      "13\n",
      "17\n",
      "19\n",
      "23\n",
      "29\n",
      "31\n",
      "37\n",
      "41\n",
      "43\n",
      "47\n",
      "53\n",
      "59\n",
      "61\n",
      "67\n",
      "71\n"
     ]
    }
   ],
   "source": [
    "def gen_primes():\n",
    "    # start with the first prime number\n",
    "    num = 2\n",
    "    while num < 1000:\n",
    "        # check if the current number is prime\n",
    "        for i in range(2, num):\n",
    "            if num % i == 0:\n",
    "                break\n",
    "        else:\n",
    "            # yield the current prime number\n",
    "            yield num\n",
    "        # increment the current number to check the next one\n",
    "        num += 1\n",
    "\n",
    "# create an instance of the generator function\n",
    "prime_generator = gen_primes()\n",
    "\n",
    "# use the next() method to print the first 20 prime numbers\n",
    "for i in range(20):\n",
    "    print(next(prime_generator))\n"
   ]
  }
 ],
 "metadata": {
  "kernelspec": {
   "display_name": "Python 3 (ipykernel)",
   "language": "python",
   "name": "python3"
  },
  "language_info": {
   "codemirror_mode": {
    "name": "ipython",
    "version": 3
   },
   "file_extension": ".py",
   "mimetype": "text/x-python",
   "name": "python",
   "nbconvert_exporter": "python",
   "pygments_lexer": "ipython3",
   "version": "3.10.9"
  }
 },
 "nbformat": 4,
 "nbformat_minor": 5
}
