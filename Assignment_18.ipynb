{
 "cells": [
  {
   "cell_type": "markdown",
   "id": "99a3b678",
   "metadata": {},
   "source": [
    "#### Q1. Explain GET and POST methods."
   ]
  },
  {
   "cell_type": "markdown",
   "id": "e3c9692e",
   "metadata": {},
   "source": [
    "#### Ans:\n",
    "GET Method:\n",
    "The GET method is used to retrieve data from a server. It sends a request to the server to retrieve data at a specific URL. When a client sends a GET request to a server, the server responds by sending the requested data in the response body. This method is commonly used for retrieving data such as web pages, images, and other types of resources from a server.\n",
    "\n",
    "POST Method:\n",
    "The POST method is used to send data to a server. It sends a request to the server with data in the request body. When a client sends a POST request to a server, the server processes the data and sends a response. This method is commonly used for submitting forms, uploading files, and performing other actions that involve sending data to a server."
   ]
  },
  {
   "cell_type": "markdown",
   "id": "48b31b53",
   "metadata": {},
   "source": [
    "#### Q2. Why is request used in Flask?"
   ]
  },
  {
   "cell_type": "markdown",
   "id": "5f6c58cf",
   "metadata": {},
   "source": [
    "Ans:The request module in Flask is used to handle incoming HTTP requests in a Flask application. It provides access to the data that a client sends to a Flask application in a request, such as form data, URL parameters, and cookies.\n",
    "\n",
    "Using the request module, a Flask application can extract this data from the request object and use it to generate a response for the client. For example, if a user submits a form on a webpage, the data from the form can be accessed using the request module and used to update a database, display a message to the user, or perform some other action."
   ]
  },
  {
   "cell_type": "markdown",
   "id": "67ac1a6b",
   "metadata": {},
   "source": [
    "#### Q3. Why is redirect() used in Flask?"
   ]
  },
  {
   "cell_type": "markdown",
   "id": "35795a1b",
   "metadata": {},
   "source": [
    "#### Ans:\n",
    "redirect() is used to redirect the user to a different URL. It's used when we want to move the user to another page or route in our Flask application after the completion of a certain operation."
   ]
  },
  {
   "cell_type": "markdown",
   "id": "2e781cb9",
   "metadata": {},
   "source": [
    "#### Q4. What are templates in Flask? Why is the render_template() function used?"
   ]
  },
  {
   "cell_type": "markdown",
   "id": "ec3030fb",
   "metadata": {},
   "source": [
    "#### Ans:\n",
    "templates are used to generate dynamic HTML pages. Templates can contain variables that are replaced with actual values when the template is rendered. The render_template() function in Flask is used to render a template and return the HTML content to the browser."
   ]
  },
  {
   "cell_type": "markdown",
   "id": "25aaad03",
   "metadata": {},
   "source": [
    "#### Q5. Create a simple API. Use Postman to test it. Attach the screenshot of the output in the Jupyter Notebook."
   ]
  },
  {
   "cell_type": "code",
   "execution_count": null,
   "id": "3d1eb95d",
   "metadata": {},
   "outputs": [],
   "source": []
  },
  {
   "cell_type": "code",
   "execution_count": null,
   "id": "fd3e94b8",
   "metadata": {},
   "outputs": [],
   "source": [
    "from flask import Flask, jsonify\n",
    "\n",
    "app = Flask(__name__)\n",
    "\n",
    "@app.route('/api/hello', methods=['GET'])\n",
    "def hello_world():\n",
    "    return jsonify({'message': 'Hello, World!'})\n",
    "\n",
    "if __name__ == '__main__':\n",
    "    app.run()\n"
   ]
  },
  {
   "cell_type": "code",
   "execution_count": null,
   "id": "8fb601b2",
   "metadata": {},
   "outputs": [],
   "source": []
  },
  {
   "cell_type": "code",
   "execution_count": null,
   "id": "08e6cfed",
   "metadata": {},
   "outputs": [],
   "source": []
  }
 ],
 "metadata": {
  "kernelspec": {
   "display_name": "Python 3 (ipykernel)",
   "language": "python",
   "name": "python3"
  },
  "language_info": {
   "codemirror_mode": {
    "name": "ipython",
    "version": 3
   },
   "file_extension": ".py",
   "mimetype": "text/x-python",
   "name": "python",
   "nbconvert_exporter": "python",
   "pygments_lexer": "ipython3",
   "version": "3.10.9"
  }
 },
 "nbformat": 4,
 "nbformat_minor": 5
}
