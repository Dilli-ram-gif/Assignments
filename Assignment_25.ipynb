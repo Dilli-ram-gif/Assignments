{
 "cells": [
  {
   "cell_type": "markdown",
   "id": "46f49882",
   "metadata": {},
   "source": [
    "### March 06, Assignment, Basic Statistics"
   ]
  },
  {
   "cell_type": "markdown",
   "id": "4eff1656",
   "metadata": {},
   "source": [
    "#### Q1. What is statistics?"
   ]
  },
  {
   "cell_type": "markdown",
   "id": "17d8ca39",
   "metadata": {},
   "source": [
    "##### Ans:\n",
    "Statistics is a branch of mathematics that deals with the collection, analysis, interpretation, presentation, and organization of numerical data. It involves the use of various techniques to summarize and make sense of large amounts of data, such as measures of central tendency (mean, median, mode), measures of variability (standard deviation, variance), probability theory, and hypothesis testing. "
   ]
  },
  {
   "cell_type": "markdown",
   "id": "62ad3104",
   "metadata": {},
   "source": [
    "#### Q2. Define the different types of statistics and give an example of when each type might be used."
   ]
  },
  {
   "cell_type": "markdown",
   "id": "1ff7fa6b",
   "metadata": {},
   "source": [
    "#### Ans:\n",
    "There are mainly two types of statistics. They are descriptive statistics and inferential statistics.\n",
    "- Descriptive Satistics: Descriptive statistics involve the use of numerical and graphical methods to describe and summarize data. These techniques are used to analyze the characteristics of a data set, such as measures of central tendency, measures of variability, and visual displays like histograms, scatter plots, and box plots.\n",
    "\n",
    "   -- Example of use: They are often used in fields such as marketing to summarize consumer data, in medicine to describe patient characteristics, and in social sciences to describe survey results.\n",
    "\n",
    "- Inferential Statistics: Inferential statistics involve making inferences or conclusions about a population based on a sample of data. This involves using probability theory to estimate the likelihood of certain outcomes or events.\n",
    "\n",
    "   -- Example:Inferential statistics can be used to test hypotheses, compare groups, and make predictions about future events. For example, in a clinical trial, inferential statistics would be used to determine whether a new drug is effective compared to a placebo."
   ]
  },
  {
   "cell_type": "markdown",
   "id": "fe60e148",
   "metadata": {},
   "source": [
    "#### Q3. What are the different types of data and how do they differ from each other? Provide an example of each type of data."
   ]
  },
  {
   "cell_type": "markdown",
   "id": "5ff450d4",
   "metadata": {},
   "source": [
    "##### Ans: \n",
    "There are four main types of data: nominal, ordinal, interval, and ratio.\n",
    "\n",
    "- Nominal data is categorical data that consists of categories with no inherent order or numerical value. It is used to represent qualitative or discrete data. Examples of nominal data include gender, ethnicity, or favorite color.\n",
    "\n",
    "- Ordinal data is categorical data that has an order or ranking associated with it. While the difference between categories may not be equal, the ranking order is meaningful. Examples of ordinal data include ratings, such as movie ratings or satisfaction levels, and education level (e.g., high school, college, post-graduate).\n",
    "\n",
    "- Interval data is numerical data where the difference between values is meaningful and consistent, but there is no true zero point. Temperature in Celsius or Fahrenheit is an example of interval data since 0°C does not represent the complete absence of temperature. Another example is time, as the difference between 1:00 and 2:00 is the same as the difference between 2:00 and 3:00.\n",
    "\n",
    "- Ratio data is numerical data where the difference between values is meaningful and consistent, and there is a true zero point. This type of data allows for meaningful ratios to be formed, and is often used in scientific and engineering applications. Examples of ratio data include height, weight, and income.\n",
    "\n",
    "In summary, nominal data represents categories with no order or numerical value, ordinal data has an order or ranking associated with it, interval data has a meaningful and consistent difference between values but no true zero point, and ratio data has a meaningful and consistent difference between values and a true zero point. Understanding the type of data is important in choosing the appropriate statistical analysis to be performed on the data set."
   ]
  },
  {
   "cell_type": "markdown",
   "id": "e5c62142",
   "metadata": {},
   "source": [
    "#### Q4. Categorise the following datasets with respect to quantitative and qualitative data types:\n",
    "- (i) Grading in exam: A+, A, B+, B, C+, C, D, E\n",
    "- (ii) Colour of mangoes: yellow, green, orange, red\n",
    "- (iii) Height data of a class: [178.9, 179, 179.5, 176, 177.2, 178.3, 175.8,...]\n",
    "- (iv) Number of mangoes exported by a farm: [500, 600, 478, 672, ...]"
   ]
  },
  {
   "cell_type": "markdown",
   "id": "233802b6",
   "metadata": {},
   "source": [
    "#### Ans:\n",
    "- (i) Grading in exam: Qualitative data\n",
    "- (ii) Colour of mangoes: Qualitative data\n",
    "- (iii) Height data of a class: Quantitative data\n",
    "- (iv) Number of mangoes exported by a farm: Quantitative data"
   ]
  },
  {
   "cell_type": "markdown",
   "id": "13551d77",
   "metadata": {},
   "source": [
    "#### Q5. Explain the concept of levels of measurement and give an example of a variable for each level."
   ]
  },
  {
   "cell_type": "markdown",
   "id": "ceb62e73",
   "metadata": {},
   "source": [
    "#### Ans:\n",
    "Levels of measurement refer to the different types of scales used to measure variables. There are four levels of measurement: nominal, ordinal, interval, and ratio.\n",
    "\n",
    "Nominal level variables are those that represent categories without any order or numerical value. For example, gender, nationality, or eye color are nominal variables.\n",
    "\n",
    "Ordinal level variables are those that represent categories with a meaningful order or ranking, but the difference between categories is not necessarily equal. An example of an ordinal variable is the ranking of favorite sports teams or the level of satisfaction with a product or service.\n",
    "\n",
    "Interval level variables have a meaningful order and the difference between categories is consistent, but there is no true zero point. An example of an interval variable is temperature, measured in degrees Celsius or Fahrenheit, where 0°C does not represent the complete absence of temperature.\n",
    "\n",
    "Ratio level variables have a meaningful order, the difference between categories is consistent, and there is a true zero point. Examples of ratio variables include height, weight, or income.\n",
    "\n",
    "Understanding the level of measurement is important because it determines the type of statistical analysis that can be used on the variable. For example, nominal and ordinal variables typically require non-parametric statistical tests, while interval and ratio variables can be analyzed using parametric tests."
   ]
  },
  {
   "cell_type": "markdown",
   "id": "905970fa",
   "metadata": {},
   "source": [
    "#### Q6. Why is it important to understand the level of measurement when analyzing data? Provide an example to illustrate your answer."
   ]
  },
  {
   "cell_type": "markdown",
   "id": "d06b07c9",
   "metadata": {},
   "source": [
    "#### Ans:\n",
    "Understanding the level of measurement of variables is crucial when analyzing data as it determines the type of statistical analysis that can be applied to the data. Different levels of measurement require different types of statistical tests, and using an inappropriate test can lead to incorrect results and conclusions.\n",
    "\n",
    "For example, suppose we want to compare the average weight of three groups of people: men, women, and children. Gender is a nominal variable, and age is an ordinal variable, while weight is a ratio variable. If we want to compare the mean weight of the three groups, we need to use a parametric test, such as the ANOVA test. However, if we were to compare the median weight instead, we could use a non-parametric test, such as the Kruskal-Wallis test.\n",
    "\n",
    "If we were to use the wrong statistical test, it could lead to incorrect conclusions about the data. For instance, if we were to use a t-test, which is a parametric test, to compare the median weight of the groups, we would not get accurate results since the data do not meet the assumptions of a parametric test. Thus, understanding the level of measurement of variables is crucial to ensure that we use the correct statistical tests and draw accurate conclusions from the data."
   ]
  },
  {
   "cell_type": "markdown",
   "id": "6ca28f73",
   "metadata": {},
   "source": [
    "#### Q7. How nominal data type is different from ordinal data type?"
   ]
  },
  {
   "cell_type": "markdown",
   "id": "0285900e",
   "metadata": {},
   "source": [
    "#### Ans:\n",
    "The main difference between nominal and ordinal data is that ordinal data have a meaningful order or ranking, while nominal data do not. Nominal data can only be described and counted, while ordinal data can be ordered or ranked. This difference is important because the level of measurement determines the type of statistical analysis that can be used on the data."
   ]
  },
  {
   "cell_type": "markdown",
   "id": "0e8df2d5",
   "metadata": {},
   "source": [
    "#### Q8. Which type of plot can be used to display data in terms of range?"
   ]
  },
  {
   "cell_type": "markdown",
   "id": "01f87179",
   "metadata": {},
   "source": [
    "#### Ans:\n",
    "A box plot, also known as a box-and-whisker plot, is commonly used to display data in terms of range. A box plot displays the distribution of a dataset by showing the median, quartiles, and extremes of the data. The box represents the interquartile range, which contains 50% of the data. The whiskers extend from the box to show the range of the data, excluding outliers."
   ]
  },
  {
   "cell_type": "markdown",
   "id": "91b167f6",
   "metadata": {},
   "source": [
    "#### Q9. Describe the difference between descriptive and inferential statistics. Give an example of each type of statistics and explain how they are used."
   ]
  },
  {
   "cell_type": "markdown",
   "id": "fd6b0e82",
   "metadata": {},
   "source": [
    "#### Ans:\n",
    "Descriptive statistics and inferential statistics are two broad categories of statistical analysis.\n",
    "\n",
    "Descriptive statistics refers to methods of summarizing and describing data. It involves the use of measures such as central tendency (mean, median, mode) and measures of variability (range, variance, standard deviation) to describe the main features of a dataset. Descriptive statistics can be used to summarize data in a clear and meaningful way, making it easier to understand patterns and trends. For example, a researcher might use descriptive statistics to summarize the distribution of test scores for a group of students by calculating the mean, median, and standard deviation of the scores.\n",
    "\n",
    "Inferential statistics, on the other hand, refers to methods of making inferences or generalizations about a larger population based on a sample of data. Inferential statistics involves the use of probability theory and hypothesis testing to draw conclusions about a population based on a sample. For example, a researcher might use inferential statistics to test the hypothesis that there is a significant difference in test scores between two groups of students.\n",
    "\n",
    "The main difference between descriptive and inferential statistics is that descriptive statistics summarizes the main features of a dataset, while inferential statistics makes inferences about a larger population based on a sample of data. Both descriptive and inferential statistics are important tools in statistical analysis and are used in a wide range of fields, including social sciences, business, medicine, and engineering."
   ]
  },
  {
   "cell_type": "markdown",
   "id": "aeb39d74",
   "metadata": {},
   "source": [
    "#### Q10. What are some common measures of central tendency and variability used in statistics? Explain how each measure can be used to describe a dataset."
   ]
  },
  {
   "cell_type": "code",
   "execution_count": null,
   "id": "6968c4bb",
   "metadata": {},
   "outputs": [],
   "source": []
  }
 ],
 "metadata": {
  "kernelspec": {
   "display_name": "Python 3 (ipykernel)",
   "language": "python",
   "name": "python3"
  },
  "language_info": {
   "codemirror_mode": {
    "name": "ipython",
    "version": 3
   },
   "file_extension": ".py",
   "mimetype": "text/x-python",
   "name": "python",
   "nbconvert_exporter": "python",
   "pygments_lexer": "ipython3",
   "version": "3.10.9"
  }
 },
 "nbformat": 4,
 "nbformat_minor": 5
}
