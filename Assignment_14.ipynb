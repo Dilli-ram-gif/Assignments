{
 "cells": [
  {
   "cell_type": "markdown",
   "id": "a9b68340",
   "metadata": {},
   "source": [
    "### MySql Assignment"
   ]
  },
  {
   "cell_type": "markdown",
   "id": "717a3131",
   "metadata": {},
   "source": [
    "### Q1. What is a database? Differentiate between SQL and NoSQL databases."
   ]
  },
  {
   "cell_type": "markdown",
   "id": "0c435aff",
   "metadata": {},
   "source": [
    "Ans:\n",
    "A database is an organized collection of structured data that is stored and managed in a computer system. It allows users to store, retrieve, update, and manage data efficiently.\n",
    "\n",
    "SQL (Structured Query Language) and NoSQL (Not Only SQL) are two types of databases with different data models, structures, and querying languages.\n",
    "\n",
    "SQL databases are relational databases that organize data into tables with rows and columns, with each row being a unique record. These databases use SQL as their querying language and enforce a fixed schema that defines the structure of the data. SQL databases are widely used for applications that require complex queries, data integrity, and ACID (Atomicity, Consistency, Isolation, and Durability) properties. Examples of SQL databases include MySQL, PostgreSQL, Oracle, Microsoft SQL Server, and SQLite.\n",
    "\n",
    "On the other hand, NoSQL databases are non-relational databases that organize data in a variety of ways, such as document-based, key-value, graph-based, and column-based models. NoSQL databases are designed to handle unstructured or semi-structured data and provide flexibility, scalability, and high performance. They do not enforce a fixed schema, and data can be added or removed without the need for a predefined structure. Examples of NoSQL databases include MongoDB, Cassandra, Couchbase, Redis, and Amazon DynamoDB."
   ]
  },
  {
   "cell_type": "markdown",
   "id": "0a8689a4",
   "metadata": {},
   "source": [
    "### Q2. What is DDL? Explain why CREATE, DROP, ALTER, and TRUNCATE are used with an example."
   ]
  },
  {
   "cell_type": "markdown",
   "id": "c7e55740",
   "metadata": {},
   "source": [
    "Ans: DDL stands for Data Definition Language, which is a set of SQL commands used to create, modify, and delete database structures such as tables, indexes, and constraints.\n",
    "\n",
    "CREATE: The CREATE statement is used to create database objects such as tables, views, indexes, and procedures. For example, the following SQL statement creates a table named \"employees\" with three columns: id, name, and age."
   ]
  },
  {
   "cell_type": "code",
   "execution_count": null,
   "id": "f5025195",
   "metadata": {},
   "outputs": [],
   "source": [
    "CREATE TABLE employees (\n",
    "  id INT PRIMARY KEY,\n",
    "  name VARCHAR(50),\n",
    "  age INT\n",
    ");\n"
   ]
  },
  {
   "cell_type": "markdown",
   "id": "c7fe07e1",
   "metadata": {},
   "source": [
    "DROP: The DROP statement is used to delete database objects such as tables, views, and indexes. For example, the following SQL statement drops the \"employees\" table:"
   ]
  },
  {
   "cell_type": "code",
   "execution_count": null,
   "id": "1c0b99c1",
   "metadata": {},
   "outputs": [],
   "source": [
    "DROP TABLE employees;"
   ]
  },
  {
   "cell_type": "markdown",
   "id": "1a7e87a2",
   "metadata": {},
   "source": [
    "ALTER: The ALTER statement is used to modify the structure of existing database objects such as tables and views. For example, the following SQL statement adds a new column \"salary\" to the \"employees\" table:"
   ]
  },
  {
   "cell_type": "code",
   "execution_count": null,
   "id": "6231cd79",
   "metadata": {},
   "outputs": [],
   "source": [
    "ALTER TABLE employees ADD COLUMN salary INT;"
   ]
  },
  {
   "cell_type": "markdown",
   "id": "772f7d51",
   "metadata": {},
   "source": [
    "TRUNCATE: The TRUNCATE statement is used to delete all data from a table, but not the table structure itself. For example, the following SQL statement deletes all data from the \"employees\" table:"
   ]
  },
  {
   "cell_type": "code",
   "execution_count": null,
   "id": "39d075f7",
   "metadata": {},
   "outputs": [],
   "source": [
    "TRUNCATE TABLE employees;"
   ]
  },
  {
   "cell_type": "markdown",
   "id": "a0190e5d",
   "metadata": {},
   "source": [
    "### Q3. What is DML? Explain INSERT, UPDATE, and DELETE with an example."
   ]
  },
  {
   "cell_type": "markdown",
   "id": "8f083290",
   "metadata": {},
   "source": [
    "DML stands for Data Manipulation Language, and it is used to modify the data stored in a database. The three primary DML commands are INSERT, UPDATE, and DELETE.\n",
    "\n",
    "INSERT: This command is used to insert new rows into a table. "
   ]
  },
  {
   "cell_type": "code",
   "execution_count": null,
   "id": "03250317",
   "metadata": {},
   "outputs": [],
   "source": [
    "INSERT INTO students (name, age, gender)\n",
    "VALUES ('John', 25, 'Male');"
   ]
  },
  {
   "cell_type": "markdown",
   "id": "908d59d6",
   "metadata": {},
   "source": [
    "UPDATE: This command is used to update existing rows in a table"
   ]
  },
  {
   "cell_type": "code",
   "execution_count": null,
   "id": "9dab719a",
   "metadata": {},
   "outputs": [],
   "source": [
    "UPDATE students\n",
    "SET age = 26\n",
    "WHERE name = 'John';"
   ]
  },
  {
   "cell_type": "markdown",
   "id": "ab9c0e9a",
   "metadata": {},
   "source": [
    "DELETE: This command is used to delete rows from a table."
   ]
  },
  {
   "cell_type": "code",
   "execution_count": null,
   "id": "980e6490",
   "metadata": {},
   "outputs": [],
   "source": [
    "DELETE FROM students\n",
    "WHERE name = 'John';"
   ]
  },
  {
   "cell_type": "markdown",
   "id": "87e4c5a1",
   "metadata": {},
   "source": [
    "#### Q4. What is DQL? Explain SELECT with an example."
   ]
  },
  {
   "cell_type": "markdown",
   "id": "0bddd694",
   "metadata": {},
   "source": [
    "Ans: DQL stands for Data Query Language, which is used to retrieve data from a database. The most commonly used DQL command is SELECT, which is used to retrieve data from one or more tables in a database."
   ]
  },
  {
   "cell_type": "markdown",
   "id": "6aac7da3",
   "metadata": {},
   "source": [
    "Suppose we have a table named \"employees\" with the following data:"
   ]
  },
  {
   "cell_type": "code",
   "execution_count": null,
   "id": "7a00925e",
   "metadata": {},
   "outputs": [],
   "source": [
    "+----+----------+-----------+----------+\n",
    "| id |   name   |  position |  salary  |\n",
    "+----+----------+-----------+----------+\n",
    "|  1 | John     | Manager   | 100000   |\n",
    "|  2 | Jane     | Engineer  | 75000    |\n",
    "|  3 | Bob      | Engineer  | 80000    |\n",
    "|  4 | Alice    | Manager   | 120000   |\n",
    "|  5 | Charlie  | Intern    | 30000    |\n",
    "+----+----------+-----------+----------+\n"
   ]
  },
  {
   "cell_type": "markdown",
   "id": "81389158",
   "metadata": {},
   "source": [
    "To retrieve the names and salaries of all employees who are engineers, we can use the following SELECT statement:"
   ]
  },
  {
   "cell_type": "code",
   "execution_count": null,
   "id": "4eb67cbc",
   "metadata": {},
   "outputs": [],
   "source": [
    "SELECT name, salary FROM employees WHERE position = 'Engineer';"
   ]
  },
  {
   "cell_type": "markdown",
   "id": "12b9e94b",
   "metadata": {},
   "source": [
    "This will give us the following result set:"
   ]
  },
  {
   "cell_type": "code",
   "execution_count": null,
   "id": "88bb2327",
   "metadata": {},
   "outputs": [],
   "source": [
    "+--------+--------+\n",
    "|  name  | salary |\n",
    "+--------+--------+\n",
    "| Jane   | 75000  |\n",
    "| Bob    | 80000  |\n",
    "+--------+--------+"
   ]
  },
  {
   "cell_type": "markdown",
   "id": "5706d0e6",
   "metadata": {},
   "source": [
    "### Q5. Explain Primary Key and Foreign Key."
   ]
  },
  {
   "cell_type": "markdown",
   "id": "a5c607c5",
   "metadata": {},
   "source": [
    "Ans: A Primary Key (PK) is a column or set of columns that uniquely identifies each record in a table. It can be a single column or a combination of columns that can be used to identify a unique record. Primary keys must be unique and cannot contain null values. They are used to enforce data integrity and ensure that there are no duplicate rows in a table.\n",
    "\n",
    "A Foreign Key (FK) is a column or set of columns in a table that references the primary key of another table. It is used to establish a relationship between two tables in a database. The foreign key ensures referential integrity between the two tables, meaning that any data added to the child table must exist in the parent table."
   ]
  },
  {
   "cell_type": "markdown",
   "id": "39ab1968",
   "metadata": {},
   "source": [
    "### Q6. Write a python code to connect MySQL to python. Explain the cursor() and execute() method."
   ]
  },
  {
   "cell_type": "code",
   "execution_count": null,
   "id": "be7ed626",
   "metadata": {},
   "outputs": [],
   "source": [
    "import mysql.connector\n",
    "\n",
    "# Connect to MySQL\n",
    "mydb = mysql.connector.connect(\n",
    "  host=\"localhost\",\n",
    "  user=\"yourusername\",\n",
    "  password=\"yourpassword\",\n",
    "  database=\"yourdatabase\"\n",
    ")\n",
    "\n",
    "# Create a cursor object\n",
    "mycursor = mydb.cursor()\n",
    "\n",
    "# Execute a SELECT query\n",
    "mycursor.execute(\"SELECT * FROM yourtable\")\n",
    "\n",
    "# Fetch all the rows\n",
    "rows = mycursor.fetchall()\n",
    "\n",
    "# Print the rows\n",
    "for row in rows:\n",
    "  print(row)"
   ]
  },
  {
   "cell_type": "markdown",
   "id": "fae579b0",
   "metadata": {},
   "source": [
    "Explanation:\n",
    "\n",
    "1. First, we import the mysql.connector module.\n",
    "2. Then, we use the connect() method to connect to MySQL by passing the required parameters such as the host, username, password, and database name.\n",
    "3. Next, we create a cursor object using the cursor() method of the connection object. The cursor is used to execute SQL queries and fetch results.\n",
    "4. We use the execute() method of the cursor object to execute a SELECT query. Here, we have passed the query as a string.\n",
    "5. Once the query is executed, we use the fetchall() method of the cursor object to fetch all the rows.\n",
    "6. Finally, we iterate over the rows using a loop and print them one by one.\n",
    "\n",
    "The cursor() method returns a cursor object, which is used to interact with the database. The execute() method of the cursor object is used to execute SQL queries. It takes the SQL query as a string parameter and returns the result of the query."
   ]
  },
  {
   "cell_type": "markdown",
   "id": "29fa0186",
   "metadata": {},
   "source": [
    "### Q7. Give the order of execution of SQL clauses in an SQL query."
   ]
  },
  {
   "cell_type": "markdown",
   "id": "0c4be767",
   "metadata": {},
   "source": [
    "Ans: The order of execution of SQL clauses in an SQL query is as follows:\n",
    "\n",
    "1. FROM clause: specifies the table(s) to retrieve data from.\n",
    "2. JOIN clause: links two or more tables based on a related column between them.\n",
    "3. WHERE clause: filters the data based on a condition.\n",
    "4. GROUP BY clause: groups the data based on a column or set of columns.\n",
    "5. HAVING clause: filters the data based on a condition applied to groups created by the GROUP BY clause.\n",
    "6. SELECT clause: selects the columns to retrieve from the table(s).\n",
    "7. ORDER BY clause: sorts the result set based on one or more columns.\n",
    "8. LIMIT clause: limits the number of rows returned by the query."
   ]
  }
 ],
 "metadata": {
  "kernelspec": {
   "display_name": "Python 3 (ipykernel)",
   "language": "python",
   "name": "python3"
  },
  "language_info": {
   "codemirror_mode": {
    "name": "ipython",
    "version": 3
   },
   "file_extension": ".py",
   "mimetype": "text/x-python",
   "name": "python",
   "nbconvert_exporter": "python",
   "pygments_lexer": "ipython3",
   "version": "3.10.9"
  }
 },
 "nbformat": 4,
 "nbformat_minor": 5
}
