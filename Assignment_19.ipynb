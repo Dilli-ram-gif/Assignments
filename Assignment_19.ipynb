{
 "cells": [
  {
   "cell_type": "markdown",
   "id": "cfda0725",
   "metadata": {},
   "source": [
    "### Feb 12, Assignment"
   ]
  },
  {
   "cell_type": "markdown",
   "id": "e500426c",
   "metadata": {},
   "source": [
    "##### Q1. What is an Exception in python? Write the difference between Exeptions and Syntax errors."
   ]
  },
  {
   "cell_type": "markdown",
   "id": "60e5e5ac",
   "metadata": {},
   "source": [
    "Ans: \n",
    "In Python, an exception is an error that occurs during the execution of a program. When an exception occurs, the Python interpreter raises an exception object and stops executing the program. \n",
    "\n",
    "The main difference between exceptions and syntax errors is that syntax errors occur when the Python interpreter cannot understand the code, whereas exceptions occur when the code is syntactically correct but there is an error during its execution. "
   ]
  },
  {
   "cell_type": "markdown",
   "id": "7d5c70fc",
   "metadata": {},
   "source": [
    "#### Q2. What hppens when an exception is not handled? Explain with an example."
   ]
  },
  {
   "cell_type": "markdown",
   "id": "67339bd8",
   "metadata": {},
   "source": [
    "Ans: \n",
    "When an exception is not handled, the program will terminate abruptly and an error message will be displayed that indicates the type of exception that occurred and where it occurred in the program. "
   ]
  },
  {
   "cell_type": "code",
   "execution_count": 1,
   "id": "c2b60799",
   "metadata": {},
   "outputs": [
    {
     "ename": "ZeroDivisionError",
     "evalue": "division by zero",
     "output_type": "error",
     "traceback": [
      "\u001b[1;31m---------------------------------------------------------------------------\u001b[0m",
      "\u001b[1;31mZeroDivisionError\u001b[0m                         Traceback (most recent call last)",
      "Cell \u001b[1;32mIn[1], line 3\u001b[0m\n\u001b[0;32m      1\u001b[0m x \u001b[38;5;241m=\u001b[39m \u001b[38;5;241m10\u001b[39m\n\u001b[0;32m      2\u001b[0m y \u001b[38;5;241m=\u001b[39m \u001b[38;5;241m0\u001b[39m\n\u001b[1;32m----> 3\u001b[0m z \u001b[38;5;241m=\u001b[39m \u001b[43mx\u001b[49m\u001b[43m \u001b[49m\u001b[38;5;241;43m/\u001b[39;49m\u001b[43m \u001b[49m\u001b[43my\u001b[49m\n\u001b[0;32m      4\u001b[0m \u001b[38;5;28mprint\u001b[39m(z)\n",
      "\u001b[1;31mZeroDivisionError\u001b[0m: division by zero"
     ]
    }
   ],
   "source": [
    "# Code to demonstrate error message displaying the type or error and where it happened.\n",
    "x = 10\n",
    "y = 0\n",
    "z = x / y\n",
    "print(z)\n"
   ]
  },
  {
   "cell_type": "markdown",
   "id": "34f5892a",
   "metadata": {},
   "source": [
    "In the above error message, it is seen that ZeroDivisionError error is raised  as any number cannot be divided by zero. Along with that, the location where it happened has also been shown in the error message.Since we have not included any exception handling code in our program to catch this exception.\n"
   ]
  },
  {
   "cell_type": "markdown",
   "id": "48a3170a",
   "metadata": {},
   "source": [
    "#### Q3. Which Python statements are used to catch and handle exceptions? Explain with an example."
   ]
  },
  {
   "cell_type": "markdown",
   "id": "c3a850ba",
   "metadata": {},
   "source": [
    "Ans: To catch and handle exceptions, we use the \"try\" and \"except\" statements.\n",
    "\n",
    "The 'try' statement is used to enclose the code that may raise an exception. If an exception is raised within the try block, the code within the corresponding \"except\" block will be executed to handle the exception. The except block must specify the type of exception that it is capable of handling."
   ]
  },
  {
   "cell_type": "code",
   "execution_count": 2,
   "id": "b7b05c01",
   "metadata": {},
   "outputs": [
    {
     "name": "stdout",
     "output_type": "stream",
     "text": [
      "Enter a number: 10\n",
      "Enter another number: 0\n",
      "Error: Division by zero!\n"
     ]
    }
   ],
   "source": [
    "try:\n",
    "    x = int(input(\"Enter a number: \"))\n",
    "    y = int(input(\"Enter another number: \"))\n",
    "    z = x / y\n",
    "    print(\"Result: \", z)\n",
    "except ZeroDivisionError:\n",
    "    print(\"Error: Division by zero!\")\n",
    "except ValueError:\n",
    "    print(\"Error: Invalid input!\")\n"
   ]
  },
  {
   "cell_type": "markdown",
   "id": "087d1591",
   "metadata": {},
   "source": [
    "In this example, the try block contains code that prompts the user to enter two numbers, divides the first number by the second number, and prints the result. If the user enters an invalid input, such as a non-numeric value or a zero as the second number, an exception will be raised.\n",
    "\n",
    "The except block following ZeroDivisionError handles the case where the user enters zero as the second number. The except block following ValueError handles the case where the user enters a non-numeric value.\n"
   ]
  },
  {
   "cell_type": "markdown",
   "id": "122aa145",
   "metadata": {},
   "source": [
    "#### Q4. Explain with an example:\n",
    "    a. try and else\n",
    "    b. finally\n",
    "    c. raise"
   ]
  },
  {
   "cell_type": "markdown",
   "id": "c447090e",
   "metadata": {},
   "source": [
    "###### Ans: "
   ]
  },
  {
   "cell_type": "markdown",
   "id": "8aa3cc8e",
   "metadata": {},
   "source": [
    "##### a. try and else block:\n",
    "==>> We can use the \"else\" block with \"try\" and \"except\" blocks to specify code that should be executed if no exceptions are raised in the try block. The else block is optional and follows the except block."
   ]
  },
  {
   "cell_type": "code",
   "execution_count": 4,
   "id": "905cbbb3",
   "metadata": {},
   "outputs": [
    {
     "name": "stdout",
     "output_type": "stream",
     "text": [
      "Enter a number: 10\n",
      "Enter another number: 3\n",
      "Result:  3.3333333333333335\n"
     ]
    }
   ],
   "source": [
    "try:\n",
    "    x = int(input(\"Enter a number: \"))\n",
    "    y = int(input(\"Enter another number: \"))\n",
    "    z = x / y\n",
    "except ZeroDivisionError:\n",
    "    print(\"Error: Division by zero!\")\n",
    "else:\n",
    "    print(\"Result: \", z)\n"
   ]
  },
  {
   "cell_type": "markdown",
   "id": "3375c3ab",
   "metadata": {},
   "source": [
    "In this example, if no exception is raised, the else block will be executed and will print the result of the division. If an exception is raised, the except block will be executed instead."
   ]
  },
  {
   "cell_type": "markdown",
   "id": "a1666cf0",
   "metadata": {},
   "source": [
    "###### b. finally block: \n",
    "The finally block is used to specify code that should be executed regardless of whether an exception was raised or not. This can be useful for releasing resources or closing files that were opened in the try block."
   ]
  },
  {
   "cell_type": "code",
   "execution_count": 5,
   "id": "bcdabdf7",
   "metadata": {},
   "outputs": [
    {
     "name": "stdout",
     "output_type": "stream",
     "text": [
      "Error: File not found!\n"
     ]
    },
    {
     "ename": "NameError",
     "evalue": "name 'f' is not defined",
     "output_type": "error",
     "traceback": [
      "\u001b[1;31m---------------------------------------------------------------------------\u001b[0m",
      "\u001b[1;31mNameError\u001b[0m                                 Traceback (most recent call last)",
      "Cell \u001b[1;32mIn[5], line 7\u001b[0m\n\u001b[0;32m      5\u001b[0m     \u001b[38;5;28mprint\u001b[39m(\u001b[38;5;124m\"\u001b[39m\u001b[38;5;124mError: File not found!\u001b[39m\u001b[38;5;124m\"\u001b[39m)\n\u001b[0;32m      6\u001b[0m \u001b[38;5;28;01mfinally\u001b[39;00m:\n\u001b[1;32m----> 7\u001b[0m     \u001b[43mf\u001b[49m\u001b[38;5;241m.\u001b[39mclose()\n",
      "\u001b[1;31mNameError\u001b[0m: name 'f' is not defined"
     ]
    }
   ],
   "source": [
    "try:\n",
    "    f = open(\"file.txt\", \"r\")\n",
    "    # some code to read from the file\n",
    "except FileNotFoundError:\n",
    "    print(\"Error: File not found!\")\n",
    "finally:\n",
    "    f.close()\n"
   ]
  },
  {
   "cell_type": "markdown",
   "id": "13007fa0",
   "metadata": {},
   "source": [
    "In this example, the try block attempts to open a file for reading. If the file is not found, the except block will be executed to handle the exception. Regardless of whether an exception was raised or not, the finally block will be executed to close the file."
   ]
  },
  {
   "cell_type": "markdown",
   "id": "06798f04",
   "metadata": {},
   "source": [
    "###### c. raise statement:\n",
    "The raise statement is used to explicitly raise an exception in Python. This can be useful when we want to create our own custom exceptions."
   ]
  },
  {
   "cell_type": "code",
   "execution_count": 6,
   "id": "0f396a44",
   "metadata": {},
   "outputs": [
    {
     "name": "stdout",
     "output_type": "stream",
     "text": [
      "Error: Division by zero!\n"
     ]
    }
   ],
   "source": [
    "def divide(x, y):\n",
    "    if y == 0:\n",
    "        raise ZeroDivisionError(\"Error: Division by zero!\")\n",
    "    return x / y\n",
    "\n",
    "try:\n",
    "    result = divide(10, 0)\n",
    "except ZeroDivisionError as e:\n",
    "    print(e)\n"
   ]
  },
  {
   "cell_type": "markdown",
   "id": "39a12f48",
   "metadata": {},
   "source": [
    "In this example, the divide function raises a ZeroDivisionError exception if the second argument is 0"
   ]
  },
  {
   "cell_type": "markdown",
   "id": "2bdce418",
   "metadata": {},
   "source": [
    "##### Q5. What are Custom Exceptions in python? Why do we need Custom Exceptions? Explain with an example."
   ]
  },
  {
   "cell_type": "markdown",
   "id": "a8ea5bcf",
   "metadata": {},
   "source": [
    "Ans: Custom exceptions in Python are user-defined exceptions that can be raised in a program when a specific error condition occurs. These exceptions are based on the built-in Exception class and can be used to handle errors that are specific to a program or application.\n",
    "\n",
    "We need custom exceptions in Python to provide more specific information about an error that occurred in a program. By creating our own custom exceptions, we can give more meaningful and informative error messages to users, which can help them understand what went wrong and how to fix it."
   ]
  },
  {
   "cell_type": "code",
   "execution_count": 7,
   "id": "4d2f2ba2",
   "metadata": {},
   "outputs": [
    {
     "name": "stdout",
     "output_type": "stream",
     "text": [
      "Error: Square root of negative number!\n"
     ]
    }
   ],
   "source": [
    "class NegativeNumberError(Exception):\n",
    "    pass\n",
    "\n",
    "def square_root(x):\n",
    "    if x < 0:\n",
    "        raise NegativeNumberError(\"Error: Square root of negative number!\")\n",
    "    return math.sqrt(x)\n",
    "\n",
    "try:\n",
    "    result = square_root(-10)\n",
    "except NegativeNumberError as e:\n",
    "    print(e)\n"
   ]
  },
  {
   "cell_type": "markdown",
   "id": "d9887156",
   "metadata": {},
   "source": [
    "In this example, we define a custom exception \"NegativeNumberError\" that inherits from the built-in Exception class. The square_root function raises this custom exception if the input number is negative."
   ]
  },
  {
   "cell_type": "markdown",
   "id": "976542e8",
   "metadata": {},
   "source": [
    "#### Q6. Create a custom exception class. Use this class to handle an exception."
   ]
  },
  {
   "cell_type": "code",
   "execution_count": 8,
   "id": "a01d5984",
   "metadata": {},
   "outputs": [
    {
     "name": "stdout",
     "output_type": "stream",
     "text": [
      "Error: Division by zero!\n"
     ]
    }
   ],
   "source": [
    "# Code to create a custom exception class which handle an exception.\n",
    "class CustomError(Exception):\n",
    "    \"\"\"Custom exception class.\"\"\"\n",
    "    def __init__(self, message):\n",
    "        self.message = message\n",
    "\n",
    "def divide(x, y):\n",
    "    if y == 0:\n",
    "        raise CustomError(\"Error: Division by zero!\")\n",
    "    return x / y\n",
    "\n",
    "try:\n",
    "    result = divide(10, 0)\n",
    "except CustomError as e:   # Custom class has been used to display error.\n",
    "    print(e.message)\n"
   ]
  }
 ],
 "metadata": {
  "kernelspec": {
   "display_name": "Python 3 (ipykernel)",
   "language": "python",
   "name": "python3"
  },
  "language_info": {
   "codemirror_mode": {
    "name": "ipython",
    "version": 3
   },
   "file_extension": ".py",
   "mimetype": "text/x-python",
   "name": "python",
   "nbconvert_exporter": "python",
   "pygments_lexer": "ipython3",
   "version": "3.10.9"
  }
 },
 "nbformat": 4,
 "nbformat_minor": 5
}
